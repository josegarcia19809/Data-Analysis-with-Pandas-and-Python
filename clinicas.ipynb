{
 "cells": [
  {
   "cell_type": "code",
   "execution_count": 1,
   "id": "initial_id",
   "metadata": {
    "collapsed": true,
    "ExecuteTime": {
     "end_time": "2023-11-03T16:34:28.229403Z",
     "start_time": "2023-11-03T16:34:24.936084Z"
    }
   },
   "outputs": [],
   "source": [
    "import pandas as pd"
   ]
  },
  {
   "cell_type": "code",
   "execution_count": 6,
   "outputs": [
    {
     "name": "stdout",
     "output_type": "stream",
     "text": [
      "       Mes  Clinica_Este  Clinica_Norte  Clinica_Sur  Clinica_Oeste\n",
      "0    Enero           100            100           23            100\n",
      "1  Febrero            51             45          145             45\n",
      "2    Marzo            81             96           65             96\n",
      "3    Abril            80             80           54            180\n",
      "4     Mayo            51             54           54            154\n",
      "5    Junio           112            109           79            129\n"
     ]
    }
   ],
   "source": [
    "df_clinicas = pd.read_csv(\"datax/clinicas.csv\")\n",
    "print(df_clinicas)"
   ],
   "metadata": {
    "collapsed": false,
    "ExecuteTime": {
     "end_time": "2023-11-03T16:42:08.397181Z",
     "start_time": "2023-11-03T16:42:08.380883Z"
    }
   },
   "id": "69cadeb3f433d985"
  },
  {
   "cell_type": "code",
   "execution_count": 2,
   "outputs": [
    {
     "data": {
      "text/plain": "0    100\n1     45\n2     96\n3     80\n4     54\n5    109\nName: Clinica_Norte, dtype: int64"
     },
     "execution_count": 2,
     "metadata": {},
     "output_type": "execute_result"
    }
   ],
   "source": [
    "\n",
    "clinica_norte = df_clinicas[\"Clinica_Norte\"]\n",
    "clinica_norte"
   ],
   "metadata": {
    "collapsed": false,
    "ExecuteTime": {
     "end_time": "2023-11-03T16:34:28.273549Z",
     "start_time": "2023-11-03T16:34:28.242240Z"
    }
   },
   "id": "d1f2c2f0160f38d4"
  },
  {
   "cell_type": "code",
   "execution_count": 3,
   "outputs": [
    {
     "data": {
      "text/plain": "   Clinica_Norte  Clinica_Sur\n0            100           23\n1             45          145\n2             96           65\n3             80           54\n4             54           54\n5            109           79",
      "text/html": "<div>\n<style scoped>\n    .dataframe tbody tr th:only-of-type {\n        vertical-align: middle;\n    }\n\n    .dataframe tbody tr th {\n        vertical-align: top;\n    }\n\n    .dataframe thead th {\n        text-align: right;\n    }\n</style>\n<table border=\"1\" class=\"dataframe\">\n  <thead>\n    <tr style=\"text-align: right;\">\n      <th></th>\n      <th>Clinica_Norte</th>\n      <th>Clinica_Sur</th>\n    </tr>\n  </thead>\n  <tbody>\n    <tr>\n      <th>0</th>\n      <td>100</td>\n      <td>23</td>\n    </tr>\n    <tr>\n      <th>1</th>\n      <td>45</td>\n      <td>145</td>\n    </tr>\n    <tr>\n      <th>2</th>\n      <td>96</td>\n      <td>65</td>\n    </tr>\n    <tr>\n      <th>3</th>\n      <td>80</td>\n      <td>54</td>\n    </tr>\n    <tr>\n      <th>4</th>\n      <td>54</td>\n      <td>54</td>\n    </tr>\n    <tr>\n      <th>5</th>\n      <td>109</td>\n      <td>79</td>\n    </tr>\n  </tbody>\n</table>\n</div>"
     },
     "execution_count": 3,
     "metadata": {},
     "output_type": "execute_result"
    }
   ],
   "source": [
    "clinicas_norte_sur = df_clinicas[[\"Clinica_Norte\", \"Clinica_Sur\"]]\n",
    "clinicas_norte_sur"
   ],
   "metadata": {
    "collapsed": false,
    "ExecuteTime": {
     "end_time": "2023-11-03T16:34:28.302254Z",
     "start_time": "2023-11-03T16:34:28.283427Z"
    }
   },
   "id": "a022bfcee7054b5d"
  },
  {
   "cell_type": "code",
   "execution_count": 5,
   "outputs": [
    {
     "data": {
      "text/plain": "       Mes  Clinica_Este  Clinica_Norte  Clinica_Sur  Clinica_Oeste\n1  Febrero            51             45          145             45\n3    Abril            80             80           54            180\n5    Junio           112            109           79            129",
      "text/html": "<div>\n<style scoped>\n    .dataframe tbody tr th:only-of-type {\n        vertical-align: middle;\n    }\n\n    .dataframe tbody tr th {\n        vertical-align: top;\n    }\n\n    .dataframe thead th {\n        text-align: right;\n    }\n</style>\n<table border=\"1\" class=\"dataframe\">\n  <thead>\n    <tr style=\"text-align: right;\">\n      <th></th>\n      <th>Mes</th>\n      <th>Clinica_Este</th>\n      <th>Clinica_Norte</th>\n      <th>Clinica_Sur</th>\n      <th>Clinica_Oeste</th>\n    </tr>\n  </thead>\n  <tbody>\n    <tr>\n      <th>1</th>\n      <td>Febrero</td>\n      <td>51</td>\n      <td>45</td>\n      <td>145</td>\n      <td>45</td>\n    </tr>\n    <tr>\n      <th>3</th>\n      <td>Abril</td>\n      <td>80</td>\n      <td>80</td>\n      <td>54</td>\n      <td>180</td>\n    </tr>\n    <tr>\n      <th>5</th>\n      <td>Junio</td>\n      <td>112</td>\n      <td>109</td>\n      <td>79</td>\n      <td>129</td>\n    </tr>\n  </tbody>\n</table>\n</div>"
     },
     "execution_count": 5,
     "metadata": {},
     "output_type": "execute_result"
    }
   ],
   "source": [
    "df2 = df_clinicas.loc[[1, 3, 5]]\n",
    "df2"
   ],
   "metadata": {
    "collapsed": false,
    "ExecuteTime": {
     "end_time": "2023-11-03T16:35:14.126108Z",
     "start_time": "2023-11-03T16:35:14.107995Z"
    }
   },
   "id": "46923ac30f6422a6"
  },
  {
   "cell_type": "code",
   "execution_count": null,
   "outputs": [],
   "source": [],
   "metadata": {
    "collapsed": false
   },
   "id": "98efb942ad9e33f5"
  }
 ],
 "metadata": {
  "kernelspec": {
   "display_name": "Python 3",
   "language": "python",
   "name": "python3"
  },
  "language_info": {
   "codemirror_mode": {
    "name": "ipython",
    "version": 2
   },
   "file_extension": ".py",
   "mimetype": "text/x-python",
   "name": "python",
   "nbconvert_exporter": "python",
   "pygments_lexer": "ipython2",
   "version": "2.7.6"
  }
 },
 "nbformat": 4,
 "nbformat_minor": 5
}
