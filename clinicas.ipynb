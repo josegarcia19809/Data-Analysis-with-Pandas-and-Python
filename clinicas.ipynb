{
 "cells": [
  {
   "cell_type": "markdown",
   "source": [
    "# Proyecto #2 - Seleccionando Filas y Columnas de un Dataset de Clínicas"
   ],
   "metadata": {
    "collapsed": false
   },
   "id": "14685f16a1d87d3e"
  },
  {
   "cell_type": "code",
   "execution_count": 1,
   "id": "initial_id",
   "metadata": {
    "collapsed": true,
    "ExecuteTime": {
     "end_time": "2023-12-25T01:41:34.997742Z",
     "start_time": "2023-12-25T01:41:33.194647Z"
    }
   },
   "outputs": [],
   "source": [
    "import pandas as pd"
   ]
  },
  {
   "cell_type": "code",
   "execution_count": 2,
   "outputs": [
    {
     "data": {
      "text/plain": "       Mes  Clinica_Este  Clinica_Norte  Clinica_Sur  Clinica_Oeste\n0    Enero           100            100           23            100\n1  Febrero            51             45          145             45\n2    Marzo            81             96           65             96\n3    Abril            80             80           54            180\n4     Mayo            51             54           54            154\n5    Junio           112            109           79            129",
      "text/html": "<div>\n<style scoped>\n    .dataframe tbody tr th:only-of-type {\n        vertical-align: middle;\n    }\n\n    .dataframe tbody tr th {\n        vertical-align: top;\n    }\n\n    .dataframe thead th {\n        text-align: right;\n    }\n</style>\n<table border=\"1\" class=\"dataframe\">\n  <thead>\n    <tr style=\"text-align: right;\">\n      <th></th>\n      <th>Mes</th>\n      <th>Clinica_Este</th>\n      <th>Clinica_Norte</th>\n      <th>Clinica_Sur</th>\n      <th>Clinica_Oeste</th>\n    </tr>\n  </thead>\n  <tbody>\n    <tr>\n      <th>0</th>\n      <td>Enero</td>\n      <td>100</td>\n      <td>100</td>\n      <td>23</td>\n      <td>100</td>\n    </tr>\n    <tr>\n      <th>1</th>\n      <td>Febrero</td>\n      <td>51</td>\n      <td>45</td>\n      <td>145</td>\n      <td>45</td>\n    </tr>\n    <tr>\n      <th>2</th>\n      <td>Marzo</td>\n      <td>81</td>\n      <td>96</td>\n      <td>65</td>\n      <td>96</td>\n    </tr>\n    <tr>\n      <th>3</th>\n      <td>Abril</td>\n      <td>80</td>\n      <td>80</td>\n      <td>54</td>\n      <td>180</td>\n    </tr>\n    <tr>\n      <th>4</th>\n      <td>Mayo</td>\n      <td>51</td>\n      <td>54</td>\n      <td>54</td>\n      <td>154</td>\n    </tr>\n    <tr>\n      <th>5</th>\n      <td>Junio</td>\n      <td>112</td>\n      <td>109</td>\n      <td>79</td>\n      <td>129</td>\n    </tr>\n  </tbody>\n</table>\n</div>"
     },
     "execution_count": 2,
     "metadata": {},
     "output_type": "execute_result"
    }
   ],
   "source": [
    "df_clinicas = pd.read_csv(\"datax/clinicas.csv\")\n",
    "df_clinicas"
   ],
   "metadata": {
    "collapsed": false,
    "ExecuteTime": {
     "end_time": "2023-12-25T01:41:35.035727Z",
     "start_time": "2023-12-25T01:41:34.998573Z"
    }
   },
   "id": "69cadeb3f433d985"
  },
  {
   "cell_type": "markdown",
   "source": [
    "##### 1. Queremos analizar qué sucede con la clínica Norte. Crearemos una variable que se llame clinica_norte que contenga solo los datos de la columna Clinica_Norte. Imprime su contenido."
   ],
   "metadata": {
    "collapsed": false
   },
   "id": "9358d3b95e8a7359"
  },
  {
   "cell_type": "code",
   "execution_count": 3,
   "outputs": [
    {
     "data": {
      "text/plain": "0    100\n1     45\n2     96\n3     80\n4     54\n5    109\nName: Clinica_Norte, dtype: int64"
     },
     "execution_count": 3,
     "metadata": {},
     "output_type": "execute_result"
    }
   ],
   "source": [
    "clinica_norte = df_clinicas[\"Clinica_Norte\"]\n",
    "clinica_norte"
   ],
   "metadata": {
    "collapsed": false,
    "ExecuteTime": {
     "end_time": "2023-12-25T01:41:35.037565Z",
     "start_time": "2023-12-25T01:41:35.024098Z"
    }
   },
   "id": "d1f2c2f0160f38d4"
  },
  {
   "cell_type": "markdown",
   "source": [
    "##### 2. Ahora queremos comparar las visitas de la clínica norte con la del sur. Crearemos una variable que se llame clinicas_norte_sur que contenga solo las columnas de Clinica_Norte y Clinica_Sur.\n",
    "Mostrar el resultado.\n"
   ],
   "metadata": {
    "collapsed": false
   },
   "id": "f64dc150febcac06"
  },
  {
   "cell_type": "code",
   "execution_count": 4,
   "outputs": [
    {
     "data": {
      "text/plain": "   Clinica_Norte  Clinica_Sur\n0            100           23\n1             45          145\n2             96           65\n3             80           54\n4             54           54\n5            109           79",
      "text/html": "<div>\n<style scoped>\n    .dataframe tbody tr th:only-of-type {\n        vertical-align: middle;\n    }\n\n    .dataframe tbody tr th {\n        vertical-align: top;\n    }\n\n    .dataframe thead th {\n        text-align: right;\n    }\n</style>\n<table border=\"1\" class=\"dataframe\">\n  <thead>\n    <tr style=\"text-align: right;\">\n      <th></th>\n      <th>Clinica_Norte</th>\n      <th>Clinica_Sur</th>\n    </tr>\n  </thead>\n  <tbody>\n    <tr>\n      <th>0</th>\n      <td>100</td>\n      <td>23</td>\n    </tr>\n    <tr>\n      <th>1</th>\n      <td>45</td>\n      <td>145</td>\n    </tr>\n    <tr>\n      <th>2</th>\n      <td>96</td>\n      <td>65</td>\n    </tr>\n    <tr>\n      <th>3</th>\n      <td>80</td>\n      <td>54</td>\n    </tr>\n    <tr>\n      <th>4</th>\n      <td>54</td>\n      <td>54</td>\n    </tr>\n    <tr>\n      <th>5</th>\n      <td>109</td>\n      <td>79</td>\n    </tr>\n  </tbody>\n</table>\n</div>"
     },
     "execution_count": 4,
     "metadata": {},
     "output_type": "execute_result"
    }
   ],
   "source": [
    "clinicas_norte_sur = df_clinicas[[\"Clinica_Norte\", \"Clinica_Sur\"]]\n",
    "clinicas_norte_sur"
   ],
   "metadata": {
    "collapsed": false,
    "ExecuteTime": {
     "end_time": "2023-12-25T01:41:35.109124Z",
     "start_time": "2023-12-25T01:41:35.039097Z"
    }
   },
   "id": "a022bfcee7054b5d"
  },
  {
   "cell_type": "markdown",
   "source": [
    "##### 3. Queremos saber cuántas visitas tuvieron lugar en marzo del año pasado. Escribe la instrucción que devuelva los datos de marzo de las 4 clínicas y guardarla en la variable marzo. \n",
    "Mostrar el resultado."
   ],
   "metadata": {
    "collapsed": false
   },
   "id": "9bf7c5d8cba23326"
  },
  {
   "cell_type": "code",
   "outputs": [
    {
     "data": {
      "text/plain": "Mes              Marzo\nClinica_Este        81\nClinica_Norte       96\nClinica_Sur         65\nClinica_Oeste       96\nName: 2, dtype: object"
     },
     "execution_count": 5,
     "metadata": {},
     "output_type": "execute_result"
    }
   ],
   "source": [
    "marzo = df_clinicas.iloc[2]\n",
    "marzo"
   ],
   "metadata": {
    "collapsed": false,
    "ExecuteTime": {
     "end_time": "2023-12-25T01:41:35.175401Z",
     "start_time": "2023-12-25T01:41:35.047364Z"
    }
   },
   "id": "f73dca2c44a9abcd",
   "execution_count": 5
  },
  {
   "cell_type": "markdown",
   "source": [
    "##### 4. Uno de los doctores cree que hay más visitas a la clínica finalizando primavera. Escribe la instrucción que produzca un DataFrame con los datos de abril, mayo y junio para todas las sedes de la clínica (filas de la 3 a la 6). Guardar la salida en una variable que se llame abril_mayo_junio. \n",
    "Mostrar el resultado."
   ],
   "metadata": {
    "collapsed": false
   },
   "id": "da75ea5e1f5966c3"
  },
  {
   "cell_type": "code",
   "outputs": [
    {
     "data": {
      "text/plain": "     Mes  Clinica_Este  Clinica_Norte  Clinica_Sur  Clinica_Oeste\n3  Abril            80             80           54            180\n4   Mayo            51             54           54            154\n5  Junio           112            109           79            129",
      "text/html": "<div>\n<style scoped>\n    .dataframe tbody tr th:only-of-type {\n        vertical-align: middle;\n    }\n\n    .dataframe tbody tr th {\n        vertical-align: top;\n    }\n\n    .dataframe thead th {\n        text-align: right;\n    }\n</style>\n<table border=\"1\" class=\"dataframe\">\n  <thead>\n    <tr style=\"text-align: right;\">\n      <th></th>\n      <th>Mes</th>\n      <th>Clinica_Este</th>\n      <th>Clinica_Norte</th>\n      <th>Clinica_Sur</th>\n      <th>Clinica_Oeste</th>\n    </tr>\n  </thead>\n  <tbody>\n    <tr>\n      <th>3</th>\n      <td>Abril</td>\n      <td>80</td>\n      <td>80</td>\n      <td>54</td>\n      <td>180</td>\n    </tr>\n    <tr>\n      <th>4</th>\n      <td>Mayo</td>\n      <td>51</td>\n      <td>54</td>\n      <td>54</td>\n      <td>154</td>\n    </tr>\n    <tr>\n      <th>5</th>\n      <td>Junio</td>\n      <td>112</td>\n      <td>109</td>\n      <td>79</td>\n      <td>129</td>\n    </tr>\n  </tbody>\n</table>\n</div>"
     },
     "execution_count": 6,
     "metadata": {},
     "output_type": "execute_result"
    }
   ],
   "source": [
    "abril_mayo_junio = df_clinicas.iloc[3:7]\n",
    "abril_mayo_junio"
   ],
   "metadata": {
    "collapsed": false,
    "ExecuteTime": {
     "end_time": "2023-12-25T01:41:35.248367Z",
     "start_time": "2023-12-25T01:41:35.057972Z"
    }
   },
   "id": "185622a7e7292588",
   "execution_count": 6
  },
  {
   "cell_type": "markdown",
   "source": [
    "##### 5. Ahora queremos saber cuántas visitas se tuvieron en enero del año pasado. Crea una variable que se llame enero usando una sentencia lógica que selecciones la fila donde mes sea Enero. \n",
    "Mostrar el resultado."
   ],
   "metadata": {
    "collapsed": false
   },
   "id": "869b379a717b8fe7"
  },
  {
   "cell_type": "code",
   "outputs": [
    {
     "data": {
      "text/plain": "     Mes  Clinica_Este  Clinica_Norte  Clinica_Sur  Clinica_Oeste\n0  Enero           100            100           23            100",
      "text/html": "<div>\n<style scoped>\n    .dataframe tbody tr th:only-of-type {\n        vertical-align: middle;\n    }\n\n    .dataframe tbody tr th {\n        vertical-align: top;\n    }\n\n    .dataframe thead th {\n        text-align: right;\n    }\n</style>\n<table border=\"1\" class=\"dataframe\">\n  <thead>\n    <tr style=\"text-align: right;\">\n      <th></th>\n      <th>Mes</th>\n      <th>Clinica_Este</th>\n      <th>Clinica_Norte</th>\n      <th>Clinica_Sur</th>\n      <th>Clinica_Oeste</th>\n    </tr>\n  </thead>\n  <tbody>\n    <tr>\n      <th>0</th>\n      <td>Enero</td>\n      <td>100</td>\n      <td>100</td>\n      <td>23</td>\n      <td>100</td>\n    </tr>\n  </tbody>\n</table>\n</div>"
     },
     "execution_count": 7,
     "metadata": {},
     "output_type": "execute_result"
    }
   ],
   "source": [
    "enero = df_clinicas[df_clinicas[\"Mes\"] == \"Enero\"]\n",
    "enero"
   ],
   "metadata": {
    "collapsed": false,
    "ExecuteTime": {
     "end_time": "2023-12-25T01:41:35.249843Z",
     "start_time": "2023-12-25T01:41:35.079445Z"
    }
   },
   "id": "a704f8908b29f9fc",
   "execution_count": 7
  },
  {
   "cell_type": "markdown",
   "source": [
    "##### 6. Queremos ver cómo el número de visitas ha cambiado entre marzo y abril. Crea una variable que se llame marzo_abril que contenga los datos de marzo y abril. Haz esto usando dos sentencias lógicas combinadas usando | (que significa OR). \n",
    "Mostrar el resultado."
   ],
   "metadata": {
    "collapsed": false
   },
   "id": "43bc83148e56417e"
  },
  {
   "cell_type": "code",
   "outputs": [
    {
     "data": {
      "text/plain": "     Mes  Clinica_Este  Clinica_Norte  Clinica_Sur  Clinica_Oeste\n2  Marzo            81             96           65             96\n3  Abril            80             80           54            180",
      "text/html": "<div>\n<style scoped>\n    .dataframe tbody tr th:only-of-type {\n        vertical-align: middle;\n    }\n\n    .dataframe tbody tr th {\n        vertical-align: top;\n    }\n\n    .dataframe thead th {\n        text-align: right;\n    }\n</style>\n<table border=\"1\" class=\"dataframe\">\n  <thead>\n    <tr style=\"text-align: right;\">\n      <th></th>\n      <th>Mes</th>\n      <th>Clinica_Este</th>\n      <th>Clinica_Norte</th>\n      <th>Clinica_Sur</th>\n      <th>Clinica_Oeste</th>\n    </tr>\n  </thead>\n  <tbody>\n    <tr>\n      <th>2</th>\n      <td>Marzo</td>\n      <td>81</td>\n      <td>96</td>\n      <td>65</td>\n      <td>96</td>\n    </tr>\n    <tr>\n      <th>3</th>\n      <td>Abril</td>\n      <td>80</td>\n      <td>80</td>\n      <td>54</td>\n      <td>180</td>\n    </tr>\n  </tbody>\n</table>\n</div>"
     },
     "execution_count": 8,
     "metadata": {},
     "output_type": "execute_result"
    }
   ],
   "source": [
    "marzo_abril = df_clinicas[(df_clinicas[\"Mes\"] == \"Marzo\") | (df_clinicas[\"Mes\"] == \"Abril\")]\n",
    "marzo_abril"
   ],
   "metadata": {
    "collapsed": false,
    "ExecuteTime": {
     "end_time": "2023-12-25T01:41:35.251063Z",
     "start_time": "2023-12-25T01:41:35.098030Z"
    }
   },
   "id": "1d700c90a745d122",
   "execution_count": 8
  },
  {
   "cell_type": "code",
   "outputs": [],
   "source": [
    "##### 7. Examina el siguiente código:\n",
    "\n",
    "#df2 = df_clinicas.loc[[1, 3, 5]]\n",
    "\n",
    "#¿Qué es lo que imprime df2?\n"
   ],
   "metadata": {
    "collapsed": false,
    "ExecuteTime": {
     "end_time": "2023-12-25T01:41:35.256370Z",
     "start_time": "2023-12-25T01:41:35.108264Z"
    }
   },
   "id": "1eee55e3f418dd1e",
   "execution_count": 9
  },
  {
   "cell_type": "code",
   "execution_count": 10,
   "outputs": [
    {
     "data": {
      "text/plain": "       Mes  Clinica_Este  Clinica_Norte  Clinica_Sur  Clinica_Oeste\n1  Febrero            51             45          145             45\n3    Abril            80             80           54            180\n5    Junio           112            109           79            129",
      "text/html": "<div>\n<style scoped>\n    .dataframe tbody tr th:only-of-type {\n        vertical-align: middle;\n    }\n\n    .dataframe tbody tr th {\n        vertical-align: top;\n    }\n\n    .dataframe thead th {\n        text-align: right;\n    }\n</style>\n<table border=\"1\" class=\"dataframe\">\n  <thead>\n    <tr style=\"text-align: right;\">\n      <th></th>\n      <th>Mes</th>\n      <th>Clinica_Este</th>\n      <th>Clinica_Norte</th>\n      <th>Clinica_Sur</th>\n      <th>Clinica_Oeste</th>\n    </tr>\n  </thead>\n  <tbody>\n    <tr>\n      <th>1</th>\n      <td>Febrero</td>\n      <td>51</td>\n      <td>45</td>\n      <td>145</td>\n      <td>45</td>\n    </tr>\n    <tr>\n      <th>3</th>\n      <td>Abril</td>\n      <td>80</td>\n      <td>80</td>\n      <td>54</td>\n      <td>180</td>\n    </tr>\n    <tr>\n      <th>5</th>\n      <td>Junio</td>\n      <td>112</td>\n      <td>109</td>\n      <td>79</td>\n      <td>129</td>\n    </tr>\n  </tbody>\n</table>\n</div>"
     },
     "execution_count": 10,
     "metadata": {},
     "output_type": "execute_result"
    }
   ],
   "source": [
    "df2 = df_clinicas.loc[[1, 3, 5]]\n",
    "df2"
   ],
   "metadata": {
    "collapsed": false,
    "ExecuteTime": {
     "end_time": "2023-12-25T01:41:35.332324Z",
     "start_time": "2023-12-25T01:41:35.126917Z"
    }
   },
   "id": "46923ac30f6422a6"
  },
  {
   "cell_type": "markdown",
   "source": [
    "##### 8. Crea un nuevo dataframe que se llame df3 reseteando los índices de df2 (no uses inplace o drop). ¿Cuáles son las diferencias entre df2 y df3?"
   ],
   "metadata": {
    "collapsed": false
   },
   "id": "250d38a9e4ff2f5e"
  },
  {
   "cell_type": "code",
   "outputs": [
    {
     "data": {
      "text/plain": "   index      Mes  Clinica_Este  Clinica_Norte  Clinica_Sur  Clinica_Oeste\n0      1  Febrero            51             45          145             45\n1      3    Abril            80             80           54            180\n2      5    Junio           112            109           79            129",
      "text/html": "<div>\n<style scoped>\n    .dataframe tbody tr th:only-of-type {\n        vertical-align: middle;\n    }\n\n    .dataframe tbody tr th {\n        vertical-align: top;\n    }\n\n    .dataframe thead th {\n        text-align: right;\n    }\n</style>\n<table border=\"1\" class=\"dataframe\">\n  <thead>\n    <tr style=\"text-align: right;\">\n      <th></th>\n      <th>index</th>\n      <th>Mes</th>\n      <th>Clinica_Este</th>\n      <th>Clinica_Norte</th>\n      <th>Clinica_Sur</th>\n      <th>Clinica_Oeste</th>\n    </tr>\n  </thead>\n  <tbody>\n    <tr>\n      <th>0</th>\n      <td>1</td>\n      <td>Febrero</td>\n      <td>51</td>\n      <td>45</td>\n      <td>145</td>\n      <td>45</td>\n    </tr>\n    <tr>\n      <th>1</th>\n      <td>3</td>\n      <td>Abril</td>\n      <td>80</td>\n      <td>80</td>\n      <td>54</td>\n      <td>180</td>\n    </tr>\n    <tr>\n      <th>2</th>\n      <td>5</td>\n      <td>Junio</td>\n      <td>112</td>\n      <td>109</td>\n      <td>79</td>\n      <td>129</td>\n    </tr>\n  </tbody>\n</table>\n</div>"
     },
     "execution_count": 13,
     "metadata": {},
     "output_type": "execute_result"
    }
   ],
   "source": [
    "df3 = df2.reset_index()\n",
    "df3"
   ],
   "metadata": {
    "collapsed": false,
    "ExecuteTime": {
     "end_time": "2023-12-25T01:43:29.600514Z",
     "start_time": "2023-12-25T01:43:29.503312Z"
    }
   },
   "id": "d2002046ba5c97a0",
   "execution_count": 13
  },
  {
   "cell_type": "markdown",
   "source": [
    "##### 9. Crea un nuevo dataframe que se llame df4 reseteando los índices de df2 (usa drop=True). ¿Cuáles son las diferencias entre df2 y df4?"
   ],
   "metadata": {
    "collapsed": false
   },
   "id": "f993938464140f8d"
  },
  {
   "cell_type": "code",
   "execution_count": 14,
   "outputs": [
    {
     "data": {
      "text/plain": "       Mes  Clinica_Este  Clinica_Norte  Clinica_Sur  Clinica_Oeste\n0  Febrero            51             45          145             45\n1    Abril            80             80           54            180\n2    Junio           112            109           79            129",
      "text/html": "<div>\n<style scoped>\n    .dataframe tbody tr th:only-of-type {\n        vertical-align: middle;\n    }\n\n    .dataframe tbody tr th {\n        vertical-align: top;\n    }\n\n    .dataframe thead th {\n        text-align: right;\n    }\n</style>\n<table border=\"1\" class=\"dataframe\">\n  <thead>\n    <tr style=\"text-align: right;\">\n      <th></th>\n      <th>Mes</th>\n      <th>Clinica_Este</th>\n      <th>Clinica_Norte</th>\n      <th>Clinica_Sur</th>\n      <th>Clinica_Oeste</th>\n    </tr>\n  </thead>\n  <tbody>\n    <tr>\n      <th>0</th>\n      <td>Febrero</td>\n      <td>51</td>\n      <td>45</td>\n      <td>145</td>\n      <td>45</td>\n    </tr>\n    <tr>\n      <th>1</th>\n      <td>Abril</td>\n      <td>80</td>\n      <td>80</td>\n      <td>54</td>\n      <td>180</td>\n    </tr>\n    <tr>\n      <th>2</th>\n      <td>Junio</td>\n      <td>112</td>\n      <td>109</td>\n      <td>79</td>\n      <td>129</td>\n    </tr>\n  </tbody>\n</table>\n</div>"
     },
     "execution_count": 14,
     "metadata": {},
     "output_type": "execute_result"
    }
   ],
   "source": [
    "df4 = df2.reset_index(drop=True)\n",
    "df4"
   ],
   "metadata": {
    "collapsed": false,
    "ExecuteTime": {
     "end_time": "2023-12-25T01:43:40.494205Z",
     "start_time": "2023-12-25T01:43:40.461853Z"
    }
   },
   "id": "98efb942ad9e33f5"
  },
  {
   "cell_type": "code",
   "outputs": [],
   "source": [],
   "metadata": {
    "collapsed": false,
    "ExecuteTime": {
     "end_time": "2023-12-25T01:41:35.382428Z",
     "start_time": "2023-12-25T01:41:35.192552Z"
    }
   },
   "id": "ea2f42b7ee4572e1",
   "execution_count": 12
  }
 ],
 "metadata": {
  "kernelspec": {
   "display_name": "Python 3",
   "language": "python",
   "name": "python3"
  },
  "language_info": {
   "codemirror_mode": {
    "name": "ipython",
    "version": 2
   },
   "file_extension": ".py",
   "mimetype": "text/x-python",
   "name": "python",
   "nbconvert_exporter": "python",
   "pygments_lexer": "ipython2",
   "version": "2.7.6"
  }
 },
 "nbformat": 4,
 "nbformat_minor": 5
}
