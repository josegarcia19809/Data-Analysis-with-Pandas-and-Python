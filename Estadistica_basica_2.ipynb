{
 "cells": [
  {
   "cell_type": "markdown",
   "id": "3d5752c0-b20d-47d8-a9f1-b3df8d60c652",
   "metadata": {},
   "source": [
    "## Cálcular de estimadores estadísticos con Python\n",
    "\n",
    "Supongamos que hacemos una toma de datos y el promedio es igual a 20.0, con una desviación típica de 2.0. Además, los datos están normalmente distribuido. Con las siguientes instrucciones se obtiene una muestra de la población con dichas características"
   ]
  },
  {
   "cell_type": "code",
   "execution_count": 1,
   "id": "83608e10-c7eb-40f7-a806-98e53069f35f",
   "metadata": {
    "ExecuteTime": {
     "end_time": "2024-01-25T13:18:21.393277Z",
     "start_time": "2024-01-25T13:18:18.385123Z"
    }
   },
   "outputs": [],
   "source": [
    "import numpy as np  # importa numpy\n",
    "import matplotlib.pyplot as plt  #importa las herramientas para graficar\n",
    "import pandas as pd"
   ]
  },
  {
   "cell_type": "code",
   "execution_count": 2,
   "id": "46a9aa7e-e268-4f84-8020-34b15229a5ed",
   "metadata": {
    "ExecuteTime": {
     "end_time": "2024-01-25T13:18:25.545456Z",
     "start_time": "2024-01-25T13:18:25.524526Z"
    }
   },
   "outputs": [
    {
     "data": {
      "text/plain": "22.78041251650568"
     },
     "execution_count": 2,
     "metadata": {},
     "output_type": "execute_result"
    }
   ],
   "source": [
    "prom = 20.0  #mu\n",
    "DT = 2.0  #sigma\n",
    "np.random.normal(prom, DT)"
   ]
  },
  {
   "cell_type": "markdown",
   "id": "5312733d-9069-4753-8d98-6f6ab06af030",
   "metadata": {},
   "source": [
    "Ahora simularemos un experimento donde se toman diez muestras de la población antes mencionada"
   ]
  },
  {
   "cell_type": "code",
   "execution_count": 3,
   "id": "707f23bd-319a-4c9d-b96d-51d3778fe083",
   "metadata": {
    "ExecuteTime": {
     "end_time": "2024-01-25T13:18:35.370617Z",
     "start_time": "2024-01-25T13:18:35.152446Z"
    }
   },
   "outputs": [
    {
     "name": "stdout",
     "output_type": "stream",
     "text": [
      "[21.22682214 18.51284765 23.29768807 21.45457974 18.42830147 22.42376218\n",
      " 15.81677468 20.97273798 19.78604593 19.95741823]\n"
     ]
    }
   ],
   "source": [
    "N = 10\n",
    "muestras = np.random.normal(prom, DT, N)\n",
    "print(muestras)"
   ]
  },
  {
   "cell_type": "markdown",
   "id": "6e7a4d28-fdb9-4fbb-8be4-efeb8938176f",
   "metadata": {},
   "source": [
    "# Ejercicio\n",
    "\n",
    "Ahora calcularemos el promedio y la desvición típica de las muestras obtenidas"
   ]
  },
  {
   "cell_type": "code",
   "execution_count": 4,
   "id": "27c9db35-3a4b-4378-aa16-f7993669cada",
   "metadata": {
    "ExecuteTime": {
     "end_time": "2024-01-25T13:18:44.593095Z",
     "start_time": "2024-01-25T13:18:44.566808Z"
    }
   },
   "outputs": [
    {
     "data": {
      "text/plain": "20.187697807501724"
     },
     "execution_count": 4,
     "metadata": {},
     "output_type": "execute_result"
    }
   ],
   "source": [
    "np.mean(muestras)"
   ]
  },
  {
   "cell_type": "code",
   "execution_count": 5,
   "id": "cf7ff021-2376-4f26-b319-d95468044970",
   "metadata": {
    "scrolled": true,
    "ExecuteTime": {
     "end_time": "2024-01-25T13:18:46.407026Z",
     "start_time": "2024-01-25T13:18:46.387886Z"
    }
   },
   "outputs": [
    {
     "data": {
      "text/plain": "2.0782925931257985"
     },
     "execution_count": 5,
     "metadata": {},
     "output_type": "execute_result"
    }
   ],
   "source": [
    "np.std(muestras)"
   ]
  },
  {
   "cell_type": "markdown",
   "id": "50ad3a5e-7c3a-4196-9d61-32c172c4275e",
   "metadata": {},
   "source": [
    "Implementaremos la distribución estándar en el paquete <code>scipy.stats</code> mediante el comando <code>scipy.stats.norm</code>. La documentación de este comando [documentation](https://docs.scipy.org/doc/scipy-0.19.0/reference/generated/scipy.stats.norm.html) menciona que puede ser usado con una o tres variables.\n",
    "\n",
    "La versión de una variable está definida por la siguiente ecuación:\n",
    "\n",
    "$$f(x)=\\frac{1}{\\sqrt{2\\pi}}\\exp\\left(-\\frac{x^2}{2}\\right),$$\n",
    "\n",
    "lo cual equivale a que $\\mu=0$ y $\\sigma=1$ en la definición dada anteriormente. las versión de tres variables reemplaza $f(x)$ con $f((x-l)/s)/s$ lo cual resulta en:\n",
    "\n",
    "$$f(x)=\\frac{1}{\\sqrt{2\\pi s^2}}\\exp\\left(-\\frac{(x-l)^2}{2s^2}\\right),$$\n",
    "\n",
    "donde $l$ y $s$ son los parametros llamados ubicación y escala, respectivamente ($l$ y $s$ se llaman <code>loc</code> y <code>scale</code>, respectivamente en la documentación). Esta ecuación equivale a la definición dada anteriormente, pero con $\\mu=l$ y $\\sigma=s$. Así que, los parámetros de ubicación y escala se pueden interpretar como la media y la desviación típica respectivamente."
   ]
  },
  {
   "cell_type": "code",
   "execution_count": 7,
   "id": "80682781-840b-4b36-820e-4521151f55c1",
   "metadata": {
    "ExecuteTime": {
     "end_time": "2024-01-25T13:19:49.097140Z",
     "start_time": "2024-01-25T13:19:49.008552Z"
    }
   },
   "outputs": [],
   "source": [
    "# Para el caso de omitir el uso de SCIPY, tendriamos que hacer el cálculo mediante la programación de la fórmula, quedando algo similar a esto: \n",
    "\n",
    "def NormalPDF(x, m, s):  #NormalPDF es función de x y toma los parámetros m y s\n",
    "    return np.exp(-(x - m) ** 2 / (2 * s ** 2)) / (\n",
    "                2 * np.pi * s ** 2) ** 0.5  #Definición de la función normal de probabilidad"
   ]
  },
  {
   "cell_type": "markdown",
   "id": "f5bd2d4b-b603-49f6-b6da-d1ae4bd60b73",
   "metadata": {},
   "source": [
    "A continuación se grafica la distribución con los parámetros $\\mu=20$ y $\\sigma=2$ usando <code>scipy.stats</code>:"
   ]
  },
  {
   "cell_type": "code",
   "execution_count": 20,
   "id": "37d3fdf7-6714-43f8-86a9-c3f4feb29349",
   "metadata": {},
   "outputs": [
    {
     "data": {
      "image/png": "[encoded data removed]",
      "text/plain": [
       "<Figure size 640x480 with 1 Axes>"
      ]
     },
     "metadata": {},
     "output_type": "display_data"
    }
   ],
   "source": [
    "from scipy import stats  #Importa scipy\n",
    "\n",
    "x = np.linspace(10, 30, 500)  #Definición de los valores de x\n",
    "sy = stats.norm.pdf(x, 20, 2)  #calcula los valores de \"y\"\n",
    "\n",
    "plt.plot(x, sy, color='r', linewidth=2, linestyle='-.')  #Grafica la función de probabilidad\n",
    "plt.xlabel('x')  #Etiqueta del eje horizontal\n",
    "plt.ylabel('f(x)');  #Etiqueta del eje vertical"
   ]
  },
  {
   "cell_type": "markdown",
   "id": "0e8b2c7a-bfdb-444b-add9-1c58a3b7b1ab",
   "metadata": {},
   "source": [
    "# Ejercicio\n",
    "\n",
    "    Utilice los comandos de numpy para calcular la media y la desviación estándar con N = 10, N = 100 y N = 1000.\n",
    "    Realice las gráficas para cada N diferente."
   ]
  },
  {
   "cell_type": "code",
   "execution_count": null,
   "id": "98afb70f-746b-4594-9504-e3723e760d95",
   "metadata": {},
   "outputs": [],
   "source": []
  }
 ],
 "metadata": {
  "kernelspec": {
   "display_name": "Python 3 (ipykernel)",
   "language": "python",
   "name": "python3"
  },
  "language_info": {
   "codemirror_mode": {
    "name": "ipython",
    "version": 3
   },
   "file_extension": ".py",
   "mimetype": "text/x-python",
   "name": "python",
   "nbconvert_exporter": "python",
   "pygments_lexer": "ipython3",
   "version": "3.12.1"
  }
 },
 "nbformat": 4,
 "nbformat_minor": 5
}
