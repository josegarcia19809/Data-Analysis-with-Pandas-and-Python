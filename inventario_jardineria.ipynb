{
 "cells": [
  {
   "cell_type": "markdown",
   "source": [
    " # Proyecto #5 - Modiﬁcando DataFrames sobre un DataSet que Contiene el Inventario de Una Tienda de Jardinería"
   ],
   "metadata": {
    "collapsed": false
   },
   "id": "e41bd6b087dc85d6"
  },
  {
   "cell_type": "markdown",
   "source": [
    "Eres el principal analista de datos de una cadena de tiendas de jardinería llamada Petal Power. Ayúdeles a analizar su inventario!"
   ],
   "metadata": {
    "collapsed": false
   },
   "id": "6418d21bda1e75f3"
  },
  {
   "cell_type": "markdown",
   "source": [
    "1. Los datos de todas las ubicaciones de Petal Power están en el archivo inventory.csv . Cargue los datos en un DataFrame llamado inventory"
   ],
   "metadata": {
    "collapsed": false
   },
   "id": "ee35e71b12cf7a5e"
  },
  {
   "cell_type": "code",
   "outputs": [],
   "source": [
    "import pandas as pd"
   ],
   "metadata": {
    "collapsed": false,
    "ExecuteTime": {
     "end_time": "2024-01-25T13:50:07.601495Z",
     "start_time": "2024-01-25T13:50:07.552140Z"
    }
   },
   "id": "f0a61b62288db98e",
   "execution_count": 25
  },
  {
   "cell_type": "code",
   "outputs": [
    {
     "data": {
      "text/plain": "        location  product_type         product_description  quantity  price\n0  Staten Island         seeds                 weed killer        74   23.0\n1  Staten Island       planter               insect killer        48   36.0\n2  Staten Island  pest_control                       spade        56   36.0\n3       Brooklyn       planter                 wheelbarrow        73   23.0\n4  Staten Island  garden tools                      tomato         0   56.0\n5       Brooklyn  garden tools                        rake         0   56.0\n6  Staten Island  pest_control                       daisy        18   56.0\n7       Brooklyn  pest_control      8 inch plastic planter        49   27.0\n8       Brooklyn         seeds                  calla lily        20   27.0\n9  Staten Island       planter  20 inch terracotta planter        23   56.0",
      "text/html": "<div>\n<style scoped>\n    .dataframe tbody tr th:only-of-type {\n        vertical-align: middle;\n    }\n\n    .dataframe tbody tr th {\n        vertical-align: top;\n    }\n\n    .dataframe thead th {\n        text-align: right;\n    }\n</style>\n<table border=\"1\" class=\"dataframe\">\n  <thead>\n    <tr style=\"text-align: right;\">\n      <th></th>\n      <th>location</th>\n      <th>product_type</th>\n      <th>product_description</th>\n      <th>quantity</th>\n      <th>price</th>\n    </tr>\n  </thead>\n  <tbody>\n    <tr>\n      <th>0</th>\n      <td>Staten Island</td>\n      <td>seeds</td>\n      <td>weed killer</td>\n      <td>74</td>\n      <td>23.0</td>\n    </tr>\n    <tr>\n      <th>1</th>\n      <td>Staten Island</td>\n      <td>planter</td>\n      <td>insect killer</td>\n      <td>48</td>\n      <td>36.0</td>\n    </tr>\n    <tr>\n      <th>2</th>\n      <td>Staten Island</td>\n      <td>pest_control</td>\n      <td>spade</td>\n      <td>56</td>\n      <td>36.0</td>\n    </tr>\n    <tr>\n      <th>3</th>\n      <td>Brooklyn</td>\n      <td>planter</td>\n      <td>wheelbarrow</td>\n      <td>73</td>\n      <td>23.0</td>\n    </tr>\n    <tr>\n      <th>4</th>\n      <td>Staten Island</td>\n      <td>garden tools</td>\n      <td>tomato</td>\n      <td>0</td>\n      <td>56.0</td>\n    </tr>\n    <tr>\n      <th>5</th>\n      <td>Brooklyn</td>\n      <td>garden tools</td>\n      <td>rake</td>\n      <td>0</td>\n      <td>56.0</td>\n    </tr>\n    <tr>\n      <th>6</th>\n      <td>Staten Island</td>\n      <td>pest_control</td>\n      <td>daisy</td>\n      <td>18</td>\n      <td>56.0</td>\n    </tr>\n    <tr>\n      <th>7</th>\n      <td>Brooklyn</td>\n      <td>pest_control</td>\n      <td>8 inch plastic planter</td>\n      <td>49</td>\n      <td>27.0</td>\n    </tr>\n    <tr>\n      <th>8</th>\n      <td>Brooklyn</td>\n      <td>seeds</td>\n      <td>calla lily</td>\n      <td>20</td>\n      <td>27.0</td>\n    </tr>\n    <tr>\n      <th>9</th>\n      <td>Staten Island</td>\n      <td>planter</td>\n      <td>20 inch terracotta planter</td>\n      <td>23</td>\n      <td>56.0</td>\n    </tr>\n  </tbody>\n</table>\n</div>"
     },
     "execution_count": 26,
     "metadata": {},
     "output_type": "execute_result"
    }
   ],
   "source": [
    "inventory = pd.read_csv(\"datax/inventory.csv\")\n",
    "inventory"
   ],
   "metadata": {
    "collapsed": false,
    "ExecuteTime": {
     "end_time": "2024-01-25T13:50:07.633862Z",
     "start_time": "2024-01-25T13:50:07.611929Z"
    }
   },
   "id": "81939c2d8992c0a4",
   "execution_count": 26
  },
  {
   "cell_type": "markdown",
   "source": [
    "3.Las primeras 10 ﬁlas representan datos de su ubicación en Staten Island. Seleccione estas líneas y grábelas en staten_island."
   ],
   "metadata": {
    "collapsed": false
   },
   "id": "a7a7d4d7c0b79687"
  },
  {
   "cell_type": "code",
   "outputs": [
    {
     "data": {
      "text/plain": "        location  product_type         product_description  quantity  price\n0  Staten Island         seeds                 weed killer        74   23.0\n1  Staten Island       planter               insect killer        48   36.0\n2  Staten Island  pest_control                       spade        56   36.0\n4  Staten Island  garden tools                      tomato         0   56.0\n6  Staten Island  pest_control                       daisy        18   56.0\n9  Staten Island       planter  20 inch terracotta planter        23   56.0",
      "text/html": "<div>\n<style scoped>\n    .dataframe tbody tr th:only-of-type {\n        vertical-align: middle;\n    }\n\n    .dataframe tbody tr th {\n        vertical-align: top;\n    }\n\n    .dataframe thead th {\n        text-align: right;\n    }\n</style>\n<table border=\"1\" class=\"dataframe\">\n  <thead>\n    <tr style=\"text-align: right;\">\n      <th></th>\n      <th>location</th>\n      <th>product_type</th>\n      <th>product_description</th>\n      <th>quantity</th>\n      <th>price</th>\n    </tr>\n  </thead>\n  <tbody>\n    <tr>\n      <th>0</th>\n      <td>Staten Island</td>\n      <td>seeds</td>\n      <td>weed killer</td>\n      <td>74</td>\n      <td>23.0</td>\n    </tr>\n    <tr>\n      <th>1</th>\n      <td>Staten Island</td>\n      <td>planter</td>\n      <td>insect killer</td>\n      <td>48</td>\n      <td>36.0</td>\n    </tr>\n    <tr>\n      <th>2</th>\n      <td>Staten Island</td>\n      <td>pest_control</td>\n      <td>spade</td>\n      <td>56</td>\n      <td>36.0</td>\n    </tr>\n    <tr>\n      <th>4</th>\n      <td>Staten Island</td>\n      <td>garden tools</td>\n      <td>tomato</td>\n      <td>0</td>\n      <td>56.0</td>\n    </tr>\n    <tr>\n      <th>6</th>\n      <td>Staten Island</td>\n      <td>pest_control</td>\n      <td>daisy</td>\n      <td>18</td>\n      <td>56.0</td>\n    </tr>\n    <tr>\n      <th>9</th>\n      <td>Staten Island</td>\n      <td>planter</td>\n      <td>20 inch terracotta planter</td>\n      <td>23</td>\n      <td>56.0</td>\n    </tr>\n  </tbody>\n</table>\n</div>"
     },
     "execution_count": 27,
     "metadata": {},
     "output_type": "execute_result"
    }
   ],
   "source": [
    "staten_island = inventory[inventory[\"location\"] == \"Staten Island\"]\n",
    "staten_island"
   ],
   "metadata": {
    "collapsed": false,
    "ExecuteTime": {
     "end_time": "2024-01-25T13:50:07.686815Z",
     "start_time": "2024-01-25T13:50:07.648823Z"
    }
   },
   "id": "de44759b56cd553",
   "execution_count": 27
  },
  {
   "cell_type": "markdown",
   "source": [
    "4.Un cliente acaba de enviarle un correo electrónico preguntándole qué productos se venden en su localidad de Staten Island. Seleccione la columna product_description de staten_island y guárdela en la variable product_request."
   ],
   "metadata": {
    "collapsed": false
   },
   "id": "b76feffd8b4a7ab0"
  },
  {
   "cell_type": "code",
   "outputs": [
    {
     "data": {
      "text/plain": "0                   weed killer\n1                 insect killer\n2                         spade\n4                        tomato\n6                         daisy\n9    20 inch terracotta planter\nName: product_description, dtype: object"
     },
     "execution_count": 28,
     "metadata": {},
     "output_type": "execute_result"
    }
   ],
   "source": [
    "product_request = staten_island[\"product_description\"]\n",
    "product_request"
   ],
   "metadata": {
    "collapsed": false,
    "ExecuteTime": {
     "end_time": "2024-01-25T13:50:07.689488Z",
     "start_time": "2024-01-25T13:50:07.656764Z"
    }
   },
   "id": "20f115151f93d188",
   "execution_count": 28
  },
  {
   "cell_type": "markdown",
   "source": [
    "5.Otro cliente envía un correo electrónico para preguntar qué tipos de semillas se venden en la sede de Brooklyn. Seleccione todas las filas donde la location es igual a Brooklyn y el product_type es igual a las semillas seeds y guárdelas en la variable seed_request."
   ],
   "metadata": {
    "collapsed": false
   },
   "id": "2c1c7c2afff95b75"
  },
  {
   "cell_type": "code",
   "outputs": [
    {
     "data": {
      "text/plain": "   location product_type product_description  quantity  price\n8  Brooklyn        seeds          calla lily        20   27.0",
      "text/html": "<div>\n<style scoped>\n    .dataframe tbody tr th:only-of-type {\n        vertical-align: middle;\n    }\n\n    .dataframe tbody tr th {\n        vertical-align: top;\n    }\n\n    .dataframe thead th {\n        text-align: right;\n    }\n</style>\n<table border=\"1\" class=\"dataframe\">\n  <thead>\n    <tr style=\"text-align: right;\">\n      <th></th>\n      <th>location</th>\n      <th>product_type</th>\n      <th>product_description</th>\n      <th>quantity</th>\n      <th>price</th>\n    </tr>\n  </thead>\n  <tbody>\n    <tr>\n      <th>8</th>\n      <td>Brooklyn</td>\n      <td>seeds</td>\n      <td>calla lily</td>\n      <td>20</td>\n      <td>27.0</td>\n    </tr>\n  </tbody>\n</table>\n</div>"
     },
     "execution_count": 29,
     "metadata": {},
     "output_type": "execute_result"
    }
   ],
   "source": [
    "seed_request = inventory[(inventory[\"location\"] == \"Brooklyn\") & (inventory[\"product_type\"] == \"seeds\")]\n",
    "seed_request"
   ],
   "metadata": {
    "collapsed": false,
    "ExecuteTime": {
     "end_time": "2024-01-25T13:50:07.828570Z",
     "start_time": "2024-01-25T13:50:07.679245Z"
    }
   },
   "id": "665780c3562add10",
   "execution_count": 29
  },
  {
   "cell_type": "markdown",
   "source": [
    "6. Añada una columna a un inventario inventory llamado in_stock que sea True si quantity es mayor que O y False if quantity es igual a 0."
   ],
   "metadata": {
    "collapsed": false
   },
   "id": "a03926f5ae49040b"
  },
  {
   "cell_type": "code",
   "outputs": [
    {
     "data": {
      "text/plain": "        location  product_type         product_description  quantity  price  \\\n0  Staten Island         seeds                 weed killer        74   23.0   \n1  Staten Island       planter               insect killer        48   36.0   \n2  Staten Island  pest_control                       spade        56   36.0   \n3       Brooklyn       planter                 wheelbarrow        73   23.0   \n4  Staten Island  garden tools                      tomato         0   56.0   \n5       Brooklyn  garden tools                        rake         0   56.0   \n6  Staten Island  pest_control                       daisy        18   56.0   \n7       Brooklyn  pest_control      8 inch plastic planter        49   27.0   \n8       Brooklyn         seeds                  calla lily        20   27.0   \n9  Staten Island       planter  20 inch terracotta planter        23   56.0   \n\n   in_stock  \n0      True  \n1      True  \n2      True  \n3      True  \n4     False  \n5     False  \n6      True  \n7      True  \n8      True  \n9      True  ",
      "text/html": "<div>\n<style scoped>\n    .dataframe tbody tr th:only-of-type {\n        vertical-align: middle;\n    }\n\n    .dataframe tbody tr th {\n        vertical-align: top;\n    }\n\n    .dataframe thead th {\n        text-align: right;\n    }\n</style>\n<table border=\"1\" class=\"dataframe\">\n  <thead>\n    <tr style=\"text-align: right;\">\n      <th></th>\n      <th>location</th>\n      <th>product_type</th>\n      <th>product_description</th>\n      <th>quantity</th>\n      <th>price</th>\n      <th>in_stock</th>\n    </tr>\n  </thead>\n  <tbody>\n    <tr>\n      <th>0</th>\n      <td>Staten Island</td>\n      <td>seeds</td>\n      <td>weed killer</td>\n      <td>74</td>\n      <td>23.0</td>\n      <td>True</td>\n    </tr>\n    <tr>\n      <th>1</th>\n      <td>Staten Island</td>\n      <td>planter</td>\n      <td>insect killer</td>\n      <td>48</td>\n      <td>36.0</td>\n      <td>True</td>\n    </tr>\n    <tr>\n      <th>2</th>\n      <td>Staten Island</td>\n      <td>pest_control</td>\n      <td>spade</td>\n      <td>56</td>\n      <td>36.0</td>\n      <td>True</td>\n    </tr>\n    <tr>\n      <th>3</th>\n      <td>Brooklyn</td>\n      <td>planter</td>\n      <td>wheelbarrow</td>\n      <td>73</td>\n      <td>23.0</td>\n      <td>True</td>\n    </tr>\n    <tr>\n      <th>4</th>\n      <td>Staten Island</td>\n      <td>garden tools</td>\n      <td>tomato</td>\n      <td>0</td>\n      <td>56.0</td>\n      <td>False</td>\n    </tr>\n    <tr>\n      <th>5</th>\n      <td>Brooklyn</td>\n      <td>garden tools</td>\n      <td>rake</td>\n      <td>0</td>\n      <td>56.0</td>\n      <td>False</td>\n    </tr>\n    <tr>\n      <th>6</th>\n      <td>Staten Island</td>\n      <td>pest_control</td>\n      <td>daisy</td>\n      <td>18</td>\n      <td>56.0</td>\n      <td>True</td>\n    </tr>\n    <tr>\n      <th>7</th>\n      <td>Brooklyn</td>\n      <td>pest_control</td>\n      <td>8 inch plastic planter</td>\n      <td>49</td>\n      <td>27.0</td>\n      <td>True</td>\n    </tr>\n    <tr>\n      <th>8</th>\n      <td>Brooklyn</td>\n      <td>seeds</td>\n      <td>calla lily</td>\n      <td>20</td>\n      <td>27.0</td>\n      <td>True</td>\n    </tr>\n    <tr>\n      <th>9</th>\n      <td>Staten Island</td>\n      <td>planter</td>\n      <td>20 inch terracotta planter</td>\n      <td>23</td>\n      <td>56.0</td>\n      <td>True</td>\n    </tr>\n  </tbody>\n</table>\n</div>"
     },
     "execution_count": 30,
     "metadata": {},
     "output_type": "execute_result"
    }
   ],
   "source": [
    "inventory[\"in_stock\"] = inventory.apply(\n",
    "    lambda row: True if row[\"quantity\"] > 0 else False, axis=1\n",
    ")\n",
    "inventory"
   ],
   "metadata": {
    "collapsed": false,
    "ExecuteTime": {
     "end_time": "2024-01-25T13:50:07.831965Z",
     "start_time": "2024-01-25T13:50:07.698083Z"
    }
   },
   "id": "8c9392b23717361a",
   "execution_count": 30
  },
  {
   "cell_type": "markdown",
   "source": [
    "7.Petal Power quiere saber cuán valioso es su inventario actual. Cree una columna llamada total_value que sea igual a price multiplicado por quantity."
   ],
   "metadata": {
    "collapsed": false
   },
   "id": "9a24028a65d98da0"
  },
  {
   "cell_type": "code",
   "outputs": [
    {
     "data": {
      "text/plain": "        location  product_type         product_description  quantity  price  \\\n0  Staten Island         seeds                 weed killer        74   23.0   \n1  Staten Island       planter               insect killer        48   36.0   \n2  Staten Island  pest_control                       spade        56   36.0   \n3       Brooklyn       planter                 wheelbarrow        73   23.0   \n4  Staten Island  garden tools                      tomato         0   56.0   \n5       Brooklyn  garden tools                        rake         0   56.0   \n6  Staten Island  pest_control                       daisy        18   56.0   \n7       Brooklyn  pest_control      8 inch plastic planter        49   27.0   \n8       Brooklyn         seeds                  calla lily        20   27.0   \n9  Staten Island       planter  20 inch terracotta planter        23   56.0   \n\n   in_stock  total_value  \n0      True       1702.0  \n1      True       1728.0  \n2      True       2016.0  \n3      True       1679.0  \n4     False          0.0  \n5     False          0.0  \n6      True       1008.0  \n7      True       1323.0  \n8      True        540.0  \n9      True       1288.0  ",
      "text/html": "<div>\n<style scoped>\n    .dataframe tbody tr th:only-of-type {\n        vertical-align: middle;\n    }\n\n    .dataframe tbody tr th {\n        vertical-align: top;\n    }\n\n    .dataframe thead th {\n        text-align: right;\n    }\n</style>\n<table border=\"1\" class=\"dataframe\">\n  <thead>\n    <tr style=\"text-align: right;\">\n      <th></th>\n      <th>location</th>\n      <th>product_type</th>\n      <th>product_description</th>\n      <th>quantity</th>\n      <th>price</th>\n      <th>in_stock</th>\n      <th>total_value</th>\n    </tr>\n  </thead>\n  <tbody>\n    <tr>\n      <th>0</th>\n      <td>Staten Island</td>\n      <td>seeds</td>\n      <td>weed killer</td>\n      <td>74</td>\n      <td>23.0</td>\n      <td>True</td>\n      <td>1702.0</td>\n    </tr>\n    <tr>\n      <th>1</th>\n      <td>Staten Island</td>\n      <td>planter</td>\n      <td>insect killer</td>\n      <td>48</td>\n      <td>36.0</td>\n      <td>True</td>\n      <td>1728.0</td>\n    </tr>\n    <tr>\n      <th>2</th>\n      <td>Staten Island</td>\n      <td>pest_control</td>\n      <td>spade</td>\n      <td>56</td>\n      <td>36.0</td>\n      <td>True</td>\n      <td>2016.0</td>\n    </tr>\n    <tr>\n      <th>3</th>\n      <td>Brooklyn</td>\n      <td>planter</td>\n      <td>wheelbarrow</td>\n      <td>73</td>\n      <td>23.0</td>\n      <td>True</td>\n      <td>1679.0</td>\n    </tr>\n    <tr>\n      <th>4</th>\n      <td>Staten Island</td>\n      <td>garden tools</td>\n      <td>tomato</td>\n      <td>0</td>\n      <td>56.0</td>\n      <td>False</td>\n      <td>0.0</td>\n    </tr>\n    <tr>\n      <th>5</th>\n      <td>Brooklyn</td>\n      <td>garden tools</td>\n      <td>rake</td>\n      <td>0</td>\n      <td>56.0</td>\n      <td>False</td>\n      <td>0.0</td>\n    </tr>\n    <tr>\n      <th>6</th>\n      <td>Staten Island</td>\n      <td>pest_control</td>\n      <td>daisy</td>\n      <td>18</td>\n      <td>56.0</td>\n      <td>True</td>\n      <td>1008.0</td>\n    </tr>\n    <tr>\n      <th>7</th>\n      <td>Brooklyn</td>\n      <td>pest_control</td>\n      <td>8 inch plastic planter</td>\n      <td>49</td>\n      <td>27.0</td>\n      <td>True</td>\n      <td>1323.0</td>\n    </tr>\n    <tr>\n      <th>8</th>\n      <td>Brooklyn</td>\n      <td>seeds</td>\n      <td>calla lily</td>\n      <td>20</td>\n      <td>27.0</td>\n      <td>True</td>\n      <td>540.0</td>\n    </tr>\n    <tr>\n      <th>9</th>\n      <td>Staten Island</td>\n      <td>planter</td>\n      <td>20 inch terracotta planter</td>\n      <td>23</td>\n      <td>56.0</td>\n      <td>True</td>\n      <td>1288.0</td>\n    </tr>\n  </tbody>\n</table>\n</div>"
     },
     "execution_count": 31,
     "metadata": {},
     "output_type": "execute_result"
    }
   ],
   "source": [
    "inventory[\"total_value\"] = inventory[\"quantity\"] * inventory[\"price\"]\n",
    "inventory"
   ],
   "metadata": {
    "collapsed": false,
    "ExecuteTime": {
     "end_time": "2024-01-25T13:50:07.837087Z",
     "start_time": "2024-01-25T13:50:07.706198Z"
    }
   },
   "id": "e7172ba7486c8e25",
   "execution_count": 31
  },
  {
   "cell_type": "markdown",
   "source": [
    "8.El departamento de Marketing desea una descripción completa de cada producto para su catálogo. La siguiente función lambda combina el product_type y product description en una sola cadena:\n",
    "\n",
    "combine_lambda = lambda row: '{} - {}'.format (row.product_type, row.product_description)"
   ],
   "metadata": {
    "collapsed": false
   },
   "id": "9001e564cd6df5f"
  },
  {
   "cell_type": "markdown",
   "source": [
    "9. Utilizando combine_ lambda, cree una nueva columna en inventory llamada full_description que contenga la descripción completa de cada producto."
   ],
   "metadata": {
    "collapsed": false
   },
   "id": "3a1ed41d64013e8e"
  },
  {
   "cell_type": "code",
   "outputs": [
    {
     "data": {
      "text/plain": "        location  product_type         product_description  quantity  price  \\\n0  Staten Island         seeds                 weed killer        74   23.0   \n1  Staten Island       planter               insect killer        48   36.0   \n2  Staten Island  pest_control                       spade        56   36.0   \n3       Brooklyn       planter                 wheelbarrow        73   23.0   \n4  Staten Island  garden tools                      tomato         0   56.0   \n5       Brooklyn  garden tools                        rake         0   56.0   \n6  Staten Island  pest_control                       daisy        18   56.0   \n7       Brooklyn  pest_control      8 inch plastic planter        49   27.0   \n8       Brooklyn         seeds                  calla lily        20   27.0   \n9  Staten Island       planter  20 inch terracotta planter        23   56.0   \n\n   in_stock  total_value                       full_description  \n0      True       1702.0                    seeds - weed killer  \n1      True       1728.0                planter - insect killer  \n2      True       2016.0                   pest_control - spade  \n3      True       1679.0                  planter - wheelbarrow  \n4     False          0.0                  garden tools - tomato  \n5     False          0.0                    garden tools - rake  \n6      True       1008.0                   pest_control - daisy  \n7      True       1323.0  pest_control - 8 inch plastic planter  \n8      True        540.0                     seeds - calla lily  \n9      True       1288.0   planter - 20 inch terracotta planter  ",
      "text/html": "<div>\n<style scoped>\n    .dataframe tbody tr th:only-of-type {\n        vertical-align: middle;\n    }\n\n    .dataframe tbody tr th {\n        vertical-align: top;\n    }\n\n    .dataframe thead th {\n        text-align: right;\n    }\n</style>\n<table border=\"1\" class=\"dataframe\">\n  <thead>\n    <tr style=\"text-align: right;\">\n      <th></th>\n      <th>location</th>\n      <th>product_type</th>\n      <th>product_description</th>\n      <th>quantity</th>\n      <th>price</th>\n      <th>in_stock</th>\n      <th>total_value</th>\n      <th>full_description</th>\n    </tr>\n  </thead>\n  <tbody>\n    <tr>\n      <th>0</th>\n      <td>Staten Island</td>\n      <td>seeds</td>\n      <td>weed killer</td>\n      <td>74</td>\n      <td>23.0</td>\n      <td>True</td>\n      <td>1702.0</td>\n      <td>seeds - weed killer</td>\n    </tr>\n    <tr>\n      <th>1</th>\n      <td>Staten Island</td>\n      <td>planter</td>\n      <td>insect killer</td>\n      <td>48</td>\n      <td>36.0</td>\n      <td>True</td>\n      <td>1728.0</td>\n      <td>planter - insect killer</td>\n    </tr>\n    <tr>\n      <th>2</th>\n      <td>Staten Island</td>\n      <td>pest_control</td>\n      <td>spade</td>\n      <td>56</td>\n      <td>36.0</td>\n      <td>True</td>\n      <td>2016.0</td>\n      <td>pest_control - spade</td>\n    </tr>\n    <tr>\n      <th>3</th>\n      <td>Brooklyn</td>\n      <td>planter</td>\n      <td>wheelbarrow</td>\n      <td>73</td>\n      <td>23.0</td>\n      <td>True</td>\n      <td>1679.0</td>\n      <td>planter - wheelbarrow</td>\n    </tr>\n    <tr>\n      <th>4</th>\n      <td>Staten Island</td>\n      <td>garden tools</td>\n      <td>tomato</td>\n      <td>0</td>\n      <td>56.0</td>\n      <td>False</td>\n      <td>0.0</td>\n      <td>garden tools - tomato</td>\n    </tr>\n    <tr>\n      <th>5</th>\n      <td>Brooklyn</td>\n      <td>garden tools</td>\n      <td>rake</td>\n      <td>0</td>\n      <td>56.0</td>\n      <td>False</td>\n      <td>0.0</td>\n      <td>garden tools - rake</td>\n    </tr>\n    <tr>\n      <th>6</th>\n      <td>Staten Island</td>\n      <td>pest_control</td>\n      <td>daisy</td>\n      <td>18</td>\n      <td>56.0</td>\n      <td>True</td>\n      <td>1008.0</td>\n      <td>pest_control - daisy</td>\n    </tr>\n    <tr>\n      <th>7</th>\n      <td>Brooklyn</td>\n      <td>pest_control</td>\n      <td>8 inch plastic planter</td>\n      <td>49</td>\n      <td>27.0</td>\n      <td>True</td>\n      <td>1323.0</td>\n      <td>pest_control - 8 inch plastic planter</td>\n    </tr>\n    <tr>\n      <th>8</th>\n      <td>Brooklyn</td>\n      <td>seeds</td>\n      <td>calla lily</td>\n      <td>20</td>\n      <td>27.0</td>\n      <td>True</td>\n      <td>540.0</td>\n      <td>seeds - calla lily</td>\n    </tr>\n    <tr>\n      <th>9</th>\n      <td>Staten Island</td>\n      <td>planter</td>\n      <td>20 inch terracotta planter</td>\n      <td>23</td>\n      <td>56.0</td>\n      <td>True</td>\n      <td>1288.0</td>\n      <td>planter - 20 inch terracotta planter</td>\n    </tr>\n  </tbody>\n</table>\n</div>"
     },
     "execution_count": 32,
     "metadata": {},
     "output_type": "execute_result"
    }
   ],
   "source": [
    "inventory[\"full_description\"]=inventory.apply(\n",
    "    lambda row: '{} - {}'.format (row.product_type, row.product_description), axis=1\n",
    ")\n",
    "inventory"
   ],
   "metadata": {
    "collapsed": false,
    "ExecuteTime": {
     "end_time": "2024-01-25T13:50:07.839110Z",
     "start_time": "2024-01-25T13:50:07.722789Z"
    }
   },
   "id": "9731ebc8839b050e",
   "execution_count": 32
  },
  {
   "cell_type": "code",
   "outputs": [],
   "source": [
    "# Otra forma de hacer lo anterior\n",
    "combine_lambda = lambda row: '{} - {}'.format (row.product_type, row.product_description)"
   ],
   "metadata": {
    "collapsed": false,
    "ExecuteTime": {
     "end_time": "2024-01-25T13:50:07.919438Z",
     "start_time": "2024-01-25T13:50:07.744726Z"
    }
   },
   "id": "1cac193e1e6727e4",
   "execution_count": 33
  },
  {
   "cell_type": "code",
   "outputs": [
    {
     "data": {
      "text/plain": "        location  product_type         product_description  quantity  price  \\\n0  Staten Island         seeds                 weed killer        74   23.0   \n1  Staten Island       planter               insect killer        48   36.0   \n2  Staten Island  pest_control                       spade        56   36.0   \n3       Brooklyn       planter                 wheelbarrow        73   23.0   \n4  Staten Island  garden tools                      tomato         0   56.0   \n5       Brooklyn  garden tools                        rake         0   56.0   \n6  Staten Island  pest_control                       daisy        18   56.0   \n7       Brooklyn  pest_control      8 inch plastic planter        49   27.0   \n8       Brooklyn         seeds                  calla lily        20   27.0   \n9  Staten Island       planter  20 inch terracotta planter        23   56.0   \n\n   in_stock  total_value                       full_description  \n0      True       1702.0                    seeds - weed killer  \n1      True       1728.0                planter - insect killer  \n2      True       2016.0                   pest_control - spade  \n3      True       1679.0                  planter - wheelbarrow  \n4     False          0.0                  garden tools - tomato  \n5     False          0.0                    garden tools - rake  \n6      True       1008.0                   pest_control - daisy  \n7      True       1323.0  pest_control - 8 inch plastic planter  \n8      True        540.0                     seeds - calla lily  \n9      True       1288.0   planter - 20 inch terracotta planter  ",
      "text/html": "<div>\n<style scoped>\n    .dataframe tbody tr th:only-of-type {\n        vertical-align: middle;\n    }\n\n    .dataframe tbody tr th {\n        vertical-align: top;\n    }\n\n    .dataframe thead th {\n        text-align: right;\n    }\n</style>\n<table border=\"1\" class=\"dataframe\">\n  <thead>\n    <tr style=\"text-align: right;\">\n      <th></th>\n      <th>location</th>\n      <th>product_type</th>\n      <th>product_description</th>\n      <th>quantity</th>\n      <th>price</th>\n      <th>in_stock</th>\n      <th>total_value</th>\n      <th>full_description</th>\n    </tr>\n  </thead>\n  <tbody>\n    <tr>\n      <th>0</th>\n      <td>Staten Island</td>\n      <td>seeds</td>\n      <td>weed killer</td>\n      <td>74</td>\n      <td>23.0</td>\n      <td>True</td>\n      <td>1702.0</td>\n      <td>seeds - weed killer</td>\n    </tr>\n    <tr>\n      <th>1</th>\n      <td>Staten Island</td>\n      <td>planter</td>\n      <td>insect killer</td>\n      <td>48</td>\n      <td>36.0</td>\n      <td>True</td>\n      <td>1728.0</td>\n      <td>planter - insect killer</td>\n    </tr>\n    <tr>\n      <th>2</th>\n      <td>Staten Island</td>\n      <td>pest_control</td>\n      <td>spade</td>\n      <td>56</td>\n      <td>36.0</td>\n      <td>True</td>\n      <td>2016.0</td>\n      <td>pest_control - spade</td>\n    </tr>\n    <tr>\n      <th>3</th>\n      <td>Brooklyn</td>\n      <td>planter</td>\n      <td>wheelbarrow</td>\n      <td>73</td>\n      <td>23.0</td>\n      <td>True</td>\n      <td>1679.0</td>\n      <td>planter - wheelbarrow</td>\n    </tr>\n    <tr>\n      <th>4</th>\n      <td>Staten Island</td>\n      <td>garden tools</td>\n      <td>tomato</td>\n      <td>0</td>\n      <td>56.0</td>\n      <td>False</td>\n      <td>0.0</td>\n      <td>garden tools - tomato</td>\n    </tr>\n    <tr>\n      <th>5</th>\n      <td>Brooklyn</td>\n      <td>garden tools</td>\n      <td>rake</td>\n      <td>0</td>\n      <td>56.0</td>\n      <td>False</td>\n      <td>0.0</td>\n      <td>garden tools - rake</td>\n    </tr>\n    <tr>\n      <th>6</th>\n      <td>Staten Island</td>\n      <td>pest_control</td>\n      <td>daisy</td>\n      <td>18</td>\n      <td>56.0</td>\n      <td>True</td>\n      <td>1008.0</td>\n      <td>pest_control - daisy</td>\n    </tr>\n    <tr>\n      <th>7</th>\n      <td>Brooklyn</td>\n      <td>pest_control</td>\n      <td>8 inch plastic planter</td>\n      <td>49</td>\n      <td>27.0</td>\n      <td>True</td>\n      <td>1323.0</td>\n      <td>pest_control - 8 inch plastic planter</td>\n    </tr>\n    <tr>\n      <th>8</th>\n      <td>Brooklyn</td>\n      <td>seeds</td>\n      <td>calla lily</td>\n      <td>20</td>\n      <td>27.0</td>\n      <td>True</td>\n      <td>540.0</td>\n      <td>seeds - calla lily</td>\n    </tr>\n    <tr>\n      <th>9</th>\n      <td>Staten Island</td>\n      <td>planter</td>\n      <td>20 inch terracotta planter</td>\n      <td>23</td>\n      <td>56.0</td>\n      <td>True</td>\n      <td>1288.0</td>\n      <td>planter - 20 inch terracotta planter</td>\n    </tr>\n  </tbody>\n</table>\n</div>"
     },
     "execution_count": 34,
     "metadata": {},
     "output_type": "execute_result"
    }
   ],
   "source": [
    "inventory[\"full_description\"]=inventory.apply(combine_lambda, axis=1)\n",
    "inventory"
   ],
   "metadata": {
    "collapsed": false,
    "ExecuteTime": {
     "end_time": "2024-01-25T13:50:07.996452Z",
     "start_time": "2024-01-25T13:50:07.839461Z"
    }
   },
   "id": "c260746a2f88ea9c",
   "execution_count": 34
  },
  {
   "cell_type": "code",
   "outputs": [],
   "source": [],
   "metadata": {
    "collapsed": false,
    "ExecuteTime": {
     "end_time": "2024-01-25T13:50:08.113612Z",
     "start_time": "2024-01-25T13:50:07.960848Z"
    }
   },
   "id": "9a1f59fe5df1c6d",
   "execution_count": 34
  }
 ],
 "metadata": {
  "kernelspec": {
   "display_name": "Python 3",
   "language": "python",
   "name": "python3"
  },
  "language_info": {
   "codemirror_mode": {
    "name": "ipython",
    "version": 2
   },
   "file_extension": ".py",
   "mimetype": "text/x-python",
   "name": "python",
   "nbconvert_exporter": "python",
   "pygments_lexer": "ipython2",
   "version": "2.7.6"
  }
 },
 "nbformat": 4,
 "nbformat_minor": 5
}
