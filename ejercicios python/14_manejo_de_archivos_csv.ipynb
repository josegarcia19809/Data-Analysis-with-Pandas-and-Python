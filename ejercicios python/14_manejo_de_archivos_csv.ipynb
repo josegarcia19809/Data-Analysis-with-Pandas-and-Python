{
 "cells": [
  {
   "cell_type": "markdown",
   "metadata": {
    "id": "WAolyfJ5B9vh"
   },
   "source": [
    "## Leyendo `csv` con `open()`"
   ]
  },
  {
   "cell_type": "markdown",
   "metadata": {
    "id": "K7bIwlR9DZpw"
   },
   "source": [
    "Además de usar la función `open()`, vamos a necesitar algunos métodos del módulo `csv`."
   ]
  },
  {
   "cell_type": "code",
   "execution_count": null,
   "metadata": {
    "id": "fLY_tAn728p-"
   },
   "outputs": [],
   "source": [
    "import csv"
   ]
  },
  {
   "cell_type": "markdown",
   "metadata": {
    "id": "O0RQXJa-Diqz"
   },
   "source": [
    "Empezaremos mostrando como leer un `csv` haciendo uso del método `.reader()` del módulo `csv`.\n",
    "\n",
    "En este caso vamos a trabajar con el archivo `csv_example.csv`. Si abrimos el archivo, veremos que todos los valores están separados por comas y cada observación se encuentra en una línea diferente.\n",
    "\n",
    "Para leerlo, ejecutaremos el siguiente chunk de código:"
   ]
  },
  {
   "cell_type": "code",
   "execution_count": null,
   "metadata": {
    "colab": {
     "base_uri": "https://localhost:8080/"
    },
    "id": "4iuaRGD-DVDC",
    "outputId": "a7210dcc-cd89-455e-b6d5-4d0dd5e713bb"
   },
   "outputs": [
    {
     "name": "stdout",
     "output_type": "stream",
     "text": [
      "['id', 'Name', 'City', 'Age']\n",
      "['1234', 'Arturo', 'Madrid', '22']\n",
      "['2345', 'Beatriz', 'Barcelona', '25']\n",
      "['3456', 'Carlos', 'Sevilla', '18']\n",
      "['4567', 'Dolores', 'Cuenca', '34']\n"
     ]
    }
   ],
   "source": [
    "with open(\"/content/drive/MyDrive/python-basico/datasets/csv_example.csv\", \"r\") as f:\n",
    "    reader = csv.reader(f)\n",
    "    for row in reader:\n",
    "        print(row)"
   ]
  },
  {
   "cell_type": "markdown",
   "metadata": {
    "id": "nEbsKHyBGpx_"
   },
   "source": [
    "Con la función `open()` hemos accedido al archivo, al cuál hemos identificado por `f`. A continuación, hemos usado el método `.reader()` para leer el archivo `f`. Dicho método nos ha devuelto el iterable `reader`, del cuál hemos mostrado todas sus filas iterando con un bucle `for`. "
   ]
  },
  {
   "cell_type": "markdown",
   "metadata": {
    "id": "1upIrAGoNSBS"
   },
   "source": [
    "### Cambiando el separador\n",
    "\n",
    "Por defecto, los archivos `csv` tienen como delimitador la coma `,`. No obstante, algunos archivos `csv` usan otros delimitadores. Las alternativas más populares a la coma suelen ser `|` o `\\t`.\n",
    "\n",
    "Observemos el archivo `csv_delimiter_example.csv`, donde esta vez sus elementos están separados por tabuladores, `\\t`.\n",
    "\n",
    "El método `.reader()` nos permite configurar dicho separador con el parámetro `delimiter`."
   ]
  },
  {
   "cell_type": "code",
   "execution_count": null,
   "metadata": {
    "colab": {
     "base_uri": "https://localhost:8080/"
    },
    "id": "-81xMYHDHBUy",
    "outputId": "66fdce81-c56b-4cdd-ff4b-20ce51f52332"
   },
   "outputs": [
    {
     "name": "stdout",
     "output_type": "stream",
     "text": [
      "['id', 'Name', 'City', 'Age']\n",
      "['1234', 'Arturo', 'Madrid', '22']\n",
      "['2345', 'Beatriz', 'Barcelona', '25']\n",
      "['3456', 'Carlos', 'Sevilla', '18']\n",
      "['4567', 'Dolores', 'Cuenca', '34']\n"
     ]
    }
   ],
   "source": [
    "with open(\"/content/drive/MyDrive/python-basico/datasets/csv_delimiter_example.csv\", \"r\") as f:\n",
    "    reader = csv.reader(f, delimiter = \"|\")\n",
    "    for row in reader:\n",
    "        print(row)"
   ]
  },
  {
   "cell_type": "markdown",
   "metadata": {
    "id": "HLQbsecfgbk-"
   },
   "source": [
    "### Eliminando espacios adicionales\n",
    "\n",
    "A veces puede ocurrir que algunos `csv` tengan un espacio en blanco tras el delimitador, cosa que se ve reflejado al leer los datos.\n",
    "\n",
    "Para eliminar estos espacios en blanco adicionales, el método `.reader()` trae el parámetro `skipinitialspace`. Si lo igualamos a `True`, los espacios adicionales desaparecerán.\n",
    "\n",
    "Observemos que el archivo `csv_spaces_example.csv` tiene espacios en blanco adicionales tras el separador, que es la coma. Veamos la diferencia entre igualar el parámetro `skipinitialspace` a `True` o a `False`."
   ]
  },
  {
   "cell_type": "code",
   "execution_count": null,
   "metadata": {
    "colab": {
     "base_uri": "https://localhost:8080/"
    },
    "id": "T5yOgbYqgyjq",
    "outputId": "5bf5e25a-3611-47e8-a903-afb41a0366b6"
   },
   "outputs": [
    {
     "name": "stdout",
     "output_type": "stream",
     "text": [
      "['id', ' Name', ' City', ' Age']\n",
      "['1234', ' Arturo', ' Madrid', ' 22']\n",
      "['2345', ' Beatriz', ' Barcelona', ' 25']\n",
      "['3456', ' Carlos', ' Sevilla', ' 18']\n",
      "['4567', ' Dolores', ' Cuenca', ' 34']\n"
     ]
    }
   ],
   "source": [
    "# skipinitialspace = False (valor por defecto)\n",
    "with open(\"/content/drive/MyDrive/python-basico/datasets/csv_spaces_example.csv\", \"r\") as f:\n",
    "    reader = csv.reader(f, skipinitialspace = False)\n",
    "    for row in reader:\n",
    "        print(row)"
   ]
  },
  {
   "cell_type": "markdown",
   "metadata": {
    "id": "j410VTOpGNAy"
   },
   "source": [
    "**Observación.** Salvo la primera entrada de cada fila, todas tienen un espacio inicial adicional."
   ]
  },
  {
   "cell_type": "code",
   "execution_count": null,
   "metadata": {
    "colab": {
     "base_uri": "https://localhost:8080/"
    },
    "id": "fc4u7f2gGAAk",
    "outputId": "8197ac1c-6c21-478e-927a-e14b532d4933"
   },
   "outputs": [
    {
     "name": "stdout",
     "output_type": "stream",
     "text": [
      "['id', 'Name', 'City', 'Age']\n",
      "['1234', 'Arturo', 'Madrid', '22']\n",
      "['2345', 'Beatriz', 'Barcelona', '25']\n",
      "['3456', 'Carlos', 'Sevilla', '18']\n",
      "['4567', 'Dolores', 'Cuenca', '34']\n"
     ]
    }
   ],
   "source": [
    "# skipinitialspace = True\n",
    "with open(\"/content/drive/MyDrive/python-basico/datasets/csv_spaces_example.csv\", \"r\") as f:\n",
    "    reader = csv.reader(f, skipinitialspace = True)\n",
    "    for row in reader:\n",
    "        print(row)"
   ]
  },
  {
   "cell_type": "markdown",
   "metadata": {
    "id": "rWZoFO3rg_vY"
   },
   "source": [
    "### Comillas en las entradas\n",
    "\n",
    "Algunos archivos `csv` puede que tengan entradas entre comillas. Si no indicamos nada, por defecto aparecerán las comillas en las entradas tras haber leído el fichero.\n",
    "\n",
    "Si en cambio queremos deshacernos de ellas, disponemos del parámetro `quoting`, que admite diferentes valores:\n",
    "\n",
    "* `csv.QUOTE_ALL`: indica al objeto `reader` que todos los valores en el archivo `csv` están entre comillas\n",
    "* `csv.QUOTE_MINIMAL`: indica al objeto `reader` que los valores en el archivo `csv` que están entre comillas son entradas que contienen caracteres como el delimitador, comillas o cualquier caracter de terminación de línea\n",
    "* `csv.QUOTE_NONNUMERIC`: indica al objeto `reader` que los valores en el archivo `csv` que están entre comillas son entradas que contienen entradas no-numéricas\n",
    "* `csv.QUOTE_NONE`: indica al objeto `reader` que ninguno los valores en el archivo `csv` están entre comillas\n",
    "\n",
    "Observemos el archivo `csv_quotation_example.csv`, donde las observaciones entre comillas son aquellas que no tienen valores numéricos. En este caso, nos convendría usar la opción `csv.QUOTE_NONNUMERIC`"
   ]
  },
  {
   "cell_type": "code",
   "execution_count": null,
   "metadata": {
    "colab": {
     "base_uri": "https://localhost:8080/"
    },
    "id": "bewS5DP6BTPd",
    "outputId": "3d2e75dc-903d-4ebb-e465-35ddc475b56b"
   },
   "outputs": [
    {
     "name": "stdout",
     "output_type": "stream",
     "text": [
      "['id', 'Name', 'City', 'Age']\n",
      "[1234.0, 'Arturo', 'Madrid', 22.0]\n",
      "[2345.0, 'Beatriz', 'Barcelona', 25.0]\n",
      "[3456.0, 'Carlos', 'Sevilla', 18.0]\n",
      "[4567.0, 'Dolores', 'Cuenca', 34.0]\n"
     ]
    }
   ],
   "source": [
    "with open(\"/content/drive/MyDrive/python-basico/datasets/csv_quotation_example.csv\", \"r\") as f:\n",
    "    reader = csv.reader(f, quoting = csv.QUOTE_NONNUMERIC)\n",
    "    for row in reader:\n",
    "        print(row)"
   ]
  },
  {
   "cell_type": "markdown",
   "metadata": {
    "id": "GJtlP5ntHO5N"
   },
   "source": [
    "**Observación.** Las entradas numéricas han dejado de ser leídas como strings y han pasado a ser consideradas entradas de tipo `float`.\n",
    "\n",
    "Si en cambio hubiésemos usado la opción `csv.QUOTATE_ALL`, no hubiésemos obtenido ningún error, pero las entradas numéricas habrían sido tratadas como `string`."
   ]
  },
  {
   "cell_type": "code",
   "execution_count": null,
   "metadata": {
    "colab": {
     "base_uri": "https://localhost:8080/"
    },
    "id": "yBhgfqv0HHdZ",
    "outputId": "616b1cd2-0669-45cb-b3fa-cfedc06cefd0"
   },
   "outputs": [
    {
     "name": "stdout",
     "output_type": "stream",
     "text": [
      "['id', 'Name', 'City', 'Age']\n",
      "['1234', 'Arturo', 'Madrid', '22']\n",
      "['2345', 'Beatriz', 'Barcelona', '25']\n",
      "['3456', 'Carlos', 'Sevilla', '18']\n",
      "['4567', 'Dolores', 'Cuenca', '34']\n"
     ]
    }
   ],
   "source": [
    "with open(\"/content/drive/MyDrive/python-basico/datasets/csv_quotation_example.csv\", \"r\") as f:\n",
    "    reader = csv.reader(f, quoting = csv.QUOTE_ALL)\n",
    "    for row in reader:\n",
    "        print(row)"
   ]
  },
  {
   "cell_type": "markdown",
   "metadata": {
    "id": "2_Oi8GfUHqW2"
   },
   "source": [
    "### Dialectos\n",
    "\n",
    "Hasta ahora solamente hemos usado uno de los parámetros cada vez, pero podría darse el caso de que tuviésemos un csv con un delimitador distinto a la coma, con espacios adicionales y entradas entrecomilladas a causa de contener delimitadores o finales de línea.\n",
    "\n",
    "Una opción sería indicar todos los parámetros a la función, pero existe una alternativa que nos será muy útil en caso de no estar tratando con un solo archivo `csv` sino con múltiples con formatos similares. Es el caso de los dialectos.\n",
    "\n",
    "Los dialectos ayudan a agrupar patrones de formato específicos como el delimitador, las comillas, los espacios adicionales tras los delimitadores...\n",
    "\n",
    "En caso de querer usar nuestro dialecto personalizado, `.reader()` nos ofrece el parámetros `dialect` al cual podemos pasarle dicho dialecto.\n",
    "\n",
    "Consideremos el archivo `csv_dialect_example.csv`, el cual tiene el delimitador `|`, espacios adicionales y todos sus valores no numéricos entrecomillados.\n",
    "\n",
    "En vez de indicar todos esos parámetros al método `.reader()`, vamos a crear nuestro dialecto, `my_dialect`, con el método `.register_dialect()` y se lo vamos a pasar al parámetro `dialect` de `.reader()` "
   ]
  },
  {
   "cell_type": "code",
   "execution_count": null,
   "metadata": {
    "colab": {
     "base_uri": "https://localhost:8080/"
    },
    "id": "RanrowD-HmnL",
    "outputId": "23b89b7f-3aee-46ac-f1ea-55424e3421fe"
   },
   "outputs": [
    {
     "name": "stdout",
     "output_type": "stream",
     "text": [
      "['id', 'Name', 'City', 'Age']\n",
      "[1234.0, 'Arturo', 'Madrid', 22.0]\n",
      "[2345.0, 'Beatriz', 'Barcelona', 25.0]\n",
      "[3456.0, 'Carlos', 'Sevilla', 18.0]\n",
      "[4567.0, 'Dolores', 'Cuenca', 34.0]\n"
     ]
    }
   ],
   "source": [
    "csv.register_dialect(\"my_dialect\",\n",
    "                     delimiter = \"|\",\n",
    "                     skipinitialspace = True,\n",
    "                     quoting = csv.QUOTE_NONNUMERIC)\n",
    "\n",
    "with open(\"/content/drive/MyDrive/python-basico/datasets/csv_dialect_example.csv\", \"r\") as f:\n",
    "    reader = csv.reader(f, dialect = \"my_dialect\")\n",
    "    for row in reader:\n",
    "        print(row)"
   ]
  },
  {
   "cell_type": "markdown",
   "metadata": {
    "id": "-ITRLGReN7LU"
   },
   "source": [
    "Al método `.register_dialect()` en primer lugar le hemos dado un nombre en formato `string` y luego hemos configurado los parámetros `delimiter`, `skipinitialspace` y `quoting`. \n",
    "\n",
    "A continuación, al método `.reader()` le hemos pasado el nombre del dialecto, `my_dialect`, al parámetro `dialect` y se ha leído el archivo correctamente.\n",
    "\n",
    "Una vez creado el dialecto personalizado, podemos usarlo tantas veces como queramos para abrir y leer archivos `csv` con el mismo formato, en este caso, que `csv_dialect_example.csv`."
   ]
  },
  {
   "cell_type": "markdown",
   "metadata": {
    "id": "Owht-USeQFEe"
   },
   "source": [
    "### Diccionarios y `csv`\n",
    "\n",
    "En este caso vamos a trabajar de nuevo con el archivo `csv_example.csv`. \n",
    "\n",
    "Para leerlo, usaremos el método `.DictReader()` del módulo `csv`, lo que nos devolverá un objeto `OrderedDict`, que es iterable."
   ]
  },
  {
   "cell_type": "code",
   "execution_count": null,
   "metadata": {
    "colab": {
     "base_uri": "https://localhost:8080/"
    },
    "id": "xLdaWuOhN6zV",
    "outputId": "2772f64d-2e0d-4069-b8a7-32802a8a8356"
   },
   "outputs": [
    {
     "name": "stdout",
     "output_type": "stream",
     "text": [
      "OrderedDict([('id', '1234'), ('Name', 'Arturo'), ('City', 'Madrid'), ('Age', '22')])\n",
      "OrderedDict([('id', '2345'), ('Name', 'Beatriz'), ('City', 'Barcelona'), ('Age', '25')])\n",
      "OrderedDict([('id', '3456'), ('Name', 'Carlos'), ('City', 'Sevilla'), ('Age', '18')])\n",
      "OrderedDict([('id', '4567'), ('Name', 'Dolores'), ('City', 'Cuenca'), ('Age', '34')])\n"
     ]
    }
   ],
   "source": [
    "with open(\"/content/drive/MyDrive/python-basico/datasets/csv_example.csv\", \"r\") as f:\n",
    "    reader = csv.DictReader(f)\n",
    "    for row in reader:\n",
    "        print(row)"
   ]
  },
  {
   "cell_type": "markdown",
   "metadata": {
    "id": "-s9I1zbXSmp3"
   },
   "source": [
    "**Observación.** Podríamos usar la función `dict()` dentro del `print()` para mostrar los objetos `OrderedDict` como diccionarios."
   ]
  },
  {
   "cell_type": "code",
   "execution_count": null,
   "metadata": {
    "colab": {
     "base_uri": "https://localhost:8080/"
    },
    "id": "a81P4VF8SmJd",
    "outputId": "a7749559-ed99-4fd1-eaad-49f2562dbea9"
   },
   "outputs": [
    {
     "name": "stdout",
     "output_type": "stream",
     "text": [
      "{'id': '1234', 'Name': 'Arturo', 'City': 'Madrid', 'Age': '22'}\n",
      "{'id': '2345', 'Name': 'Beatriz', 'City': 'Barcelona', 'Age': '25'}\n",
      "{'id': '3456', 'Name': 'Carlos', 'City': 'Sevilla', 'Age': '18'}\n",
      "{'id': '4567', 'Name': 'Dolores', 'City': 'Cuenca', 'Age': '34'}\n"
     ]
    }
   ],
   "source": [
    "with open(\"/content/drive/MyDrive/python-basico/datasets/csv_example.csv\", \"r\") as f:\n",
    "    reader = csv.DictReader(f)\n",
    "    for row in reader:\n",
    "        print(dict(row))"
   ]
  },
  {
   "cell_type": "markdown",
   "metadata": {
    "id": "pojdRtgeS3W5"
   },
   "source": [
    "**Observación.** Si se usa una versión de `Python` 3.8 o superior, podría ser que no fuera necesario usar la función `dict()` pues el resultado de `.DictReader()` ya sería un diccionario."
   ]
  },
  {
   "cell_type": "markdown",
   "metadata": {
    "id": "nxCMVMr5Tu2n"
   },
   "source": [
    "## Escribiendo `csv`\n",
    "\n",
    "Para crear y escribir un `csv` usamos la función `open()` junto al método `csv.writer()`:"
   ]
  },
  {
   "cell_type": "code",
   "execution_count": null,
   "metadata": {
    "id": "W1itYXPiT9Ya"
   },
   "outputs": [],
   "source": [
    "data = [[\"id\", \"Name\", \"City\", \"Age\"], \n",
    "        [1234, \"Arturo\", \"Madrid\", 22], \n",
    "        [2345, \"Beatriz\", \"Barcelona\", 25],\n",
    "        [3456, \"Carlos\", \"Sevilla\", 18], \n",
    "        [4567, \"Dolores\", \"Cuenca\", 34]]\n",
    "\n",
    "with open(\"/content/drive/MyDrive/python-basico/datasets/csv_write.csv\", \"w\") as f:\n",
    "  writer = csv.writer(f)\n",
    "  for row in data:\n",
    "    writer.writerow(row)\n"
   ]
  },
  {
   "cell_type": "markdown",
   "metadata": {
    "id": "ZOZcgLyJU6Ie"
   },
   "source": [
    "Si ahora vamos a la carpeta datasets, observaremos que ha aparecido un nuevo archivo llamado `csv_write.csv` el cual contiene como valores las entradas de la lista `data`, donde cada sublista corresponde a una fila del `csv` gracias al bucle `for` y al método `.writerow()`.\n",
    "\n",
    "Podríamos haber obtenido exactamente el mismo resultado sin haber usado un bucle, lo que para ello tendríamos que haber hecho uso del método `.writerows()`."
   ]
  },
  {
   "cell_type": "code",
   "execution_count": null,
   "metadata": {
    "id": "8cYxIh48Ux8n"
   },
   "outputs": [],
   "source": [
    "with open(\"/content/drive/MyDrive/python-basico/datasets/csv_write_writerows.csv\", \"w\") as f:\n",
    "  writer = csv.writer(f)\n",
    "  writer.writerows(data)"
   ]
  },
  {
   "cell_type": "markdown",
   "metadata": {
    "id": "6XN12BkKVml3"
   },
   "source": [
    "Si ahora vamos a la carpeta datasets, observaremos que ha aparecido un nuevo archivo llamado `csv_write_writerows.csv` el cual contiene como valores las entradas de la lista `data`, donde cada sublista corresponde a una fila del `csv` gracias al método `.writerows()`."
   ]
  },
  {
   "cell_type": "markdown",
   "metadata": {
    "id": "v_F0HT-KWEF5"
   },
   "source": [
    "### Diccionarios y csv\n",
    "\n",
    "También podemos escribir un `csv` a partir de un diccionario. Para ello tendremos que usar el método `.DictWriter()`."
   ]
  },
  {
   "cell_type": "code",
   "execution_count": null,
   "metadata": {
    "id": "kf8Wh4e5VkoI"
   },
   "outputs": [],
   "source": [
    "data = [{\"id\": 1234, \"Name\": \"Arturo\", \"City\": \"Madrid\", \"Age\": 22},\n",
    "        {\"id\": 2345, \"Name\": \"Beatriz\", \"City\": \"Barcelona\", \"Age\": 25},\n",
    "        {\"id\": 3456, \"Name\": \"Carlos\", \"City\": \"Sevilla\", \"Age\": 18},\n",
    "        {\"id\": 4567, \"Name\": \"Dolores\", \"City\": \"Cuenca\", \"Age\": 34}]\n",
    "\n",
    "# La cabecera es la lista de las keys de cualquiera de las entradas de data\n",
    "header = list(data[0].keys())"
   ]
  },
  {
   "cell_type": "code",
   "execution_count": null,
   "metadata": {
    "id": "57dv5P9EYinH"
   },
   "outputs": [],
   "source": [
    "with open(\"/content/drive/MyDrive/python-basico/datasets/csv_write_dict.csv\", \"w\") as f:\n",
    "  writer = csv.DictWriter(f, fieldnames = header)\n",
    "  \n",
    "  writer.writeheader()\n",
    "  for d in data:\n",
    "    writer.writerow(d)"
   ]
  },
  {
   "cell_type": "markdown",
   "metadata": {
    "id": "DIgGBa8AXtcP"
   },
   "source": [
    "En este caso, los datos están guardado en una lista de diccionarios llamada `data`. A continuación guardamos la cabecera en la variable `header` como una lista de los nombres de las variables.\n",
    "\n",
    "Abrimos (y creamos) el archivo `csv_write_dict.csv` y creamos el objeto `writer` con el método `.DictWriter()` al cual le pasamos la cabecera `header` mediante el parámetro `fieldnames`.\n",
    "\n",
    "Finalmente, escribimos en primer lugar la cabecera con el método `.writeheader()` y luego, con la ayuda de un bucle `for`, cada observación, correspondiente a cada uno de los diccionarios de la lista `data`, en una fila diferente con el método `.writerow()`.\n",
    "\n",
    "Podríamos haber obtenido el mismo resultado sin usar ningún bucle, pero haciendo uso del método `.writerows()`"
   ]
  },
  {
   "cell_type": "code",
   "execution_count": null,
   "metadata": {
    "id": "5kZkK50pW8lM"
   },
   "outputs": [],
   "source": [
    "with open(\"/content/drive/MyDrive/python-basico/datasets/csv_write_dict_writerows.csv\", \"w\") as f:\n",
    "  writer = csv.DictWriter(f, fieldnames = header)\n",
    "  \n",
    "  writer.writeheader()\n",
    "  writer.writerows(data)"
   ]
  },
  {
   "cell_type": "markdown",
   "metadata": {
    "id": "ai7lAW71YqRJ"
   },
   "source": [
    "Observamos que efectivamente tanto el archivo `csv_write_dict.csv` como `csv_write_dict_writerows.csv` son idénticos."
   ]
  }
 ],
 "metadata": {
  "colab": {
   "collapsed_sections": [],
   "name": "Tema18.ipynb",
   "provenance": [],
   "toc_visible": true
  },
  "kernelspec": {
   "display_name": "Python 3",
   "language": "python",
   "name": "python3"
  },
  "language_info": {
   "codemirror_mode": {
    "name": "ipython",
    "version": 3
   },
   "file_extension": ".py",
   "mimetype": "text/x-python",
   "name": "python",
   "nbconvert_exporter": "python",
   "pygments_lexer": "ipython3",
   "version": "3.8.5"
  }
 },
 "nbformat": 4,
 "nbformat_minor": 1
}