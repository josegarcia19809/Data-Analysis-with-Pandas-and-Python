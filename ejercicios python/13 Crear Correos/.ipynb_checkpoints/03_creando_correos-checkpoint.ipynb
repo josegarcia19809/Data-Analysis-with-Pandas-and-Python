{
 "cells": [
  {
   "cell_type": "markdown",
   "metadata": {
    "collapsed": true,
    "pycharm": {
     "name": "#%% md\n"
    }
   },
   "source": [
    "# Instrucciones\n",
    "* Crea una carta usando `carta_inicial.txt` para cada nombre en `nombres_invitados.txt`\n",
    "* Reemplaza el marcador de posición [nombre] con el nombre real.\n",
    "* Guarda las cartas en la carpeta `listos_para_enviar` nombrando las cartas como\n",
    "`invitacion_para_nombre.txt` sustituyendo la parte de `nombre` por el nombre del invitado.\n",
    "\n",
    "### Pistas\n",
    "* Pista 1: Este método te ayudará: [https://www.w3schools.com/python/ref_file_readlines.asp](https://www.w3schools.com/python/ref_file_readlines.asp)\n",
    "* Pista 2: Este método también te ayudará: [https://www.w3schools.com/python/ref_string_replace.asp](https://www.w3schools.com/python/ref_string_replace.asp)\n",
    "* Pista 3: Este método te ayudará: [https://www.w3schools.com/python/ref_string_strip.asp](https://www.w3schools.com/python/ref_string_strip.asp)"
   ]
  },
  {
   "cell_type": "code",
   "execution_count": null,
   "metadata": {
    "pycharm": {
     "name": "#%%\n"
    }
   },
   "outputs": [],
   "source": []
  }
 ],
 "metadata": {
  "kernelspec": {
   "display_name": "Python 3",
   "language": "python",
   "name": "python3"
  },
  "language_info": {
   "codemirror_mode": {
    "name": "ipython",
    "version": 3
   },
   "file_extension": ".py",
   "mimetype": "text/x-python",
   "name": "python",
   "nbconvert_exporter": "python",
   "pygments_lexer": "ipython3",
   "version": "3.8.5"
  }
 },
 "nbformat": 4,
 "nbformat_minor": 1
}
