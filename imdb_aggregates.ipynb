{
 "cells": [
  {
   "cell_type": "code",
   "execution_count": 1,
   "id": "initial_id",
   "metadata": {
    "collapsed": true,
    "ExecuteTime": {
     "end_time": "2024-02-21T02:36:56.045942Z",
     "start_time": "2024-02-21T02:36:35.545982Z"
    }
   },
   "outputs": [],
   "source": [
    "import pandas as pd"
   ]
  },
  {
   "cell_type": "code",
   "outputs": [
    {
     "data": {
      "text/plain": "   id                                     nombre  genero   año  \\\n0   1                                     Avatar  action  2009   \n1   2                             Jurassic World  action  2015   \n2   3                               The Avengers  action  2012   \n3   4                            The Dark Knight  action  2008   \n4   5  Star Wars: Episode I - The Phantom Menace  action  1999   \n\n  calificacion_imdb  \n0               7.9  \n1               7.3  \n2               8.1  \n3               9.0  \n4               6.6  ",
      "text/html": "<div>\n<style scoped>\n    .dataframe tbody tr th:only-of-type {\n        vertical-align: middle;\n    }\n\n    .dataframe tbody tr th {\n        vertical-align: top;\n    }\n\n    .dataframe thead th {\n        text-align: right;\n    }\n</style>\n<table border=\"1\" class=\"dataframe\">\n  <thead>\n    <tr style=\"text-align: right;\">\n      <th></th>\n      <th>id</th>\n      <th>nombre</th>\n      <th>genero</th>\n      <th>año</th>\n      <th>calificacion_imdb</th>\n    </tr>\n  </thead>\n  <tbody>\n    <tr>\n      <th>0</th>\n      <td>1</td>\n      <td>Avatar</td>\n      <td>action</td>\n      <td>2009</td>\n      <td>7.9</td>\n    </tr>\n    <tr>\n      <th>1</th>\n      <td>2</td>\n      <td>Jurassic World</td>\n      <td>action</td>\n      <td>2015</td>\n      <td>7.3</td>\n    </tr>\n    <tr>\n      <th>2</th>\n      <td>3</td>\n      <td>The Avengers</td>\n      <td>action</td>\n      <td>2012</td>\n      <td>8.1</td>\n    </tr>\n    <tr>\n      <th>3</th>\n      <td>4</td>\n      <td>The Dark Knight</td>\n      <td>action</td>\n      <td>2008</td>\n      <td>9.0</td>\n    </tr>\n    <tr>\n      <th>4</th>\n      <td>5</td>\n      <td>Star Wars: Episode I - The Phantom Menace</td>\n      <td>action</td>\n      <td>1999</td>\n      <td>6.6</td>\n    </tr>\n  </tbody>\n</table>\n</div>"
     },
     "execution_count": 2,
     "metadata": {},
     "output_type": "execute_result"
    }
   ],
   "source": [
    "df_movies = pd.read_csv(\"datax/imdb.csv\")\n",
    "df_movies.head()"
   ],
   "metadata": {
    "collapsed": false,
    "ExecuteTime": {
     "end_time": "2024-02-21T02:36:56.088425Z",
     "start_time": "2024-02-21T02:36:56.050703Z"
    }
   },
   "id": "ac61caea57d83537",
   "execution_count": 2
  },
  {
   "cell_type": "code",
   "outputs": [
    {
     "data": {
      "text/plain": "2005.5"
     },
     "execution_count": 3,
     "metadata": {},
     "output_type": "execute_result"
    }
   ],
   "source": [
    "df_movies.año.median()"
   ],
   "metadata": {
    "collapsed": false,
    "ExecuteTime": {
     "end_time": "2024-02-21T02:36:56.107964Z",
     "start_time": "2024-02-21T02:36:56.094866Z"
    }
   },
   "id": "4a0b85f11814bf21",
   "execution_count": 3
  },
  {
   "cell_type": "code",
   "outputs": [
    {
     "data": {
      "text/plain": "42"
     },
     "execution_count": 4,
     "metadata": {},
     "output_type": "execute_result"
    }
   ],
   "source": [
    "df_movies.año.nunique() # Número de valores únicos"
   ],
   "metadata": {
    "collapsed": false,
    "ExecuteTime": {
     "end_time": "2024-02-21T02:36:56.132999Z",
     "start_time": "2024-02-21T02:36:56.115382Z"
    }
   },
   "id": "59ec6a62d632f935",
   "execution_count": 4
  },
  {
   "cell_type": "code",
   "outputs": [
    {
     "data": {
      "text/plain": "array([2009, 2015, 2012, 2008, 1999, 1977, 2006, 2013, 2002, 2005, 2004,\n       2011, 2014, 2007, 2010, 1983, 1996, 2003, 1980, 1989, 1984, 1997,\n       2001, 1990, 2000, 1993, 1992, 1985, 1994, 1978, 1979, 1986, 1998,\n       1991, 1939, 1937, 1982, 1965, 1995, 1975, 1988, 1987])"
     },
     "execution_count": 5,
     "metadata": {},
     "output_type": "execute_result"
    }
   ],
   "source": [
    "df_movies.año.unique() # Muestra los valores únicos"
   ],
   "metadata": {
    "collapsed": false,
    "ExecuteTime": {
     "end_time": "2024-02-21T02:36:56.176127Z",
     "start_time": "2024-02-21T02:36:56.150611Z"
    }
   },
   "id": "7d51204a4364318c",
   "execution_count": 5
  },
  {
   "cell_type": "code",
   "outputs": [
    {
     "data": {
      "text/plain": "7.2     11\n7.1     11\n6.7     11\n6.4     10\n8.0     10\n6.2     10\n6.6      9\n7.3      9\n7.7      9\n6.9      8\n8.1      8\n7.8      8\n7.6      7\n7.0      7\n7.4      7\n6.5      6\n7.9      6\n8.2      5\n5.8      4\n5.6      4\n7.5      4\n6.8      4\n4.9      4\n8.5      4\n6.0      4\n6.3      4\n5.2      3\n5.5      3\n8.6      3\n8.8      3\n5.4      3\n5.9      3\n5.7      3\n8.4      3\n8.7      2\n4.6      2\n6.1      2\n8.3      1\n5.3      1\n4.4      1\n9.0      1\n7.3v     1\n4.2      1\nName: calificacion_imdb, dtype: int64"
     },
     "execution_count": 6,
     "metadata": {},
     "output_type": "execute_result"
    }
   ],
   "source": [
    "df_movies.calificacion_imdb.value_counts()"
   ],
   "metadata": {
    "collapsed": false,
    "ExecuteTime": {
     "end_time": "2024-02-21T02:36:56.220652Z",
     "start_time": "2024-02-21T02:36:56.186185Z"
    }
   },
   "id": "e1db863d55441aad",
   "execution_count": 6
  },
  {
   "cell_type": "code",
   "outputs": [
    {
     "data": {
      "text/plain": "      id                                     nombre  genero   año  \\\n0      1                                     Avatar  action  2009   \n1      2                             Jurassic World  action  2015   \n2      3                               The Avengers  action  2012   \n3      4                            The Dark Knight  action  2008   \n4      5  Star Wars: Episode I - The Phantom Menace  action  1999   \n..   ...                                        ...     ...   ...   \n215  216                                   Hannibal   drama  2001   \n216  217                        Catch Me If You Can   drama  2002   \n217  218                                  Big Daddy   drama  1999   \n218  219                                      Se7en   drama  1995   \n219  220                                      Seven   drama  1979   \n\n    calificacion_imdb  \n0                 7.9  \n1                 7.3  \n2                 8.1  \n3                 9.0  \n4                 6.6  \n..                ...  \n215               6.7  \n216               8.0  \n217               6.4  \n218               8.6  \n219               6.1  \n\n[220 rows x 5 columns]",
      "text/html": "<div>\n<style scoped>\n    .dataframe tbody tr th:only-of-type {\n        vertical-align: middle;\n    }\n\n    .dataframe tbody tr th {\n        vertical-align: top;\n    }\n\n    .dataframe thead th {\n        text-align: right;\n    }\n</style>\n<table border=\"1\" class=\"dataframe\">\n  <thead>\n    <tr style=\"text-align: right;\">\n      <th></th>\n      <th>id</th>\n      <th>nombre</th>\n      <th>genero</th>\n      <th>año</th>\n      <th>calificacion_imdb</th>\n    </tr>\n  </thead>\n  <tbody>\n    <tr>\n      <th>0</th>\n      <td>1</td>\n      <td>Avatar</td>\n      <td>action</td>\n      <td>2009</td>\n      <td>7.9</td>\n    </tr>\n    <tr>\n      <th>1</th>\n      <td>2</td>\n      <td>Jurassic World</td>\n      <td>action</td>\n      <td>2015</td>\n      <td>7.3</td>\n    </tr>\n    <tr>\n      <th>2</th>\n      <td>3</td>\n      <td>The Avengers</td>\n      <td>action</td>\n      <td>2012</td>\n      <td>8.1</td>\n    </tr>\n    <tr>\n      <th>3</th>\n      <td>4</td>\n      <td>The Dark Knight</td>\n      <td>action</td>\n      <td>2008</td>\n      <td>9.0</td>\n    </tr>\n    <tr>\n      <th>4</th>\n      <td>5</td>\n      <td>Star Wars: Episode I - The Phantom Menace</td>\n      <td>action</td>\n      <td>1999</td>\n      <td>6.6</td>\n    </tr>\n    <tr>\n      <th>...</th>\n      <td>...</td>\n      <td>...</td>\n      <td>...</td>\n      <td>...</td>\n      <td>...</td>\n    </tr>\n    <tr>\n      <th>215</th>\n      <td>216</td>\n      <td>Hannibal</td>\n      <td>drama</td>\n      <td>2001</td>\n      <td>6.7</td>\n    </tr>\n    <tr>\n      <th>216</th>\n      <td>217</td>\n      <td>Catch Me If You Can</td>\n      <td>drama</td>\n      <td>2002</td>\n      <td>8.0</td>\n    </tr>\n    <tr>\n      <th>217</th>\n      <td>218</td>\n      <td>Big Daddy</td>\n      <td>drama</td>\n      <td>1999</td>\n      <td>6.4</td>\n    </tr>\n    <tr>\n      <th>218</th>\n      <td>219</td>\n      <td>Se7en</td>\n      <td>drama</td>\n      <td>1995</td>\n      <td>8.6</td>\n    </tr>\n    <tr>\n      <th>219</th>\n      <td>220</td>\n      <td>Seven</td>\n      <td>drama</td>\n      <td>1979</td>\n      <td>6.1</td>\n    </tr>\n  </tbody>\n</table>\n<p>220 rows × 5 columns</p>\n</div>"
     },
     "execution_count": 7,
     "metadata": {},
     "output_type": "execute_result"
    }
   ],
   "source": [
    "print(f'new Pelicula({1}')"
   ],
   "metadata": {
    "collapsed": false,
    "ExecuteTime": {
     "end_time": "2024-02-21T02:37:33.058745Z",
     "start_time": "2024-02-21T02:37:33.041147Z"
    }
   },
   "id": "28917d4466c48a24",
   "execution_count": 7
  },
  {
   "cell_type": "code",
   "outputs": [
    {
     "name": "stdout",
     "output_type": "stream",
     "text": [
      "new Pelicula(1, \"Avatar\", \"action\", 2009, 7.9),\n",
      "new Pelicula(2, \"Jurassic World\", \"action\", 2015, 7.3),\n",
      "new Pelicula(3, \"The Avengers\", \"action\", 2012, 8.1),\n",
      "new Pelicula(4, \"The Dark Knight\", \"action\", 2008, 9.0),\n",
      "new Pelicula(5, \"Star Wars: Episode I - The Phantom Menace\", \"action\", 1999, 6.6),\n",
      "new Pelicula(6, \"Star Wars\", \"action\", 1977, 8.7),\n",
      "new Pelicula(7, \"Avengers: Age of Ultron\", \"action\", 2015, 7.9),\n",
      "new Pelicula(8, \"The Dark Knight Rises\", \"action\", 2012, 8.5),\n",
      "new Pelicula(9, \"Pirates of the Caribbean: Dead Mans Chest\", \"action\", 2006, 7.3),\n",
      "new Pelicula(10, \"Iron Man 3\", \"action\", 2013, 7.3),\n",
      "new Pelicula(11, \"Spider-Man\", \"action\", 2002, 7.3v),\n",
      "new Pelicula(12, \"Transformers: Revenge of the Fallen\", \"action\", 2009, 6.0),\n",
      "new Pelicula(13, \"Star Wars: Episode III - Revenge of the Sith\", \"action\", 2005, 7.7),\n",
      "new Pelicula(14, \"Spider-Man 2\", \"action\", 2004, 7.3),\n",
      "new Pelicula(15, \"Transformers: Dark of the Moon\", \"action\", 2011, 6.3),\n",
      "new Pelicula(16, \"American Sniper\", \"action\", 2014, 7.4),\n",
      "new Pelicula(17, \"Furious Seven\", \"action\", 2015, 7.4),\n",
      "new Pelicula(18, \"Spider-Man 3\", \"action\", 2007, 6.2),\n",
      "new Pelicula(19, \"Guardians of the Galaxy\", \"action\", 2014, 8.1),\n",
      "new Pelicula(20, \"Transformers\", \"action\", 2007, 7.1),\n",
      "new Pelicula(21, \"Iron Man\", \"action\", 2008, 7.9),\n",
      "new Pelicula(22, \"Indiana Jones and the Kingdom of the Crystal Skull\", \"action\", 2008, 6.2),\n",
      "new Pelicula(23, \"Iron Man 2\", \"action\", 2010, 7.1),\n",
      "new Pelicula(24, \"Star Wars: Episode II - Attack of the Clones\", \"action\", 2002, 6.7),\n",
      "new Pelicula(25, \"Pirates of the Caribbean: At Worlds End\", \"action\", 2007, 7.1),\n",
      "new Pelicula(26, \"Star Wars: Episode VI - Return of the Jedi\", \"action\", 1983, 8.4),\n",
      "new Pelicula(27, \"Independence Day\", \"action\", 1996, 6.9),\n",
      "new Pelicula(28, \"Pirates of the Caribbean: The Curse of the Black Pearl\", \"action\", 2003, 8.1),\n",
      "new Pelicula(29, \"Skyfall\", \"action\", 2012, 7.8),\n",
      "new Pelicula(30, \"Inception\", \"action\", 2010, 8.8),\n",
      "new Pelicula(31, \"Man of Steel\", \"action\", 2013, 7.2),\n",
      "new Pelicula(32, \"Star Wars: Episode V - The Empire Strikes Back\", \"action\", 1980, 8.8),\n",
      "new Pelicula(33, \"The Matrix Reloaded\", \"action\", 2003, 7.2),\n",
      "new Pelicula(34, \"The Amazing Spider-Man\", \"action\", 2012, 7.1),\n",
      "new Pelicula(35, \"The Incredibles\", \"action\", 2004, 8.0),\n",
      "new Pelicula(36, \"Captain America: The Winter Soldier\", \"action\", 2014, 7.8),\n",
      "new Pelicula(37, \"The Lego Movie\", \"action\", 2014, 7.8),\n",
      "new Pelicula(38, \"Star Trek\", \"action\", 2009, 8.0),\n",
      "new Pelicula(39, \"Batman\", \"action\", 1989, 7.6),\n",
      "new Pelicula(40, \"Night at the Museum\", \"action\", 2006, 6.4),\n",
      "new Pelicula(41, \"Transformers: Age of Extinction\", \"action\", 2014, 5.8),\n",
      "new Pelicula(42, \"Twister\", \"action\", 1996, 6.3),\n",
      "new Pelicula(43, \"Maleficent\", \"action\", 2014, 7.0),\n",
      "new Pelicula(44, \"Pirates of the Caribbean: On Stranger Tides\", \"action\", 2011, 6.7),\n",
      "new Pelicula(45, \"Fast & Furious 6\", \"action\", 2013, 7.2),\n",
      "new Pelicula(46, \"Beverly Hills Cop\", \"action\", 1984, 7.3),\n",
      "new Pelicula(47, \"X-Men: The Last Stand\", \"action\", 2006, 6.8),\n",
      "new Pelicula(48, \"X-Men: Days of Future Past\", \"action\", 2014, 8.1),\n",
      "new Pelicula(49, \"The Lost World: Jurassic Park\", \"action\", 1997, 6.5),\n",
      "new Pelicula(50, \"Star Trek Into Darkness\", \"action\", 2013, 7.8),\n",
      "new Pelicula(51, \"Shrek 2\", \"comedy\", 2004, 7.2),\n",
      "new Pelicula(52, \"Toy Story 3\", \"comedy\", 2010, 8.4),\n",
      "new Pelicula(53, \"Frozen\", \"comedy\", 2013, 7.6),\n",
      "new Pelicula(54, \"Finding Nemo\", \"comedy\", 2003, 8.2),\n",
      "new Pelicula(55, \"Despicable Me 2\", \"comedy\", 2013, 7.5),\n",
      "new Pelicula(56, \"Inside Out\", \"comedy\", 2015, 8.6),\n",
      "new Pelicula(57, \"Shrek the Third\", \"comedy\", 2007, 6.0),\n",
      "new Pelicula(58, \"Minions\", \"comedy\", 2015, 6.7),\n",
      "new Pelicula(59, \"Up\", \"comedy\", 2009, 8.3),\n",
      "new Pelicula(60, \"Monsters, Inc.\", \"comedy\", 2001, 8.1),\n",
      "new Pelicula(61, \"Home Alone\", \"comedy\", 1990, 7.4),\n",
      "new Pelicula(62, \"Meet the Fockers\", \"comedy\", 2004, 6.3),\n",
      "new Pelicula(63, \"The Hangover\", \"comedy\", 2009, 7.8),\n",
      "new Pelicula(64, \"Monsters University\", \"comedy\", 2013, 7.4),\n",
      "new Pelicula(65, \"Shrek\", \"comedy\", 2001, 7.9),\n",
      "new Pelicula(66, \"How the Grinch Stole Christmas\", \"comedy\", 2000, 6.0),\n",
      "new Pelicula(67, \"The Hangover Part II\", \"comedy\", 2011, 6.5),\n",
      "new Pelicula(68, \"Despicable Me\", \"comedy\", 2010, 7.7),\n",
      "new Pelicula(69, \"Men in Black\", \"comedy\", 1997, 7.2),\n",
      "new Pelicula(70, \"Toy Story 2\", \"comedy\", 1999, 7.9),\n",
      "new Pelicula(71, \"Cars\", \"comedy\", 2006, 7.2),\n",
      "new Pelicula(72, \"Bruce Almighty\", \"comedy\", 2003, 6.7),\n",
      "new Pelicula(73, \"My Big Fat Greek Wedding\", \"comedy\", 2002, 6.6),\n",
      "new Pelicula(74, \"Shrek Forever After\", \"comedy\", 2010, 6.4),\n",
      "new Pelicula(75, \"Brave\", \"comedy\", 2012, 7.2),\n",
      "new Pelicula(76, \"Ghostbusters\", \"comedy\", 1984, 7.8),\n",
      "new Pelicula(77, \"Rush Hour 2\", \"comedy\", 2001, 6.6),\n",
      "new Pelicula(78, \"Big Hero 6\", \"comedy\", 2014, 7.9),\n",
      "new Pelicula(79, \"Alvin and the Chipmunks: The Squeakquel\", \"comedy\", 2009, 4.4),\n",
      "new Pelicula(80, \"Mrs. Doubtfire\", \"comedy\", 1993, 6.9),\n",
      "new Pelicula(81, \"Ted\", \"comedy\", 2012, 7.0),\n",
      "new Pelicula(82, \"Aladdin\", \"comedy\", 1992, 8.0),\n",
      "new Pelicula(83, \"Alvin and the Chipmunks\", \"comedy\", 2007, 5.3),\n",
      "new Pelicula(84, \"Madagascar 3: Europes Most Wanted\", \"comedy\", 2012, 7.0),\n",
      "new Pelicula(85, \"Kung Fu Panda\", \"comedy\", 2008, 7.6),\n",
      "new Pelicula(86, \"The Lorax\", \"comedy\", 2012, 6.5),\n",
      "new Pelicula(87, \"Austin Powers in Goldmember\", \"comedy\", 2002, 6.2),\n",
      "new Pelicula(88, \"Back to the Future\", \"comedy\", 1985, 8.5),\n",
      "new Pelicula(89, \"Wedding Crashers\", \"comedy\", 2005, 7.0),\n",
      "new Pelicula(90, \"Charlie and the Chocolate Factory\", \"comedy\", 2005, 6.7),\n",
      "new Pelicula(91, \"Ratatouille\", \"comedy\", 2007, 8.0),\n",
      "new Pelicula(92, \"Austin Powers: The Spy Who Shagged Me\", \"comedy\", 1999, 6.6),\n",
      "new Pelicula(93, \"Tangled\", \"comedy\", 2010, 7.8),\n",
      "new Pelicula(94, \"Monsters vs. Aliens\", \"comedy\", 2009, 6.6),\n",
      "new Pelicula(95, \"Happy Feet\", \"comedy\", 2006, 6.5),\n",
      "new Pelicula(96, \"Ice Age: Dawn of the Dinosaurs\", \"comedy\", 2009, 7.0),\n",
      "new Pelicula(97, \"Ice Age: The Meltdown\", \"comedy\", 2006, 6.9),\n",
      "new Pelicula(98, \"World War Z\", \"horror\", 2013, 7.0),\n",
      "new Pelicula(99, \"What Lies Beneath\", \"horror\", 2000, 6.6),\n",
      "new Pelicula(100, \"Gremlins\", \"horror\", 1984, 7.2),\n",
      "new Pelicula(101, \"The Blair Witch Project\", \"horror\", 1999, 6.4),\n",
      "new Pelicula(102, \"The Conjuring\", \"horror\", 2013, 7.5),\n",
      "new Pelicula(103, \"The Ring\", \"horror\", 2002, 7.1),\n",
      "new Pelicula(104, \"The Grudge\", \"horror\", 2004, 5.9),\n",
      "new Pelicula(105, \"Paranormal Activity\", \"horror\", 2007, 6.3),\n",
      "new Pelicula(106, \"Interview with the Vampire: The Vampire Chronicles\", \"horror\", 1994, 7.6),\n",
      "new Pelicula(107, \"Paranormal Activity 3\", \"horror\", 2011, 5.9),\n",
      "new Pelicula(108, \"Scream\", \"horror\", 1996, 7.2),\n",
      "new Pelicula(109, \"Jaws 2\", \"horror\", 1978, 5.7),\n",
      "new Pelicula(110, \"Scream 2\", \"horror\", 1997, 6.1),\n",
      "new Pelicula(111, \"Sleepy Hollow\", \"horror\", 1999, 7.4),\n",
      "new Pelicula(112, \"The Others\", \"horror\", 2001, 7.6),\n",
      "new Pelicula(113, \"The Haunting\", \"horror\", 1999, 4.9),\n",
      "new Pelicula(114, \"Scream 3\", \"horror\", 2000, 5.5),\n",
      "new Pelicula(115, \"Saw II\", \"horror\", 2005, 6.6),\n",
      "new Pelicula(116, \"The Amityville Horror\", \"horror\", 1979, 6.2),\n",
      "new Pelicula(117, \"Aliens\", \"horror\", 1986, 8.4),\n",
      "new Pelicula(118, \"Paranormal Activity 2\", \"horror\", 2010, 5.7),\n",
      "new Pelicula(119, \"Annabelle\", \"horror\", 2014, 5.4),\n",
      "new Pelicula(120, \"Scooby-Doo 2: Monsters Unleashed\", \"horror\", 2004, 4.9),\n",
      "new Pelicula(121, \"Insidious: Chapter 2\", \"horror\", 2013, 6.6),\n",
      "new Pelicula(122, \"Dracula\", \"horror\", 1992, 7.5),\n",
      "new Pelicula(123, \"Freddy vs. Jason\", \"horror\", 2003, 5.8),\n",
      "new Pelicula(124, \"Blade II\", \"horror\", 2002, 6.7),\n",
      "new Pelicula(125, \"Saw III\", \"horror\", 2006, 6.2),\n",
      "new Pelicula(126, \"The Texas Chainsaw Massacre\", \"horror\", 2003, 6.2),\n",
      "new Pelicula(127, \"Cloverfield\", \"horror\", 2008, 7.1),\n",
      "new Pelicula(128, \"Dark Shadows\", \"horror\", 2012, 6.2),\n",
      "new Pelicula(129, \"The Ring Two\", \"horror\", 2005, 5.4),\n",
      "new Pelicula(130, \"Zombieland\", \"horror\", 2009, 7.7),\n",
      "new Pelicula(131, \"Constantine\", \"horror\", 2005, 6.9),\n",
      "new Pelicula(132, \"The Exorcism of Emily Rose\", \"horror\", 2005, 6.7),\n",
      "new Pelicula(133, \"I Know What You Did Last Summer\", \"horror\", 1997, 5.6),\n",
      "new Pelicula(134, \"1408\", \"horror\", 2007, 6.8),\n",
      "new Pelicula(135, \"Mama\", \"horror\", 2013, 6.2),\n",
      "new Pelicula(136, \"The Purge: Anarchy\", \"horror\", 2014, 6.5),\n",
      "new Pelicula(137, \"Scary Movie 2\", \"horror\", 2001, 5.2),\n",
      "new Pelicula(138, \"Blade\", \"horror\", 1998, 7.1),\n",
      "new Pelicula(139, \"End of Days\", \"horror\", 1999, 5.7),\n",
      "new Pelicula(140, \"The Forgotten\", \"horror\", 2004, 5.8),\n",
      "new Pelicula(141, \"The Final Destination\", \"horror\", 2009, 5.2),\n",
      "new Pelicula(142, \"Warm Bodies\", \"horror\", 2013, 6.9),\n",
      "new Pelicula(143, \"Anaconda\", \"horror\", 1997, 4.6),\n",
      "new Pelicula(144, \"Wolf\", \"horror\", 1994, 6.2),\n",
      "new Pelicula(145, \"Friday the 13th\", \"horror\", 2009, 5.6),\n",
      "new Pelicula(146, \"The Purge\", \"horror\", 2013, 5.6),\n",
      "new Pelicula(147, \"Titanic\", \"romance\", 1997, 7.7),\n",
      "new Pelicula(148, \"Forrest Gump\", \"romance\", 1994, 8.8),\n",
      "new Pelicula(149, \"The Twilight Saga: Eclipse\", \"romance\", 2010, 4.9),\n",
      "new Pelicula(150, \"The Twilight Saga: New Moon\", \"romance\", 2009, 4.6),\n",
      "new Pelicula(151, \"The Twilight Saga: Breaking Dawn - Part 2\", \"romance\", 2012, 5.6),\n",
      "new Pelicula(152, \"The Twilight Saga: Breaking Dawn - Part 1\", \"romance\", 2011, 4.9),\n",
      "new Pelicula(153, \"Beauty and the Beast\", \"romance\", 1991, 8.0),\n",
      "new Pelicula(154, \"King Kong\", \"romance\", 2005, 7.3),\n",
      "new Pelicula(155, \"Ghost\", \"romance\", 1990, 7.0),\n",
      "new Pelicula(156, \"Cinderella\", \"romance\", 2015, 7.1),\n",
      "new Pelicula(157, \"Gone with the Wind\", \"romance\", 1939, 8.2),\n",
      "new Pelicula(158, \"Pearl Harbor\", \"romance\", 2001, 6.0),\n",
      "new Pelicula(159, \"Twilight\", \"romance\", 2008, 5.2),\n",
      "new Pelicula(160, \"Mr. & Mrs. Smith\", \"romance\", 2005, 6.5),\n",
      "new Pelicula(161, \"Snow White and the Seven Dwarfs\", \"romance\", 1937, 7.7),\n",
      "new Pelicula(162, \"What Women Want\", \"romance\", 2000, 6.4),\n",
      "new Pelicula(163, \"Top Gun\", \"romance\", 1986, 6.8),\n",
      "new Pelicula(164, \"Pretty Woman\", \"romance\", 1990, 6.9),\n",
      "new Pelicula(165, \"Hitch\", \"romance\", 2005, 6.7),\n",
      "new Pelicula(166, \"Tootsie\", \"romance\", 1982, 7.4),\n",
      "new Pelicula(167, \"Theres Something About Mary\", \"romance\", 1998, 7.1),\n",
      "new Pelicula(168, \"Elf\", \"romance\", 2003, 6.9),\n",
      "new Pelicula(169, \"Tarzan\", \"romance\", 1999, 7.2),\n",
      "new Pelicula(170, \"Bridesmaids\", \"romance\", 2011, 6.8),\n",
      "new Pelicula(171, \"Fifty Shades of Grey\", \"romance\", 2015, 4.2),\n",
      "new Pelicula(172, \"Robin Hood: Prince of Thieves\", \"romance\", 1991, 6.9),\n",
      "new Pelicula(173, \"The Proposal\", \"romance\", 2009, 6.7),\n",
      "new Pelicula(174, \"The Sound of Music\", \"romance\", 1965, 8.0),\n",
      "new Pelicula(175, \"Jerry Maguire\", \"romance\", 1996, 7.3),\n",
      "new Pelicula(176, \"Sex and the City\", \"romance\", 2008, 5.5),\n",
      "new Pelicula(177, \"Runaway Bride\", \"romance\", 1999, 5.4),\n",
      "new Pelicula(178, \"Les Misrables\", \"romance\", 2012, 7.6),\n",
      "new Pelicula(179, \"Knocked Up\", \"romance\", 2007, 7.1),\n",
      "new Pelicula(180, \"Little Fockers\", \"romance\", 2010, 5.5),\n",
      "new Pelicula(181, \"As Good as It Gets\", \"romance\", 1997, 7.8),\n",
      "new Pelicula(182, \"American Pie 2\", \"romance\", 2001, 6.4),\n",
      "new Pelicula(183, \"The Great Gatsby\", \"romance\", 2013, 7.3),\n",
      "new Pelicula(184, \"Mamma Mia!\", \"romance\", 2008, 6.4),\n",
      "new Pelicula(185, \"Juno\", \"romance\", 2007, 7.5),\n",
      "new Pelicula(186, \"Marley & Me\", \"romance\", 2008, 7.1),\n",
      "new Pelicula(187, \"Pocahontas\", \"romance\", 1995, 6.6),\n",
      "new Pelicula(188, \"Slumdog Millionaire\", \"romance\", 2008, 8.0),\n",
      "new Pelicula(189, \"Look Whos Talking\", \"romance\", 1989, 5.8),\n",
      "new Pelicula(190, \"Click\", \"romance\", 2006, 6.4),\n",
      "new Pelicula(191, \"The Lion King\", \"drama\", 1994, 8.5),\n",
      "new Pelicula(192, \"Harry Potter and the Deathly Hallows: Part 2\", \"drama\", 2011, 8.1),\n",
      "new Pelicula(193, \"The Sixth Sense\", \"drama\", 1999, 8.2),\n",
      "new Pelicula(194, \"Jaws\", \"drama\", 1975, 8.1),\n",
      "new Pelicula(195, \"I Am Legend\", \"drama\", 2007, 7.2),\n",
      "new Pelicula(196, \"The Blind Side\", \"drama\", 2009, 7.7),\n",
      "new Pelicula(197, \"Cast Away\", \"drama\", 2000, 7.7),\n",
      "new Pelicula(198, \"Signs\", \"drama\", 2002, 6.7),\n",
      "new Pelicula(199, \"Saving Private Ryan\", \"drama\", 1998, 8.6),\n",
      "new Pelicula(200, \"Dawn of the Planet of the Apes\", \"drama\", 2014, 7.7),\n",
      "new Pelicula(201, \"Interstellar\", \"drama\", 2014, 8.7),\n",
      "new Pelicula(202, \"Gladiator\", \"drama\", 2000, 8.5),\n",
      "new Pelicula(203, \"Dances with Wolves\", \"drama\", 1990, 8.0),\n",
      "new Pelicula(204, \"The Perfect Storm\", \"drama\", 2000, 6.4),\n",
      "new Pelicula(205, \"Lincoln\", \"drama\", 2012, 7.4),\n",
      "new Pelicula(206, \"Rise of the Planet of the Apes\", \"drama\", 2011, 7.6),\n",
      "new Pelicula(207, \"The Karate Kid\", \"drama\", 2010, 6.2),\n",
      "new Pelicula(208, \"Rain Man\", \"drama\", 1988, 8.0),\n",
      "new Pelicula(209, \"Air Force One\", \"drama\", 1997, 6.4),\n",
      "new Pelicula(210, \"True Grit\", \"drama\", 2010, 7.7),\n",
      "new Pelicula(211, \"A Beautiful Mind\", \"drama\", 2001, 8.2),\n",
      "new Pelicula(212, \"The Help\", \"drama\", 2011, 8.1),\n",
      "new Pelicula(213, \"3 Men and a Baby\", \"drama\", 1987, 5.9),\n",
      "new Pelicula(214, \"Gone Girl\", \"drama\", 2014, 8.2),\n",
      "new Pelicula(215, \"Kung Fu Panda 2\", \"drama\", 2011, 7.3),\n",
      "new Pelicula(216, \"Hannibal\", \"drama\", 2001, 6.7),\n",
      "new Pelicula(217, \"Catch Me If You Can\", \"drama\", 2002, 8.0),\n",
      "new Pelicula(218, \"Big Daddy\", \"drama\", 1999, 6.4),\n",
      "new Pelicula(219, \"Se7en\", \"drama\", 1995, 8.6),\n",
      "new Pelicula(220, \"Seven\", \"drama\", 1979, 6.1),\n"
     ]
    }
   ],
   "source": [
    "for index, row in df_movies.iterrows():\n",
    "    print(f'new Pelicula({row[\"id\"]}, \"{row[\"nombre\"]}\", \"{row[\"genero\"]}\", {row[\"año\"]}, {row[\"calificacion_imdb\"]}),')"
   ],
   "metadata": {
    "collapsed": false,
    "ExecuteTime": {
     "end_time": "2024-02-21T02:54:25.822465Z",
     "start_time": "2024-02-21T02:54:25.778850Z"
    }
   },
   "id": "6319f42d53cfd906",
   "execution_count": 11
  },
  {
   "cell_type": "code",
   "outputs": [],
   "source": [],
   "metadata": {
    "collapsed": false
   },
   "id": "6d9fb8864ee1f9c1"
  }
 ],
 "metadata": {
  "kernelspec": {
   "display_name": "Python 3",
   "language": "python",
   "name": "python3"
  },
  "language_info": {
   "codemirror_mode": {
    "name": "ipython",
    "version": 2
   },
   "file_extension": ".py",
   "mimetype": "text/x-python",
   "name": "python",
   "nbconvert_exporter": "python",
   "pygments_lexer": "ipython2",
   "version": "2.7.6"
  }
 },
 "nbformat": 4,
 "nbformat_minor": 5
}
