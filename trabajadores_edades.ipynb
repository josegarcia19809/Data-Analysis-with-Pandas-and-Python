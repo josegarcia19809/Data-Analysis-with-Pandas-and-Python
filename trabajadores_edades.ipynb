{
 "cells": [
  {
   "cell_type": "markdown",
   "source": [
    "## Renombrando y borrando columnas"
   ],
   "metadata": {
    "collapsed": false
   },
   "id": "c3c820a1fb048a76"
  },
  {
   "cell_type": "code",
   "outputs": [],
   "source": [
    "import pandas as pd"
   ],
   "metadata": {
    "collapsed": false,
    "ExecuteTime": {
     "end_time": "2023-12-24T21:46:59.357485Z",
     "start_time": "2023-12-24T21:46:57.369138Z"
    }
   },
   "id": "3e65ae9729b35a43",
   "execution_count": 1
  },
  {
   "cell_type": "code",
   "outputs": [
    {
     "data": {
      "text/plain": "      name  age\n0     John   23\n1   Andrea   25\n2  Juliana   33\n3   Daniel   34",
      "text/html": "<div>\n<style scoped>\n    .dataframe tbody tr th:only-of-type {\n        vertical-align: middle;\n    }\n\n    .dataframe tbody tr th {\n        vertical-align: top;\n    }\n\n    .dataframe thead th {\n        text-align: right;\n    }\n</style>\n<table border=\"1\" class=\"dataframe\">\n  <thead>\n    <tr style=\"text-align: right;\">\n      <th></th>\n      <th>name</th>\n      <th>age</th>\n    </tr>\n  </thead>\n  <tbody>\n    <tr>\n      <th>0</th>\n      <td>John</td>\n      <td>23</td>\n    </tr>\n    <tr>\n      <th>1</th>\n      <td>Andrea</td>\n      <td>25</td>\n    </tr>\n    <tr>\n      <th>2</th>\n      <td>Juliana</td>\n      <td>33</td>\n    </tr>\n    <tr>\n      <th>3</th>\n      <td>Daniel</td>\n      <td>34</td>\n    </tr>\n  </tbody>\n</table>\n</div>"
     },
     "execution_count": 3,
     "metadata": {},
     "output_type": "execute_result"
    }
   ],
   "source": [
    "df_trabajadores = pd.read_csv(\"datax/trabajadores_edades.csv\")\n",
    "df_trabajadores"
   ],
   "metadata": {
    "collapsed": false,
    "ExecuteTime": {
     "end_time": "2023-12-24T21:47:42.339688Z",
     "start_time": "2023-12-24T21:47:42.298792Z"
    }
   },
   "id": "79436bef7634bceb",
   "execution_count": 3
  },
  {
   "cell_type": "code",
   "outputs": [
    {
     "data": {
      "text/plain": "    Nombre  Edad\n0     John    23\n1   Andrea    25\n2  Juliana    33\n3   Daniel    34",
      "text/html": "<div>\n<style scoped>\n    .dataframe tbody tr th:only-of-type {\n        vertical-align: middle;\n    }\n\n    .dataframe tbody tr th {\n        vertical-align: top;\n    }\n\n    .dataframe thead th {\n        text-align: right;\n    }\n</style>\n<table border=\"1\" class=\"dataframe\">\n  <thead>\n    <tr style=\"text-align: right;\">\n      <th></th>\n      <th>Nombre</th>\n      <th>Edad</th>\n    </tr>\n  </thead>\n  <tbody>\n    <tr>\n      <th>0</th>\n      <td>John</td>\n      <td>23</td>\n    </tr>\n    <tr>\n      <th>1</th>\n      <td>Andrea</td>\n      <td>25</td>\n    </tr>\n    <tr>\n      <th>2</th>\n      <td>Juliana</td>\n      <td>33</td>\n    </tr>\n    <tr>\n      <th>3</th>\n      <td>Daniel</td>\n      <td>34</td>\n    </tr>\n  </tbody>\n</table>\n</div>"
     },
     "execution_count": 4,
     "metadata": {},
     "output_type": "execute_result"
    }
   ],
   "source": [
    "# Renombrar todas las columnas\n",
    "df_trabajadores.columns = [\"Nombre\", \"Edad\"]\n",
    "df_trabajadores"
   ],
   "metadata": {
    "collapsed": false,
    "ExecuteTime": {
     "end_time": "2023-12-24T21:48:02.970833Z",
     "start_time": "2023-12-24T21:48:02.955138Z"
    }
   },
   "id": "56555afc77550b87",
   "execution_count": 4
  },
  {
   "cell_type": "code",
   "outputs": [
    {
     "data": {
      "text/plain": "  Primer nombre  Edad\n0          John    23\n1        Andrea    25\n2       Juliana    33\n3        Daniel    34",
      "text/html": "<div>\n<style scoped>\n    .dataframe tbody tr th:only-of-type {\n        vertical-align: middle;\n    }\n\n    .dataframe tbody tr th {\n        vertical-align: top;\n    }\n\n    .dataframe thead th {\n        text-align: right;\n    }\n</style>\n<table border=\"1\" class=\"dataframe\">\n  <thead>\n    <tr style=\"text-align: right;\">\n      <th></th>\n      <th>Primer nombre</th>\n      <th>Edad</th>\n    </tr>\n  </thead>\n  <tbody>\n    <tr>\n      <th>0</th>\n      <td>John</td>\n      <td>23</td>\n    </tr>\n    <tr>\n      <th>1</th>\n      <td>Andrea</td>\n      <td>25</td>\n    </tr>\n    <tr>\n      <th>2</th>\n      <td>Juliana</td>\n      <td>33</td>\n    </tr>\n    <tr>\n      <th>3</th>\n      <td>Daniel</td>\n      <td>34</td>\n    </tr>\n  </tbody>\n</table>\n</div>"
     },
     "execution_count": 5,
     "metadata": {},
     "output_type": "execute_result"
    }
   ],
   "source": [
    "# Renombrar columnas de forma individual\n",
    "df_trabajadores.rename(columns={\n",
    "    \"Nombre\": \"Primer nombre\"\n",
    "}, inplace=True)\n",
    "df_trabajadores"
   ],
   "metadata": {
    "collapsed": false,
    "ExecuteTime": {
     "end_time": "2023-12-24T21:48:31.306155Z",
     "start_time": "2023-12-24T21:48:31.283425Z"
    }
   },
   "id": "337876bd528d1de",
   "execution_count": 5
  },
  {
   "cell_type": "code",
   "outputs": [
    {
     "data": {
      "text/plain": "  Primer nombre\n0          John\n1        Andrea\n2       Juliana\n3        Daniel",
      "text/html": "<div>\n<style scoped>\n    .dataframe tbody tr th:only-of-type {\n        vertical-align: middle;\n    }\n\n    .dataframe tbody tr th {\n        vertical-align: top;\n    }\n\n    .dataframe thead th {\n        text-align: right;\n    }\n</style>\n<table border=\"1\" class=\"dataframe\">\n  <thead>\n    <tr style=\"text-align: right;\">\n      <th></th>\n      <th>Primer nombre</th>\n    </tr>\n  </thead>\n  <tbody>\n    <tr>\n      <th>0</th>\n      <td>John</td>\n    </tr>\n    <tr>\n      <th>1</th>\n      <td>Andrea</td>\n    </tr>\n    <tr>\n      <th>2</th>\n      <td>Juliana</td>\n    </tr>\n    <tr>\n      <th>3</th>\n      <td>Daniel</td>\n    </tr>\n  </tbody>\n</table>\n</div>"
     },
     "execution_count": 6,
     "metadata": {},
     "output_type": "execute_result"
    }
   ],
   "source": [
    "# Borrar una columna\n",
    "df_trabajadores.drop(\"Edad\", axis=1, inplace=True)\n",
    "df_trabajadores"
   ],
   "metadata": {
    "collapsed": false,
    "ExecuteTime": {
     "end_time": "2023-12-24T21:48:52.580598Z",
     "start_time": "2023-12-24T21:48:52.567036Z"
    }
   },
   "id": "6bdaa5d7602ddaca",
   "execution_count": 6
  },
  {
   "cell_type": "code",
   "outputs": [],
   "source": [
    "# Borrar varias columnas\n",
    "# df_trabajadores.drop([\"Nombre\", \"Edad\"], axis=1, inplace=True)"
   ],
   "metadata": {
    "collapsed": false,
    "ExecuteTime": {
     "end_time": "2023-12-24T21:49:06.388727Z",
     "start_time": "2023-12-24T21:49:06.368484Z"
    }
   },
   "id": "e237288a2abc579e",
   "execution_count": 7
  },
  {
   "cell_type": "code",
   "outputs": [],
   "source": [],
   "metadata": {
    "collapsed": false
   },
   "id": "16f8498e875848c0"
  }
 ],
 "metadata": {
  "kernelspec": {
   "display_name": "Python 3",
   "language": "python",
   "name": "python3"
  },
  "language_info": {
   "codemirror_mode": {
    "name": "ipython",
    "version": 2
   },
   "file_extension": ".py",
   "mimetype": "text/x-python",
   "name": "python",
   "nbconvert_exporter": "python",
   "pygments_lexer": "ipython2",
   "version": "2.7.6"
  }
 },
 "nbformat": 4,
 "nbformat_minor": 5
}
