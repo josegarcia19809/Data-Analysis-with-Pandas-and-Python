{
 "cells": [
  {
   "cell_type": "markdown",
   "metadata": {
    "id": "tFwm2WhMiR7F"
   },
   "source": [
    "# Archivos `txt`"
   ]
  },
  {
   "cell_type": "markdown",
   "metadata": {
    "id": "YmXrRVwXkltU"
   },
   "source": [
    "## Leyendo el primer `txt`\n",
    "\n",
    "Vamos a crear un archivo `txt` con Text Editor que diga\n",
    "\n",
    "\"¡Qué ilusión! Vamos a cargar por primera vez un archivo `txt` con `Python`\"\n",
    "\n",
    "y lo guardaremos en la carpeta actual de trabajo con el nombre `archivo01_lectura.txt`.\n",
    "\n",
    "A continuación, vamos a cargar el archivo que acabamos de crear en este mismo notebook. Para ello vamos a usar la función `open()` y los métodos `.read()` y `.close()`, para abrir, leer y cerrar, respectivamente, el archivo `txt`."
   ]
  },
  {
   "cell_type": "code",
   "execution_count": 1,
   "metadata": {
    "colab": {
     "base_uri": "https://localhost:8080/"
    },
    "id": "-aIoVSfoiMKP",
    "outputId": "e00a70c2-19bd-42b0-ddbf-fccdef2b1544"
   },
   "outputs": [
    {
     "name": "stdout",
     "output_type": "stream",
     "text": [
      "\"¡Qué ilusión! Vamos a cargar por primera vez un archivo txt con Python\"\n"
     ]
    }
   ],
   "source": [
    "f = open(\"archivo01_lectura.txt\", encoding=\"utf-8\")\n",
    "print(f.read())\n",
    "f.close()"
   ]
  },
  {
   "cell_type": "markdown",
   "metadata": {
    "id": "1srvprWkpm6_"
   },
   "source": [
    "* La función `open()` abre el archivo indicado y nos permite acceder a él. Como parámetro necesita el path del archivo que queremos abrir.\n",
    "* El método `.read()` lo usamos para leer el contenido del output que nos proporciona la función `open()` al cual hemos llamado `f`\n",
    "* Cuando hayamos acabado de trabajar con el archivo `f`, hay que cerrarlo. Este proceso se lleva a cabo con el método `.close()`\n"
   ]
  },
  {
   "cell_type": "markdown",
   "metadata": {
    "id": "_4HZO2klqoQP"
   },
   "source": [
    "Otra forma de abrir el archivo y guardarlo en la variable `f` sería:"
   ]
  },
  {
   "cell_type": "code",
   "execution_count": 2,
   "metadata": {
    "colab": {
     "base_uri": "https://localhost:8080/"
    },
    "id": "e7gNakACqv_Z",
    "outputId": "d71be9c0-d31d-40eb-a6fe-f1b4cf29dda3"
   },
   "outputs": [
    {
     "name": "stdout",
     "output_type": "stream",
     "text": [
      "\"¡Qué ilusión! Vamos a cargar por primera vez un archivo txt con Python\"\n"
     ]
    }
   ],
   "source": [
    "with open(\"archivo01_lectura.txt\", encoding=\"utf-8\") as f:\n",
    "    print(f.read())"
   ]
  },
  {
   "cell_type": "markdown",
   "metadata": {
    "id": "joCOZWxaq8HP"
   },
   "source": [
    "**Observación.** Con esta nueva sintaxis ya no es necesario hacer uso del método `.close()` para cerrar el archivo `f`. El comando `with` garantiza que el objeto `file` precedente, `f`, se cerrará automáticamente después de salir del bloque de código."
   ]
  },
  {
   "cell_type": "markdown",
   "metadata": {
    "id": "zv6M-RO1qL_1"
   },
   "source": [
    "### Leyendo parcialmente un archivo\n",
    "\n",
    "Dado un archivo `txt` abierto con la función `open()`, no es necesario leerlo al completo. Si solamente nos interesase leer una parte, podríamos indicárselo por parámetro al método `.read()`\n",
    "\n",
    "En el siguiente chunk de código vamos a leer solamente los 7 primeros caracteres del archivo `f`"
   ]
  },
  {
   "cell_type": "code",
   "execution_count": 3,
   "metadata": {
    "colab": {
     "base_uri": "https://localhost:8080/"
    },
    "id": "RBLgOCXBo4pj",
    "outputId": "f1cc1981-21e4-477c-f2e8-3d16bc5adbcf"
   },
   "outputs": [
    {
     "name": "stdout",
     "output_type": "stream",
     "text": [
      "\"¡Qué i\n"
     ]
    }
   ],
   "source": [
    "f = open(\"archivo01_lectura.txt\", encoding=\"utf-8\")\n",
    "print(f.read(7))\n",
    "f.close()"
   ]
  },
  {
   "cell_type": "markdown",
   "metadata": {
    "id": "Xnys_msjrrrn"
   },
   "source": [
    "### Leyendo un archivo línea a línea\n",
    "\n",
    "El método `.readline()` hace que el archivo `f` sea leido línea a línea. \n",
    "\n",
    "* Si solamente llamamos una vez al método `.readline()` leeremos únicamente la primera línea del fichero.\n",
    "* Si llamamos dos veces al método, leeremos las dos primeras líneas del fichero.\n",
    "* Y así sucesivamente.\n",
    "\n",
    "En nuestro caso solo tenemos una línea, de modo que nos sirve una llamada al método `.readline()` para leer todo el fichero. Sin embargo, podemos probar con un archivo con más de una línea como el `archivo02_multilineas` que hemos creado para esta clase.\n"
   ]
  },
  {
   "cell_type": "code",
   "execution_count": 4,
   "metadata": {
    "colab": {
     "base_uri": "https://localhost:8080/"
    },
    "id": "R6DQWAIMrJfb",
    "outputId": "d0d19277-2cbb-4330-910a-1fc3be2e28dd"
   },
   "outputs": [
    {
     "name": "stdout",
     "output_type": "stream",
     "text": [
      "\"¡Qué ilusión!\n",
      "\n",
      "Vamos a cargar por primera vez un archivo txt con Python\n",
      "\n",
      "¡Y encima contiene múltiples líneas! =D\"\n"
     ]
    }
   ],
   "source": [
    "with open(\"archivo02_multilineas.txt\", encoding=\"utf-8\") as f:\n",
    "    print(f.readline())\n",
    "    print(f.readline())\n",
    "    print(f.readline())"
   ]
  },
  {
   "cell_type": "markdown",
   "metadata": {
    "id": "Jsc7y-gosGs1"
   },
   "source": [
    "## Escribiendo un archivo `txt`\n",
    "\n",
    "Podemos crear y escribir un archivo `txt` desde este mismo notebook. \n",
    "\n",
    "Para ello, volveremos a usar la función `open()`, pero esta vez con un parámetro adicional: `mode = \"w\"`. Este nuevo parámetro nos permitirá acceder al archivo en modo escritura, mientras que si no indicásemos nada, por defecto accederíamos en modo lectura.\n",
    "\n",
    "Para escribir en el fichero, tendremos que usar el método `.write()` e indicarle el string que queremos plasmar en nuestro `txt`.\n",
    "\n",
    "Además, para crear un nuevo archivo `txt`, a la hora de introducir el path (que será el mismo que el del archivo `archivo01_lectura.txt`), como nombre del archivo indicaremos `archivo03_escribir.txt`."
   ]
  },
  {
   "cell_type": "code",
   "execution_count": 5,
   "metadata": {
    "id": "cJLnAOpur3DJ"
   },
   "outputs": [],
   "source": [
    "f = open(\"archivo03_escribir.txt\", mode=\"w\", encoding=\"utf-8\")\n",
    "f.write(\"Este es el primer archivo txt que escribimos\\ny lo estamos \" +\n",
    "        \"haciendo desde el notebook de Jupyter!\")\n",
    "f.close()"
   ]
  },
  {
   "cell_type": "markdown",
   "metadata": {
    "id": "a6vb53GMziFo"
   },
   "source": [
    "**¡Cuidado!** El archivo que creemos no debe existir. En caso de existir un archivo con el mismo nombre, lo estaríamos rescribiendo."
   ]
  },
  {
   "cell_type": "markdown",
   "metadata": {
    "id": "yOpnI4bXtrkX"
   },
   "source": [
    "Comprobamos que se ha guardado el nuevo archivo `txt` llamado `archivo03_escribir` en nuestra carpeta.\n",
    "\n",
    "Una vez comprobada la existencia de este archivo `txt`, podemos leerlo desde este notebook tal cuál hemos hecho en el apartado anterior"
   ]
  },
  {
   "cell_type": "code",
   "execution_count": 6,
   "metadata": {
    "colab": {
     "base_uri": "https://localhost:8080/"
    },
    "id": "236zWdeovFin",
    "outputId": "5a42ce52-47ec-4e58-c057-0ccf3644bc6f"
   },
   "outputs": [
    {
     "name": "stdout",
     "output_type": "stream",
     "text": [
      "Este es el primer archivo txt que escribimos\n",
      "y lo estamos haciendo desde el notebook de Jupyter!\n"
     ]
    }
   ],
   "source": [
    "# Con el método .read()\n",
    "with open(\"archivo03_escribir.txt\", encoding=\"utf-8\") as f:\n",
    "    print(f.read())"
   ]
  },
  {
   "cell_type": "code",
   "execution_count": 7,
   "metadata": {
    "colab": {
     "base_uri": "https://localhost:8080/"
    },
    "id": "14t8yagPtqmG",
    "outputId": "260d3556-ef32-4c23-9eb6-e6c08394b671"
   },
   "outputs": [
    {
     "name": "stdout",
     "output_type": "stream",
     "text": [
      "Este es el primer archivo txt que escribimos\n",
      "\n",
      "y lo estamos haciendo desde el notebook de Jupyter!\n"
     ]
    }
   ],
   "source": [
    "# Con el método .readline()\n",
    "with open(\"archivo03_escribir.txt\", encoding=\"utf-8\") as f:\n",
    "    print(f.readline())\n",
    "    print(f.readline())"
   ]
  },
  {
   "cell_type": "markdown",
   "metadata": {
    "id": "xEOA6W7QwKKo"
   },
   "source": [
    "Al haber más de una línea, también podemos leer todas ellas con un bucle:"
   ]
  },
  {
   "cell_type": "code",
   "execution_count": 8,
   "metadata": {
    "colab": {
     "base_uri": "https://localhost:8080/"
    },
    "id": "CHPkqkmqwNej",
    "outputId": "72b53641-b892-49e6-cf6d-a552f5d4cdb0"
   },
   "outputs": [
    {
     "name": "stdout",
     "output_type": "stream",
     "text": [
      "Este es el primer archivo txt que escribimos\n",
      "\n",
      "y lo estamos haciendo desde el notebook de Jupyter!\n"
     ]
    }
   ],
   "source": [
    "with open(\"archivo03_escribir.txt\", encoding=\"utf-8\") as f:\n",
    "    for linea in f:\n",
    "        print(linea)"
   ]
  },
  {
   "cell_type": "markdown",
   "metadata": {
    "id": "Bon87AVIzJiT"
   },
   "source": [
    "### Creando un `txt` vacío\n",
    "\n",
    "Si queremos crear un `txt` vacío, indicamos `mode = \"x\"`.\n",
    "\n",
    "En este caso vamos a crear un `txt` vacío llamado `archivo04_vacio`"
   ]
  },
  {
   "cell_type": "code",
   "execution_count": 10,
   "metadata": {
    "id": "6ABkigENzRZE"
   },
   "outputs": [],
   "source": [
    "f = open(\"archivo04_vacio.txt\", mode=\"x\", encoding=\"utf-8\")\n",
    "f.close()"
   ]
  },
  {
   "cell_type": "markdown",
   "metadata": {
    "id": "m0_Eg1Pfz56c"
   },
   "source": [
    "**¡Cuidado!** El archivo que creemos no debe existir. En caso de existir un archivo con el mismo nombre, nos saltaría error indicando que el archivo en cuestión ya existe."
   ]
  },
  {
   "cell_type": "markdown",
   "metadata": {
    "id": "ctH8rjZ1we5B"
   },
   "source": [
    "## Sobrescribiendo un archivo `txt` existente\n",
    "\n",
    "Al igual que podemos crear y escribir un archivo `txt` desde 0, podemos modificar un archivo `txt` ya existente.\n",
    "\n",
    "En este caso, el parámetro `mode` debe ser igualado a `\"a\"`.\n",
    "\n",
    "Vamos entonces a modificar el archivo `archivo03_escribir` y vamos a añadirle al final la siguiente frase:\n",
    "\n",
    "\"\\nY esta última línea se ha añadido posteriormente.\"\n",
    "\n",
    "**Observación.** Añadimos el comando `\\n` al principio de la frase para que ésta se considere una nueva frase tras un salto de línea."
   ]
  },
  {
   "cell_type": "code",
   "execution_count": 11,
   "metadata": {
    "id": "tHgcugydwpCZ"
   },
   "outputs": [],
   "source": [
    "f = open(\"archivo03_escribir.txt\", mode=\"a\", encoding=\"utf-8\")\n",
    "f.write(\"\\nY esta última línea se ha añadido posteriormente.\")\n",
    "f.close()"
   ]
  },
  {
   "cell_type": "markdown",
   "metadata": {
    "id": "OYpglQ9fxpaJ"
   },
   "source": [
    "**¡Cuidado!** Cada vez que ejecutéis la celda anterior se añadirá el string indicado. Por tanto, no la ejecutéis más de una vez u os encontraréis con la frase en cuestión repetida múltiples veces!"
   ]
  },
  {
   "cell_type": "code",
   "execution_count": 12,
   "metadata": {
    "colab": {
     "base_uri": "https://localhost:8080/"
    },
    "id": "_4rWBWyGxN8h",
    "outputId": "fbf32c24-61c1-4aea-eb5a-de7418fb602f"
   },
   "outputs": [
    {
     "name": "stdout",
     "output_type": "stream",
     "text": [
      "Este es el primer archivo txt que escribimos\n",
      "\n",
      "y lo estamos haciendo desde el notebook de Jupyter!\n",
      "\n",
      "Y esta última línea se ha añadido posteriormente.\n"
     ]
    }
   ],
   "source": [
    "with open(\"archivo03_escribir.txt\", encoding=\"utf-8\") as f:\n",
    "    for line in f:\n",
    "        print(line)"
   ]
  },
  {
   "cell_type": "markdown",
   "metadata": {
    "id": "pu4-EH3Kx-3F"
   },
   "source": [
    "**¡Cuidado!** Si en vez de indicar `mode = \"a\"` indicáis `mode = \"w\"` eliminaréis el contenido del fichero y lo sobrescribiréis por completo por el string que indiquéis al método `.write()`"
   ]
  },
  {
   "cell_type": "code",
   "execution_count": 13,
   "metadata": {
    "id": "5d1LXm_lx95n"
   },
   "outputs": [],
   "source": [
    "f = open(\"archivo03_escribir.txt\", mode=\"w\", encoding=\"utf-8\")\n",
    "f.write(\"Ups! Todo lo anterior ha sido borrado!!!\\n\")\n",
    "f.write(\"Hay que ir con cuidado cuando queremos editar un archivo txt...\\n\")\n",
    "f.write(\"Hay que prestar mucha atención al método con el que accedemos al fichero!\")\n",
    "f.close()"
   ]
  },
  {
   "cell_type": "code",
   "execution_count": 14,
   "metadata": {
    "colab": {
     "base_uri": "https://localhost:8080/"
    },
    "id": "jYky7eYQxQfY",
    "outputId": "a87d514e-b411-4e96-ccfe-fe2570d92d1d"
   },
   "outputs": [
    {
     "name": "stdout",
     "output_type": "stream",
     "text": [
      "Ups! Todo lo anterior ha sido borrado!!!\n",
      "\n",
      "Hay que ir con cuidado cuando queremos editar un archivo txt...\n",
      "\n",
      "Hay que prestar mucha atención al método con el que accedemos al fichero!\n"
     ]
    }
   ],
   "source": [
    "with open(\"archivo03_escribir.txt\", encoding=\"utf-8\") as f:\n",
    "    for linea in f:\n",
    "        print(linea)"
   ]
  },
  {
   "cell_type": "markdown",
   "metadata": {
    "id": "jmkn_hic01rq"
   },
   "source": [
    "## Eliminando archivos\n",
    "\n",
    "En este caso vamos a tener que importar el módulo `os`"
   ]
  },
  {
   "cell_type": "code",
   "execution_count": 15,
   "metadata": {
    "id": "V2UwpkF4yXK1"
   },
   "outputs": [],
   "source": [
    "import os"
   ]
  },
  {
   "cell_type": "markdown",
   "metadata": {
    "id": "ousR2pWV08Yj"
   },
   "source": [
    "Para eliminar un archivo usaremos el método `.remove()` al que por parámetro indicaremos el path de dicho archivo."
   ]
  },
  {
   "cell_type": "code",
   "execution_count": 16,
   "metadata": {
    "id": "lmWHNqcN1E_V"
   },
   "outputs": [],
   "source": [
    "os.remove(\"archivo04_vacio.txt\")"
   ]
  },
  {
   "cell_type": "markdown",
   "metadata": {
    "id": "HAkSYkwz1SLi"
   },
   "source": [
    "Podemos comprobar en la carpeta datasets que efectivamente ha dejado de existir el archivo `archivo04_vacio`.\n",
    "\n",
    "Para evitar errores, antes de proceder a la eliminación de un archivo, podemos comprobar su existencia con el método `.path.exists()`, al que por parámetro le indicamos el path del archivo en cuestión.\n",
    "\n",
    "Para realizar este ejemplo, vamos a volver a crear el `txt` `archivo04_vacio`. Luego comprobaremos su existencia y, de existir, lo eliminaremos. De no existir, lo indicaremos por pantalla."
   ]
  },
  {
   "cell_type": "code",
   "execution_count": 17,
   "metadata": {
    "id": "tDoRyjP_1MKH"
   },
   "outputs": [],
   "source": [
    "path = \"archivo04_vacio.txt\"\n",
    "f = open(path, mode=\"x\")\n",
    "f.close()"
   ]
  },
  {
   "cell_type": "code",
   "execution_count": 18,
   "metadata": {
    "id": "BVxKYJzH1w54"
   },
   "outputs": [],
   "source": [
    "if os.path.exists(path):\n",
    "    os.remove(path)\n",
    "else:\n",
    "    print(\"El archivo que se quiere eliminar no existe\")"
   ]
  },
  {
   "cell_type": "markdown",
   "metadata": {
    "id": "ZPT41iyT1_2s"
   },
   "source": [
    "Si volvemos a ejecutar la celda anterior, puesto que el archivo `archivo04_vacio` se habrá eliminado, obtendremos el mensaje `\"El archivo que se quiere eliminar no existe\"`"
   ]
  },
  {
   "cell_type": "code",
   "execution_count": 19,
   "metadata": {
    "colab": {
     "base_uri": "https://localhost:8080/"
    },
    "id": "YRWn4tCV1-Z6",
    "outputId": "42da8f85-49a3-4739-ce45-31eff6f96030"
   },
   "outputs": [
    {
     "name": "stdout",
     "output_type": "stream",
     "text": [
      "El archivo que se quiere eliminar no existe\n"
     ]
    }
   ],
   "source": [
    "if os.path.exists(path):\n",
    "    os.remove(path)\n",
    "else:\n",
    "    print(\"El archivo que se quiere eliminar no existe\")"
   ]
  },
  {
   "cell_type": "markdown",
   "metadata": {
    "id": "J7oPjjyA2QBa"
   },
   "source": [
    "### Eliminando carpetas\n",
    "\n",
    "Si se deseara eliminar toda una carpeta, esto sería posible con el método `.rmdir()`.\n",
    "\n",
    "Para ver su funcionamiento, vamos a crear una carpeta dentro de la carpeta actual. A esta nueva carpeta la llamaremos `carpeta_temporal` y estará vacía.\n",
    "\n",
    "**Observación.** Este método solo nos permite eliminar carpetas vacías."
   ]
  },
  {
   "cell_type": "code",
   "execution_count": 20,
   "metadata": {
    "id": "FaCEggUn2P3S"
   },
   "outputs": [],
   "source": [
    "path = \"carpeta_temporal\"\n",
    "os.rmdir(path)"
   ]
  },
  {
   "cell_type": "markdown",
   "metadata": {},
   "source": [
    "# Creando directorios\n",
    "Pregunta primero si existe un determinado directorio. Si no existe, lo crea"
   ]
  },
  {
   "cell_type": "code",
   "execution_count": 21,
   "metadata": {
    "pycharm": {
     "name": "#%%\n"
    }
   },
   "outputs": [],
   "source": [
    "import os\n",
    "\n",
    "if not os.path.exists('directorio_padre/mi_directorio'):\n",
    "    os.makedirs('directorio_padre/mi_directorio')"
   ]
  },
  {
   "cell_type": "code",
   "execution_count": 3,
   "metadata": {},
   "outputs": [],
   "source": [
    "with open(\"archivo02_multilineas.txt\", encoding=\"utf-8\") as archivo:\n",
    "    contenido = archivo.readlines()\n"
   ]
  },
  {
   "cell_type": "code",
   "execution_count": 4,
   "metadata": {},
   "outputs": [
    {
     "data": {
      "text/plain": [
       "['\"¡Qué ilusión!\\n',\n",
       " 'Vamos a cargar por primera vez un archivo txt con Python\\n',\n",
       " '¡Y encima contiene múltiples líneas! =D\"']"
      ]
     },
     "execution_count": 4,
     "metadata": {},
     "output_type": "execute_result"
    }
   ],
   "source": [
    "contenido"
   ]
  },
  {
   "cell_type": "code",
   "execution_count": 5,
   "metadata": {},
   "outputs": [
    {
     "name": "stdout",
     "output_type": "stream",
     "text": [
      "\"¡Qué ilusión!\n",
      "\n",
      "Vamos a cargar por primera vez un archivo txt con Python\n",
      "\n",
      "¡Y encima contiene múltiples líneas! =D\"\n"
     ]
    }
   ],
   "source": [
    "for linea in contenido:\n",
    "    print(linea)"
   ]
  },
  {
   "cell_type": "code",
   "execution_count": 1,
   "metadata": {},
   "outputs": [],
   "source": [
    "with open(\"archivo02_multilineas.txt\", encoding=\"utf-8\") as f:\n",
    "    linea = f.readline()"
   ]
  },
  {
   "cell_type": "code",
   "execution_count": 2,
   "metadata": {
    "pycharm": {
     "name": "#%%\n"
    }
   },
   "outputs": [
    {
     "data": {
      "text/plain": [
       "'\"¡Qué ilusión!\\n'"
      ]
     },
     "execution_count": 2,
     "metadata": {},
     "output_type": "execute_result"
    }
   ],
   "source": [
    "linea"
   ]
  },
  {
   "cell_type": "code",
   "execution_count": null,
   "metadata": {
    "pycharm": {
     "name": "#%%\n"
    }
   },
   "outputs": [],
   "source": []
  },
  {
   "cell_type": "code",
   "execution_count": 10,
   "metadata": {},
   "outputs": [],
   "source": [
    "def copy(file1, file2):\n",
    "    with open(file1) as file1a:\n",
    "        lineas = file1a.read()\n",
    "    with open(file2, mode=\"w\") as w:\n",
    "        w.write(lineas)\n",
    "    \n",
    "copy('story.txt', 'story_copy.txt')"
   ]
  },
  {
   "cell_type": "code",
   "execution_count": null,
   "metadata": {},
   "outputs": [],
   "source": []
  }
 ],
 "metadata": {
  "colab": {
   "collapsed_sections": [],
   "name": "Tema18.ipynb",
   "provenance": [],
   "toc_visible": true
  },
  "kernelspec": {
   "display_name": "Python 3",
   "language": "python",
   "name": "python3"
  },
  "language_info": {
   "codemirror_mode": {
    "name": "ipython",
    "version": 3
   },
   "file_extension": ".py",
   "mimetype": "text/x-python",
   "name": "python",
   "nbconvert_exporter": "python",
   "pygments_lexer": "ipython3",
   "version": "3.8.5"
  }
 },
 "nbformat": 4,
 "nbformat_minor": 1
}
