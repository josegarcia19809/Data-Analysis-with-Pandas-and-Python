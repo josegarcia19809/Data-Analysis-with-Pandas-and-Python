{
 "cells": [
  {
   "cell_type": "code",
   "execution_count": 1,
   "id": "2f5ec2bf-3496-4836-9323-ed4abaceb8ad",
   "metadata": {},
   "outputs": [],
   "source": [
    "import numpy as np\n",
    "import pandas as pd\n",
    "from statistics import mode"
   ]
  },
  {
   "cell_type": "markdown",
   "id": "39dfff27-7436-4d0a-88b9-4e9236097709",
   "metadata": {},
   "source": [
    "## Recuperando datos\n",
    "https://raw.githubusercontent.com/josegarcia19809/data/main/basketball_team_stats.csv"
   ]
  },
  {
   "cell_type": "code",
   "execution_count": 2,
   "id": "8b4524d7-a886-4d41-b41c-333a81a074fe",
   "metadata": {},
   "outputs": [
    {
     "data": {
      "text/html": [
       "<div>\n",
       "<style scoped>\n",
       "    .dataframe tbody tr th:only-of-type {\n",
       "        vertical-align: middle;\n",
       "    }\n",
       "\n",
       "    .dataframe tbody tr th {\n",
       "        vertical-align: top;\n",
       "    }\n",
       "\n",
       "    .dataframe thead th {\n",
       "        text-align: right;\n",
       "    }\n",
       "</style>\n",
       "<table border=\"1\" class=\"dataframe\">\n",
       "  <thead>\n",
       "    <tr style=\"text-align: right;\">\n",
       "      <th></th>\n",
       "      <th>Jugador</th>\n",
       "      <th>Posición</th>\n",
       "      <th>Canastas anotadas</th>\n",
       "      <th>Asistencias</th>\n",
       "      <th>Rebotes</th>\n",
       "    </tr>\n",
       "  </thead>\n",
       "  <tbody>\n",
       "    <tr>\n",
       "      <th>0</th>\n",
       "      <td>Juan Pérez</td>\n",
       "      <td>Base</td>\n",
       "      <td>6</td>\n",
       "      <td>5</td>\n",
       "      <td>6</td>\n",
       "    </tr>\n",
       "    <tr>\n",
       "      <th>1</th>\n",
       "      <td>Carlos Gómez</td>\n",
       "      <td>Escolta</td>\n",
       "      <td>3</td>\n",
       "      <td>2</td>\n",
       "      <td>3</td>\n",
       "    </tr>\n",
       "    <tr>\n",
       "      <th>2</th>\n",
       "      <td>Luis Martínez</td>\n",
       "      <td>Alero</td>\n",
       "      <td>8</td>\n",
       "      <td>3</td>\n",
       "      <td>8</td>\n",
       "    </tr>\n",
       "    <tr>\n",
       "      <th>3</th>\n",
       "      <td>Pedro Sánchez</td>\n",
       "      <td>Ala-Pívot</td>\n",
       "      <td>6</td>\n",
       "      <td>1</td>\n",
       "      <td>5</td>\n",
       "    </tr>\n",
       "    <tr>\n",
       "      <th>4</th>\n",
       "      <td>Roberto Díaz</td>\n",
       "      <td>Pívot</td>\n",
       "      <td>4</td>\n",
       "      <td>0</td>\n",
       "      <td>3</td>\n",
       "    </tr>\n",
       "  </tbody>\n",
       "</table>\n",
       "</div>"
      ],
      "text/plain": [
       "         Jugador   Posición  Canastas anotadas  Asistencias  Rebotes\n",
       "0     Juan Pérez       Base                  6            5        6\n",
       "1   Carlos Gómez    Escolta                  3            2        3\n",
       "2  Luis Martínez      Alero                  8            3        8\n",
       "3  Pedro Sánchez  Ala-Pívot                  6            1        5\n",
       "4   Roberto Díaz      Pívot                  4            0        3"
      ]
     },
     "execution_count": 2,
     "metadata": {},
     "output_type": "execute_result"
    }
   ],
   "source": [
    "url = \"https://raw.githubusercontent.com/josegarcia19809/data/main/basketball_team_stats.csv\"\n",
    "jugadores = pd.read_csv(url)\n",
    "jugadores"
   ]
  },
  {
   "cell_type": "markdown",
   "id": "c72dd997-7026-4736-afbe-56a59cbb1cad",
   "metadata": {},
   "source": [
    "### Canastas anotadas"
   ]
  },
  {
   "cell_type": "code",
   "execution_count": 3,
   "id": "1d0b5b09-2b90-464e-ab00-a895478c5594",
   "metadata": {},
   "outputs": [
    {
     "data": {
      "text/plain": [
       "0    6\n",
       "1    3\n",
       "2    8\n",
       "3    6\n",
       "4    4\n",
       "Name: Canastas anotadas, dtype: int64"
      ]
     },
     "execution_count": 3,
     "metadata": {},
     "output_type": "execute_result"
    }
   ],
   "source": [
    "canastas_anotadas = jugadores[\"Canastas anotadas\"]\n",
    "canastas_anotadas"
   ]
  },
  {
   "cell_type": "code",
   "execution_count": 4,
   "id": "b796e537-9984-422a-b12b-e54db42a7669",
   "metadata": {},
   "outputs": [],
   "source": [
    "# Media\n",
    "media_canastas_anotadas = np.mean(canastas_anotadas)"
   ]
  },
  {
   "cell_type": "code",
   "execution_count": 5,
   "id": "0e029759-6ddc-4606-bd30-b7c245021e15",
   "metadata": {},
   "outputs": [],
   "source": [
    "# Mediana\n",
    "mediana_canastas_anotadas = np.median(canastas_anotadas)"
   ]
  },
  {
   "cell_type": "code",
   "execution_count": 6,
   "id": "07937ff7-0c98-42cb-a79d-1ad9fed85b58",
   "metadata": {},
   "outputs": [],
   "source": [
    "# Moda\n",
    "moda_canastas_anotadas = mode(canastas_anotadas)"
   ]
  },
  {
   "cell_type": "code",
   "execution_count": 7,
   "id": "165150dc-6ff7-4010-b80a-99bbb34dac8e",
   "metadata": {},
   "outputs": [
    {
     "name": "stdout",
     "output_type": "stream",
     "text": [
      "CANASTAS ANOTADAS\n",
      "Media: 5.4\n",
      "Mediana: 6.0\n",
      "Moda: 6\n"
     ]
    }
   ],
   "source": [
    "print(\"CANASTAS ANOTADAS\")\n",
    "print(f\"Media: {media_canastas_anotadas}\")\n",
    "print(f\"Mediana: {mediana_canastas_anotadas}\")\n",
    "print(f\"Moda: {moda_canastas_anotadas}\")"
   ]
  },
  {
   "cell_type": "code",
   "execution_count": 8,
   "id": "d9032b81-a000-4181-b096-2972332ade8f",
   "metadata": {},
   "outputs": [
    {
     "data": {
      "text/plain": [
       "1    3\n",
       "4    4\n",
       "0    6\n",
       "3    6\n",
       "2    8\n",
       "Name: Canastas anotadas, dtype: int64"
      ]
     },
     "execution_count": 8,
     "metadata": {},
     "output_type": "execute_result"
    }
   ],
   "source": [
    "canastas_anotadas.sort_values()"
   ]
  },
  {
   "cell_type": "markdown",
   "id": "78654d23-1ba7-4ab3-bd15-6deb95181c5d",
   "metadata": {},
   "source": [
    "### Rebotes"
   ]
  },
  {
   "cell_type": "code",
   "execution_count": 9,
   "id": "db2e259d-c542-4076-9437-00650a64b515",
   "metadata": {},
   "outputs": [
    {
     "data": {
      "text/plain": [
       "0    6\n",
       "1    3\n",
       "2    8\n",
       "3    5\n",
       "4    3\n",
       "Name: Rebotes, dtype: int64"
      ]
     },
     "execution_count": 9,
     "metadata": {},
     "output_type": "execute_result"
    }
   ],
   "source": [
    "rebotes = jugadores[\"Rebotes\"]\n",
    "rebotes"
   ]
  },
  {
   "cell_type": "code",
   "execution_count": 10,
   "id": "f940d64f-2f10-4115-bece-1e3776c7a646",
   "metadata": {},
   "outputs": [
    {
     "data": {
      "text/plain": [
       "5.0"
      ]
     },
     "execution_count": 10,
     "metadata": {},
     "output_type": "execute_result"
    }
   ],
   "source": [
    "mediana_rebotes = np.median(rebotes)\n",
    "mediana_rebotes"
   ]
  },
  {
   "cell_type": "code",
   "execution_count": 11,
   "id": "7962d62c-1fcc-42fd-8fe1-1fc5920a736e",
   "metadata": {},
   "outputs": [
    {
     "data": {
      "text/plain": [
       "3"
      ]
     },
     "execution_count": 11,
     "metadata": {},
     "output_type": "execute_result"
    }
   ],
   "source": [
    "moda_rebotes = mode(rebotes)\n",
    "moda_rebotes"
   ]
  }
 ],
 "metadata": {
  "kernelspec": {
   "display_name": "Python 3 (ipykernel)",
   "language": "python",
   "name": "python3"
  },
  "language_info": {
   "codemirror_mode": {
    "name": "ipython",
    "version": 3
   },
   "file_extension": ".py",
   "mimetype": "text/x-python",
   "name": "python",
   "nbconvert_exporter": "python",
   "pygments_lexer": "ipython3",
   "version": "3.8.5"
  }
 },
 "nbformat": 4,
 "nbformat_minor": 5
}
