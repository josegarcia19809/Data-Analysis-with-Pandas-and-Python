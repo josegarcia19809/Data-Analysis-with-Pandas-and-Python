{
 "cells": [
  {
   "cell_type": "markdown",
   "source": [
    "# Actores edades\n"
   ],
   "metadata": {
    "collapsed": false
   },
   "id": "3f6432cb43119fd8"
  },
  {
   "cell_type": "code",
   "execution_count": 1,
   "outputs": [],
   "source": [
    "import pandas as pd"
   ],
   "metadata": {
    "collapsed": false,
    "ExecuteTime": {
     "end_time": "2023-10-25T18:05:58.125088Z",
     "start_time": "2023-10-25T18:05:51.411433Z"
    }
   },
   "id": "7fb7de39a41fa1a2"
  },
  {
   "cell_type": "markdown",
   "source": [
    "##### 1. Crea una lista de longitud 4 que contenga algunos de tus actores favoritos. (Debe ser una lista de cadenas). Asígnale a esta lista el nombre de nombres_actores."
   ],
   "metadata": {
    "collapsed": false
   },
   "id": "9d1c6bf3f8aeb8f1"
  },
  {
   "cell_type": "code",
   "execution_count": 2,
   "outputs": [],
   "source": [
    "nombres_actores = [\"Leonardo Di Caprio\", \"Tom Cruise\", \"Ben Affleck\", \"Brad Pitt\"]"
   ],
   "metadata": {
    "collapsed": false,
    "ExecuteTime": {
     "end_time": "2023-10-25T18:05:58.169397Z",
     "start_time": "2023-10-25T18:05:58.157518Z"
    }
   },
   "id": "b850abe8c07ea9b8"
  },
  {
   "cell_type": "markdown",
   "source": [
    "##### 2. A continuación, crea otra lista de la misma longitud que contenga tus conjeturas sobre la edad de cada actor, siéntete libre de usar números enteros o flotantes. Llama a esta lista edades_actores."
   ],
   "metadata": {
    "collapsed": false
   },
   "id": "3c30f0acf033538"
  },
  {
   "cell_type": "code",
   "execution_count": 3,
   "outputs": [],
   "source": [
    "edades_actores = [34, 50, 43, 54]"
   ],
   "metadata": {
    "collapsed": false,
    "ExecuteTime": {
     "end_time": "2023-10-25T18:05:58.306162Z",
     "start_time": "2023-10-25T18:05:58.167861Z"
    }
   },
   "id": "6ab6b0e38eac6266"
  },
  {
   "cell_type": "markdown",
   "source": [
    "##### 3. Crea una serie que almacene las edades de los actores y etiqueta las edades usando los nombres de los actores. Para aclarar, usa los nombres de los actores como índices y las edades como valores. Dale a esta serie el nombre de actores (hay un atributo para guardar el nombre como en el ejemplo de estudiantes_index_data.py). Guarda la serie en una variable que se llame serie_actores."
   ],
   "metadata": {
    "collapsed": false
   },
   "id": "12dc225f92007867"
  },
  {
   "cell_type": "code",
   "execution_count": 4,
   "outputs": [
    {
     "data": {
      "text/plain": "Leonardo Di Caprio    34\nTom Cruise            50\nBen Affleck           43\nBrad Pitt             54\ndtype: int64"
     },
     "execution_count": 4,
     "metadata": {},
     "output_type": "execute_result"
    }
   ],
   "source": [
    "serie_actores = pd.Series(data=edades_actores, index=nombres_actores)\n",
    "serie_actores"
   ],
   "metadata": {
    "collapsed": false,
    "ExecuteTime": {
     "end_time": "2023-10-25T18:07:06.010408Z",
     "start_time": "2023-10-25T18:07:05.993851Z"
    }
   },
   "id": "45752f54d89737a6"
  },
  {
   "cell_type": "code",
   "execution_count": 5,
   "outputs": [],
   "source": [
    "serie_actores_diccionario = pd.Series({\n",
    "    \"Leonardo Di Caprio\": 34,\n",
    "    \"Tom Cruise\": 50,\n",
    "    \"Ben Affleck\": 43,\n",
    "    \"Brad Pitt\": 54\n",
    "})"
   ],
   "metadata": {
    "collapsed": false,
    "ExecuteTime": {
     "end_time": "2023-10-25T18:12:46.625454Z",
     "start_time": "2023-10-25T18:12:46.585242Z"
    }
   },
   "id": "45452ab980da9438"
  },
  {
   "cell_type": "code",
   "execution_count": 6,
   "outputs": [
    {
     "data": {
      "text/plain": "Leonardo Di Caprio    34\nTom Cruise            50\nBen Affleck           43\nBrad Pitt             54\ndtype: int64"
     },
     "execution_count": 6,
     "metadata": {},
     "output_type": "execute_result"
    }
   ],
   "source": [
    "serie_actores_diccionario"
   ],
   "metadata": {
    "collapsed": false,
    "ExecuteTime": {
     "end_time": "2023-10-25T18:12:51.781067Z",
     "start_time": "2023-10-25T18:12:51.718196Z"
    }
   },
   "id": "3e9f1dff0e40eba2"
  },
  {
   "cell_type": "markdown",
   "source": [
    "##### 4. Repite el paso 3, pero esta vez crea la serie a partir de un diccionario. Como desafío adicional, intenta no escribir el diccionario manualmente, sino crearlo dinámicamente utilizando las dos listas definidas en los pasos 1 y 2."
   ],
   "metadata": {
    "collapsed": false
   },
   "id": "27692c25cd4d497a"
  },
  {
   "cell_type": "code",
   "execution_count": 7,
   "outputs": [
    {
     "data": {
      "text/plain": "{'Leonardo Di Caprio': 34,\n 'Tom Cruise': 50,\n 'Ben Affleck': 43,\n 'Brad Pitt': 54}"
     },
     "execution_count": 7,
     "metadata": {},
     "output_type": "execute_result"
    }
   ],
   "source": [
    "diccionario_actores = dict(zip(nombres_actores, edades_actores))\n",
    "diccionario_actores"
   ],
   "metadata": {
    "collapsed": false,
    "ExecuteTime": {
     "end_time": "2023-10-25T18:15:41.938265Z",
     "start_time": "2023-10-25T18:15:41.892758Z"
    }
   },
   "id": "94a9d30c05d8b5a1"
  },
  {
   "cell_type": "code",
   "execution_count": 8,
   "outputs": [],
   "source": [
    "serie_actores_diccionario2 = pd.Series(diccionario_actores)"
   ],
   "metadata": {
    "collapsed": false,
    "ExecuteTime": {
     "end_time": "2023-10-25T18:16:07.635256Z",
     "start_time": "2023-10-25T18:16:07.550298Z"
    }
   },
   "id": "dcd2d3c030d25e58"
  },
  {
   "cell_type": "code",
   "execution_count": 9,
   "outputs": [
    {
     "data": {
      "text/plain": "Leonardo Di Caprio    34\nTom Cruise            50\nBen Affleck           43\nBrad Pitt             54\ndtype: int64"
     },
     "execution_count": 9,
     "metadata": {},
     "output_type": "execute_result"
    }
   ],
   "source": [
    "serie_actores_diccionario2"
   ],
   "metadata": {
    "collapsed": false,
    "ExecuteTime": {
     "end_time": "2023-10-25T18:16:12.377435Z",
     "start_time": "2023-10-25T18:16:12.293188Z"
    }
   },
   "id": "b5c751919c3f0bff"
  },
  {
   "cell_type": "code",
   "execution_count": null,
   "outputs": [],
   "source": [],
   "metadata": {
    "collapsed": false
   },
   "id": "a414e56719cac497"
  }
 ],
 "metadata": {
  "kernelspec": {
   "display_name": "Python 3",
   "language": "python",
   "name": "python3"
  },
  "language_info": {
   "codemirror_mode": {
    "name": "ipython",
    "version": 2
   },
   "file_extension": ".py",
   "mimetype": "text/x-python",
   "name": "python",
   "nbconvert_exporter": "python",
   "pygments_lexer": "ipython2",
   "version": "2.7.6"
  }
 },
 "nbformat": 4,
 "nbformat_minor": 5
}
