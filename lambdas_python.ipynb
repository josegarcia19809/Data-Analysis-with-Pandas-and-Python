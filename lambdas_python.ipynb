{
 "cells": [
  {
   "cell_type": "markdown",
   "source": [
    "# Uso de funciones Lambda"
   ],
   "metadata": {
    "collapsed": false
   },
   "id": "9a2f48ab93d4ea2e"
  },
  {
   "cell_type": "code",
   "outputs": [],
   "source": [
    "sumar_dos = lambda entrada: entrada + 2"
   ],
   "metadata": {
    "collapsed": true,
    "ExecuteTime": {
     "end_time": "2024-01-23T13:09:54.401731Z",
     "start_time": "2024-01-23T13:09:54.361072Z"
    }
   },
   "id": "initial_id",
   "execution_count": 1
  },
  {
   "cell_type": "code",
   "outputs": [
    {
     "name": "stdout",
     "output_type": "stream",
     "text": [
      "5\n"
     ]
    }
   ],
   "source": [
    "print(sumar_dos(3))"
   ],
   "metadata": {
    "collapsed": false,
    "ExecuteTime": {
     "end_time": "2024-01-23T13:10:05.973855Z",
     "start_time": "2024-01-23T13:10:05.962982Z"
    }
   },
   "id": "4d82ab42fd48248b",
   "execution_count": 2
  },
  {
   "cell_type": "code",
   "outputs": [
    {
     "name": "stdout",
     "output_type": "stream",
     "text": [
      "102\n"
     ]
    }
   ],
   "source": [
    "print(sumar_dos(100))"
   ],
   "metadata": {
    "collapsed": false,
    "ExecuteTime": {
     "end_time": "2024-01-23T13:10:44.130979Z",
     "start_time": "2024-01-23T13:10:44.113388Z"
    }
   },
   "id": "d87f302f652990ab",
   "execution_count": 3
  },
  {
   "cell_type": "code",
   "outputs": [],
   "source": [
    "convertir_a_minuscula = lambda cadena: cadena.lower()"
   ],
   "metadata": {
    "collapsed": false,
    "ExecuteTime": {
     "end_time": "2024-01-23T13:13:11.560618Z",
     "start_time": "2024-01-23T13:13:11.548195Z"
    }
   },
   "id": "56a2f9b78e037723",
   "execution_count": 4
  },
  {
   "cell_type": "code",
   "outputs": [
    {
     "name": "stdout",
     "output_type": "stream",
     "text": [
      "hello world\n"
     ]
    }
   ],
   "source": [
    "print(convertir_a_minuscula(\"Hello World\"))"
   ],
   "metadata": {
    "collapsed": false,
    "ExecuteTime": {
     "end_time": "2024-01-23T13:13:22.194072Z",
     "start_time": "2024-01-23T13:13:22.181696Z"
    }
   },
   "id": "f0c3795b20e4687a",
   "execution_count": 5
  },
  {
   "cell_type": "code",
   "outputs": [],
   "source": [
    "pagar_extra = lambda horas: 40 + (horas - 40) * 1.5 if horas > 40 else horas"
   ],
   "metadata": {
    "collapsed": false,
    "ExecuteTime": {
     "end_time": "2024-01-23T13:16:12.254710Z",
     "start_time": "2024-01-23T13:16:12.234346Z"
    }
   },
   "id": "fca394990d3419d7",
   "execution_count": 6
  },
  {
   "cell_type": "code",
   "outputs": [
    {
     "name": "stdout",
     "output_type": "stream",
     "text": [
      "44.5\n"
     ]
    }
   ],
   "source": [
    "print(pagar_extra(43))"
   ],
   "metadata": {
    "collapsed": false,
    "ExecuteTime": {
     "end_time": "2024-01-23T13:16:25.763474Z",
     "start_time": "2024-01-23T13:16:25.749506Z"
    }
   },
   "id": "f93d271a6ff36022",
   "execution_count": 7
  },
  {
   "cell_type": "code",
   "outputs": [
    {
     "name": "stdout",
     "output_type": "stream",
     "text": [
      "30\n"
     ]
    }
   ],
   "source": [
    "print(pagar_extra(30))"
   ],
   "metadata": {
    "collapsed": false,
    "ExecuteTime": {
     "end_time": "2024-01-23T13:16:38.861592Z",
     "start_time": "2024-01-23T13:16:38.838715Z"
    }
   },
   "id": "47fcf447ccb8cf4f",
   "execution_count": 8
  },
  {
   "cell_type": "markdown",
   "source": [
    "# Usando lambdas en pandas"
   ],
   "metadata": {
    "collapsed": false
   },
   "id": "f0ddb80ee160a357"
  },
  {
   "cell_type": "code",
   "outputs": [],
   "source": [
    "import pandas as pd"
   ],
   "metadata": {
    "collapsed": false,
    "ExecuteTime": {
     "end_time": "2024-01-23T13:21:05.294164Z",
     "start_time": "2024-01-23T13:21:00.428951Z"
    }
   },
   "id": "14ed5ec6dc381824",
   "execution_count": 9
  },
  {
   "cell_type": "code",
   "outputs": [
    {
     "data": {
      "text/plain": "              Nombre                 email\n0        José García  josegarcia@gmail.com\n1  María Del Rosario         rox@gmail.com\n2         Carolina G    carolina@gmail.com",
      "text/html": "<div>\n<style scoped>\n    .dataframe tbody tr th:only-of-type {\n        vertical-align: middle;\n    }\n\n    .dataframe tbody tr th {\n        vertical-align: top;\n    }\n\n    .dataframe thead th {\n        text-align: right;\n    }\n</style>\n<table border=\"1\" class=\"dataframe\">\n  <thead>\n    <tr style=\"text-align: right;\">\n      <th></th>\n      <th>Nombre</th>\n      <th>email</th>\n    </tr>\n  </thead>\n  <tbody>\n    <tr>\n      <th>0</th>\n      <td>José García</td>\n      <td>josegarcia@gmail.com</td>\n    </tr>\n    <tr>\n      <th>1</th>\n      <td>María Del Rosario</td>\n      <td>rox@gmail.com</td>\n    </tr>\n    <tr>\n      <th>2</th>\n      <td>Carolina G</td>\n      <td>carolina@gmail.com</td>\n    </tr>\n  </tbody>\n</table>\n</div>"
     },
     "execution_count": 10,
     "metadata": {},
     "output_type": "execute_result"
    }
   ],
   "source": [
    "df_empleados = pd.read_csv(\"datax/empleados_correos.csv\")\n",
    "df_empleados"
   ],
   "metadata": {
    "collapsed": false,
    "ExecuteTime": {
     "end_time": "2024-01-23T13:25:19.565039Z",
     "start_time": "2024-01-23T13:25:19.522302Z"
    }
   },
   "id": "1960328015092459",
   "execution_count": 10
  },
  {
   "cell_type": "code",
   "outputs": [
    {
     "data": {
      "text/plain": "              Nombre                 email Proveedor email\n0        José García  josegarcia@gmail.com       gmail.com\n1  María Del Rosario         rox@gmail.com       gmail.com\n2         Carolina G    carolina@gmail.com       gmail.com",
      "text/html": "<div>\n<style scoped>\n    .dataframe tbody tr th:only-of-type {\n        vertical-align: middle;\n    }\n\n    .dataframe tbody tr th {\n        vertical-align: top;\n    }\n\n    .dataframe thead th {\n        text-align: right;\n    }\n</style>\n<table border=\"1\" class=\"dataframe\">\n  <thead>\n    <tr style=\"text-align: right;\">\n      <th></th>\n      <th>Nombre</th>\n      <th>email</th>\n      <th>Proveedor email</th>\n    </tr>\n  </thead>\n  <tbody>\n    <tr>\n      <th>0</th>\n      <td>José García</td>\n      <td>josegarcia@gmail.com</td>\n      <td>gmail.com</td>\n    </tr>\n    <tr>\n      <th>1</th>\n      <td>María Del Rosario</td>\n      <td>rox@gmail.com</td>\n      <td>gmail.com</td>\n    </tr>\n    <tr>\n      <th>2</th>\n      <td>Carolina G</td>\n      <td>carolina@gmail.com</td>\n      <td>gmail.com</td>\n    </tr>\n  </tbody>\n</table>\n</div>"
     },
     "execution_count": 12,
     "metadata": {},
     "output_type": "execute_result"
    }
   ],
   "source": [
    "# Ahora supongamos que queremos crear una columna que contenga el proveedor del email de cada email address\n",
    "df_empleados[\"Proveedor email\"] = df_empleados[\"email\"].apply(\n",
    "    lambda x: x.split(\"@\")[-1]\n",
    ")\n",
    "df_empleados"
   ],
   "metadata": {
    "collapsed": false,
    "ExecuteTime": {
     "end_time": "2024-01-23T13:31:09.027043Z",
     "start_time": "2024-01-23T13:31:09.003265Z"
    }
   },
   "id": "fb965d53f0acf81a",
   "execution_count": 12
  },
  {
   "cell_type": "markdown",
   "source": [],
   "metadata": {
    "collapsed": false
   },
   "id": "cbcfb387bcb9ec69"
  },
  {
   "cell_type": "markdown",
   "source": [
    "Tambien podemos hacer operaciones sobre multiples ﬁlas a la vez\n",
    "\n",
    "● Si usamos apply sin especiﬁcar una columna y añadimos el argumento axis=1 el input a la funcion lambda sera la ﬁla completa no una columna.\n",
    "\n",
    "● Recordemos quer para acceder a los valores de una ﬁla usamos la sintaxis row.colum_name o\n",
    "    row[‘column_name’]"
   ],
   "metadata": {
    "collapsed": false
   },
   "id": "4d95c58eb40e3752"
  },
  {
   "cell_type": "code",
   "outputs": [
    {
     "data": {
      "text/plain": "       Item  Price Is_taxed\n0   Manzana   1.00       No\n1     Leche   4.20       No\n2     Papel   5.00      Yes\n3  Bombilla   3.75      Yes",
      "text/html": "<div>\n<style scoped>\n    .dataframe tbody tr th:only-of-type {\n        vertical-align: middle;\n    }\n\n    .dataframe tbody tr th {\n        vertical-align: top;\n    }\n\n    .dataframe thead th {\n        text-align: right;\n    }\n</style>\n<table border=\"1\" class=\"dataframe\">\n  <thead>\n    <tr style=\"text-align: right;\">\n      <th></th>\n      <th>Item</th>\n      <th>Price</th>\n      <th>Is_taxed</th>\n    </tr>\n  </thead>\n  <tbody>\n    <tr>\n      <th>0</th>\n      <td>Manzana</td>\n      <td>1.00</td>\n      <td>No</td>\n    </tr>\n    <tr>\n      <th>1</th>\n      <td>Leche</td>\n      <td>4.20</td>\n      <td>No</td>\n    </tr>\n    <tr>\n      <th>2</th>\n      <td>Papel</td>\n      <td>5.00</td>\n      <td>Yes</td>\n    </tr>\n    <tr>\n      <th>3</th>\n      <td>Bombilla</td>\n      <td>3.75</td>\n      <td>Yes</td>\n    </tr>\n  </tbody>\n</table>\n</div>"
     },
     "execution_count": 23,
     "metadata": {},
     "output_type": "execute_result"
    }
   ],
   "source": [
    "df_precios = pd.DataFrame([\n",
    "    [\"Manzana\", 1.00, \"No\"],\n",
    "    [\"Leche\", 4.20, \"No\"],\n",
    "    [\"Papel\", 5.00, \"Yes\"],\n",
    "    [\"Bombilla\", 3.75, \"Yes\"]\n",
    "], columns=[\"Item\", \"Price\", \"Is_taxed\"])\n",
    "df_precios"
   ],
   "metadata": {
    "collapsed": false,
    "ExecuteTime": {
     "end_time": "2024-01-23T13:53:25.013895Z",
     "start_time": "2024-01-23T13:53:24.984497Z"
    }
   },
   "id": "8fdb7494e6623d27",
   "execution_count": 23
  },
  {
   "cell_type": "markdown",
   "source": [
    "● Queremos añadir el precio con los impuestos por cada ﬁla, necesitaremos revisar dos columnas: price e is_taxed?\n",
    "\n",
    "● Si is_taxed es Yes, lo multiplicamos por 7.5% (1.075)\n",
    "\n",
    "● Si is_taxed es No, dejamos el precio sin multiplicar"
   ],
   "metadata": {
    "collapsed": false
   },
   "id": "362d72e46b3c7d90"
  },
  {
   "cell_type": "code",
   "outputs": [
    {
     "data": {
      "text/plain": "       Item  Price Is_taxed  Price with Tax\n0   Manzana   1.00       No         1.00000\n1     Leche   4.20       No         4.20000\n2     Papel   5.00      Yes         5.37500\n3  Bombilla   3.75      Yes         4.03125",
      "text/html": "<div>\n<style scoped>\n    .dataframe tbody tr th:only-of-type {\n        vertical-align: middle;\n    }\n\n    .dataframe tbody tr th {\n        vertical-align: top;\n    }\n\n    .dataframe thead th {\n        text-align: right;\n    }\n</style>\n<table border=\"1\" class=\"dataframe\">\n  <thead>\n    <tr style=\"text-align: right;\">\n      <th></th>\n      <th>Item</th>\n      <th>Price</th>\n      <th>Is_taxed</th>\n      <th>Price with Tax</th>\n    </tr>\n  </thead>\n  <tbody>\n    <tr>\n      <th>0</th>\n      <td>Manzana</td>\n      <td>1.00</td>\n      <td>No</td>\n      <td>1.00000</td>\n    </tr>\n    <tr>\n      <th>1</th>\n      <td>Leche</td>\n      <td>4.20</td>\n      <td>No</td>\n      <td>4.20000</td>\n    </tr>\n    <tr>\n      <th>2</th>\n      <td>Papel</td>\n      <td>5.00</td>\n      <td>Yes</td>\n      <td>5.37500</td>\n    </tr>\n    <tr>\n      <th>3</th>\n      <td>Bombilla</td>\n      <td>3.75</td>\n      <td>Yes</td>\n      <td>4.03125</td>\n    </tr>\n  </tbody>\n</table>\n</div>"
     },
     "execution_count": 31,
     "metadata": {},
     "output_type": "execute_result"
    }
   ],
   "source": [
    "df_precios[\"Price with Tax\"] = df_precios.apply(\n",
    "    lambda row: row[\"Price\"] * 1.075 if row['Is_taxed'] == \"Yes\" else row[\"Price\"], axis=1\n",
    ")\n",
    "df_precios"
   ],
   "metadata": {
    "collapsed": false,
    "ExecuteTime": {
     "end_time": "2024-01-23T14:01:02.164577Z",
     "start_time": "2024-01-23T14:01:02.144725Z"
    }
   },
   "id": "c55e2f4b0f24fc32",
   "execution_count": 31
  },
  {
   "cell_type": "markdown",
   "source": [
    "Usted esta manejando una pagina web de un juego que parece ser violento y usted quiere confirmar que los usuarios tienen 13 años o mas cuando visitan el sitio. Escriba un lambda que tome como input la edad y retorne Welcome to BattleCity! si el usuario tiene 13 años o mas. O retorne You\n",
    "must be over 13 si el usuario es menor de 13. El lambda debe llamarse comprobar_edad\n"
   ],
   "metadata": {
    "collapsed": false
   },
   "id": "92af50293243e718"
  },
  {
   "cell_type": "code",
   "outputs": [],
   "source": [
    "comprobar_edad = lambda edad: print(\"Welcome to BattleCity\") if edad >= 13 else print(\"You must be over 13\")   "
   ],
   "metadata": {
    "collapsed": false,
    "ExecuteTime": {
     "end_time": "2024-01-23T19:41:05.219982Z",
     "start_time": "2024-01-23T19:41:05.146376Z"
    }
   },
   "id": "39539dc5898bbdf7",
   "execution_count": 32
  },
  {
   "cell_type": "code",
   "outputs": [
    {
     "name": "stdout",
     "output_type": "stream",
     "text": [
      "Welcome to BattleCity\n"
     ]
    }
   ],
   "source": [
    "input_edad = 14\n",
    "comprobar_edad(input_edad)"
   ],
   "metadata": {
    "collapsed": false,
    "ExecuteTime": {
     "end_time": "2024-01-23T19:41:19.476931Z",
     "start_time": "2024-01-23T19:41:19.426237Z"
    }
   },
   "id": "435cf69bcca0cb0a",
   "execution_count": 33
  },
  {
   "cell_type": "code",
   "outputs": [
    {
     "name": "stdout",
     "output_type": "stream",
     "text": [
      "You must be over 13\n"
     ]
    }
   ],
   "source": [
    "input_edad = 12\n",
    "comprobar_edad(input_edad)"
   ],
   "metadata": {
    "collapsed": false,
    "ExecuteTime": {
     "end_time": "2024-01-23T19:41:28.427135Z",
     "start_time": "2024-01-23T19:41:28.398493Z"
    }
   },
   "id": "8178f7a3d0442f19",
   "execution_count": 34
  },
  {
   "cell_type": "markdown",
   "source": [
    "Cree una funcion lambda llamada get_last_name que toma un string con el nombre y apeelido de alguien (por ejemplo John Smith) y retorne solo el apellido (por ejemplo Smith )"
   ],
   "metadata": {
    "collapsed": false
   },
   "id": "ddc11a5d814f286a"
  },
  {
   "cell_type": "code",
   "outputs": [],
   "source": [
    "get_last_name= lambda nombre_completo: nombre_completo.split(\" \")[-1]"
   ],
   "metadata": {
    "collapsed": false,
    "ExecuteTime": {
     "end_time": "2024-01-23T19:46:37.386926Z",
     "start_time": "2024-01-23T19:46:37.373800Z"
    }
   },
   "id": "86d49472f8c3ed47",
   "execution_count": 37
  },
  {
   "cell_type": "code",
   "outputs": [
    {
     "name": "stdout",
     "output_type": "stream",
     "text": [
      "Smith\n"
     ]
    }
   ],
   "source": [
    "print(get_last_name(\"John Smith\"))"
   ],
   "metadata": {
    "collapsed": false,
    "ExecuteTime": {
     "end_time": "2024-01-23T19:46:39.291788Z",
     "start_time": "2024-01-23T19:46:39.262059Z"
    }
   },
   "id": "828f5a5ccc6c4d35",
   "execution_count": 38
  },
  {
   "cell_type": "markdown",
   "source": [
    "Ahora tenemos el siguiente dataframe"
   ],
   "metadata": {
    "collapsed": false
   },
   "id": "6b5292e28a27a7dc"
  },
  {
   "cell_type": "code",
   "outputs": [
    {
     "data": {
      "text/plain": "              Nombre                 email\n0        José García  josegarcia@gmail.com\n1  María Del Rosario         rox@yahoo.com\n2         Carolina G  carolina@hotmail.com",
      "text/html": "<div>\n<style scoped>\n    .dataframe tbody tr th:only-of-type {\n        vertical-align: middle;\n    }\n\n    .dataframe tbody tr th {\n        vertical-align: top;\n    }\n\n    .dataframe thead th {\n        text-align: right;\n    }\n</style>\n<table border=\"1\" class=\"dataframe\">\n  <thead>\n    <tr style=\"text-align: right;\">\n      <th></th>\n      <th>Nombre</th>\n      <th>email</th>\n    </tr>\n  </thead>\n  <tbody>\n    <tr>\n      <th>0</th>\n      <td>José García</td>\n      <td>josegarcia@gmail.com</td>\n    </tr>\n    <tr>\n      <th>1</th>\n      <td>María Del Rosario</td>\n      <td>rox@yahoo.com</td>\n    </tr>\n    <tr>\n      <th>2</th>\n      <td>Carolina G</td>\n      <td>carolina@hotmail.com</td>\n    </tr>\n  </tbody>\n</table>\n</div>"
     },
     "execution_count": 39,
     "metadata": {},
     "output_type": "execute_result"
    }
   ],
   "source": [
    "df_empleados = pd.read_csv(\"datax/empleados_correos.csv\")\n",
    "df_empleados"
   ],
   "metadata": {
    "collapsed": false,
    "ExecuteTime": {
     "end_time": "2024-01-23T19:49:19.271482Z",
     "start_time": "2024-01-23T19:49:19.192878Z"
    }
   },
   "id": "e710ee654a6ea80a",
   "execution_count": 39
  },
  {
   "cell_type": "markdown",
   "source": [
    "Usa la funcion lambda que acabas de crear  (get _last_name) para crear una nueva columna llamada last _name con solo el ultimo nombre de las filas del dataframe"
   ],
   "metadata": {
    "collapsed": false
   },
   "id": "344913a805870a34"
  },
  {
   "cell_type": "code",
   "outputs": [
    {
     "data": {
      "text/plain": "              Nombre                 email last_name\n0        José García  josegarcia@gmail.com    García\n1  María Del Rosario         rox@yahoo.com   Rosario\n2         Carolina G  carolina@hotmail.com         G",
      "text/html": "<div>\n<style scoped>\n    .dataframe tbody tr th:only-of-type {\n        vertical-align: middle;\n    }\n\n    .dataframe tbody tr th {\n        vertical-align: top;\n    }\n\n    .dataframe thead th {\n        text-align: right;\n    }\n</style>\n<table border=\"1\" class=\"dataframe\">\n  <thead>\n    <tr style=\"text-align: right;\">\n      <th></th>\n      <th>Nombre</th>\n      <th>email</th>\n      <th>last_name</th>\n    </tr>\n  </thead>\n  <tbody>\n    <tr>\n      <th>0</th>\n      <td>José García</td>\n      <td>josegarcia@gmail.com</td>\n      <td>García</td>\n    </tr>\n    <tr>\n      <th>1</th>\n      <td>María Del Rosario</td>\n      <td>rox@yahoo.com</td>\n      <td>Rosario</td>\n    </tr>\n    <tr>\n      <th>2</th>\n      <td>Carolina G</td>\n      <td>carolina@hotmail.com</td>\n      <td>G</td>\n    </tr>\n  </tbody>\n</table>\n</div>"
     },
     "execution_count": 42,
     "metadata": {},
     "output_type": "execute_result"
    }
   ],
   "source": [
    "df_empleados[\"last_name\"]=df_empleados[\"Nombre\"].apply(get_last_name)\n",
    "df_empleados"
   ],
   "metadata": {
    "collapsed": false,
    "ExecuteTime": {
     "end_time": "2024-01-23T19:52:06.710682Z",
     "start_time": "2024-01-23T19:52:06.688397Z"
    }
   },
   "id": "8634e090ee81477e",
   "execution_count": 42
  },
  {
   "cell_type": "code",
   "outputs": [],
   "source": [],
   "metadata": {
    "collapsed": false
   },
   "id": "1e422bf2eb9b7ea7"
  }
 ],
 "metadata": {
  "kernelspec": {
   "display_name": "Python 3",
   "language": "python",
   "name": "python3"
  },
  "language_info": {
   "codemirror_mode": {
    "name": "ipython",
    "version": 2
   },
   "file_extension": ".py",
   "mimetype": "text/x-python",
   "name": "python",
   "nbconvert_exporter": "python",
   "pygments_lexer": "ipython2",
   "version": "2.7.6"
  }
 },
 "nbformat": 4,
 "nbformat_minor": 5
}
