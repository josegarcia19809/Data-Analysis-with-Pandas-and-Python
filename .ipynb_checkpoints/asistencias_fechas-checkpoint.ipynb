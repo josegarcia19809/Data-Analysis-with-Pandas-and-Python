{
 "cells": [
  {
   "cell_type": "markdown",
   "id": "985bf9f5-3736-48a0-81a8-8b0e77f11435",
   "metadata": {},
   "source": [
    "# Series temporales. Manejo de fechas"
   ]
  },
  {
   "cell_type": "code",
   "execution_count": 1,
   "id": "717ef1ba-daaf-4987-b07d-2949a8c1900c",
   "metadata": {},
   "outputs": [],
   "source": [
    "import pandas as pd\n",
    "import matplotlib.pyplot as plt"
   ]
  },
  {
   "cell_type": "code",
   "execution_count": 2,
   "id": "e52d8864-c2eb-4c36-b561-054bb6123312",
   "metadata": {},
   "outputs": [],
   "source": [
    "asistencias_2 = pd.read_csv(\"datax/asistencias2.csv\")"
   ]
  },
  {
   "cell_type": "code",
   "execution_count": 3,
   "id": "6f24cfb9-66bc-472d-9e62-f397deab880a",
   "metadata": {},
   "outputs": [
    {
     "data": {
      "text/html": [
       "<div>\n",
       "<style scoped>\n",
       "    .dataframe tbody tr th:only-of-type {\n",
       "        vertical-align: middle;\n",
       "    }\n",
       "\n",
       "    .dataframe tbody tr th {\n",
       "        vertical-align: top;\n",
       "    }\n",
       "\n",
       "    .dataframe thead th {\n",
       "        text-align: right;\n",
       "    }\n",
       "</style>\n",
       "<table border=\"1\" class=\"dataframe\">\n",
       "  <thead>\n",
       "    <tr style=\"text-align: right;\">\n",
       "      <th></th>\n",
       "      <th>Clase</th>\n",
       "      <th>Asistencia</th>\n",
       "    </tr>\n",
       "  </thead>\n",
       "  <tbody>\n",
       "    <tr>\n",
       "      <th>0</th>\n",
       "      <td>04/05/2021</td>\n",
       "      <td>21</td>\n",
       "    </tr>\n",
       "    <tr>\n",
       "      <th>1</th>\n",
       "      <td>06/05/2021</td>\n",
       "      <td>18</td>\n",
       "    </tr>\n",
       "    <tr>\n",
       "      <th>2</th>\n",
       "      <td>11/05/2021</td>\n",
       "      <td>23</td>\n",
       "    </tr>\n",
       "    <tr>\n",
       "      <th>3</th>\n",
       "      <td>13/05/2021</td>\n",
       "      <td>20</td>\n",
       "    </tr>\n",
       "    <tr>\n",
       "      <th>4</th>\n",
       "      <td>18/05/2021</td>\n",
       "      <td>21</td>\n",
       "    </tr>\n",
       "    <tr>\n",
       "      <th>5</th>\n",
       "      <td>20/05/2021</td>\n",
       "      <td>15</td>\n",
       "    </tr>\n",
       "    <tr>\n",
       "      <th>6</th>\n",
       "      <td>25/05/2021</td>\n",
       "      <td>24</td>\n",
       "    </tr>\n",
       "    <tr>\n",
       "      <th>7</th>\n",
       "      <td>27/05/2021</td>\n",
       "      <td>19</td>\n",
       "    </tr>\n",
       "    <tr>\n",
       "      <th>8</th>\n",
       "      <td>01/06/2021</td>\n",
       "      <td>23</td>\n",
       "    </tr>\n",
       "  </tbody>\n",
       "</table>\n",
       "</div>"
      ],
      "text/plain": [
       "        Clase  Asistencia\n",
       "0  04/05/2021          21\n",
       "1  06/05/2021          18\n",
       "2  11/05/2021          23\n",
       "3  13/05/2021          20\n",
       "4  18/05/2021          21\n",
       "5  20/05/2021          15\n",
       "6  25/05/2021          24\n",
       "7  27/05/2021          19\n",
       "8  01/06/2021          23"
      ]
     },
     "execution_count": 3,
     "metadata": {},
     "output_type": "execute_result"
    }
   ],
   "source": [
    "asistencias_2"
   ]
  },
  {
   "cell_type": "code",
   "execution_count": 4,
   "id": "7de072c2-24bc-41e1-aeca-61ebb2499841",
   "metadata": {},
   "outputs": [
    {
     "name": "stdout",
     "output_type": "stream",
     "text": [
      "<class 'pandas.core.frame.DataFrame'>\n",
      "RangeIndex: 9 entries, 0 to 8\n",
      "Data columns (total 2 columns):\n",
      " #   Column      Non-Null Count  Dtype \n",
      "---  ------      --------------  ----- \n",
      " 0   Clase       9 non-null      object\n",
      " 1   Asistencia  9 non-null      int64 \n",
      "dtypes: int64(1), object(1)\n",
      "memory usage: 803.0 bytes\n"
     ]
    }
   ],
   "source": [
    "# Ver los tipos de datos\n",
    "asistencias_2.info(memory_usage=\"deep\")"
   ]
  },
  {
   "cell_type": "code",
   "execution_count": 5,
   "id": "6d09d338-ba35-4dd4-98c8-cf750be1383b",
   "metadata": {},
   "outputs": [
    {
     "data": {
      "text/html": [
       "<div>\n",
       "<style scoped>\n",
       "    .dataframe tbody tr th:only-of-type {\n",
       "        vertical-align: middle;\n",
       "    }\n",
       "\n",
       "    .dataframe tbody tr th {\n",
       "        vertical-align: top;\n",
       "    }\n",
       "\n",
       "    .dataframe thead th {\n",
       "        text-align: right;\n",
       "    }\n",
       "</style>\n",
       "<table border=\"1\" class=\"dataframe\">\n",
       "  <thead>\n",
       "    <tr style=\"text-align: right;\">\n",
       "      <th></th>\n",
       "      <th>Fecha</th>\n",
       "      <th>Asistencia</th>\n",
       "    </tr>\n",
       "  </thead>\n",
       "  <tbody>\n",
       "    <tr>\n",
       "      <th>0</th>\n",
       "      <td>04/05/2021</td>\n",
       "      <td>21</td>\n",
       "    </tr>\n",
       "    <tr>\n",
       "      <th>1</th>\n",
       "      <td>06/05/2021</td>\n",
       "      <td>18</td>\n",
       "    </tr>\n",
       "    <tr>\n",
       "      <th>2</th>\n",
       "      <td>11/05/2021</td>\n",
       "      <td>23</td>\n",
       "    </tr>\n",
       "    <tr>\n",
       "      <th>3</th>\n",
       "      <td>13/05/2021</td>\n",
       "      <td>20</td>\n",
       "    </tr>\n",
       "    <tr>\n",
       "      <th>4</th>\n",
       "      <td>18/05/2021</td>\n",
       "      <td>21</td>\n",
       "    </tr>\n",
       "    <tr>\n",
       "      <th>5</th>\n",
       "      <td>20/05/2021</td>\n",
       "      <td>15</td>\n",
       "    </tr>\n",
       "    <tr>\n",
       "      <th>6</th>\n",
       "      <td>25/05/2021</td>\n",
       "      <td>24</td>\n",
       "    </tr>\n",
       "    <tr>\n",
       "      <th>7</th>\n",
       "      <td>27/05/2021</td>\n",
       "      <td>19</td>\n",
       "    </tr>\n",
       "    <tr>\n",
       "      <th>8</th>\n",
       "      <td>01/06/2021</td>\n",
       "      <td>23</td>\n",
       "    </tr>\n",
       "  </tbody>\n",
       "</table>\n",
       "</div>"
      ],
      "text/plain": [
       "        Fecha  Asistencia\n",
       "0  04/05/2021          21\n",
       "1  06/05/2021          18\n",
       "2  11/05/2021          23\n",
       "3  13/05/2021          20\n",
       "4  18/05/2021          21\n",
       "5  20/05/2021          15\n",
       "6  25/05/2021          24\n",
       "7  27/05/2021          19\n",
       "8  01/06/2021          23"
      ]
     },
     "execution_count": 5,
     "metadata": {},
     "output_type": "execute_result"
    }
   ],
   "source": [
    "# Renombrar la columna Clase por Fecha\n",
    "columnas_cambio = {\n",
    "    \"Clase\": \"Fecha\",\n",
    "}\n",
    "asistencias_2 = asistencias_2.rename(columns= columnas_cambio)\n",
    "asistencias_2"
   ]
  },
  {
   "cell_type": "code",
   "execution_count": 7,
   "id": "6852d321-256e-448e-b203-a127d3c5272d",
   "metadata": {},
   "outputs": [
    {
     "data": {
      "text/html": [
       "<div>\n",
       "<style scoped>\n",
       "    .dataframe tbody tr th:only-of-type {\n",
       "        vertical-align: middle;\n",
       "    }\n",
       "\n",
       "    .dataframe tbody tr th {\n",
       "        vertical-align: top;\n",
       "    }\n",
       "\n",
       "    .dataframe thead th {\n",
       "        text-align: right;\n",
       "    }\n",
       "</style>\n",
       "<table border=\"1\" class=\"dataframe\">\n",
       "  <thead>\n",
       "    <tr style=\"text-align: right;\">\n",
       "      <th></th>\n",
       "      <th>Fecha</th>\n",
       "      <th>Asistencia</th>\n",
       "    </tr>\n",
       "  </thead>\n",
       "  <tbody>\n",
       "    <tr>\n",
       "      <th>0</th>\n",
       "      <td>2021-05-04</td>\n",
       "      <td>21</td>\n",
       "    </tr>\n",
       "    <tr>\n",
       "      <th>1</th>\n",
       "      <td>2021-05-06</td>\n",
       "      <td>18</td>\n",
       "    </tr>\n",
       "    <tr>\n",
       "      <th>2</th>\n",
       "      <td>2021-05-11</td>\n",
       "      <td>23</td>\n",
       "    </tr>\n",
       "    <tr>\n",
       "      <th>3</th>\n",
       "      <td>2021-05-13</td>\n",
       "      <td>20</td>\n",
       "    </tr>\n",
       "    <tr>\n",
       "      <th>4</th>\n",
       "      <td>2021-05-18</td>\n",
       "      <td>21</td>\n",
       "    </tr>\n",
       "    <tr>\n",
       "      <th>5</th>\n",
       "      <td>2021-05-20</td>\n",
       "      <td>15</td>\n",
       "    </tr>\n",
       "    <tr>\n",
       "      <th>6</th>\n",
       "      <td>2021-05-25</td>\n",
       "      <td>24</td>\n",
       "    </tr>\n",
       "    <tr>\n",
       "      <th>7</th>\n",
       "      <td>2021-05-27</td>\n",
       "      <td>19</td>\n",
       "    </tr>\n",
       "    <tr>\n",
       "      <th>8</th>\n",
       "      <td>2021-06-01</td>\n",
       "      <td>23</td>\n",
       "    </tr>\n",
       "  </tbody>\n",
       "</table>\n",
       "</div>"
      ],
      "text/plain": [
       "       Fecha  Asistencia\n",
       "0 2021-05-04          21\n",
       "1 2021-05-06          18\n",
       "2 2021-05-11          23\n",
       "3 2021-05-13          20\n",
       "4 2021-05-18          21\n",
       "5 2021-05-20          15\n",
       "6 2021-05-25          24\n",
       "7 2021-05-27          19\n",
       "8 2021-06-01          23"
      ]
     },
     "execution_count": 7,
     "metadata": {},
     "output_type": "execute_result"
    }
   ],
   "source": [
    "# Convertir la columna Fecha al tipo de datos Date\n",
    "asistencias_2[\"Fecha\"] = pd.to_datetime(asistencias_2[\"Fecha\"], dayfirst=True)\n",
    "asistencias_2"
   ]
  },
  {
   "cell_type": "code",
   "execution_count": 8,
   "id": "088a42e4-cb4d-431b-8dff-6e043fe641d9",
   "metadata": {},
   "outputs": [
    {
     "name": "stdout",
     "output_type": "stream",
     "text": [
      "<class 'pandas.core.frame.DataFrame'>\n",
      "RangeIndex: 9 entries, 0 to 8\n",
      "Data columns (total 2 columns):\n",
      " #   Column      Non-Null Count  Dtype         \n",
      "---  ------      --------------  -----         \n",
      " 0   Fecha       9 non-null      datetime64[ns]\n",
      " 1   Asistencia  9 non-null      int64         \n",
      "dtypes: datetime64[ns](1), int64(1)\n",
      "memory usage: 272.0 bytes\n"
     ]
    }
   ],
   "source": [
    "# Ver los tipos de datos\n",
    "asistencias_2.info(memory_usage=\"deep\")"
   ]
  },
  {
   "cell_type": "code",
   "execution_count": 9,
   "id": "521254f1-5496-48e7-b1a2-194bc72e510d",
   "metadata": {},
   "outputs": [
    {
     "data": {
      "text/html": [
       "<div>\n",
       "<style scoped>\n",
       "    .dataframe tbody tr th:only-of-type {\n",
       "        vertical-align: middle;\n",
       "    }\n",
       "\n",
       "    .dataframe tbody tr th {\n",
       "        vertical-align: top;\n",
       "    }\n",
       "\n",
       "    .dataframe thead th {\n",
       "        text-align: right;\n",
       "    }\n",
       "</style>\n",
       "<table border=\"1\" class=\"dataframe\">\n",
       "  <thead>\n",
       "    <tr style=\"text-align: right;\">\n",
       "      <th></th>\n",
       "      <th>Asistencia</th>\n",
       "    </tr>\n",
       "    <tr>\n",
       "      <th>Fecha</th>\n",
       "      <th></th>\n",
       "    </tr>\n",
       "  </thead>\n",
       "  <tbody>\n",
       "    <tr>\n",
       "      <th>2021-05-04</th>\n",
       "      <td>21</td>\n",
       "    </tr>\n",
       "    <tr>\n",
       "      <th>2021-05-06</th>\n",
       "      <td>18</td>\n",
       "    </tr>\n",
       "    <tr>\n",
       "      <th>2021-05-11</th>\n",
       "      <td>23</td>\n",
       "    </tr>\n",
       "    <tr>\n",
       "      <th>2021-05-13</th>\n",
       "      <td>20</td>\n",
       "    </tr>\n",
       "    <tr>\n",
       "      <th>2021-05-18</th>\n",
       "      <td>21</td>\n",
       "    </tr>\n",
       "    <tr>\n",
       "      <th>2021-05-20</th>\n",
       "      <td>15</td>\n",
       "    </tr>\n",
       "    <tr>\n",
       "      <th>2021-05-25</th>\n",
       "      <td>24</td>\n",
       "    </tr>\n",
       "    <tr>\n",
       "      <th>2021-05-27</th>\n",
       "      <td>19</td>\n",
       "    </tr>\n",
       "    <tr>\n",
       "      <th>2021-06-01</th>\n",
       "      <td>23</td>\n",
       "    </tr>\n",
       "  </tbody>\n",
       "</table>\n",
       "</div>"
      ],
      "text/plain": [
       "            Asistencia\n",
       "Fecha                 \n",
       "2021-05-04          21\n",
       "2021-05-06          18\n",
       "2021-05-11          23\n",
       "2021-05-13          20\n",
       "2021-05-18          21\n",
       "2021-05-20          15\n",
       "2021-05-25          24\n",
       "2021-05-27          19\n",
       "2021-06-01          23"
      ]
     },
     "execution_count": 9,
     "metadata": {},
     "output_type": "execute_result"
    }
   ],
   "source": [
    "# Convertir la columna Fecha a índice\n",
    "asistencias_2.set_index(\"Fecha\", inplace = True)\n",
    "asistencias_2"
   ]
  },
  {
   "cell_type": "markdown",
   "id": "2c1e45e8-79a2-4be1-8d3e-27a33e0c60ba",
   "metadata": {},
   "source": [
    "### Selección de registros usando fechas"
   ]
  },
  {
   "cell_type": "code",
   "execution_count": 10,
   "id": "88bf83f3-184f-4bbc-96a7-e46ac055b3f0",
   "metadata": {},
   "outputs": [
    {
     "name": "stdout",
     "output_type": "stream",
     "text": [
      "Asistencia del día 6 de mayo de 2021\n",
      "Asistencia    18\n",
      "Name: 2021-05-06 00:00:00, dtype: int64\n"
     ]
    }
   ],
   "source": [
    "# Seleccionar la asistencia del día 6 de mayo de 2021\n",
    "print(\"Asistencia del día 6 de mayo de 2021\")\n",
    "print(asistencias_2.loc[\"2021-05-06\"])"
   ]
  },
  {
   "cell_type": "code",
   "execution_count": null,
   "id": "27944e10-590e-4049-8227-62453ff946ec",
   "metadata": {},
   "outputs": [],
   "source": [
    "# Seleccionar la asistencia del día 20 de mayo de 2021"
   ]
  },
  {
   "cell_type": "code",
   "execution_count": 13,
   "id": "cb6664d5-5ad3-4981-be1c-0fa8fb1da10f",
   "metadata": {},
   "outputs": [
    {
     "name": "stdout",
     "output_type": "stream",
     "text": [
      "Asistencias del 6 al 20 de mayo de 2021\n",
      "            Asistencia\n",
      "Fecha                 \n",
      "2021-05-06          18\n",
      "2021-05-11          23\n",
      "2021-05-13          20\n",
      "2021-05-18          21\n",
      "2021-05-20          15\n"
     ]
    }
   ],
   "source": [
    "# Mostrar las asistencias del 6 al 20 de mayo de 2021\n",
    "print(\"Asistencias del 6 al 20 de mayo de 2021\")\n",
    "print(asistencias_2.loc[\"2021-05-06\": \"2021-05-20\"])"
   ]
  },
  {
   "cell_type": "code",
   "execution_count": null,
   "id": "7d1e063c-6a1b-41ed-83dd-6f4cc46348e8",
   "metadata": {},
   "outputs": [],
   "source": [
    "# Mostrar todas las asistencias de mayo\n"
   ]
  },
  {
   "cell_type": "code",
   "execution_count": 14,
   "id": "2068ee20-a892-4e82-bb93-918ca8c872f6",
   "metadata": {},
   "outputs": [
    {
     "name": "stdout",
     "output_type": "stream",
     "text": [
      "Asistencias de mayo de 2021\n",
      "            Asistencia\n",
      "Fecha                 \n",
      "2021-05-04          21\n",
      "2021-05-06          18\n",
      "2021-05-11          23\n",
      "2021-05-13          20\n",
      "2021-05-18          21\n",
      "2021-05-20          15\n",
      "2021-05-25          24\n",
      "2021-05-27          19\n"
     ]
    }
   ],
   "source": [
    "# Mostrar todas las asistencias de mayo (Segunda forma)\n",
    "print(\"Asistencias de mayo de 2021\")\n",
    "print(asistencias_2.loc[\"2021-05\"])"
   ]
  },
  {
   "cell_type": "code",
   "execution_count": 15,
   "id": "e1b9ef3a-cd45-48cc-8606-aa75f2651ad5",
   "metadata": {},
   "outputs": [
    {
     "name": "stdout",
     "output_type": "stream",
     "text": [
      "Asistencias de mayo y de junio de 2021\n",
      "            Asistencia\n",
      "Fecha                 \n",
      "2021-05-04          21\n",
      "2021-05-06          18\n",
      "2021-05-11          23\n",
      "2021-05-13          20\n",
      "2021-05-18          21\n",
      "2021-05-20          15\n",
      "2021-05-25          24\n",
      "2021-05-27          19\n",
      "2021-06-01          23\n"
     ]
    }
   ],
   "source": [
    "# Mostrar todas las asistencias de mayo y de junio\n",
    "print(\"Asistencias de mayo y de junio de 2021\")\n",
    "print(asistencias_2.loc[\"2021-05\":\"2021-06\"])"
   ]
  },
  {
   "cell_type": "code",
   "execution_count": 16,
   "id": "34cd7973-334d-453d-b29f-56b5f885f6c3",
   "metadata": {},
   "outputs": [
    {
     "name": "stdout",
     "output_type": "stream",
     "text": [
      "Asistencias de la segunda mitad mayo y de junio de 2021\n",
      "            Asistencia\n",
      "Fecha                 \n",
      "2021-05-18          21\n",
      "2021-05-20          15\n",
      "2021-05-25          24\n",
      "2021-05-27          19\n",
      "2021-06-01          23\n"
     ]
    }
   ],
   "source": [
    "# Mostrar todas las asistencias de la segunda mitad mayo\n",
    "# y de junio\n",
    "print(\"Asistencias de la segunda mitad mayo y de junio de 2021\")\n",
    "print(asistencias_2.loc[\"2021-05-16\":\"2021-06\"])"
   ]
  },
  {
   "cell_type": "code",
   "execution_count": 17,
   "id": "093f0ab5-2405-40fd-9432-fcdd6ef11017",
   "metadata": {},
   "outputs": [
    {
     "name": "stdout",
     "output_type": "stream",
     "text": [
      "Total de asistencias de mayo: Asistencia    161\n",
      "dtype: int64\n"
     ]
    }
   ],
   "source": [
    "# Sumar todas las asistencias de mayo\n",
    "suma_asistencias_mayo = asistencias_2.loc[\"2021-05\"].sum()\n",
    "print(f\"Total de asistencias de mayo: {suma_asistencias_mayo}\")"
   ]
  },
  {
   "cell_type": "markdown",
   "id": "c666b5ad-e37b-485b-869d-9e315f13aaa5",
   "metadata": {},
   "source": [
    "### Crear una gráfica a partir de los datos"
   ]
  },
  {
   "cell_type": "code",
   "execution_count": 19,
   "id": "d8b92faa-0afc-4c2a-9010-99d5a8666980",
   "metadata": {},
   "outputs": [
    {
     "data": {
      "image/png": "[encoded data removed]",
      "text/plain": [
       "<Figure size 1200x400 with 1 Axes>"
      ]
     },
     "metadata": {},
     "output_type": "display_data"
    }
   ],
   "source": [
    "axes = asistencias_2.plot(y = \"Asistencia\", style = \".-\", figsize = (12,4))\n",
    "y_label = axes.set_ylabel(\"Asistencias\")\n",
    "plt.show()"
   ]
  },
  {
   "cell_type": "code",
   "execution_count": null,
   "id": "f7ed1df3-a6fe-4bc6-bb63-adf490ff3df5",
   "metadata": {},
   "outputs": [],
   "source": []
  }
 ],
 "metadata": {
  "kernelspec": {
   "display_name": "Python 3 (ipykernel)",
   "language": "python",
   "name": "python3"
  },
  "language_info": {
   "codemirror_mode": {
    "name": "ipython",
    "version": 3
   },
   "file_extension": ".py",
   "mimetype": "text/x-python",
   "name": "python",
   "nbconvert_exporter": "python",
   "pygments_lexer": "ipython3",
   "version": "3.8.5"
  }
 },
 "nbformat": 4,
 "nbformat_minor": 5
}
