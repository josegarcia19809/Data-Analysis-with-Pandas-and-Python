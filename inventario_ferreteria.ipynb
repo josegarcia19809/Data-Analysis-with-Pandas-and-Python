{
 "cells": [
  {
   "cell_type": "markdown",
   "source": [
    "# Modificando dataframes: el formato de una columna"
   ],
   "metadata": {
    "collapsed": false
   },
   "id": "9ea8d05eb9a12bfa"
  },
  {
   "cell_type": "code",
   "execution_count": 13,
   "outputs": [],
   "source": [
    "import pandas as pd"
   ],
   "metadata": {
    "collapsed": false,
    "ExecuteTime": {
     "end_time": "2023-12-24T00:06:22.885831Z",
     "start_time": "2023-12-24T00:06:22.840269Z"
    }
   },
   "id": "869f2774635dcfb1"
  },
  {
   "cell_type": "code",
   "execution_count": 14,
   "outputs": [
    {
     "data": {
      "text/plain": "   id producto         nombre  costo fabricacion  venta\n0            1     Clavos 1/2                0.5    0.6\n1            2       Martillo              200.0  300.0\n2            3       Serrucho              300.0  400.0\n3            4  Tornillos 1/4                0.6    0.8\n4            5          Pilas               25.0   30.0",
      "text/html": "<div>\n<style scoped>\n    .dataframe tbody tr th:only-of-type {\n        vertical-align: middle;\n    }\n\n    .dataframe tbody tr th {\n        vertical-align: top;\n    }\n\n    .dataframe thead th {\n        text-align: right;\n    }\n</style>\n<table border=\"1\" class=\"dataframe\">\n  <thead>\n    <tr style=\"text-align: right;\">\n      <th></th>\n      <th>id producto</th>\n      <th>nombre</th>\n      <th>costo fabricacion</th>\n      <th>venta</th>\n    </tr>\n  </thead>\n  <tbody>\n    <tr>\n      <th>0</th>\n      <td>1</td>\n      <td>Clavos 1/2</td>\n      <td>0.5</td>\n      <td>0.6</td>\n    </tr>\n    <tr>\n      <th>1</th>\n      <td>2</td>\n      <td>Martillo</td>\n      <td>200.0</td>\n      <td>300.0</td>\n    </tr>\n    <tr>\n      <th>2</th>\n      <td>3</td>\n      <td>Serrucho</td>\n      <td>300.0</td>\n      <td>400.0</td>\n    </tr>\n    <tr>\n      <th>3</th>\n      <td>4</td>\n      <td>Tornillos 1/4</td>\n      <td>0.6</td>\n      <td>0.8</td>\n    </tr>\n    <tr>\n      <th>4</th>\n      <td>5</td>\n      <td>Pilas</td>\n      <td>25.0</td>\n      <td>30.0</td>\n    </tr>\n  </tbody>\n</table>\n</div>"
     },
     "execution_count": 14,
     "metadata": {},
     "output_type": "execute_result"
    }
   ],
   "source": [
    "df_inventario = pd.read_csv(\"datax/inventario_ferreteria.csv\")\n",
    "df_inventario"
   ],
   "metadata": {
    "collapsed": false,
    "ExecuteTime": {
     "end_time": "2023-12-24T00:06:22.994439Z",
     "start_time": "2023-12-24T00:06:22.866945Z"
    }
   },
   "id": "a593e1214edc67d8"
  },
  {
   "cell_type": "code",
   "execution_count": 15,
   "outputs": [
    {
     "data": {
      "text/plain": "   id producto         nombre  costo fabricacion  venta\n0            1     CLAVOS 1/2                0.5    0.6\n1            2       MARTILLO              200.0  300.0\n2            3       SERRUCHO              300.0  400.0\n3            4  TORNILLOS 1/4                0.6    0.8\n4            5          PILAS               25.0   30.0",
      "text/html": "<div>\n<style scoped>\n    .dataframe tbody tr th:only-of-type {\n        vertical-align: middle;\n    }\n\n    .dataframe tbody tr th {\n        vertical-align: top;\n    }\n\n    .dataframe thead th {\n        text-align: right;\n    }\n</style>\n<table border=\"1\" class=\"dataframe\">\n  <thead>\n    <tr style=\"text-align: right;\">\n      <th></th>\n      <th>id producto</th>\n      <th>nombre</th>\n      <th>costo fabricacion</th>\n      <th>venta</th>\n    </tr>\n  </thead>\n  <tbody>\n    <tr>\n      <th>0</th>\n      <td>1</td>\n      <td>CLAVOS 1/2</td>\n      <td>0.5</td>\n      <td>0.6</td>\n    </tr>\n    <tr>\n      <th>1</th>\n      <td>2</td>\n      <td>MARTILLO</td>\n      <td>200.0</td>\n      <td>300.0</td>\n    </tr>\n    <tr>\n      <th>2</th>\n      <td>3</td>\n      <td>SERRUCHO</td>\n      <td>300.0</td>\n      <td>400.0</td>\n    </tr>\n    <tr>\n      <th>3</th>\n      <td>4</td>\n      <td>TORNILLOS 1/4</td>\n      <td>0.6</td>\n      <td>0.8</td>\n    </tr>\n    <tr>\n      <th>4</th>\n      <td>5</td>\n      <td>PILAS</td>\n      <td>25.0</td>\n      <td>30.0</td>\n    </tr>\n  </tbody>\n</table>\n</div>"
     },
     "execution_count": 15,
     "metadata": {},
     "output_type": "execute_result"
    }
   ],
   "source": [
    "# Todo el contenido de la columna nombre se convierte a mayúsculas\n",
    "df_inventario[\"nombre\"] = df_inventario[\"nombre\"].str.upper()\n",
    "df_inventario"
   ],
   "metadata": {
    "collapsed": false,
    "ExecuteTime": {
     "end_time": "2023-12-24T00:06:22.997847Z",
     "start_time": "2023-12-24T00:06:22.950618Z"
    }
   },
   "id": "da54df8b1b0ae0e1"
  },
  {
   "cell_type": "code",
   "execution_count": 16,
   "outputs": [
    {
     "data": {
      "text/plain": "   id producto         nombre  costo fabricacion  venta  Cantidad\n0            1     CLAVOS 1/2                0.5    0.6        12\n1            2       MARTILLO              200.0  300.0        15\n2            3       SERRUCHO              300.0  400.0        20\n3            4  TORNILLOS 1/4                0.6    0.8        30\n4            5          PILAS               25.0   30.0        50",
      "text/html": "<div>\n<style scoped>\n    .dataframe tbody tr th:only-of-type {\n        vertical-align: middle;\n    }\n\n    .dataframe tbody tr th {\n        vertical-align: top;\n    }\n\n    .dataframe thead th {\n        text-align: right;\n    }\n</style>\n<table border=\"1\" class=\"dataframe\">\n  <thead>\n    <tr style=\"text-align: right;\">\n      <th></th>\n      <th>id producto</th>\n      <th>nombre</th>\n      <th>costo fabricacion</th>\n      <th>venta</th>\n      <th>Cantidad</th>\n    </tr>\n  </thead>\n  <tbody>\n    <tr>\n      <th>0</th>\n      <td>1</td>\n      <td>CLAVOS 1/2</td>\n      <td>0.5</td>\n      <td>0.6</td>\n      <td>12</td>\n    </tr>\n    <tr>\n      <th>1</th>\n      <td>2</td>\n      <td>MARTILLO</td>\n      <td>200.0</td>\n      <td>300.0</td>\n      <td>15</td>\n    </tr>\n    <tr>\n      <th>2</th>\n      <td>3</td>\n      <td>SERRUCHO</td>\n      <td>300.0</td>\n      <td>400.0</td>\n      <td>20</td>\n    </tr>\n    <tr>\n      <th>3</th>\n      <td>4</td>\n      <td>TORNILLOS 1/4</td>\n      <td>0.6</td>\n      <td>0.8</td>\n      <td>30</td>\n    </tr>\n    <tr>\n      <th>4</th>\n      <td>5</td>\n      <td>PILAS</td>\n      <td>25.0</td>\n      <td>30.0</td>\n      <td>50</td>\n    </tr>\n  </tbody>\n</table>\n</div>"
     },
     "execution_count": 16,
     "metadata": {},
     "output_type": "execute_result"
    }
   ],
   "source": [
    "# Se añade una columna para indicar la cantidad\n",
    "df_inventario[\"Cantidad\"] = [12, 15, 20, 30, 50]\n",
    "df_inventario"
   ],
   "metadata": {
    "collapsed": false,
    "ExecuteTime": {
     "end_time": "2023-12-24T00:06:23.101248Z",
     "start_time": "2023-12-24T00:06:22.995692Z"
    }
   },
   "id": "2827c521c3e350f0"
  },
  {
   "cell_type": "code",
   "outputs": [
    {
     "data": {
      "text/plain": "   id producto         nombre  Descuento  costo fabricacion  venta  Cantidad\n0            1     CLAVOS 1/2          8                0.5    0.6        12\n1            2       MARTILLO          5              200.0  300.0        15\n2            3       SERRUCHO         10              300.0  400.0        20\n3            4  TORNILLOS 1/4         12                0.6    0.8        30\n4            5          PILAS          5               25.0   30.0        50",
      "text/html": "<div>\n<style scoped>\n    .dataframe tbody tr th:only-of-type {\n        vertical-align: middle;\n    }\n\n    .dataframe tbody tr th {\n        vertical-align: top;\n    }\n\n    .dataframe thead th {\n        text-align: right;\n    }\n</style>\n<table border=\"1\" class=\"dataframe\">\n  <thead>\n    <tr style=\"text-align: right;\">\n      <th></th>\n      <th>id producto</th>\n      <th>nombre</th>\n      <th>Descuento</th>\n      <th>costo fabricacion</th>\n      <th>venta</th>\n      <th>Cantidad</th>\n    </tr>\n  </thead>\n  <tbody>\n    <tr>\n      <th>0</th>\n      <td>1</td>\n      <td>CLAVOS 1/2</td>\n      <td>8</td>\n      <td>0.5</td>\n      <td>0.6</td>\n      <td>12</td>\n    </tr>\n    <tr>\n      <th>1</th>\n      <td>2</td>\n      <td>MARTILLO</td>\n      <td>5</td>\n      <td>200.0</td>\n      <td>300.0</td>\n      <td>15</td>\n    </tr>\n    <tr>\n      <th>2</th>\n      <td>3</td>\n      <td>SERRUCHO</td>\n      <td>10</td>\n      <td>300.0</td>\n      <td>400.0</td>\n      <td>20</td>\n    </tr>\n    <tr>\n      <th>3</th>\n      <td>4</td>\n      <td>TORNILLOS 1/4</td>\n      <td>12</td>\n      <td>0.6</td>\n      <td>0.8</td>\n      <td>30</td>\n    </tr>\n    <tr>\n      <th>4</th>\n      <td>5</td>\n      <td>PILAS</td>\n      <td>5</td>\n      <td>25.0</td>\n      <td>30.0</td>\n      <td>50</td>\n    </tr>\n  </tbody>\n</table>\n</div>"
     },
     "execution_count": 17,
     "metadata": {},
     "output_type": "execute_result"
    }
   ],
   "source": [
    "# Se añade una columna en el indice 2 para indicar el descuento\n",
    "df_inventario.insert(2, \"Descuento\", [8, 5, 10, 12, 5])\n",
    "df_inventario"
   ],
   "metadata": {
    "collapsed": false,
    "ExecuteTime": {
     "end_time": "2023-12-24T00:06:23.288425Z",
     "start_time": "2023-12-24T00:06:23.045655Z"
    }
   },
   "id": "9b6ccac4fa19869c",
   "execution_count": 17
  },
  {
   "cell_type": "code",
   "outputs": [
    {
     "data": {
      "text/plain": "   id producto         nombre  Descuento  costo fabricacion  venta  Cantidad  \\\n0            1     CLAVOS 1/2          8                0.5    0.6        12   \n1            2       MARTILLO          5              200.0  300.0        15   \n2            3       SERRUCHO         10              300.0  400.0        20   \n3            4  TORNILLOS 1/4         12                0.6    0.8        30   \n4            5          PILAS          5               25.0   30.0        50   \n\n   En stock  \n0      True  \n1      True  \n2      True  \n3      True  \n4      True  ",
      "text/html": "<div>\n<style scoped>\n    .dataframe tbody tr th:only-of-type {\n        vertical-align: middle;\n    }\n\n    .dataframe tbody tr th {\n        vertical-align: top;\n    }\n\n    .dataframe thead th {\n        text-align: right;\n    }\n</style>\n<table border=\"1\" class=\"dataframe\">\n  <thead>\n    <tr style=\"text-align: right;\">\n      <th></th>\n      <th>id producto</th>\n      <th>nombre</th>\n      <th>Descuento</th>\n      <th>costo fabricacion</th>\n      <th>venta</th>\n      <th>Cantidad</th>\n      <th>En stock</th>\n    </tr>\n  </thead>\n  <tbody>\n    <tr>\n      <th>0</th>\n      <td>1</td>\n      <td>CLAVOS 1/2</td>\n      <td>8</td>\n      <td>0.5</td>\n      <td>0.6</td>\n      <td>12</td>\n      <td>True</td>\n    </tr>\n    <tr>\n      <th>1</th>\n      <td>2</td>\n      <td>MARTILLO</td>\n      <td>5</td>\n      <td>200.0</td>\n      <td>300.0</td>\n      <td>15</td>\n      <td>True</td>\n    </tr>\n    <tr>\n      <th>2</th>\n      <td>3</td>\n      <td>SERRUCHO</td>\n      <td>10</td>\n      <td>300.0</td>\n      <td>400.0</td>\n      <td>20</td>\n      <td>True</td>\n    </tr>\n    <tr>\n      <th>3</th>\n      <td>4</td>\n      <td>TORNILLOS 1/4</td>\n      <td>12</td>\n      <td>0.6</td>\n      <td>0.8</td>\n      <td>30</td>\n      <td>True</td>\n    </tr>\n    <tr>\n      <th>4</th>\n      <td>5</td>\n      <td>PILAS</td>\n      <td>5</td>\n      <td>25.0</td>\n      <td>30.0</td>\n      <td>50</td>\n      <td>True</td>\n    </tr>\n  </tbody>\n</table>\n</div>"
     },
     "execution_count": 18,
     "metadata": {},
     "output_type": "execute_result"
    }
   ],
   "source": [
    "# Se añade una columna con el mismo valor en todas las filas\n",
    "df_inventario[\"En stock\"] = True\n",
    "df_inventario"
   ],
   "metadata": {
    "collapsed": false,
    "ExecuteTime": {
     "end_time": "2023-12-24T00:06:23.409643Z",
     "start_time": "2023-12-24T00:06:23.124679Z"
    }
   },
   "id": "efa43e1f1f0d1518",
   "execution_count": 18
  },
  {
   "cell_type": "code",
   "outputs": [
    {
     "data": {
      "text/plain": "   id producto         nombre  Descuento  costo fabricacion  venta  Cantidad  \\\n0            1     CLAVOS 1/2          8                0.5    0.6        12   \n1            2       MARTILLO          5              200.0  300.0        15   \n2            3       SERRUCHO         10              300.0  400.0        20   \n3            4  TORNILLOS 1/4         12                0.6    0.8        30   \n4            5          PILAS          5               25.0   30.0        50   \n\n   En stock  Impuesto sobre la venta  \n0      True                     0.06  \n1      True                    30.00  \n2      True                    40.00  \n3      True                     0.08  \n4      True                     3.00  ",
      "text/html": "<div>\n<style scoped>\n    .dataframe tbody tr th:only-of-type {\n        vertical-align: middle;\n    }\n\n    .dataframe tbody tr th {\n        vertical-align: top;\n    }\n\n    .dataframe thead th {\n        text-align: right;\n    }\n</style>\n<table border=\"1\" class=\"dataframe\">\n  <thead>\n    <tr style=\"text-align: right;\">\n      <th></th>\n      <th>id producto</th>\n      <th>nombre</th>\n      <th>Descuento</th>\n      <th>costo fabricacion</th>\n      <th>venta</th>\n      <th>Cantidad</th>\n      <th>En stock</th>\n      <th>Impuesto sobre la venta</th>\n    </tr>\n  </thead>\n  <tbody>\n    <tr>\n      <th>0</th>\n      <td>1</td>\n      <td>CLAVOS 1/2</td>\n      <td>8</td>\n      <td>0.5</td>\n      <td>0.6</td>\n      <td>12</td>\n      <td>True</td>\n      <td>0.06</td>\n    </tr>\n    <tr>\n      <th>1</th>\n      <td>2</td>\n      <td>MARTILLO</td>\n      <td>5</td>\n      <td>200.0</td>\n      <td>300.0</td>\n      <td>15</td>\n      <td>True</td>\n      <td>30.00</td>\n    </tr>\n    <tr>\n      <th>2</th>\n      <td>3</td>\n      <td>SERRUCHO</td>\n      <td>10</td>\n      <td>300.0</td>\n      <td>400.0</td>\n      <td>20</td>\n      <td>True</td>\n      <td>40.00</td>\n    </tr>\n    <tr>\n      <th>3</th>\n      <td>4</td>\n      <td>TORNILLOS 1/4</td>\n      <td>12</td>\n      <td>0.6</td>\n      <td>0.8</td>\n      <td>30</td>\n      <td>True</td>\n      <td>0.08</td>\n    </tr>\n    <tr>\n      <th>4</th>\n      <td>5</td>\n      <td>PILAS</td>\n      <td>5</td>\n      <td>25.0</td>\n      <td>30.0</td>\n      <td>50</td>\n      <td>True</td>\n      <td>3.00</td>\n    </tr>\n  </tbody>\n</table>\n</div>"
     },
     "execution_count": 19,
     "metadata": {},
     "output_type": "execute_result"
    }
   ],
   "source": [
    "# Se añade una columna creada a partir de otra columna multiplicada por un valor\n",
    "df_inventario[\"Impuesto sobre la venta\"] = df_inventario[\"venta\"] * 0.10\n",
    "df_inventario"
   ],
   "metadata": {
    "collapsed": false,
    "ExecuteTime": {
     "end_time": "2023-12-24T00:06:23.990692Z",
     "start_time": "2023-12-24T00:06:23.399214Z"
    }
   },
   "id": "8405792177796fb5",
   "execution_count": 19
  },
  {
   "cell_type": "code",
   "outputs": [
    {
     "data": {
      "text/plain": "   id producto         nombre  Descuento  costo fabricacion  venta  Cantidad  \\\n0            1     CLAVOS 1/2          8                0.5    0.6        12   \n1            2       MARTILLO          5              200.0  300.0        15   \n2            3       SERRUCHO         10              300.0  400.0        20   \n3            4  TORNILLOS 1/4         12                0.6    0.8        30   \n4            5          PILAS          5               25.0   30.0        50   \n\n   En stock  Impuesto sobre la venta       Total  \n0      True                     0.06       1.032  \n1      True                    30.00  135300.000  \n2      True                    40.00  320400.000  \n3      True                     0.08       2.720  \n4      True                     3.00    4530.000  ",
      "text/html": "<div>\n<style scoped>\n    .dataframe tbody tr th:only-of-type {\n        vertical-align: middle;\n    }\n\n    .dataframe tbody tr th {\n        vertical-align: top;\n    }\n\n    .dataframe thead th {\n        text-align: right;\n    }\n</style>\n<table border=\"1\" class=\"dataframe\">\n  <thead>\n    <tr style=\"text-align: right;\">\n      <th></th>\n      <th>id producto</th>\n      <th>nombre</th>\n      <th>Descuento</th>\n      <th>costo fabricacion</th>\n      <th>venta</th>\n      <th>Cantidad</th>\n      <th>En stock</th>\n      <th>Impuesto sobre la venta</th>\n      <th>Total</th>\n    </tr>\n  </thead>\n  <tbody>\n    <tr>\n      <th>0</th>\n      <td>1</td>\n      <td>CLAVOS 1/2</td>\n      <td>8</td>\n      <td>0.5</td>\n      <td>0.6</td>\n      <td>12</td>\n      <td>True</td>\n      <td>0.06</td>\n      <td>1.032</td>\n    </tr>\n    <tr>\n      <th>1</th>\n      <td>2</td>\n      <td>MARTILLO</td>\n      <td>5</td>\n      <td>200.0</td>\n      <td>300.0</td>\n      <td>15</td>\n      <td>True</td>\n      <td>30.00</td>\n      <td>135300.000</td>\n    </tr>\n    <tr>\n      <th>2</th>\n      <td>3</td>\n      <td>SERRUCHO</td>\n      <td>10</td>\n      <td>300.0</td>\n      <td>400.0</td>\n      <td>20</td>\n      <td>True</td>\n      <td>40.00</td>\n      <td>320400.000</td>\n    </tr>\n    <tr>\n      <th>3</th>\n      <td>4</td>\n      <td>TORNILLOS 1/4</td>\n      <td>12</td>\n      <td>0.6</td>\n      <td>0.8</td>\n      <td>30</td>\n      <td>True</td>\n      <td>0.08</td>\n      <td>2.720</td>\n    </tr>\n    <tr>\n      <th>4</th>\n      <td>5</td>\n      <td>PILAS</td>\n      <td>5</td>\n      <td>25.0</td>\n      <td>30.0</td>\n      <td>50</td>\n      <td>True</td>\n      <td>3.00</td>\n      <td>4530.000</td>\n    </tr>\n  </tbody>\n</table>\n</div>"
     },
     "execution_count": 20,
     "metadata": {},
     "output_type": "execute_result"
    }
   ],
   "source": [
    "# Se añade una columna creada a partir de otras columnas\n",
    "df_inventario[\"Total\"] = (df_inventario[\"venta\"] + df_inventario[\"venta\"] * df_inventario[\"Impuesto sobre la venta\"]*\n",
    "                          df_inventario[\"Cantidad\"])\n",
    "df_inventario"
   ],
   "metadata": {
    "collapsed": false,
    "ExecuteTime": {
     "end_time": "2023-12-24T00:06:24.454502Z",
     "start_time": "2023-12-24T00:06:23.907336Z"
    }
   },
   "id": "3a565941c962d666",
   "execution_count": 20
  },
  {
   "cell_type": "code",
   "outputs": [],
   "source": [],
   "metadata": {
    "collapsed": false,
    "ExecuteTime": {
     "end_time": "2023-12-24T00:06:24.688182Z",
     "start_time": "2023-12-24T00:06:24.318673Z"
    }
   },
   "id": "6872e955d549ab71",
   "execution_count": 20
  }
 ],
 "metadata": {
  "kernelspec": {
   "display_name": "Python 3",
   "language": "python",
   "name": "python3"
  },
  "language_info": {
   "codemirror_mode": {
    "name": "ipython",
    "version": 2
   },
   "file_extension": ".py",
   "mimetype": "text/x-python",
   "name": "python",
   "nbconvert_exporter": "python",
   "pygments_lexer": "ipython2",
   "version": "2.7.6"
  }
 },
 "nbformat": 4,
 "nbformat_minor": 5
}
