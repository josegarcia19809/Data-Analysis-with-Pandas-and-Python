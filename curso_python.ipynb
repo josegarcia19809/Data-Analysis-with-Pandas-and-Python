{
 "cells": [
  {
   "cell_type": "code",
   "execution_count": 2,
   "id": "initial_id",
   "metadata": {
    "collapsed": true,
    "ExecuteTime": {
     "end_time": "2024-01-24T22:03:03.744828Z",
     "start_time": "2024-01-24T22:03:03.736556Z"
    }
   },
   "outputs": [
    {
     "name": "stdout",
     "output_type": "stream",
     "text": [
      "7.38 millas son 11.88 kilómetros\n",
      "12.25 kilómetros son 7.61 millas\n"
     ]
    }
   ],
   "source": [
    "kilometers = 12.25\n",
    "miles = 7.38\n",
    "\n",
    "miles_to_kilometers = miles * 1.61\n",
    "kilometers_to_miles = kilometers / 1.61\n",
    "\n",
    "print(miles, \"millas son\", round(miles_to_kilometers, 2), \"kilómetros\")\n",
    "print(kilometers, \"kilómetros son\", round(kilometers_to_miles, 2), \"millas\")"
   ]
  },
  {
   "cell_type": "code",
   "outputs": [
    {
     "name": "stdout",
     "output_type": "stream",
     "text": [
      "y = -9.0\n"
     ]
    }
   ],
   "source": [
    "x = -1\n",
    "x = float(x)\n",
    "# escribe tu código aquí\n",
    "y = 3 * x ** 3 - 2 * x ** 2 + 3 * x - 1\n",
    "print(\"y =\", y)"
   ],
   "metadata": {
    "collapsed": false,
    "ExecuteTime": {
     "end_time": "2024-01-24T22:09:40.629693Z",
     "start_time": "2024-01-24T22:09:40.612859Z"
    }
   },
   "id": "9f4a5596ee777ff3",
   "execution_count": 6
  },
  {
   "cell_type": "code",
   "outputs": [],
   "source": [],
   "metadata": {
    "collapsed": false
   },
   "id": "8a0aaa33073a1c46"
  }
 ],
 "metadata": {
  "kernelspec": {
   "display_name": "Python 3",
   "language": "python",
   "name": "python3"
  },
  "language_info": {
   "codemirror_mode": {
    "name": "ipython",
    "version": 2
   },
   "file_extension": ".py",
   "mimetype": "text/x-python",
   "name": "python",
   "nbconvert_exporter": "python",
   "pygments_lexer": "ipython2",
   "version": "2.7.6"
  }
 },
 "nbformat": 4,
 "nbformat_minor": 5
}
