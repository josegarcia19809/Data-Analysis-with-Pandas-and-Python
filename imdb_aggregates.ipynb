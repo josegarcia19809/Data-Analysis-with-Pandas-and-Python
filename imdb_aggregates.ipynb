{
 "cells": [
  {
   "cell_type": "code",
   "execution_count": 1,
   "id": "initial_id",
   "metadata": {
    "collapsed": true,
    "ExecuteTime": {
     "end_time": "2024-01-25T13:56:52.480372Z",
     "start_time": "2024-01-25T13:56:50.882858Z"
    }
   },
   "outputs": [],
   "source": [
    "import pandas as pd"
   ]
  },
  {
   "cell_type": "code",
   "outputs": [
    {
     "data": {
      "text/plain": "   id                                     nombre  genero   año  \\\n0   1                                     Avatar  action  2009   \n1   2                             Jurassic World  action  2015   \n2   3                               The Avengers  action  2012   \n3   4                            The Dark Knight  action  2008   \n4   5  Star Wars: Episode I - The Phantom Menace  action  1999   \n\n  calificacion_imdb  \n0               7.9  \n1               7.3  \n2               8.1  \n3               9.0  \n4               6.6  ",
      "text/html": "<div>\n<style scoped>\n    .dataframe tbody tr th:only-of-type {\n        vertical-align: middle;\n    }\n\n    .dataframe tbody tr th {\n        vertical-align: top;\n    }\n\n    .dataframe thead th {\n        text-align: right;\n    }\n</style>\n<table border=\"1\" class=\"dataframe\">\n  <thead>\n    <tr style=\"text-align: right;\">\n      <th></th>\n      <th>id</th>\n      <th>nombre</th>\n      <th>genero</th>\n      <th>año</th>\n      <th>calificacion_imdb</th>\n    </tr>\n  </thead>\n  <tbody>\n    <tr>\n      <th>0</th>\n      <td>1</td>\n      <td>Avatar</td>\n      <td>action</td>\n      <td>2009</td>\n      <td>7.9</td>\n    </tr>\n    <tr>\n      <th>1</th>\n      <td>2</td>\n      <td>Jurassic World</td>\n      <td>action</td>\n      <td>2015</td>\n      <td>7.3</td>\n    </tr>\n    <tr>\n      <th>2</th>\n      <td>3</td>\n      <td>The Avengers</td>\n      <td>action</td>\n      <td>2012</td>\n      <td>8.1</td>\n    </tr>\n    <tr>\n      <th>3</th>\n      <td>4</td>\n      <td>The Dark Knight</td>\n      <td>action</td>\n      <td>2008</td>\n      <td>9.0</td>\n    </tr>\n    <tr>\n      <th>4</th>\n      <td>5</td>\n      <td>Star Wars: Episode I - The Phantom Menace</td>\n      <td>action</td>\n      <td>1999</td>\n      <td>6.6</td>\n    </tr>\n  </tbody>\n</table>\n</div>"
     },
     "execution_count": 2,
     "metadata": {},
     "output_type": "execute_result"
    }
   ],
   "source": [
    "df_movies = pd.read_csv(\"datax/imdb.csv\")\n",
    "df_movies.head()"
   ],
   "metadata": {
    "collapsed": false,
    "ExecuteTime": {
     "end_time": "2024-01-25T13:57:23.610305Z",
     "start_time": "2024-01-25T13:57:23.560180Z"
    }
   },
   "id": "ac61caea57d83537",
   "execution_count": 2
  },
  {
   "cell_type": "code",
   "outputs": [
    {
     "data": {
      "text/plain": "2005.5"
     },
     "execution_count": 3,
     "metadata": {},
     "output_type": "execute_result"
    }
   ],
   "source": [
    "df_movies.año.median()"
   ],
   "metadata": {
    "collapsed": false,
    "ExecuteTime": {
     "end_time": "2024-01-25T13:59:44.553296Z",
     "start_time": "2024-01-25T13:59:44.543615Z"
    }
   },
   "id": "4a0b85f11814bf21",
   "execution_count": 3
  },
  {
   "cell_type": "code",
   "outputs": [
    {
     "data": {
      "text/plain": "42"
     },
     "execution_count": 4,
     "metadata": {},
     "output_type": "execute_result"
    }
   ],
   "source": [
    "df_movies.año.nunique() # Número de valores únicos"
   ],
   "metadata": {
    "collapsed": false,
    "ExecuteTime": {
     "end_time": "2024-01-25T14:00:36.041445Z",
     "start_time": "2024-01-25T14:00:36.026655Z"
    }
   },
   "id": "59ec6a62d632f935",
   "execution_count": 4
  },
  {
   "cell_type": "code",
   "outputs": [
    {
     "data": {
      "text/plain": "array([2009, 2015, 2012, 2008, 1999, 1977, 2006, 2013, 2002, 2005, 2004,\n       2011, 2014, 2007, 2010, 1983, 1996, 2003, 1980, 1989, 1984, 1997,\n       2001, 1990, 2000, 1993, 1992, 1985, 1994, 1978, 1979, 1986, 1998,\n       1991, 1939, 1937, 1982, 1965, 1995, 1975, 1988, 1987])"
     },
     "execution_count": 5,
     "metadata": {},
     "output_type": "execute_result"
    }
   ],
   "source": [
    "df_movies.año.unique() # Muestra los valores únicos"
   ],
   "metadata": {
    "collapsed": false,
    "ExecuteTime": {
     "end_time": "2024-01-25T14:01:03.233009Z",
     "start_time": "2024-01-25T14:01:03.225171Z"
    }
   },
   "id": "7d51204a4364318c",
   "execution_count": 5
  },
  {
   "cell_type": "code",
   "outputs": [
    {
     "data": {
      "text/plain": "7.2     11\n7.1     11\n6.7     11\n6.4     10\n8.0     10\n6.2     10\n6.6      9\n7.3      9\n7.7      9\n6.9      8\n8.1      8\n7.8      8\n7.6      7\n7.0      7\n7.4      7\n6.5      6\n7.9      6\n8.2      5\n5.8      4\n5.6      4\n7.5      4\n6.8      4\n4.9      4\n8.5      4\n6.0      4\n6.3      4\n5.2      3\n5.5      3\n8.6      3\n8.8      3\n5.4      3\n5.9      3\n5.7      3\n8.4      3\n8.7      2\n4.6      2\n6.1      2\n8.3      1\n5.3      1\n4.4      1\n9.0      1\n7.3v     1\n4.2      1\nName: calificacion_imdb, dtype: int64"
     },
     "execution_count": 7,
     "metadata": {},
     "output_type": "execute_result"
    }
   ],
   "source": [
    "df_movies.calificacion_imdb.value_counts()"
   ],
   "metadata": {
    "collapsed": false,
    "ExecuteTime": {
     "end_time": "2024-01-25T14:02:59.284673Z",
     "start_time": "2024-01-25T14:02:59.270101Z"
    }
   },
   "id": "e1db863d55441aad",
   "execution_count": 7
  },
  {
   "cell_type": "code",
   "outputs": [],
   "source": [],
   "metadata": {
    "collapsed": false
   },
   "id": "28917d4466c48a24"
  }
 ],
 "metadata": {
  "kernelspec": {
   "display_name": "Python 3",
   "language": "python",
   "name": "python3"
  },
  "language_info": {
   "codemirror_mode": {
    "name": "ipython",
    "version": 2
   },
   "file_extension": ".py",
   "mimetype": "text/x-python",
   "name": "python",
   "nbconvert_exporter": "python",
   "pygments_lexer": "ipython2",
   "version": "2.7.6"
  }
 },
 "nbformat": 4,
 "nbformat_minor": 5
}
