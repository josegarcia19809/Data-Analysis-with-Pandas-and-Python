{
  "nbformat": 4,
  "nbformat_minor": 0,
  "metadata": {
    "colab": {
      "provenance": []
    },
    "kernelspec": {
      "name": "python3",
      "display_name": "Python 3"
    },
    "language_info": {
      "name": "python"
    }
  },
  "cells": [
    {
      "cell_type": "code",
      "execution_count": null,
      "metadata": {
        "id": "j2d2HlucFtvF"
      },
      "outputs": [],
      "source": [
        "import pandas as pd\n",
        "\n",
        "datos = pd.read_csv(\"housing.csv\")"
      ]
    },
    {
      "cell_type": "code",
      "source": [
        "datos.head()"
      ],
      "metadata": {
        "id": "mC0WoJXLHcsn"
      },
      "execution_count": null,
      "outputs": []
    },
    {
      "cell_type": "code",
      "source": [
        "datos[\"ocean_proximity\"].value_counts()"
      ],
      "metadata": {
        "id": "n6J_5EvNH_qm"
      },
      "execution_count": null,
      "outputs": []
    },
    {
      "cell_type": "code",
      "source": [
        "datos.info()"
      ],
      "metadata": {
        "id": "hr1hM9rrIhn4"
      },
      "execution_count": null,
      "outputs": []
    },
    {
      "cell_type": "code",
      "source": [
        "datos.describe()"
      ],
      "metadata": {
        "id": "7z_u4fU5IyY9"
      },
      "execution_count": null,
      "outputs": []
    },
    {
      "cell_type": "code",
      "source": [
        "datos.hist(figsize=(15,8), bins=30, edgecolor=\"black\")"
      ],
      "metadata": {
        "id": "XIqd0J9-JkU0"
      },
      "execution_count": null,
      "outputs": []
    },
    {
      "cell_type": "code",
      "source": [
        "import seaborn as sb\n",
        "sb.scatterplot(x=\"latitude\", y=\"longitude\", data=datos, hue=\"median_house_value\", palette=\"coolwarm\",\n",
        "               s=datos[\"population\"]/100)"
      ],
      "metadata": {
        "id": "qRwDq8ZeKYCe"
      },
      "execution_count": null,
      "outputs": []
    },
    {
      "cell_type": "code",
      "source": [
        "sb.scatterplot(x=\"latitude\", y=\"longitude\", data=datos[(datos.median_income > 14)], hue=\"median_house_value\", palette=\"coolwarm\")"
      ],
      "metadata": {
        "id": "FC27CuLxLPR0"
      },
      "execution_count": null,
      "outputs": []
    },
    {
      "cell_type": "code",
      "source": [
        "datos.info()"
      ],
      "metadata": {
        "id": "7oNltIH0LiMZ"
      },
      "execution_count": null,
      "outputs": []
    },
    {
      "cell_type": "code",
      "source": [
        "datos_na = datos.dropna()"
      ],
      "metadata": {
        "id": "AKvIUPCHLr97"
      },
      "execution_count": null,
      "outputs": []
    },
    {
      "cell_type": "code",
      "source": [
        "datos_na.info()"
      ],
      "metadata": {
        "id": "bfBRf2cML9Ak"
      },
      "execution_count": null,
      "outputs": []
    },
    {
      "cell_type": "code",
      "source": [
        "#Convertir la caracteística categórica a numérica\n",
        "#Proximidad al oceano\n",
        "datos_na[\"ocean_proximity\"]\n"
      ],
      "metadata": {
        "id": "WtTKmmwNMB4E"
      },
      "execution_count": null,
      "outputs": []
    },
    {
      "cell_type": "code",
      "source": [
        "datos_na[\"ocean_proximity\"].value_counts()\n",
        "# 1,2,3,4,5"
      ],
      "metadata": {
        "id": "HZjHmhpkMJjz"
      },
      "execution_count": null,
      "outputs": []
    },
    {
      "cell_type": "code",
      "source": [
        "#Dummies / One-Hot Encoding\n",
        "# NEAR BAY   INLAND   NEAR OCEAN\n",
        "#    1          0         0\n",
        "#    0          0         1\n",
        "\n",
        "dummies = pd.get_dummies(datos_na[\"ocean_proximity\"], dtype=int)"
      ],
      "metadata": {
        "id": "nwiCzSAFMamW"
      },
      "execution_count": null,
      "outputs": []
    },
    {
      "cell_type": "code",
      "source": [
        "datos_na = datos_na.join(dummies)"
      ],
      "metadata": {
        "id": "Ul-kbjdGM3A9"
      },
      "execution_count": null,
      "outputs": []
    },
    {
      "cell_type": "code",
      "source": [
        "datos_na.head()"
      ],
      "metadata": {
        "id": "s8Gu-RlwNQSa"
      },
      "execution_count": null,
      "outputs": []
    },
    {
      "cell_type": "code",
      "source": [
        "datos_na = datos_na.drop([\"ocean_proximity\"], axis=1)"
      ],
      "metadata": {
        "id": "Eop7y_TENUS3"
      },
      "execution_count": null,
      "outputs": []
    },
    {
      "cell_type": "code",
      "source": [
        "datos_na.head()"
      ],
      "metadata": {
        "id": "hr7hySkXNhZa"
      },
      "execution_count": null,
      "outputs": []
    },
    {
      "cell_type": "code",
      "source": [
        "#Analisis, nuevas caracteristicas"
      ],
      "metadata": {
        "id": "7FrnamobNmsl"
      },
      "execution_count": null,
      "outputs": []
    },
    {
      "cell_type": "code",
      "source": [
        "datos.corr()"
      ],
      "metadata": {
        "id": "zjrB0rjYNqlS"
      },
      "execution_count": null,
      "outputs": []
    },
    {
      "cell_type": "code",
      "source": [
        "sb.set(rc={'figure.figsize': (15,8)})\n",
        "sb.heatmap(datos_na.corr(), annot=True, cmap=\"YlGnBu\")"
      ],
      "metadata": {
        "id": "D_075KTPNxej"
      },
      "execution_count": null,
      "outputs": []
    },
    {
      "cell_type": "code",
      "source": [
        "datos.corr()[\"median_house_value\"].sort_values(ascending=False)"
      ],
      "metadata": {
        "id": "0KU-Id5xPcrb"
      },
      "execution_count": null,
      "outputs": []
    },
    {
      "cell_type": "code",
      "source": [
        "sb.scatterplot(x=datos_na[\"median_house_value\"], y=datos_na[\"median_income\"])"
      ],
      "metadata": {
        "id": "SWlAhAUvMMj7"
      },
      "execution_count": null,
      "outputs": []
    },
    {
      "cell_type": "code",
      "source": [
        "datos_na[\"bedroom_ratio\"] = datos_na[\"total_bedrooms\"] / datos_na[\"total_rooms\"]"
      ],
      "metadata": {
        "id": "fXRWSH7AM5lg"
      },
      "execution_count": null,
      "outputs": []
    },
    {
      "cell_type": "code",
      "source": [
        "sb.set(rc={'figure.figsize': (15,8)})\n",
        "sb.heatmap(datos_na.corr(), annot=True, cmap=\"YlGnBu\")"
      ],
      "metadata": {
        "id": "cmjCBrm0NHQj"
      },
      "execution_count": null,
      "outputs": []
    },
    {
      "cell_type": "code",
      "source": [
        "#Separar las caracteristicas de la etiqueta\n",
        "X = datos_na.drop([\"median_house_value\"], axis=1)\n",
        "y = datos_na[\"median_house_value\"]"
      ],
      "metadata": {
        "id": "xS5ANcZjNdX3"
      },
      "execution_count": null,
      "outputs": []
    },
    {
      "cell_type": "code",
      "source": [
        "#Separar los datos en 2 partes: Conjunto de entrenamiento y uno de pruebas\n",
        "from sklearn.model_selection import train_test_split\n",
        "\n",
        "X_ent, X_pru, y_ent, y_pru = train_test_split(X, y, test_size=.2)"
      ],
      "metadata": {
        "id": "hn3z8_X9Ozsp"
      },
      "execution_count": null,
      "outputs": []
    },
    {
      "cell_type": "code",
      "source": [
        "from sklearn.linear_model import LinearRegression\n",
        "\n",
        "modelo=LinearRegression()"
      ],
      "metadata": {
        "id": "hFRZKJJaO3aW"
      },
      "execution_count": null,
      "outputs": []
    },
    {
      "cell_type": "code",
      "source": [
        "modelo.fit(X_ent, y_ent)"
      ],
      "metadata": {
        "id": "NjhwbYPlPHSC"
      },
      "execution_count": null,
      "outputs": []
    },
    {
      "cell_type": "code",
      "source": [
        "predicciones = modelo.predict(X_pru)"
      ],
      "metadata": {
        "id": "P5g_5ZnvPP4Q"
      },
      "execution_count": null,
      "outputs": []
    },
    {
      "cell_type": "code",
      "source": [
        "comparativa = {\"Prediccion\": predicciones, \"Valor Real\": y_pru}\n",
        "pd.DataFrame(comparativa)"
      ],
      "metadata": {
        "id": "7W9_Qv09PXY3"
      },
      "execution_count": null,
      "outputs": []
    },
    {
      "cell_type": "code",
      "source": [
        "#Overfitting sobreajuste\n",
        "print(modelo.score(X_ent, y_ent))\n",
        "print(modelo.score(X_pru, y_pru))"
      ],
      "metadata": {
        "id": "t8ZaZt18QCWh"
      },
      "execution_count": null,
      "outputs": []
    },
    {
      "cell_type": "code",
      "source": [
        "#Error\n",
        "from sklearn.metrics import mean_squared_error\n",
        "import numpy as np\n",
        "\n",
        "mse = mean_squared_error(y_pru, predicciones)"
      ],
      "metadata": {
        "id": "TYmHhcUOQc2d"
      },
      "execution_count": null,
      "outputs": []
    },
    {
      "cell_type": "code",
      "source": [
        "mse"
      ],
      "metadata": {
        "id": "_tFrIxIcQyQJ"
      },
      "execution_count": null,
      "outputs": []
    },
    {
      "cell_type": "code",
      "source": [
        "rmse = np.sqrt(mse)"
      ],
      "metadata": {
        "id": "LBiQCmWyQ_dH"
      },
      "execution_count": null,
      "outputs": []
    },
    {
      "cell_type": "code",
      "source": [
        "rmse"
      ],
      "metadata": {
        "id": "GVgqs2ySREgh"
      },
      "execution_count": null,
      "outputs": []
    },
    {
      "cell_type": "code",
      "source": [
        "#Scaler Escalamiento\n"
      ],
      "metadata": {
        "id": "x6g1zcJCRUdc"
      },
      "execution_count": null,
      "outputs": []
    },
    {
      "cell_type": "code",
      "source": [
        "datos_na.describe()"
      ],
      "metadata": {
        "id": "048TUrswRXSa"
      },
      "execution_count": null,
      "outputs": []
    },
    {
      "cell_type": "code",
      "source": [
        "from sklearn.preprocessing import StandardScaler\n",
        "\n",
        "scaler = StandardScaler()\n",
        "\n",
        "X_ent_esc = scaler.fit_transform(X_ent)\n",
        "X_pru_esc = scaler.fit_transform(X_pru)"
      ],
      "metadata": {
        "id": "yMJSge-hR5Mt"
      },
      "execution_count": null,
      "outputs": []
    },
    {
      "cell_type": "code",
      "source": [
        "X_ent"
      ],
      "metadata": {
        "id": "8f0Pw-bRSU_t"
      },
      "execution_count": null,
      "outputs": []
    },
    {
      "cell_type": "code",
      "source": [
        "pd.DataFrame(X_ent_esc)"
      ],
      "metadata": {
        "id": "_wqJ3-b2SZHx"
      },
      "execution_count": null,
      "outputs": []
    }
  ]
}