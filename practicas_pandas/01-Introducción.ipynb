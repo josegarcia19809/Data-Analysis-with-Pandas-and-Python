{
 "cells": [
  {
   "metadata": {},
   "cell_type": "markdown",
   "source": [
    "# Bienvenidos a Python\n",
    "## Creando prácticas con Notebook\n",
    "### Introducción\n",
    "* Esto es texto que tendrá una viñeta\n",
    "* Esta línea también\n",
    "Texto normal"
   ],
   "id": "fcc7a60da03dbf9b"
  },
  {
   "metadata": {},
   "cell_type": "code",
   "outputs": [],
   "execution_count": null,
   "source": "",
   "id": "b3e882eae0bc0693"
  }
 ],
 "metadata": {
  "kernelspec": {
   "display_name": "Python 3",
   "language": "python",
   "name": "python3"
  },
  "language_info": {
   "codemirror_mode": {
    "name": "ipython",
    "version": 2
   },
   "file_extension": ".py",
   "mimetype": "text/x-python",
   "name": "python",
   "nbconvert_exporter": "python",
   "pygments_lexer": "ipython2",
   "version": "2.7.6"
  }
 },
 "nbformat": 4,
 "nbformat_minor": 5
}
