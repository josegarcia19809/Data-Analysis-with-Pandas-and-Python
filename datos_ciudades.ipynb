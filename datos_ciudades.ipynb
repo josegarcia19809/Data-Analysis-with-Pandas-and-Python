{
 "cells": [
  {
   "cell_type": "markdown",
   "source": [
    "# Convertir un diccionario en un Dataframe"
   ],
   "metadata": {
    "collapsed": false
   },
   "id": "d34140f35dab120d"
  },
  {
   "cell_type": "code",
   "outputs": [],
   "source": [
    "import pandas as pd"
   ],
   "metadata": {
    "collapsed": false,
    "ExecuteTime": {
     "end_time": "2023-12-24T00:39:14.932604Z",
     "start_time": "2023-12-24T00:39:12.943187Z"
    }
   },
   "id": "3706c3e4f7b48ce6",
   "execution_count": 1
  },
  {
   "cell_type": "code",
   "outputs": [],
   "source": [
    "city_data = {\n",
    "    \"City\": [\"New York City\", \"Paris\", \"Barcelona\", \"Rome\"],\n",
    "    \"Country\": [\"United States\", \"France\", \"Spain\", \"Italy\"],\n",
    "    \"Population\": [8600000, 2141000, 5515000, 2873000]\n",
    "}"
   ],
   "metadata": {
    "collapsed": false,
    "ExecuteTime": {
     "end_time": "2023-12-24T00:39:20.066282Z",
     "start_time": "2023-12-24T00:39:20.055948Z"
    }
   },
   "id": "43a8672ae7084c2c",
   "execution_count": 2
  },
  {
   "cell_type": "code",
   "outputs": [
    {
     "data": {
      "text/plain": "            City        Country  Population\n0  New York City  United States     8600000\n1          Paris         France     2141000\n2      Barcelona          Spain     5515000\n3           Rome          Italy     2873000",
      "text/html": "<div>\n<style scoped>\n    .dataframe tbody tr th:only-of-type {\n        vertical-align: middle;\n    }\n\n    .dataframe tbody tr th {\n        vertical-align: top;\n    }\n\n    .dataframe thead th {\n        text-align: right;\n    }\n</style>\n<table border=\"1\" class=\"dataframe\">\n  <thead>\n    <tr style=\"text-align: right;\">\n      <th></th>\n      <th>City</th>\n      <th>Country</th>\n      <th>Population</th>\n    </tr>\n  </thead>\n  <tbody>\n    <tr>\n      <th>0</th>\n      <td>New York City</td>\n      <td>United States</td>\n      <td>8600000</td>\n    </tr>\n    <tr>\n      <th>1</th>\n      <td>Paris</td>\n      <td>France</td>\n      <td>2141000</td>\n    </tr>\n    <tr>\n      <th>2</th>\n      <td>Barcelona</td>\n      <td>Spain</td>\n      <td>5515000</td>\n    </tr>\n    <tr>\n      <th>3</th>\n      <td>Rome</td>\n      <td>Italy</td>\n      <td>2873000</td>\n    </tr>\n  </tbody>\n</table>\n</div>"
     },
     "execution_count": 3,
     "metadata": {},
     "output_type": "execute_result"
    }
   ],
   "source": [
    "cities = pd.DataFrame(city_data)\n",
    "cities"
   ],
   "metadata": {
    "collapsed": false,
    "ExecuteTime": {
     "end_time": "2023-12-24T00:39:43.227048Z",
     "start_time": "2023-12-24T00:39:43.206852Z"
    }
   },
   "id": "27d41a8af0f219f7",
   "execution_count": 3
  },
  {
   "cell_type": "code",
   "outputs": [
    {
     "data": {
      "text/plain": "City          New York City\nCountry       United States\nPopulation          8600000\nName: 0, dtype: object"
     },
     "execution_count": 4,
     "metadata": {},
     "output_type": "execute_result"
    }
   ],
   "source": [
    "# Mostrar el contenido de un renglón\n",
    "cities.loc[0]"
   ],
   "metadata": {
    "collapsed": false,
    "ExecuteTime": {
     "end_time": "2023-12-24T00:39:59.890188Z",
     "start_time": "2023-12-24T00:39:59.879218Z"
    }
   },
   "id": "d9061a5cb89e898f",
   "execution_count": 4
  },
  {
   "cell_type": "code",
   "outputs": [],
   "source": [],
   "metadata": {
    "collapsed": false
   },
   "id": "4214ec6c86dbe76a"
  }
 ],
 "metadata": {
  "kernelspec": {
   "display_name": "Python 3",
   "language": "python",
   "name": "python3"
  },
  "language_info": {
   "codemirror_mode": {
    "name": "ipython",
    "version": 2
   },
   "file_extension": ".py",
   "mimetype": "text/x-python",
   "name": "python",
   "nbconvert_exporter": "python",
   "pygments_lexer": "ipython2",
   "version": "2.7.6"
  }
 },
 "nbformat": 4,
 "nbformat_minor": 5
}
