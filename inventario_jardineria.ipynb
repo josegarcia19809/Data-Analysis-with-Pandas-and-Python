{
 "cells": [
  {
   "cell_type": "markdown",
   "source": [
    " # Proyecto #5 - Modiﬁcando DataFrames sobre un DataSet que Contiene el Inventario de Una Tienda de Jardinería"
   ],
   "metadata": {
    "collapsed": false
   },
   "id": "e41bd6b087dc85d6"
  },
  {
   "cell_type": "markdown",
   "source": [
    "Eres el principal analista de datos de una cadena de tiendas de jardinería llamada Petal Power. Ayúdeles a analizar su inventario!"
   ],
   "metadata": {
    "collapsed": false
   },
   "id": "6418d21bda1e75f3"
  },
  {
   "cell_type": "markdown",
   "source": [
    "1. Los datos de todas las ubicaciones de Petal Power están en el archivo inventory. csv . Cargue los datos en un DataFrame llamado inventory"
   ],
   "metadata": {
    "collapsed": false
   },
   "id": "ee35e71b12cf7a5e"
  },
  {
   "cell_type": "markdown",
   "source": [
    "1. Los datos de todas las ubicaciones de Petal Power están en el archivo inventory. csv . Cargue los datos en un DataFrame llamado inventory"
   ],
   "metadata": {
    "collapsed": false
   },
   "id": "3058f372bca65f7e"
  },
  {
   "cell_type": "code",
   "outputs": [],
   "source": [
    "import pandas as pd"
   ],
   "metadata": {
    "collapsed": false,
    "ExecuteTime": {
     "end_time": "2024-01-25T02:33:18.456854Z",
     "start_time": "2024-01-25T02:33:14.296917Z"
    }
   },
   "id": "f0a61b62288db98e",
   "execution_count": 2
  },
  {
   "cell_type": "code",
   "outputs": [
    {
     "data": {
      "text/plain": "        location  product_type         product_description  quantity  price\n0  Staten Island         seeds                 weed killer        74   23.0\n1  Staten Island       planter               insect killer        48   36.0\n2  Staten Island  pest_control                       spade        56   36.0\n3       Brooklyn       planter                 wheelbarrow        73   23.0\n4  Staten Island  garden tools                      tomato         3   56.0\n5       Brooklyn  garden tools                        rake         6   56.0\n6  Staten Island  pest_control                       daisy        18   56.0\n7       Brooklyn  pest_control      8 inch plastic planter        49   27.0\n8       Brooklyn         seeds                  calla lily        20   27.0\n9  Staten Island       planter  20 inch terracotta planter        23   56.0",
      "text/html": "<div>\n<style scoped>\n    .dataframe tbody tr th:only-of-type {\n        vertical-align: middle;\n    }\n\n    .dataframe tbody tr th {\n        vertical-align: top;\n    }\n\n    .dataframe thead th {\n        text-align: right;\n    }\n</style>\n<table border=\"1\" class=\"dataframe\">\n  <thead>\n    <tr style=\"text-align: right;\">\n      <th></th>\n      <th>location</th>\n      <th>product_type</th>\n      <th>product_description</th>\n      <th>quantity</th>\n      <th>price</th>\n    </tr>\n  </thead>\n  <tbody>\n    <tr>\n      <th>0</th>\n      <td>Staten Island</td>\n      <td>seeds</td>\n      <td>weed killer</td>\n      <td>74</td>\n      <td>23.0</td>\n    </tr>\n    <tr>\n      <th>1</th>\n      <td>Staten Island</td>\n      <td>planter</td>\n      <td>insect killer</td>\n      <td>48</td>\n      <td>36.0</td>\n    </tr>\n    <tr>\n      <th>2</th>\n      <td>Staten Island</td>\n      <td>pest_control</td>\n      <td>spade</td>\n      <td>56</td>\n      <td>36.0</td>\n    </tr>\n    <tr>\n      <th>3</th>\n      <td>Brooklyn</td>\n      <td>planter</td>\n      <td>wheelbarrow</td>\n      <td>73</td>\n      <td>23.0</td>\n    </tr>\n    <tr>\n      <th>4</th>\n      <td>Staten Island</td>\n      <td>garden tools</td>\n      <td>tomato</td>\n      <td>3</td>\n      <td>56.0</td>\n    </tr>\n    <tr>\n      <th>5</th>\n      <td>Brooklyn</td>\n      <td>garden tools</td>\n      <td>rake</td>\n      <td>6</td>\n      <td>56.0</td>\n    </tr>\n    <tr>\n      <th>6</th>\n      <td>Staten Island</td>\n      <td>pest_control</td>\n      <td>daisy</td>\n      <td>18</td>\n      <td>56.0</td>\n    </tr>\n    <tr>\n      <th>7</th>\n      <td>Brooklyn</td>\n      <td>pest_control</td>\n      <td>8 inch plastic planter</td>\n      <td>49</td>\n      <td>27.0</td>\n    </tr>\n    <tr>\n      <th>8</th>\n      <td>Brooklyn</td>\n      <td>seeds</td>\n      <td>calla lily</td>\n      <td>20</td>\n      <td>27.0</td>\n    </tr>\n    <tr>\n      <th>9</th>\n      <td>Staten Island</td>\n      <td>planter</td>\n      <td>20 inch terracotta planter</td>\n      <td>23</td>\n      <td>56.0</td>\n    </tr>\n  </tbody>\n</table>\n</div>"
     },
     "execution_count": 6,
     "metadata": {},
     "output_type": "execute_result"
    }
   ],
   "source": [
    "inventory = pd.read_csv(\"datax/inventory.csv\")\n",
    "inventory"
   ],
   "metadata": {
    "collapsed": false,
    "ExecuteTime": {
     "end_time": "2024-01-25T02:48:15.292962Z",
     "start_time": "2024-01-25T02:48:15.213607Z"
    }
   },
   "id": "81939c2d8992c0a4",
   "execution_count": 6
  },
  {
   "cell_type": "markdown",
   "source": [
    "3.Las primeras 10 ﬁlas representan datos de su ubicación en Staten Island. Seleccione estas líneas y grábelas en staten_island."
   ],
   "metadata": {
    "collapsed": false
   },
   "id": "a7a7d4d7c0b79687"
  },
  {
   "cell_type": "code",
   "outputs": [
    {
     "data": {
      "text/plain": "        location  product_type         product_description  quantity  price\n0  Staten Island         seeds                 weed killer        74   23.0\n1  Staten Island       planter               insect killer        48   36.0\n2  Staten Island  pest_control                       spade        56   36.0\n4  Staten Island  garden tools                      tomato         3   56.0\n6  Staten Island  pest_control                       daisy        18   56.0\n9  Staten Island       planter  20 inch terracotta planter        23   56.0",
      "text/html": "<div>\n<style scoped>\n    .dataframe tbody tr th:only-of-type {\n        vertical-align: middle;\n    }\n\n    .dataframe tbody tr th {\n        vertical-align: top;\n    }\n\n    .dataframe thead th {\n        text-align: right;\n    }\n</style>\n<table border=\"1\" class=\"dataframe\">\n  <thead>\n    <tr style=\"text-align: right;\">\n      <th></th>\n      <th>location</th>\n      <th>product_type</th>\n      <th>product_description</th>\n      <th>quantity</th>\n      <th>price</th>\n    </tr>\n  </thead>\n  <tbody>\n    <tr>\n      <th>0</th>\n      <td>Staten Island</td>\n      <td>seeds</td>\n      <td>weed killer</td>\n      <td>74</td>\n      <td>23.0</td>\n    </tr>\n    <tr>\n      <th>1</th>\n      <td>Staten Island</td>\n      <td>planter</td>\n      <td>insect killer</td>\n      <td>48</td>\n      <td>36.0</td>\n    </tr>\n    <tr>\n      <th>2</th>\n      <td>Staten Island</td>\n      <td>pest_control</td>\n      <td>spade</td>\n      <td>56</td>\n      <td>36.0</td>\n    </tr>\n    <tr>\n      <th>4</th>\n      <td>Staten Island</td>\n      <td>garden tools</td>\n      <td>tomato</td>\n      <td>3</td>\n      <td>56.0</td>\n    </tr>\n    <tr>\n      <th>6</th>\n      <td>Staten Island</td>\n      <td>pest_control</td>\n      <td>daisy</td>\n      <td>18</td>\n      <td>56.0</td>\n    </tr>\n    <tr>\n      <th>9</th>\n      <td>Staten Island</td>\n      <td>planter</td>\n      <td>20 inch terracotta planter</td>\n      <td>23</td>\n      <td>56.0</td>\n    </tr>\n  </tbody>\n</table>\n</div>"
     },
     "execution_count": 7,
     "metadata": {},
     "output_type": "execute_result"
    }
   ],
   "source": [
    "staten_island = inventory[inventory[\"location\"] == \"Staten Island\"]\n",
    "staten_island"
   ],
   "metadata": {
    "collapsed": false,
    "ExecuteTime": {
     "end_time": "2024-01-25T02:48:21.031425Z",
     "start_time": "2024-01-25T02:48:20.988071Z"
    }
   },
   "id": "de44759b56cd553",
   "execution_count": 7
  },
  {
   "cell_type": "markdown",
   "source": [
    "4.Un cliente acaba de enviarle un correo electrónico preguntándole qué productos se venden en su localidad de Staten Island. Seleccione la columna product_description de staten_island y guárdela en la variable product_request."
   ],
   "metadata": {
    "collapsed": false
   },
   "id": "b76feffd8b4a7ab0"
  },
  {
   "cell_type": "code",
   "outputs": [
    {
     "ename": "KeyError",
     "evalue": "\"None of [Index([(True, True, True, False, True, False, True, False, False, True)], dtype='object')] are in the [columns]\"",
     "output_type": "error",
     "traceback": [
      "\u001B[0;31m---------------------------------------------------------------------------\u001B[0m",
      "\u001B[0;31mKeyError\u001B[0m                                  Traceback (most recent call last)",
      "Cell \u001B[0;32mIn [8], line 1\u001B[0m\n\u001B[0;32m----> 1\u001B[0m product_request \u001B[38;5;241m=\u001B[39m \u001B[43minventory\u001B[49m\u001B[43m[\u001B[49m\u001B[43m[\u001B[49m\u001B[43minventory\u001B[49m\u001B[43m[\u001B[49m\u001B[38;5;124;43m\"\u001B[39;49m\u001B[38;5;124;43mlocation\u001B[39;49m\u001B[38;5;124;43m\"\u001B[39;49m\u001B[43m]\u001B[49m\u001B[38;5;241;43m==\u001B[39;49m\u001B[38;5;124;43m\"\u001B[39;49m\u001B[38;5;124;43mStaten Island\u001B[39;49m\u001B[38;5;124;43m\"\u001B[39;49m\u001B[43m]\u001B[49m\u001B[43m]\u001B[49m[\u001B[38;5;124m\"\u001B[39m\u001B[38;5;124mproduct_description\u001B[39m\u001B[38;5;124m\"\u001B[39m]\n",
      "File \u001B[0;32m~/opt/anaconda3/lib/python3.8/site-packages/pandas/core/frame.py:3464\u001B[0m, in \u001B[0;36mDataFrame.__getitem__\u001B[0;34m(self, key)\u001B[0m\n\u001B[1;32m   3462\u001B[0m     \u001B[38;5;28;01mif\u001B[39;00m is_iterator(key):\n\u001B[1;32m   3463\u001B[0m         key \u001B[38;5;241m=\u001B[39m \u001B[38;5;28mlist\u001B[39m(key)\n\u001B[0;32m-> 3464\u001B[0m     indexer \u001B[38;5;241m=\u001B[39m \u001B[38;5;28;43mself\u001B[39;49m\u001B[38;5;241;43m.\u001B[39;49m\u001B[43mloc\u001B[49m\u001B[38;5;241;43m.\u001B[39;49m\u001B[43m_get_listlike_indexer\u001B[49m\u001B[43m(\u001B[49m\u001B[43mkey\u001B[49m\u001B[43m,\u001B[49m\u001B[43m \u001B[49m\u001B[43maxis\u001B[49m\u001B[38;5;241;43m=\u001B[39;49m\u001B[38;5;241;43m1\u001B[39;49m\u001B[43m)\u001B[49m[\u001B[38;5;241m1\u001B[39m]\n\u001B[1;32m   3466\u001B[0m \u001B[38;5;66;03m# take() does not accept boolean indexers\u001B[39;00m\n\u001B[1;32m   3467\u001B[0m \u001B[38;5;28;01mif\u001B[39;00m \u001B[38;5;28mgetattr\u001B[39m(indexer, \u001B[38;5;124m\"\u001B[39m\u001B[38;5;124mdtype\u001B[39m\u001B[38;5;124m\"\u001B[39m, \u001B[38;5;28;01mNone\u001B[39;00m) \u001B[38;5;241m==\u001B[39m \u001B[38;5;28mbool\u001B[39m:\n",
      "File \u001B[0;32m~/opt/anaconda3/lib/python3.8/site-packages/pandas/core/indexing.py:1314\u001B[0m, in \u001B[0;36m_LocIndexer._get_listlike_indexer\u001B[0;34m(self, key, axis)\u001B[0m\n\u001B[1;32m   1311\u001B[0m \u001B[38;5;28;01melse\u001B[39;00m:\n\u001B[1;32m   1312\u001B[0m     keyarr, indexer, new_indexer \u001B[38;5;241m=\u001B[39m ax\u001B[38;5;241m.\u001B[39m_reindex_non_unique(keyarr)\n\u001B[0;32m-> 1314\u001B[0m \u001B[38;5;28;43mself\u001B[39;49m\u001B[38;5;241;43m.\u001B[39;49m\u001B[43m_validate_read_indexer\u001B[49m\u001B[43m(\u001B[49m\u001B[43mkeyarr\u001B[49m\u001B[43m,\u001B[49m\u001B[43m \u001B[49m\u001B[43mindexer\u001B[49m\u001B[43m,\u001B[49m\u001B[43m \u001B[49m\u001B[43maxis\u001B[49m\u001B[43m)\u001B[49m\n\u001B[1;32m   1316\u001B[0m \u001B[38;5;28;01mif\u001B[39;00m needs_i8_conversion(ax\u001B[38;5;241m.\u001B[39mdtype) \u001B[38;5;129;01mor\u001B[39;00m \u001B[38;5;28misinstance\u001B[39m(\n\u001B[1;32m   1317\u001B[0m     ax, (IntervalIndex, CategoricalIndex)\n\u001B[1;32m   1318\u001B[0m ):\n\u001B[1;32m   1319\u001B[0m     \u001B[38;5;66;03m# For CategoricalIndex take instead of reindex to preserve dtype.\u001B[39;00m\n\u001B[1;32m   1320\u001B[0m     \u001B[38;5;66;03m#  For IntervalIndex this is to map integers to the Intervals they match to.\u001B[39;00m\n\u001B[1;32m   1321\u001B[0m     keyarr \u001B[38;5;241m=\u001B[39m ax\u001B[38;5;241m.\u001B[39mtake(indexer)\n",
      "File \u001B[0;32m~/opt/anaconda3/lib/python3.8/site-packages/pandas/core/indexing.py:1374\u001B[0m, in \u001B[0;36m_LocIndexer._validate_read_indexer\u001B[0;34m(self, key, indexer, axis)\u001B[0m\n\u001B[1;32m   1372\u001B[0m     \u001B[38;5;28;01mif\u001B[39;00m use_interval_msg:\n\u001B[1;32m   1373\u001B[0m         key \u001B[38;5;241m=\u001B[39m \u001B[38;5;28mlist\u001B[39m(key)\n\u001B[0;32m-> 1374\u001B[0m     \u001B[38;5;28;01mraise\u001B[39;00m \u001B[38;5;167;01mKeyError\u001B[39;00m(\u001B[38;5;124mf\u001B[39m\u001B[38;5;124m\"\u001B[39m\u001B[38;5;124mNone of [\u001B[39m\u001B[38;5;132;01m{\u001B[39;00mkey\u001B[38;5;132;01m}\u001B[39;00m\u001B[38;5;124m] are in the [\u001B[39m\u001B[38;5;132;01m{\u001B[39;00maxis_name\u001B[38;5;132;01m}\u001B[39;00m\u001B[38;5;124m]\u001B[39m\u001B[38;5;124m\"\u001B[39m)\n\u001B[1;32m   1376\u001B[0m not_found \u001B[38;5;241m=\u001B[39m \u001B[38;5;28mlist\u001B[39m(ensure_index(key)[missing_mask\u001B[38;5;241m.\u001B[39mnonzero()[\u001B[38;5;241m0\u001B[39m]]\u001B[38;5;241m.\u001B[39munique())\n\u001B[1;32m   1377\u001B[0m \u001B[38;5;28;01mraise\u001B[39;00m \u001B[38;5;167;01mKeyError\u001B[39;00m(\u001B[38;5;124mf\u001B[39m\u001B[38;5;124m\"\u001B[39m\u001B[38;5;132;01m{\u001B[39;00mnot_found\u001B[38;5;132;01m}\u001B[39;00m\u001B[38;5;124m not in index\u001B[39m\u001B[38;5;124m\"\u001B[39m)\n",
      "\u001B[0;31mKeyError\u001B[0m: \"None of [Index([(True, True, True, False, True, False, True, False, False, True)], dtype='object')] are in the [columns]\""
     ]
    }
   ],
   "source": [
    "product_request = inventory[[inventory[\"location\"]==\"Staten Island\"]][\"product_description\"]"
   ],
   "metadata": {
    "collapsed": false,
    "ExecuteTime": {
     "end_time": "2024-01-25T02:51:09.244855Z",
     "start_time": "2024-01-25T02:51:05.434011Z"
    }
   },
   "id": "20f115151f93d188",
   "execution_count": 8
  },
  {
   "cell_type": "markdown",
   "source": [
    "5.Otro cliente envía un correo electrónico para preguntar qué tipos de semillas se venden en la sede de Brooklyn. Seleccione todas las filas donde la location es igual a Brooklyn y el product_type es igual a las semillas seeds y guárdelas en la variable seed_request."
   ],
   "metadata": {
    "collapsed": false
   },
   "id": "2c1c7c2afff95b75"
  },
  {
   "cell_type": "markdown",
   "source": [
    "6. Añada una columna a un inventario inventory llamado in_stock que sea True si quantity es mayor que O y False if quantity es igual a 0."
   ],
   "metadata": {
    "collapsed": false
   },
   "id": "a03926f5ae49040b"
  },
  {
   "cell_type": "markdown",
   "source": [
    "7.Petal Power quiere saber cuán valioso es su inventario actual. Cree una columna llamada total_value que sea igual a price multiplicado por quantity."
   ],
   "metadata": {
    "collapsed": false
   },
   "id": "9a24028a65d98da0"
  },
  {
   "cell_type": "markdown",
   "source": [
    "8.El departamento de Marketing desea una descripción completa de cada producto para su catálogo. La siguiente función lambda combina el product_type y product description en una sola cadena:\n",
    "\n",
    "combine_lambda = lambda row: \\ '{) - ()'. format (row.product_type, row.product_description)"
   ],
   "metadata": {
    "collapsed": false
   },
   "id": "9001e564cd6df5f"
  },
  {
   "cell_type": "markdown",
   "source": [
    "9. Utilizando combine_ lambda, cree una nueva columna en inventory llamada full_description que contenga la descripción completa de cada producto."
   ],
   "metadata": {
    "collapsed": false
   },
   "id": "3a1ed41d64013e8e"
  },
  {
   "cell_type": "code",
   "outputs": [],
   "source": [],
   "metadata": {
    "collapsed": false
   },
   "id": "9731ebc8839b050e"
  }
 ],
 "metadata": {
  "kernelspec": {
   "display_name": "Python 3",
   "language": "python",
   "name": "python3"
  },
  "language_info": {
   "codemirror_mode": {
    "name": "ipython",
    "version": 2
   },
   "file_extension": ".py",
   "mimetype": "text/x-python",
   "name": "python",
   "nbconvert_exporter": "python",
   "pygments_lexer": "ipython2",
   "version": "2.7.6"
  }
 },
 "nbformat": 4,
 "nbformat_minor": 5
}
