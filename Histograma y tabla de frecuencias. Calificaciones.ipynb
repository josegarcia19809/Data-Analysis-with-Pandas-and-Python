{
 "cells": [
  {
   "cell_type": "code",
   "execution_count": 6,
   "id": "1c8181cc-bbbd-4dda-a0a8-26abfcc02126",
   "metadata": {},
   "outputs": [],
   "source": [
    "import matplotlib.pyplot as plt\n",
    "import pandas as pd"
   ]
  },
  {
   "cell_type": "code",
   "execution_count": 2,
   "id": "a7834a71-a27d-43fc-839b-e8e2a8d74ac6",
   "metadata": {},
   "outputs": [],
   "source": [
    "# Datos\n",
    "data = [\n",
    "    60, 47, 82, 95, 88, 72, 67, 66, 68, 98, 90, 77, 86, 58, 64, 95, 74, 72, 88, 74,\n",
    "    77, 39, 90, 63, 68, 97, 70, 64, 70, 70, 58, 78, 89, 44, 55, 85, 82, 83, 72, 77,\n",
    "    72, 86, 50, 94, 92, 80, 91, 75, 76, 78\n",
    "]\n",
    "\n",
    "# Definir los límites de clase\n",
    "bins = [35, 45, 55, 65, 75, 85, 95, 105]"
   ]
  },
  {
   "cell_type": "code",
   "execution_count": 5,
   "id": "9b2a1b54-4ce1-488b-bda8-bead5ae220bb",
   "metadata": {},
   "outputs": [
    {
     "data": {
      "image/png": "[encoded data removed]",
      "text/plain": [
       "<Figure size 640x480 with 1 Axes>"
      ]
     },
     "metadata": {},
     "output_type": "display_data"
    }
   ],
   "source": [
    "# Crear el histograma\n",
    "plt.hist(data, bins=bins, edgecolor='black')\n",
    "\n",
    "# Añadir líneas horizontales (ajusta el valor de y según necesites)\n",
    "plt.axhline(y=6, color='r', linestyle='--', label='Frecuencia 5')  # Línea roja punteada\n",
    "plt.axhline(y=12, color='g', linestyle='-', label='Frecuencia 10')  # Línea verde continua\n",
    "\n",
    "# Añadir etiquetas y título\n",
    "plt.title('Histograma de Frecuencias')\n",
    "plt.xlabel('Clases')\n",
    "plt.ylabel('Frecuencia')\n",
    "\n",
    "# Mostrar el gráfico\n",
    "plt.show()"
   ]
  },
  {
   "cell_type": "code",
   "execution_count": 8,
   "id": "5d47543d-277c-40c4-8cf9-858d357275d0",
   "metadata": {},
   "outputs": [
    {
     "data": {
      "text/html": [
       "<div>\n",
       "<style scoped>\n",
       "    .dataframe tbody tr th:only-of-type {\n",
       "        vertical-align: middle;\n",
       "    }\n",
       "\n",
       "    .dataframe tbody tr th {\n",
       "        vertical-align: top;\n",
       "    }\n",
       "\n",
       "    .dataframe thead th {\n",
       "        text-align: right;\n",
       "    }\n",
       "</style>\n",
       "<table border=\"1\" class=\"dataframe\">\n",
       "  <thead>\n",
       "    <tr style=\"text-align: right;\">\n",
       "      <th></th>\n",
       "      <th>Clase</th>\n",
       "      <th>Frecuencia</th>\n",
       "    </tr>\n",
       "  </thead>\n",
       "  <tbody>\n",
       "    <tr>\n",
       "      <th>0</th>\n",
       "      <td>35 - 44</td>\n",
       "      <td>2</td>\n",
       "    </tr>\n",
       "    <tr>\n",
       "      <th>1</th>\n",
       "      <td>45 - 54</td>\n",
       "      <td>2</td>\n",
       "    </tr>\n",
       "    <tr>\n",
       "      <th>2</th>\n",
       "      <td>55 - 64</td>\n",
       "      <td>7</td>\n",
       "    </tr>\n",
       "    <tr>\n",
       "      <th>3</th>\n",
       "      <td>65 - 74</td>\n",
       "      <td>13</td>\n",
       "    </tr>\n",
       "    <tr>\n",
       "      <th>4</th>\n",
       "      <td>75 - 84</td>\n",
       "      <td>11</td>\n",
       "    </tr>\n",
       "    <tr>\n",
       "      <th>5</th>\n",
       "      <td>85 - 94</td>\n",
       "      <td>11</td>\n",
       "    </tr>\n",
       "    <tr>\n",
       "      <th>6</th>\n",
       "      <td>95 - 104</td>\n",
       "      <td>4</td>\n",
       "    </tr>\n",
       "  </tbody>\n",
       "</table>\n",
       "</div>"
      ],
      "text/plain": [
       "      Clase  Frecuencia\n",
       "0   35 - 44           2\n",
       "1   45 - 54           2\n",
       "2   55 - 64           7\n",
       "3   65 - 74          13\n",
       "4   75 - 84          11\n",
       "5   85 - 94          11\n",
       "6  95 - 104           4"
      ]
     },
     "execution_count": 8,
     "metadata": {},
     "output_type": "execute_result"
    }
   ],
   "source": [
    "# Definir los límites de clase\n",
    "bins = [35, 45, 55, 65, 75, 85, 95, 105]\n",
    "labels = ['35 - 44', '45 - 54', '55 - 64', '65 - 74', '75 - 84', '85 - 94', '95 - 104']\n",
    "\n",
    "# Crear la tabla de frecuencias\n",
    "freq_table = pd.cut(data, bins=bins, labels=labels, right=False).value_counts().sort_index()\n",
    "\n",
    "# Crear un DataFrame con la tabla\n",
    "df = pd.DataFrame({'Clase': freq_table.index, 'Frecuencia': freq_table.values})\n",
    "\n",
    "# Mostrar la tabla\n",
    "df"
   ]
  },
  {
   "cell_type": "code",
   "execution_count": null,
   "id": "2a588fd5-fdfc-457f-9611-ba90951706f7",
   "metadata": {},
   "outputs": [],
   "source": []
  }
 ],
 "metadata": {
  "kernelspec": {
   "display_name": "Python 3 (ipykernel)",
   "language": "python",
   "name": "python3"
  },
  "language_info": {
   "codemirror_mode": {
    "name": "ipython",
    "version": 3
   },
   "file_extension": ".py",
   "mimetype": "text/x-python",
   "name": "python",
   "nbconvert_exporter": "python",
   "pygments_lexer": "ipython3",
   "version": "3.8.5"
  }
 },
 "nbformat": 4,
 "nbformat_minor": 5
}
