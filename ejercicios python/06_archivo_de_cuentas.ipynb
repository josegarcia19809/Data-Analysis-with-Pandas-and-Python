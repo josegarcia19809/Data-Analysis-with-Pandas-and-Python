{
 "cells": [
  {
   "cell_type": "markdown",
   "metadata": {
    "pycharm": {
     "name": "#%% md\n"
    }
   },
   "source": [
    "# Manejo de archivos (06_archivo_de_cuentas.ipynb)\n",
    "\n",
    "En esta práctica se realizarán las siguientes operaciones\n",
    "* Creación de un archivo\n",
    "* Lectura del archivo creado"
   ]
  },
  {
   "cell_type": "markdown",
   "metadata": {},
   "source": [
    "## Creación de un archivo de cuentas"
   ]
  },
  {
   "cell_type": "code",
   "execution_count": 1,
   "metadata": {},
   "outputs": [],
   "source": [
    "with open(\"cuentas.txt\", mode=\"w\") as cuentas:\n",
    "    cuentas.write('100 Carolina 24.98\\n')\n",
    "    cuentas.write('200 José 345.90\\n')\n",
    "    cuentas.write('300 Luis 0.00\\n')\n",
    "    cuentas.write('400 Rogelio -42.16\\n')\n",
    "    cuentas.write('500 Rox 224.62\\n')"
   ]
  },
  {
   "cell_type": "markdown",
   "metadata": {
    "pycharm": {
     "name": "#%% md\n"
    }
   },
   "source": [
    "## Lectura del archivo de cuentas"
   ]
  },
  {
   "cell_type": "code",
   "execution_count": 2,
   "metadata": {
    "pycharm": {
     "name": "#%%\n"
    }
   },
   "outputs": [
    {
     "name": "stdout",
     "output_type": "stream",
     "text": [
      "Cuenta    Nombre         Balance\n",
      "100       Carolina         24.98\n",
      "200       José            345.90\n",
      "300       Luis              0.00\n",
      "400       Rogelio         -42.16\n",
      "500       Rox             224.62\n"
     ]
    }
   ],
   "source": [
    "with open(\"cuentas.txt\", mode=\"r\") as cuentas:\n",
    "    print(f'{\"Cuenta\":<10}{\"Nombre\":<12}{\"Balance\":>10}')\n",
    "    for registro in cuentas:\n",
    "        cuenta, nombre, balance = registro.split()\n",
    "        print(f'{cuenta:<10}{nombre:<12}{balance:>10}')"
   ]
  },
  {
   "cell_type": "code",
   "execution_count": null,
   "metadata": {
    "pycharm": {
     "name": "#%%\n"
    }
   },
   "outputs": [],
   "source": []
  }
 ],
 "metadata": {
  "kernelspec": {
   "display_name": "Python 3",
   "language": "python",
   "name": "python3"
  },
  "language_info": {
   "codemirror_mode": {
    "name": "ipython",
    "version": 3
   },
   "file_extension": ".py",
   "mimetype": "text/x-python",
   "name": "python",
   "nbconvert_exporter": "python",
   "pygments_lexer": "ipython3",
   "version": "3.8.5"
  }
 },
 "nbformat": 4,
 "nbformat_minor": 4
}