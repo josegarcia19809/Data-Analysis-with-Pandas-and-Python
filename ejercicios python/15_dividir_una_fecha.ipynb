{
 "cells": [
  {
   "cell_type": "code",
   "execution_count": 1,
   "metadata": {},
   "outputs": [],
   "source": [
    "# Create a string with a date.\n",
    "fecha_contratacion = '11/26/2020'"
   ]
  },
  {
   "cell_type": "code",
   "execution_count": 7,
   "metadata": {},
   "outputs": [],
   "source": [
    "# Split the date.\n",
    "fecha_list = fecha_contratacion.split('/')"
   ]
  },
  {
   "cell_type": "code",
   "execution_count": 9,
   "metadata": {},
   "outputs": [
    {
     "name": "stdout",
     "output_type": "stream",
     "text": [
      "Mes: 11\n",
      "Día: 26\n",
      "Año: 2020\n"
     ]
    }
   ],
   "source": [
    "# Display each piece of the date.\n",
    "print(f'Mes: {fecha_list[0]}')\n",
    "print(f'Día: {fecha_list[1]}')\n",
    "print(f'Año: {fecha_list[2]}')"
   ]
  },
  {
   "cell_type": "code",
   "execution_count": null,
   "metadata": {},
   "outputs": [],
   "source": []
  }
 ],
 "metadata": {
  "kernelspec": {
   "display_name": "Python 3",
   "language": "python",
   "name": "python3"
  },
  "language_info": {
   "codemirror_mode": {
    "name": "ipython",
    "version": 3
   },
   "file_extension": ".py",
   "mimetype": "text/x-python",
   "name": "python",
   "nbconvert_exporter": "python",
   "pygments_lexer": "ipython3",
   "version": "3.8.5"
  }
 },
 "nbformat": 4,
 "nbformat_minor": 4
}
