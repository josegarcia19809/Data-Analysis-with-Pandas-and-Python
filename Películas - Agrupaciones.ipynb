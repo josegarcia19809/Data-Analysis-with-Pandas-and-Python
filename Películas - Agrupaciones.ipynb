{
 "cells": [
  {
   "cell_type": "code",
   "execution_count": 1,
   "metadata": {},
   "outputs": [],
   "source": [
    "import pandas as pd"
   ]
  },
  {
   "cell_type": "code",
   "execution_count": 2,
   "metadata": {},
   "outputs": [
    {
     "data": {
      "text/html": [
       "<div>\n",
       "<style scoped>\n",
       "    .dataframe tbody tr th:only-of-type {\n",
       "        vertical-align: middle;\n",
       "    }\n",
       "\n",
       "    .dataframe tbody tr th {\n",
       "        vertical-align: top;\n",
       "    }\n",
       "\n",
       "    .dataframe thead th {\n",
       "        text-align: right;\n",
       "    }\n",
       "</style>\n",
       "<table border=\"1\" class=\"dataframe\">\n",
       "  <thead>\n",
       "    <tr style=\"text-align: right;\">\n",
       "      <th></th>\n",
       "      <th>id</th>\n",
       "      <th>nombre</th>\n",
       "      <th>genero</th>\n",
       "      <th>año</th>\n",
       "      <th>calificacion_imdb</th>\n",
       "    </tr>\n",
       "  </thead>\n",
       "  <tbody>\n",
       "    <tr>\n",
       "      <th>0</th>\n",
       "      <td>1</td>\n",
       "      <td>Avatar</td>\n",
       "      <td>action</td>\n",
       "      <td>2009</td>\n",
       "      <td>7.9</td>\n",
       "    </tr>\n",
       "    <tr>\n",
       "      <th>1</th>\n",
       "      <td>2</td>\n",
       "      <td>Jurassic World</td>\n",
       "      <td>action</td>\n",
       "      <td>2015</td>\n",
       "      <td>7.3</td>\n",
       "    </tr>\n",
       "    <tr>\n",
       "      <th>2</th>\n",
       "      <td>3</td>\n",
       "      <td>The Avengers</td>\n",
       "      <td>action</td>\n",
       "      <td>2012</td>\n",
       "      <td>8.1</td>\n",
       "    </tr>\n",
       "    <tr>\n",
       "      <th>3</th>\n",
       "      <td>4</td>\n",
       "      <td>The Dark Knight</td>\n",
       "      <td>action</td>\n",
       "      <td>2008</td>\n",
       "      <td>9.0</td>\n",
       "    </tr>\n",
       "    <tr>\n",
       "      <th>4</th>\n",
       "      <td>5</td>\n",
       "      <td>Star Wars: Episode I - The Phantom Menace</td>\n",
       "      <td>action</td>\n",
       "      <td>1999</td>\n",
       "      <td>6.6</td>\n",
       "    </tr>\n",
       "    <tr>\n",
       "      <th>...</th>\n",
       "      <td>...</td>\n",
       "      <td>...</td>\n",
       "      <td>...</td>\n",
       "      <td>...</td>\n",
       "      <td>...</td>\n",
       "    </tr>\n",
       "    <tr>\n",
       "      <th>215</th>\n",
       "      <td>216</td>\n",
       "      <td>Hannibal</td>\n",
       "      <td>drama</td>\n",
       "      <td>2001</td>\n",
       "      <td>6.7</td>\n",
       "    </tr>\n",
       "    <tr>\n",
       "      <th>216</th>\n",
       "      <td>217</td>\n",
       "      <td>Catch Me If You Can</td>\n",
       "      <td>drama</td>\n",
       "      <td>2002</td>\n",
       "      <td>8.0</td>\n",
       "    </tr>\n",
       "    <tr>\n",
       "      <th>217</th>\n",
       "      <td>218</td>\n",
       "      <td>Big Daddy</td>\n",
       "      <td>drama</td>\n",
       "      <td>1999</td>\n",
       "      <td>6.4</td>\n",
       "    </tr>\n",
       "    <tr>\n",
       "      <th>218</th>\n",
       "      <td>219</td>\n",
       "      <td>Se7en</td>\n",
       "      <td>drama</td>\n",
       "      <td>1995</td>\n",
       "      <td>8.6</td>\n",
       "    </tr>\n",
       "    <tr>\n",
       "      <th>219</th>\n",
       "      <td>220</td>\n",
       "      <td>Seven</td>\n",
       "      <td>drama</td>\n",
       "      <td>1979</td>\n",
       "      <td>6.1</td>\n",
       "    </tr>\n",
       "  </tbody>\n",
       "</table>\n",
       "<p>220 rows × 5 columns</p>\n",
       "</div>"
      ],
      "text/plain": [
       "      id                                     nombre  genero   año  \\\n",
       "0      1                                     Avatar  action  2009   \n",
       "1      2                             Jurassic World  action  2015   \n",
       "2      3                               The Avengers  action  2012   \n",
       "3      4                            The Dark Knight  action  2008   \n",
       "4      5  Star Wars: Episode I - The Phantom Menace  action  1999   \n",
       "..   ...                                        ...     ...   ...   \n",
       "215  216                                   Hannibal   drama  2001   \n",
       "216  217                        Catch Me If You Can   drama  2002   \n",
       "217  218                                  Big Daddy   drama  1999   \n",
       "218  219                                      Se7en   drama  1995   \n",
       "219  220                                      Seven   drama  1979   \n",
       "\n",
       "     calificacion_imdb  \n",
       "0                  7.9  \n",
       "1                  7.3  \n",
       "2                  8.1  \n",
       "3                  9.0  \n",
       "4                  6.6  \n",
       "..                 ...  \n",
       "215                6.7  \n",
       "216                8.0  \n",
       "217                6.4  \n",
       "218                8.6  \n",
       "219                6.1  \n",
       "\n",
       "[220 rows x 5 columns]"
      ]
     },
     "execution_count": 2,
     "metadata": {},
     "output_type": "execute_result"
    }
   ],
   "source": [
    "peliculas = pd.read_csv(\"datax/imdb.csv\")\n",
    "peliculas"
   ]
  },
  {
   "cell_type": "code",
   "execution_count": 3,
   "metadata": {},
   "outputs": [
    {
     "data": {
      "text/plain": [
       "genero\n",
       "action     50\n",
       "comedy     47\n",
       "drama      30\n",
       "horror     49\n",
       "romance    44\n",
       "dtype: int64"
      ]
     },
     "execution_count": 3,
     "metadata": {},
     "output_type": "execute_result"
    }
   ],
   "source": [
    "# Agrupar por genero y mostrar su tamaño\n",
    "peliculas.groupby(\"genero\").size()"
   ]
  },
  {
   "cell_type": "code",
   "execution_count": 4,
   "metadata": {},
   "outputs": [
    {
     "data": {
      "text/plain": [
       "año\n",
       "1937     1\n",
       "1939     1\n",
       "1965     1\n",
       "1975     1\n",
       "1977     1\n",
       "1978     1\n",
       "1979     2\n",
       "1980     1\n",
       "1982     1\n",
       "1983     1\n",
       "1984     3\n",
       "1985     1\n",
       "1986     2\n",
       "1987     1\n",
       "1988     1\n",
       "1989     2\n",
       "1990     4\n",
       "1991     2\n",
       "1992     2\n",
       "1993     1\n",
       "1994     4\n",
       "1995     2\n",
       "1996     4\n",
       "1997     8\n",
       "1998     3\n",
       "1999    11\n",
       "2000     7\n",
       "2001     9\n",
       "2002     8\n",
       "2003     7\n",
       "2004     7\n",
       "2005    10\n",
       "2006     8\n",
       "2007    11\n",
       "2008    10\n",
       "2009    14\n",
       "2010    11\n",
       "2011    10\n",
       "2012    12\n",
       "2013    14\n",
       "2014    13\n",
       "2015     7\n",
       "dtype: int64"
      ]
     },
     "execution_count": 4,
     "metadata": {},
     "output_type": "execute_result"
    }
   ],
   "source": [
    "# Agrupar por año y mostrar su tamaño\n",
    "peliculas.groupby(\"año\").size()"
   ]
  },
  {
   "cell_type": "code",
   "execution_count": 5,
   "metadata": {},
   "outputs": [
    {
     "data": {
      "text/plain": [
       "genero\n",
       "action     7.396000\n",
       "comedy     7.140426\n",
       "drama      7.563333\n",
       "horror     6.348980\n",
       "romance    6.709091\n",
       "Name: calificacion_imdb, dtype: float64"
      ]
     },
     "execution_count": 5,
     "metadata": {},
     "output_type": "execute_result"
    }
   ],
   "source": [
    "# Agrupar por genero y mostrar promedio de calificación de cada grupo\n",
    "peliculas.groupby(\"genero\")[\"calificacion_imdb\"].mean()"
   ]
  },
  {
   "cell_type": "code",
   "execution_count": 6,
   "metadata": {},
   "outputs": [
    {
     "data": {
      "text/plain": [
       "genero\n",
       "action     9.0\n",
       "comedy     8.6\n",
       "drama      8.7\n",
       "horror     8.4\n",
       "romance    8.8\n",
       "Name: calificacion_imdb, dtype: float64"
      ]
     },
     "execution_count": 6,
     "metadata": {},
     "output_type": "execute_result"
    }
   ],
   "source": [
    "# Agrupar por genero y mostrar calificación más alta de cada grupo\n",
    "peliculas.groupby(\"genero\")[\"calificacion_imdb\"].max()"
   ]
  },
  {
   "cell_type": "code",
   "execution_count": 7,
   "metadata": {},
   "outputs": [
    {
     "data": {
      "text/plain": [
       "genero\n",
       "action     5.8\n",
       "comedy     4.4\n",
       "drama      5.9\n",
       "horror     4.6\n",
       "romance    4.2\n",
       "Name: calificacion_imdb, dtype: float64"
      ]
     },
     "execution_count": 7,
     "metadata": {},
     "output_type": "execute_result"
    }
   ],
   "source": [
    "# Agrupar por genero y mostrar calificación más baja de cada grupo\n",
    "peliculas.groupby(\"genero\")[\"calificacion_imdb\"].min()"
   ]
  },
  {
   "cell_type": "code",
   "execution_count": 8,
   "metadata": {},
   "outputs": [
    {
     "data": {
      "text/plain": [
       "año\n",
       "1937    7.7\n",
       "1939    8.2\n",
       "1965    8.0\n",
       "1975    8.1\n",
       "1977    8.7\n",
       "1978    5.7\n",
       "1979    6.2\n",
       "1980    8.8\n",
       "1982    7.4\n",
       "1983    8.4\n",
       "1984    7.8\n",
       "1985    8.5\n",
       "1986    8.4\n",
       "1987    5.9\n",
       "1988    8.0\n",
       "1989    7.6\n",
       "1990    8.0\n",
       "1991    8.0\n",
       "1992    8.0\n",
       "1993    6.9\n",
       "1994    8.8\n",
       "1995    8.6\n",
       "1996    7.3\n",
       "1997    7.8\n",
       "1998    8.6\n",
       "1999    8.2\n",
       "2000    8.5\n",
       "2001    8.2\n",
       "2002    8.0\n",
       "2003    8.2\n",
       "2004    8.0\n",
       "2005    7.7\n",
       "2006    7.3\n",
       "2007    8.0\n",
       "2008    9.0\n",
       "2009    8.3\n",
       "2010    8.8\n",
       "2011    8.1\n",
       "2012    8.5\n",
       "2013    7.8\n",
       "2014    8.7\n",
       "2015    8.6\n",
       "Name: calificacion_imdb, dtype: float64"
      ]
     },
     "execution_count": 8,
     "metadata": {},
     "output_type": "execute_result"
    }
   ],
   "source": [
    "# Agrupar por año y mostrar calificación más alta de cada grupo\n",
    "peliculas.groupby(\"año\")[\"calificacion_imdb\"].max()"
   ]
  },
  {
   "cell_type": "code",
   "execution_count": 9,
   "metadata": {},
   "outputs": [
    {
     "data": {
      "text/plain": [
       "<AxesSubplot:title={'center':'Películas IMDB'}, xlabel='genero'>"
      ]
     },
     "execution_count": 9,
     "metadata": {},
     "output_type": "execute_result"
    },
    {
     "data": {
      "image/png": "[encoded data removed]",
      "text/plain": [
       "<Figure size 640x480 with 1 Axes>"
      ]
     },
     "metadata": {},
     "output_type": "display_data"
    }
   ],
   "source": [
    "# Agrupar por genero y graficar cantidad de películas de cada grupo\n",
    "peliculas.groupby(\"genero\")[\"nombre\"].count().plot(kind=\"bar\", title=\"Películas IMDB\")"
   ]
  },
  {
   "cell_type": "code",
   "execution_count": null,
   "metadata": {},
   "outputs": [],
   "source": []
  }
 ],
 "metadata": {
  "kernelspec": {
   "display_name": "Python 3 (ipykernel)",
   "language": "python",
   "name": "python3"
  },
  "language_info": {
   "codemirror_mode": {
    "name": "ipython",
    "version": 3
   },
   "file_extension": ".py",
   "mimetype": "text/x-python",
   "name": "python",
   "nbconvert_exporter": "python",
   "pygments_lexer": "ipython3",
   "version": "3.8.5"
  }
 },
 "nbformat": 4,
 "nbformat_minor": 4
}
