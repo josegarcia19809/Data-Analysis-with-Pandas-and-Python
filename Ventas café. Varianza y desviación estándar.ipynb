{
 "cells": [
  {
   "cell_type": "code",
   "execution_count": 1,
   "id": "66b46dd8-19d1-4290-93c6-ed266ef9c53c",
   "metadata": {},
   "outputs": [],
   "source": [
    "import numpy as np\n",
    "import pandas as pd\n",
    "import statistics"
   ]
  },
  {
   "cell_type": "code",
   "execution_count": 2,
   "id": "248cb083-c3c8-4207-8f5c-02392a555ab1",
   "metadata": {},
   "outputs": [
    {
     "data": {
      "text/html": [
       "<div>\n",
       "<style scoped>\n",
       "    .dataframe tbody tr th:only-of-type {\n",
       "        vertical-align: middle;\n",
       "    }\n",
       "\n",
       "    .dataframe tbody tr th {\n",
       "        vertical-align: top;\n",
       "    }\n",
       "\n",
       "    .dataframe thead th {\n",
       "        text-align: right;\n",
       "    }\n",
       "</style>\n",
       "<table border=\"1\" class=\"dataframe\">\n",
       "  <thead>\n",
       "    <tr style=\"text-align: right;\">\n",
       "      <th></th>\n",
       "      <th>Día</th>\n",
       "      <th>Monterrey</th>\n",
       "      <th>Guadalajara</th>\n",
       "    </tr>\n",
       "  </thead>\n",
       "  <tbody>\n",
       "    <tr>\n",
       "      <th>0</th>\n",
       "      <td>lunes</td>\n",
       "      <td>20</td>\n",
       "      <td>20</td>\n",
       "    </tr>\n",
       "    <tr>\n",
       "      <th>1</th>\n",
       "      <td>martes</td>\n",
       "      <td>40</td>\n",
       "      <td>45</td>\n",
       "    </tr>\n",
       "    <tr>\n",
       "      <th>2</th>\n",
       "      <td>miércoles</td>\n",
       "      <td>50</td>\n",
       "      <td>50</td>\n",
       "    </tr>\n",
       "    <tr>\n",
       "      <th>3</th>\n",
       "      <td>jueves</td>\n",
       "      <td>60</td>\n",
       "      <td>55</td>\n",
       "    </tr>\n",
       "    <tr>\n",
       "      <th>4</th>\n",
       "      <td>viernes</td>\n",
       "      <td>80</td>\n",
       "      <td>80</td>\n",
       "    </tr>\n",
       "  </tbody>\n",
       "</table>\n",
       "</div>"
      ],
      "text/plain": [
       "         Día  Monterrey  Guadalajara\n",
       "0      lunes         20           20\n",
       "1     martes         40           45\n",
       "2  miércoles         50           50\n",
       "3     jueves         60           55\n",
       "4    viernes         80           80"
      ]
     },
     "execution_count": 2,
     "metadata": {},
     "output_type": "execute_result"
    }
   ],
   "source": [
    "ventas = pd.read_csv(\"datax/ventas_cafe.csv\")\n",
    "ventas"
   ]
  },
  {
   "cell_type": "markdown",
   "id": "3675f6cf-c617-4567-9c68-a86f6b672eb4",
   "metadata": {},
   "source": [
    "### Ventas Monterrey"
   ]
  },
  {
   "cell_type": "code",
   "execution_count": 3,
   "id": "1f495f36-dd0f-4f36-83b5-38faef111656",
   "metadata": {},
   "outputs": [
    {
     "data": {
      "text/plain": [
       "0    20\n",
       "1    40\n",
       "2    50\n",
       "3    60\n",
       "4    80\n",
       "Name: Monterrey, dtype: int64"
      ]
     },
     "execution_count": 3,
     "metadata": {},
     "output_type": "execute_result"
    }
   ],
   "source": [
    "ventas_monterrey = ventas[\"Monterrey\"]\n",
    "ventas_monterrey"
   ]
  },
  {
   "cell_type": "code",
   "execution_count": 4,
   "id": "b9513e54-4fd0-4b35-b9f1-ded63acb5486",
   "metadata": {},
   "outputs": [
    {
     "name": "stdout",
     "output_type": "stream",
     "text": [
      "La varianza de los datos es: 500\n"
     ]
    }
   ],
   "source": [
    "# Calculamos la varianza\n",
    "varianza_monterrey = statistics.variance(ventas_monterrey)\n",
    "print(f\"La varianza de los datos es: {varianza_monterrey}\")"
   ]
  },
  {
   "cell_type": "code",
   "execution_count": 5,
   "id": "f282f7a2-b13e-4854-aee4-198e7d93bcd7",
   "metadata": {},
   "outputs": [
    {
     "name": "stdout",
     "output_type": "stream",
     "text": [
      "La varianza poblacional es: 400\n"
     ]
    }
   ],
   "source": [
    "# Calcular la varianza poblacional usando statistics.pvariance()\n",
    "varianza_poblacional_monterrey = statistics.pvariance(ventas_monterrey)\n",
    "print(f\"La varianza poblacional es: {varianza_poblacional_monterrey}\")"
   ]
  },
  {
   "cell_type": "code",
   "execution_count": 6,
   "id": "19a0588d-e127-4afa-a38b-25bd76518c90",
   "metadata": {},
   "outputs": [
    {
     "name": "stdout",
     "output_type": "stream",
     "text": [
      "La desviación estándar de los datos es: 22.360679774997898\n"
     ]
    }
   ],
   "source": [
    "# Calculamos la desviación estándar\n",
    "desviacion_estandar_monterrey = statistics.stdev(ventas_monterrey)\n",
    "print(f\"La desviación estándar de los datos es: {desviacion_estandar_monterrey}\")"
   ]
  },
  {
   "cell_type": "markdown",
   "id": "e6459844-c537-4501-970e-f15a6d5c05e6",
   "metadata": {},
   "source": [
    "### Ventas Guadalajara"
   ]
  },
  {
   "cell_type": "code",
   "execution_count": 7,
   "id": "26c8ab73-327d-4969-aa5d-279b7f77c77e",
   "metadata": {},
   "outputs": [
    {
     "data": {
      "text/plain": [
       "0    20\n",
       "1    45\n",
       "2    50\n",
       "3    55\n",
       "4    80\n",
       "Name: Guadalajara, dtype: int64"
      ]
     },
     "execution_count": 7,
     "metadata": {},
     "output_type": "execute_result"
    }
   ],
   "source": [
    "ventas_guadalajara = ventas[\"Guadalajara\"]\n",
    "ventas_guadalajara"
   ]
  },
  {
   "cell_type": "code",
   "execution_count": 8,
   "id": "6ecd2c65-e74c-4aee-bd28-02ebf3f0f1a9",
   "metadata": {},
   "outputs": [
    {
     "name": "stdout",
     "output_type": "stream",
     "text": [
      "La varianza de los datos es: 462.5\n"
     ]
    }
   ],
   "source": [
    "# Calculamos la varianza\n",
    "varianza_guadalajara = statistics.variance(ventas_guadalajara)\n",
    "print(f\"La varianza de los datos es: {varianza_guadalajara}\")"
   ]
  },
  {
   "cell_type": "code",
   "execution_count": 9,
   "id": "01660d76-8403-412b-8d4e-925f282a526f",
   "metadata": {},
   "outputs": [
    {
     "name": "stdout",
     "output_type": "stream",
     "text": [
      "La desviación estándar de los datos es: 21.50581316760657\n"
     ]
    }
   ],
   "source": [
    "# Calculamos la desviación estándar\n",
    "desviacion_estandar_guadalajara = statistics.stdev(ventas_guadalajara)\n",
    "print(f\"La desviación estándar de los datos es: {desviacion_estandar_guadalajara}\")"
   ]
  },
  {
   "cell_type": "code",
   "execution_count": 10,
   "id": "1e6b34af-07c5-4b24-8c44-2e664f22eb19",
   "metadata": {},
   "outputs": [
    {
     "name": "stdout",
     "output_type": "stream",
     "text": [
      "La varianza poblacional es: 370\n"
     ]
    }
   ],
   "source": [
    "# Calcular la varianza poblacional usando statistics.pvariance()\n",
    "varianza_poblacional_guadalajara = statistics.pvariance(ventas_guadalajara)\n",
    "print(f\"La varianza poblacional es: {varianza_poblacional_guadalajara}\")"
   ]
  },
  {
   "cell_type": "code",
   "execution_count": 11,
   "id": "05d71191-efce-485d-b4e9-0aef0980084d",
   "metadata": {},
   "outputs": [
    {
     "name": "stdout",
     "output_type": "stream",
     "text": [
      "La desviación estándar poblacional es: 19.235384061671343\n"
     ]
    }
   ],
   "source": [
    "# Calcular la desviación estándar poblacional usando statistics.pstdev()\n",
    "desviacion_estandar_poblacional_guadalajara = statistics.pstdev(ventas_guadalajara)\n",
    "\n",
    "print(f\"La desviación estándar poblacional es: {desviacion_estandar_poblacional_guadalajara}\")"
   ]
  },
  {
   "cell_type": "code",
   "execution_count": null,
   "id": "b2d861ed-72bd-402f-a946-5ccc84ba34ff",
   "metadata": {},
   "outputs": [],
   "source": []
  }
 ],
 "metadata": {
  "kernelspec": {
   "display_name": "Python 3 (ipykernel)",
   "language": "python",
   "name": "python3"
  },
  "language_info": {
   "codemirror_mode": {
    "name": "ipython",
    "version": 3
   },
   "file_extension": ".py",
   "mimetype": "text/x-python",
   "name": "python",
   "nbconvert_exporter": "python",
   "pygments_lexer": "ipython3",
   "version": "3.8.5"
  }
 },
 "nbformat": 4,
 "nbformat_minor": 5
}
