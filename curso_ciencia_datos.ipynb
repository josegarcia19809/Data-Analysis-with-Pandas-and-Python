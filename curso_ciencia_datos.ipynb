{
 "cells": [
  {
   "cell_type": "code",
   "execution_count": 3,
   "id": "initial_id",
   "metadata": {
    "collapsed": true,
    "ExecuteTime": {
     "end_time": "2024-01-22T19:30:43.754470Z",
     "start_time": "2024-01-22T19:30:43.740243Z"
    }
   },
   "outputs": [
    {
     "name": "stdout",
     "output_type": "stream",
     "text": [
      "\n",
      "El contenido del archivo readme.txt es:\n",
      "\n",
      "Historically, Java application developers have had a few options for project build tools. Some have fallen out of favor over time—for good reason—and now we’ve coalesced as a community around two: Maven and Gradle. Spring Boot supports both with equal aplomb.\n"
     ]
    }
   ],
   "source": [
    "archivo_externo = \"readme.txt\"\n",
    "archivo_en_memoria = open(archivo_externo)\n",
    "contenido = archivo_en_memoria.read()\n",
    "print(\"\\nEl contenido del archivo \" + archivo_externo + \" es:\\n\")\n",
    "print(contenido + \"\\n\")\n",
    "archivo_en_memoria.close()"
   ]
  },
  {
   "cell_type": "code",
   "outputs": [],
   "source": [],
   "metadata": {
    "collapsed": false
   },
   "id": "286cebca7bad0411"
  }
 ],
 "metadata": {
  "kernelspec": {
   "display_name": "Python 3",
   "language": "python",
   "name": "python3"
  },
  "language_info": {
   "codemirror_mode": {
    "name": "ipython",
    "version": 2
   },
   "file_extension": ".py",
   "mimetype": "text/x-python",
   "name": "python",
   "nbconvert_exporter": "python",
   "pygments_lexer": "ipython2",
   "version": "2.7.6"
  }
 },
 "nbformat": 4,
 "nbformat_minor": 5
}
