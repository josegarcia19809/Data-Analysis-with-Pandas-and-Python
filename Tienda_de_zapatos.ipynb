{
 "cells": [
  {
   "cell_type": "markdown",
   "source": [],
   "metadata": {
    "collapsed": false
   },
   "id": "93435496b4d192d8"
  },
  {
   "cell_type": "markdown",
   "source": [
    "# Proyecto #4 - Corriendo Lambdas sobre un DataSet de Una Tienda de Zapatos"
   ],
   "metadata": {
    "collapsed": false
   },
   "id": "14dea34b9a639cb9"
  },
  {
   "cell_type": "code",
   "outputs": [],
   "source": [
    "import pandas as pd"
   ],
   "metadata": {
    "collapsed": false,
    "ExecuteTime": {
     "end_time": "2024-01-23T19:58:54.999529Z",
     "start_time": "2024-01-23T19:58:52.737544Z"
    }
   },
   "id": "b8e71ba0b52499c4",
   "execution_count": 2
  },
  {
   "cell_type": "markdown",
   "source": [
    "Accedamos a un nuevo dataFrame llamado shoeflys2.csv e importemoslo y asignemoslo a la variable orders y examine las primeras 5 filas"
   ],
   "metadata": {
    "collapsed": false
   },
   "id": "7762baedbd824e4f"
  },
  {
   "cell_type": "code",
   "outputs": [
    {
     "data": {
      "text/plain": "   first_name last_name  gender                       email shoe_type  \\\n0       David  Williams  Female    jane.johnson@example.com   Sandals   \n1     Michael     Smith  Female    jane.johnson@example.com  Sneakers   \n2       Emily     Davis  Female     emily.jones@example.com     Boots   \n3     Michael     Davis  Female     david.jones@example.com   Sandals   \n4        John     Smith    Male    john.johnson@example.com     Flats   \n..        ...       ...     ...                         ...       ...   \n95       John  Williams    Male  sarah.williams@example.com  Sneakers   \n96      Emily     Jones  Female     sarah.davis@example.com   Sandals   \n97    Michael     Jones  Female     sarah.davis@example.com     Boots   \n98      Emily     Jones    Male    jane.johnson@example.com     Boots   \n99       John   Johnson    Male   michael.davis@example.com   Sandals   \n\n   shoe_material shoe_color  \n0        Leather      Black  \n1        Leather      White  \n2           Mesh      Green  \n3      Synthetic      Brown  \n4      Synthetic       Blue  \n..           ...        ...  \n95     Synthetic       Blue  \n96     Synthetic        Red  \n97          Mesh      Green  \n98       Leather        Red  \n99        Canvas        Red  \n\n[100 rows x 7 columns]",
      "text/html": "<div>\n<style scoped>\n    .dataframe tbody tr th:only-of-type {\n        vertical-align: middle;\n    }\n\n    .dataframe tbody tr th {\n        vertical-align: top;\n    }\n\n    .dataframe thead th {\n        text-align: right;\n    }\n</style>\n<table border=\"1\" class=\"dataframe\">\n  <thead>\n    <tr style=\"text-align: right;\">\n      <th></th>\n      <th>first_name</th>\n      <th>last_name</th>\n      <th>gender</th>\n      <th>email</th>\n      <th>shoe_type</th>\n      <th>shoe_material</th>\n      <th>shoe_color</th>\n    </tr>\n  </thead>\n  <tbody>\n    <tr>\n      <th>0</th>\n      <td>David</td>\n      <td>Williams</td>\n      <td>Female</td>\n      <td>jane.johnson@example.com</td>\n      <td>Sandals</td>\n      <td>Leather</td>\n      <td>Black</td>\n    </tr>\n    <tr>\n      <th>1</th>\n      <td>Michael</td>\n      <td>Smith</td>\n      <td>Female</td>\n      <td>jane.johnson@example.com</td>\n      <td>Sneakers</td>\n      <td>Leather</td>\n      <td>White</td>\n    </tr>\n    <tr>\n      <th>2</th>\n      <td>Emily</td>\n      <td>Davis</td>\n      <td>Female</td>\n      <td>emily.jones@example.com</td>\n      <td>Boots</td>\n      <td>Mesh</td>\n      <td>Green</td>\n    </tr>\n    <tr>\n      <th>3</th>\n      <td>Michael</td>\n      <td>Davis</td>\n      <td>Female</td>\n      <td>david.jones@example.com</td>\n      <td>Sandals</td>\n      <td>Synthetic</td>\n      <td>Brown</td>\n    </tr>\n    <tr>\n      <th>4</th>\n      <td>John</td>\n      <td>Smith</td>\n      <td>Male</td>\n      <td>john.johnson@example.com</td>\n      <td>Flats</td>\n      <td>Synthetic</td>\n      <td>Blue</td>\n    </tr>\n    <tr>\n      <th>...</th>\n      <td>...</td>\n      <td>...</td>\n      <td>...</td>\n      <td>...</td>\n      <td>...</td>\n      <td>...</td>\n      <td>...</td>\n    </tr>\n    <tr>\n      <th>95</th>\n      <td>John</td>\n      <td>Williams</td>\n      <td>Male</td>\n      <td>sarah.williams@example.com</td>\n      <td>Sneakers</td>\n      <td>Synthetic</td>\n      <td>Blue</td>\n    </tr>\n    <tr>\n      <th>96</th>\n      <td>Emily</td>\n      <td>Jones</td>\n      <td>Female</td>\n      <td>sarah.davis@example.com</td>\n      <td>Sandals</td>\n      <td>Synthetic</td>\n      <td>Red</td>\n    </tr>\n    <tr>\n      <th>97</th>\n      <td>Michael</td>\n      <td>Jones</td>\n      <td>Female</td>\n      <td>sarah.davis@example.com</td>\n      <td>Boots</td>\n      <td>Mesh</td>\n      <td>Green</td>\n    </tr>\n    <tr>\n      <th>98</th>\n      <td>Emily</td>\n      <td>Jones</td>\n      <td>Male</td>\n      <td>jane.johnson@example.com</td>\n      <td>Boots</td>\n      <td>Leather</td>\n      <td>Red</td>\n    </tr>\n    <tr>\n      <th>99</th>\n      <td>John</td>\n      <td>Johnson</td>\n      <td>Male</td>\n      <td>michael.davis@example.com</td>\n      <td>Sandals</td>\n      <td>Canvas</td>\n      <td>Red</td>\n    </tr>\n  </tbody>\n</table>\n<p>100 rows × 7 columns</p>\n</div>"
     },
     "execution_count": 3,
     "metadata": {},
     "output_type": "execute_result"
    }
   ],
   "source": [
    "orders = pd.read_csv('datax/shoesfly2.csv')\n",
    "orders"
   ],
   "metadata": {
    "collapsed": false,
    "ExecuteTime": {
     "end_time": "2024-01-23T19:59:36.326210Z",
     "start_time": "2024-01-23T19:59:36.260868Z"
    }
   },
   "id": "9a6891bb72de8062",
   "execution_count": 3
  },
  {
   "cell_type": "markdown",
   "source": [
    "Varios de nuestros clientes quieren comprar zapatos veganos (zapatos hechos con materials que no vienen de animales). Añada una nueva columna a este dataframe llamada shoe_source el cual será vegan si el material no es leather y animals de otra manera"
   ],
   "metadata": {
    "collapsed": false
   },
   "id": "198714944e91161d"
  },
  {
   "cell_type": "code",
   "outputs": [
    {
     "data": {
      "text/plain": "   first_name last_name  gender                       email shoe_type  \\\n0       David  Williams  Female    jane.johnson@example.com   Sandals   \n1     Michael     Smith  Female    jane.johnson@example.com  Sneakers   \n2       Emily     Davis  Female     emily.jones@example.com     Boots   \n3     Michael     Davis  Female     david.jones@example.com   Sandals   \n4        John     Smith    Male    john.johnson@example.com     Flats   \n..        ...       ...     ...                         ...       ...   \n95       John  Williams    Male  sarah.williams@example.com  Sneakers   \n96      Emily     Jones  Female     sarah.davis@example.com   Sandals   \n97    Michael     Jones  Female     sarah.davis@example.com     Boots   \n98      Emily     Jones    Male    jane.johnson@example.com     Boots   \n99       John   Johnson    Male   michael.davis@example.com   Sandals   \n\n   shoe_material shoe_color shoe_source  \n0        Leather      Black     animals  \n1        Leather      White     animals  \n2           Mesh      Green       vegan  \n3      Synthetic      Brown       vegan  \n4      Synthetic       Blue       vegan  \n..           ...        ...         ...  \n95     Synthetic       Blue       vegan  \n96     Synthetic        Red       vegan  \n97          Mesh      Green       vegan  \n98       Leather        Red     animals  \n99        Canvas        Red       vegan  \n\n[100 rows x 8 columns]",
      "text/html": "<div>\n<style scoped>\n    .dataframe tbody tr th:only-of-type {\n        vertical-align: middle;\n    }\n\n    .dataframe tbody tr th {\n        vertical-align: top;\n    }\n\n    .dataframe thead th {\n        text-align: right;\n    }\n</style>\n<table border=\"1\" class=\"dataframe\">\n  <thead>\n    <tr style=\"text-align: right;\">\n      <th></th>\n      <th>first_name</th>\n      <th>last_name</th>\n      <th>gender</th>\n      <th>email</th>\n      <th>shoe_type</th>\n      <th>shoe_material</th>\n      <th>shoe_color</th>\n      <th>shoe_source</th>\n    </tr>\n  </thead>\n  <tbody>\n    <tr>\n      <th>0</th>\n      <td>David</td>\n      <td>Williams</td>\n      <td>Female</td>\n      <td>jane.johnson@example.com</td>\n      <td>Sandals</td>\n      <td>Leather</td>\n      <td>Black</td>\n      <td>animals</td>\n    </tr>\n    <tr>\n      <th>1</th>\n      <td>Michael</td>\n      <td>Smith</td>\n      <td>Female</td>\n      <td>jane.johnson@example.com</td>\n      <td>Sneakers</td>\n      <td>Leather</td>\n      <td>White</td>\n      <td>animals</td>\n    </tr>\n    <tr>\n      <th>2</th>\n      <td>Emily</td>\n      <td>Davis</td>\n      <td>Female</td>\n      <td>emily.jones@example.com</td>\n      <td>Boots</td>\n      <td>Mesh</td>\n      <td>Green</td>\n      <td>vegan</td>\n    </tr>\n    <tr>\n      <th>3</th>\n      <td>Michael</td>\n      <td>Davis</td>\n      <td>Female</td>\n      <td>david.jones@example.com</td>\n      <td>Sandals</td>\n      <td>Synthetic</td>\n      <td>Brown</td>\n      <td>vegan</td>\n    </tr>\n    <tr>\n      <th>4</th>\n      <td>John</td>\n      <td>Smith</td>\n      <td>Male</td>\n      <td>john.johnson@example.com</td>\n      <td>Flats</td>\n      <td>Synthetic</td>\n      <td>Blue</td>\n      <td>vegan</td>\n    </tr>\n    <tr>\n      <th>...</th>\n      <td>...</td>\n      <td>...</td>\n      <td>...</td>\n      <td>...</td>\n      <td>...</td>\n      <td>...</td>\n      <td>...</td>\n      <td>...</td>\n    </tr>\n    <tr>\n      <th>95</th>\n      <td>John</td>\n      <td>Williams</td>\n      <td>Male</td>\n      <td>sarah.williams@example.com</td>\n      <td>Sneakers</td>\n      <td>Synthetic</td>\n      <td>Blue</td>\n      <td>vegan</td>\n    </tr>\n    <tr>\n      <th>96</th>\n      <td>Emily</td>\n      <td>Jones</td>\n      <td>Female</td>\n      <td>sarah.davis@example.com</td>\n      <td>Sandals</td>\n      <td>Synthetic</td>\n      <td>Red</td>\n      <td>vegan</td>\n    </tr>\n    <tr>\n      <th>97</th>\n      <td>Michael</td>\n      <td>Jones</td>\n      <td>Female</td>\n      <td>sarah.davis@example.com</td>\n      <td>Boots</td>\n      <td>Mesh</td>\n      <td>Green</td>\n      <td>vegan</td>\n    </tr>\n    <tr>\n      <th>98</th>\n      <td>Emily</td>\n      <td>Jones</td>\n      <td>Male</td>\n      <td>jane.johnson@example.com</td>\n      <td>Boots</td>\n      <td>Leather</td>\n      <td>Red</td>\n      <td>animals</td>\n    </tr>\n    <tr>\n      <th>99</th>\n      <td>John</td>\n      <td>Johnson</td>\n      <td>Male</td>\n      <td>michael.davis@example.com</td>\n      <td>Sandals</td>\n      <td>Canvas</td>\n      <td>Red</td>\n      <td>vegan</td>\n    </tr>\n  </tbody>\n</table>\n<p>100 rows × 8 columns</p>\n</div>"
     },
     "execution_count": 5,
     "metadata": {},
     "output_type": "execute_result"
    }
   ],
   "source": [
    "orders[\"shoe_source\"] = orders.apply(\n",
    "    lambda row: \"animals\" if row['shoe_material'] == \"Leather\" else \"vegan\", axis=1\n",
    ")\n",
    "orders"
   ],
   "metadata": {
    "collapsed": false,
    "ExecuteTime": {
     "end_time": "2024-01-23T20:03:54.251728Z",
     "start_time": "2024-01-23T20:03:54.239495Z"
    }
   },
   "id": "c3cdae93ac8bed23",
   "execution_count": 5
  },
  {
   "cell_type": "code",
   "outputs": [
    {
     "data": {
      "text/plain": "   first_name last_name  gender                       email shoe_type  \\\n0       David  Williams  Female    jane.johnson@example.com   Sandals   \n1     Michael     Smith  Female    jane.johnson@example.com  Sneakers   \n2       Emily     Davis  Female     emily.jones@example.com     Boots   \n3     Michael     Davis  Female     david.jones@example.com   Sandals   \n4        John     Smith    Male    john.johnson@example.com     Flats   \n..        ...       ...     ...                         ...       ...   \n95       John  Williams    Male  sarah.williams@example.com  Sneakers   \n96      Emily     Jones  Female     sarah.davis@example.com   Sandals   \n97    Michael     Jones  Female     sarah.davis@example.com     Boots   \n98      Emily     Jones    Male    jane.johnson@example.com     Boots   \n99       John   Johnson    Male   michael.davis@example.com   Sandals   \n\n   shoe_material shoe_color shoe_source  \n0        Leather      Black     animals  \n1        Leather      White     animals  \n2           Mesh      Green       vegan  \n3      Synthetic      Brown       vegan  \n4      Synthetic       Blue       vegan  \n..           ...        ...         ...  \n95     Synthetic       Blue       vegan  \n96     Synthetic        Red       vegan  \n97          Mesh      Green       vegan  \n98       Leather        Red     animals  \n99        Canvas        Red       vegan  \n\n[100 rows x 8 columns]",
      "text/html": "<div>\n<style scoped>\n    .dataframe tbody tr th:only-of-type {\n        vertical-align: middle;\n    }\n\n    .dataframe tbody tr th {\n        vertical-align: top;\n    }\n\n    .dataframe thead th {\n        text-align: right;\n    }\n</style>\n<table border=\"1\" class=\"dataframe\">\n  <thead>\n    <tr style=\"text-align: right;\">\n      <th></th>\n      <th>first_name</th>\n      <th>last_name</th>\n      <th>gender</th>\n      <th>email</th>\n      <th>shoe_type</th>\n      <th>shoe_material</th>\n      <th>shoe_color</th>\n      <th>shoe_source</th>\n    </tr>\n  </thead>\n  <tbody>\n    <tr>\n      <th>0</th>\n      <td>David</td>\n      <td>Williams</td>\n      <td>Female</td>\n      <td>jane.johnson@example.com</td>\n      <td>Sandals</td>\n      <td>Leather</td>\n      <td>Black</td>\n      <td>animals</td>\n    </tr>\n    <tr>\n      <th>1</th>\n      <td>Michael</td>\n      <td>Smith</td>\n      <td>Female</td>\n      <td>jane.johnson@example.com</td>\n      <td>Sneakers</td>\n      <td>Leather</td>\n      <td>White</td>\n      <td>animals</td>\n    </tr>\n    <tr>\n      <th>2</th>\n      <td>Emily</td>\n      <td>Davis</td>\n      <td>Female</td>\n      <td>emily.jones@example.com</td>\n      <td>Boots</td>\n      <td>Mesh</td>\n      <td>Green</td>\n      <td>vegan</td>\n    </tr>\n    <tr>\n      <th>3</th>\n      <td>Michael</td>\n      <td>Davis</td>\n      <td>Female</td>\n      <td>david.jones@example.com</td>\n      <td>Sandals</td>\n      <td>Synthetic</td>\n      <td>Brown</td>\n      <td>vegan</td>\n    </tr>\n    <tr>\n      <th>4</th>\n      <td>John</td>\n      <td>Smith</td>\n      <td>Male</td>\n      <td>john.johnson@example.com</td>\n      <td>Flats</td>\n      <td>Synthetic</td>\n      <td>Blue</td>\n      <td>vegan</td>\n    </tr>\n    <tr>\n      <th>...</th>\n      <td>...</td>\n      <td>...</td>\n      <td>...</td>\n      <td>...</td>\n      <td>...</td>\n      <td>...</td>\n      <td>...</td>\n      <td>...</td>\n    </tr>\n    <tr>\n      <th>95</th>\n      <td>John</td>\n      <td>Williams</td>\n      <td>Male</td>\n      <td>sarah.williams@example.com</td>\n      <td>Sneakers</td>\n      <td>Synthetic</td>\n      <td>Blue</td>\n      <td>vegan</td>\n    </tr>\n    <tr>\n      <th>96</th>\n      <td>Emily</td>\n      <td>Jones</td>\n      <td>Female</td>\n      <td>sarah.davis@example.com</td>\n      <td>Sandals</td>\n      <td>Synthetic</td>\n      <td>Red</td>\n      <td>vegan</td>\n    </tr>\n    <tr>\n      <th>97</th>\n      <td>Michael</td>\n      <td>Jones</td>\n      <td>Female</td>\n      <td>sarah.davis@example.com</td>\n      <td>Boots</td>\n      <td>Mesh</td>\n      <td>Green</td>\n      <td>vegan</td>\n    </tr>\n    <tr>\n      <th>98</th>\n      <td>Emily</td>\n      <td>Jones</td>\n      <td>Male</td>\n      <td>jane.johnson@example.com</td>\n      <td>Boots</td>\n      <td>Leather</td>\n      <td>Red</td>\n      <td>animals</td>\n    </tr>\n    <tr>\n      <th>99</th>\n      <td>John</td>\n      <td>Johnson</td>\n      <td>Male</td>\n      <td>michael.davis@example.com</td>\n      <td>Sandals</td>\n      <td>Canvas</td>\n      <td>Red</td>\n      <td>vegan</td>\n    </tr>\n  </tbody>\n</table>\n<p>100 rows × 8 columns</p>\n</div>"
     },
     "execution_count": 6,
     "metadata": {},
     "output_type": "execute_result"
    }
   ],
   "source": [
    "orders[\"shoe_source\"] = orders['shoe_material'].apply(\n",
    "    lambda material: \"animals\" if material == \"Leather\" else \"vegan\"\n",
    ")\n",
    "orders"
   ],
   "metadata": {
    "collapsed": false,
    "ExecuteTime": {
     "end_time": "2024-01-23T20:06:51.083439Z",
     "start_time": "2024-01-23T20:06:51.077447Z"
    }
   },
   "id": "fdf438d363d813f4",
   "execution_count": 6
  },
  {
   "cell_type": "markdown",
   "source": [
    "Nuestro departamento de marketing quiere enviar emails a cada consumidor. Usando la columna last _name y gender cree una columna llamada salutation el cual contiene el siguiente string Dear Mr. «last_name>> para saludar a los hombres y el string Dear Ms. ‹last_name> para saludar las mujeres."
   ],
   "metadata": {
    "collapsed": false
   },
   "id": "e91b4773c436d989"
  },
  {
   "cell_type": "code",
   "outputs": [
    {
     "data": {
      "text/plain": "   first_name last_name  gender                       email shoe_type  \\\n0       David  Williams  Female    jane.johnson@example.com   Sandals   \n1     Michael     Smith  Female    jane.johnson@example.com  Sneakers   \n2       Emily     Davis  Female     emily.jones@example.com     Boots   \n3     Michael     Davis  Female     david.jones@example.com   Sandals   \n4        John     Smith    Male    john.johnson@example.com     Flats   \n..        ...       ...     ...                         ...       ...   \n95       John  Williams    Male  sarah.williams@example.com  Sneakers   \n96      Emily     Jones  Female     sarah.davis@example.com   Sandals   \n97    Michael     Jones  Female     sarah.davis@example.com     Boots   \n98      Emily     Jones    Male    jane.johnson@example.com     Boots   \n99       John   Johnson    Male   michael.davis@example.com   Sandals   \n\n   shoe_material shoe_color shoe_source          saludation  \n0        Leather      Black     animals  Dear Mrs. Williams  \n1        Leather      White     animals     Dear Mrs. Smith  \n2           Mesh      Green       vegan     Dear Mrs. Davis  \n3      Synthetic      Brown       vegan     Dear Mrs. Davis  \n4      Synthetic       Blue       vegan      Dear Mr. Smith  \n..           ...        ...         ...                 ...  \n95     Synthetic       Blue       vegan   Dear Mr. Williams  \n96     Synthetic        Red       vegan     Dear Mrs. Jones  \n97          Mesh      Green       vegan     Dear Mrs. Jones  \n98       Leather        Red     animals      Dear Mr. Jones  \n99        Canvas        Red       vegan    Dear Mr. Johnson  \n\n[100 rows x 9 columns]",
      "text/html": "<div>\n<style scoped>\n    .dataframe tbody tr th:only-of-type {\n        vertical-align: middle;\n    }\n\n    .dataframe tbody tr th {\n        vertical-align: top;\n    }\n\n    .dataframe thead th {\n        text-align: right;\n    }\n</style>\n<table border=\"1\" class=\"dataframe\">\n  <thead>\n    <tr style=\"text-align: right;\">\n      <th></th>\n      <th>first_name</th>\n      <th>last_name</th>\n      <th>gender</th>\n      <th>email</th>\n      <th>shoe_type</th>\n      <th>shoe_material</th>\n      <th>shoe_color</th>\n      <th>shoe_source</th>\n      <th>saludation</th>\n    </tr>\n  </thead>\n  <tbody>\n    <tr>\n      <th>0</th>\n      <td>David</td>\n      <td>Williams</td>\n      <td>Female</td>\n      <td>jane.johnson@example.com</td>\n      <td>Sandals</td>\n      <td>Leather</td>\n      <td>Black</td>\n      <td>animals</td>\n      <td>Dear Mrs. Williams</td>\n    </tr>\n    <tr>\n      <th>1</th>\n      <td>Michael</td>\n      <td>Smith</td>\n      <td>Female</td>\n      <td>jane.johnson@example.com</td>\n      <td>Sneakers</td>\n      <td>Leather</td>\n      <td>White</td>\n      <td>animals</td>\n      <td>Dear Mrs. Smith</td>\n    </tr>\n    <tr>\n      <th>2</th>\n      <td>Emily</td>\n      <td>Davis</td>\n      <td>Female</td>\n      <td>emily.jones@example.com</td>\n      <td>Boots</td>\n      <td>Mesh</td>\n      <td>Green</td>\n      <td>vegan</td>\n      <td>Dear Mrs. Davis</td>\n    </tr>\n    <tr>\n      <th>3</th>\n      <td>Michael</td>\n      <td>Davis</td>\n      <td>Female</td>\n      <td>david.jones@example.com</td>\n      <td>Sandals</td>\n      <td>Synthetic</td>\n      <td>Brown</td>\n      <td>vegan</td>\n      <td>Dear Mrs. Davis</td>\n    </tr>\n    <tr>\n      <th>4</th>\n      <td>John</td>\n      <td>Smith</td>\n      <td>Male</td>\n      <td>john.johnson@example.com</td>\n      <td>Flats</td>\n      <td>Synthetic</td>\n      <td>Blue</td>\n      <td>vegan</td>\n      <td>Dear Mr. Smith</td>\n    </tr>\n    <tr>\n      <th>...</th>\n      <td>...</td>\n      <td>...</td>\n      <td>...</td>\n      <td>...</td>\n      <td>...</td>\n      <td>...</td>\n      <td>...</td>\n      <td>...</td>\n      <td>...</td>\n    </tr>\n    <tr>\n      <th>95</th>\n      <td>John</td>\n      <td>Williams</td>\n      <td>Male</td>\n      <td>sarah.williams@example.com</td>\n      <td>Sneakers</td>\n      <td>Synthetic</td>\n      <td>Blue</td>\n      <td>vegan</td>\n      <td>Dear Mr. Williams</td>\n    </tr>\n    <tr>\n      <th>96</th>\n      <td>Emily</td>\n      <td>Jones</td>\n      <td>Female</td>\n      <td>sarah.davis@example.com</td>\n      <td>Sandals</td>\n      <td>Synthetic</td>\n      <td>Red</td>\n      <td>vegan</td>\n      <td>Dear Mrs. Jones</td>\n    </tr>\n    <tr>\n      <th>97</th>\n      <td>Michael</td>\n      <td>Jones</td>\n      <td>Female</td>\n      <td>sarah.davis@example.com</td>\n      <td>Boots</td>\n      <td>Mesh</td>\n      <td>Green</td>\n      <td>vegan</td>\n      <td>Dear Mrs. Jones</td>\n    </tr>\n    <tr>\n      <th>98</th>\n      <td>Emily</td>\n      <td>Jones</td>\n      <td>Male</td>\n      <td>jane.johnson@example.com</td>\n      <td>Boots</td>\n      <td>Leather</td>\n      <td>Red</td>\n      <td>animals</td>\n      <td>Dear Mr. Jones</td>\n    </tr>\n    <tr>\n      <th>99</th>\n      <td>John</td>\n      <td>Johnson</td>\n      <td>Male</td>\n      <td>michael.davis@example.com</td>\n      <td>Sandals</td>\n      <td>Canvas</td>\n      <td>Red</td>\n      <td>vegan</td>\n      <td>Dear Mr. Johnson</td>\n    </tr>\n  </tbody>\n</table>\n<p>100 rows × 9 columns</p>\n</div>"
     },
     "execution_count": 8,
     "metadata": {},
     "output_type": "execute_result"
    }
   ],
   "source": [
    "orders[\"saludation\"] = orders.apply(\n",
    "    lambda row: \"Dear Mr. \" + row[\"last_name\"] if row[\"gender\"] == \"Male\" else \"Dear Mrs. \" + row[\"last_name\"], axis=1\n",
    ")\n",
    "orders"
   ],
   "metadata": {
    "collapsed": false,
    "ExecuteTime": {
     "end_time": "2024-01-23T20:11:09.281881Z",
     "start_time": "2024-01-23T20:11:09.253969Z"
    }
   },
   "id": "f9e4fd4a9d2c4199",
   "execution_count": 8
  },
  {
   "cell_type": "code",
   "outputs": [],
   "source": [],
   "metadata": {
    "collapsed": false
   },
   "id": "fb4dca8c88b52613"
  }
 ],
 "metadata": {
  "kernelspec": {
   "display_name": "Python 3",
   "language": "python",
   "name": "python3"
  },
  "language_info": {
   "codemirror_mode": {
    "name": "ipython",
    "version": 2
   },
   "file_extension": ".py",
   "mimetype": "text/x-python",
   "name": "python",
   "nbconvert_exporter": "python",
   "pygments_lexer": "ipython2",
   "version": "2.7.6"
  }
 },
 "nbformat": 4,
 "nbformat_minor": 5
}
