{
 "cells": [
  {
   "cell_type": "markdown",
   "metadata": {},
   "source": [
    "# Análisis de datos de Personas que han muerto en el monte everest"
   ]
  },
  {
   "cell_type": "markdown",
   "metadata": {},
   "source": [
    "Crear las siguientes operaciones\n",
    "\n",
    "* 1) Mostrar nombre y nacionalidad de aquellas personas que pertenecieron a United Kingdom. (nacionalidad)\n",
    "\n",
    "* 2) Mostrar nombre y edad de aquellas personas cuya edad esté entre 18 y 21\n",
    "\n",
    "* 3) Mostrar nombre y edad de las personas que no sean menores a los 50 años.\n",
    "\n",
    "* 4) Mostrar nombre, edad y nacionalidad de las personas que tengan 25 años o que sean de nacionalidad mexicana (Mexican).\n",
    "\n",
    "* 5) Pedir una letra. Mostrar nombre y causa de muerte de las personas cuyos nombres empiecen con esa letra.\n",
    "\n",
    "* 6) Mostrar nombre y causa de muerte de todas las personas en orden ascendente según causa de muerte.\n",
    "\n",
    "* 7) ¿Cuál es el nombre de la persona más joven que falleció en una expedición registrada?\n",
    "\n",
    "* 8) ¿Cuál es la edad promedio de las personas que fallecieron en el conjunto de datos?\n",
    "\n",
    "* 9) ¿Cuál fue la causa de muerte más común entre las personas fallecidas?\n",
    "\n",
    "* 10) ¿Cuántas nacionalidades diferentes están representadas en el conjunto de datos?"
   ]
  },
  {
   "cell_type": "code",
   "execution_count": 1,
   "metadata": {},
   "outputs": [],
   "source": [
    "import pandas as pd"
   ]
  },
  {
   "cell_type": "code",
   "execution_count": 2,
   "metadata": {},
   "outputs": [
    {
     "data": {
      "text/html": [
       "<div>\n",
       "<style scoped>\n",
       "    .dataframe tbody tr th:only-of-type {\n",
       "        vertical-align: middle;\n",
       "    }\n",
       "\n",
       "    .dataframe tbody tr th {\n",
       "        vertical-align: top;\n",
       "    }\n",
       "\n",
       "    .dataframe thead th {\n",
       "        text-align: right;\n",
       "    }\n",
       "</style>\n",
       "<table border=\"1\" class=\"dataframe\">\n",
       "  <thead>\n",
       "    <tr style=\"text-align: right;\">\n",
       "      <th></th>\n",
       "      <th>Nombre</th>\n",
       "      <th>Fecha</th>\n",
       "      <th>Edad</th>\n",
       "      <th>Expedicion</th>\n",
       "      <th>Nacionalidad</th>\n",
       "      <th>Causa de muerte</th>\n",
       "      <th>Ubicación</th>\n",
       "    </tr>\n",
       "  </thead>\n",
       "  <tbody>\n",
       "    <tr>\n",
       "      <th>0</th>\n",
       "      <td>Dorje</td>\n",
       "      <td>June 7, 1922</td>\n",
       "      <td>20.0</td>\n",
       "      <td>1922 British Mount Everest Expedition</td>\n",
       "      <td>Nepal</td>\n",
       "      <td>Avalanche</td>\n",
       "      <td>Below North Col</td>\n",
       "    </tr>\n",
       "    <tr>\n",
       "      <th>1</th>\n",
       "      <td>Lhakpa</td>\n",
       "      <td>June 7, 1922</td>\n",
       "      <td>20.0</td>\n",
       "      <td>1922 British Mount Everest Expedition</td>\n",
       "      <td>Nepal</td>\n",
       "      <td>Avalanche</td>\n",
       "      <td>Below North Col</td>\n",
       "    </tr>\n",
       "    <tr>\n",
       "      <th>2</th>\n",
       "      <td>Norbu</td>\n",
       "      <td>June 7, 1922</td>\n",
       "      <td>20.0</td>\n",
       "      <td>1922 British Mount Everest Expedition</td>\n",
       "      <td>Nepal</td>\n",
       "      <td>Avalanche</td>\n",
       "      <td>Below North Col</td>\n",
       "    </tr>\n",
       "    <tr>\n",
       "      <th>3</th>\n",
       "      <td>Pasang</td>\n",
       "      <td>June 7, 1922</td>\n",
       "      <td>20.0</td>\n",
       "      <td>1922 British Mount Everest Expedition</td>\n",
       "      <td>Nepal</td>\n",
       "      <td>Avalanche</td>\n",
       "      <td>Below North Col</td>\n",
       "    </tr>\n",
       "    <tr>\n",
       "      <th>4</th>\n",
       "      <td>Pema</td>\n",
       "      <td>June 7, 1922</td>\n",
       "      <td>20.0</td>\n",
       "      <td>1922 British Mount Everest Expedition</td>\n",
       "      <td>Nepal</td>\n",
       "      <td>Avalanche</td>\n",
       "      <td>Below North Col</td>\n",
       "    </tr>\n",
       "  </tbody>\n",
       "</table>\n",
       "</div>"
      ],
      "text/plain": [
       "   Nombre         Fecha  Edad                             Expedicion  \\\n",
       "0   Dorje  June 7, 1922  20.0  1922 British Mount Everest Expedition   \n",
       "1  Lhakpa  June 7, 1922  20.0  1922 British Mount Everest Expedition   \n",
       "2   Norbu  June 7, 1922  20.0  1922 British Mount Everest Expedition   \n",
       "3  Pasang  June 7, 1922  20.0  1922 British Mount Everest Expedition   \n",
       "4    Pema  June 7, 1922  20.0  1922 British Mount Everest Expedition   \n",
       "\n",
       "  Nacionalidad Causa de muerte        Ubicación  \n",
       "0        Nepal       Avalanche  Below North Col  \n",
       "1        Nepal       Avalanche  Below North Col  \n",
       "2        Nepal       Avalanche  Below North Col  \n",
       "3        Nepal       Avalanche  Below North Col  \n",
       "4        Nepal       Avalanche  Below North Col  "
      ]
     },
     "execution_count": 2,
     "metadata": {},
     "output_type": "execute_result"
    }
   ],
   "source": [
    "muertes = pd.read_csv(\"datax/muertes_everest.csv\")\n",
    "muertes.head()"
   ]
  },
  {
   "cell_type": "code",
   "execution_count": 3,
   "metadata": {},
   "outputs": [
    {
     "name": "stdout",
     "output_type": "stream",
     "text": [
      "<class 'pandas.core.frame.DataFrame'>\n",
      "RangeIndex: 310 entries, 0 to 309\n",
      "Data columns (total 7 columns):\n",
      " #   Column           Non-Null Count  Dtype  \n",
      "---  ------           --------------  -----  \n",
      " 0   Nombre           310 non-null    object \n",
      " 1   Fecha            310 non-null    object \n",
      " 2   Edad             310 non-null    float64\n",
      " 3   Expedicion       310 non-null    object \n",
      " 4   Nacionalidad     310 non-null    object \n",
      " 5   Causa de muerte  310 non-null    object \n",
      " 6   Ubicación        310 non-null    object \n",
      "dtypes: float64(1), object(6)\n",
      "memory usage: 17.1+ KB\n"
     ]
    }
   ],
   "source": [
    "muertes.info()"
   ]
  },
  {
   "cell_type": "code",
   "execution_count": 4,
   "metadata": {},
   "outputs": [
    {
     "data": {
      "text/html": [
       "<div>\n",
       "<style scoped>\n",
       "    .dataframe tbody tr th:only-of-type {\n",
       "        vertical-align: middle;\n",
       "    }\n",
       "\n",
       "    .dataframe tbody tr th {\n",
       "        vertical-align: top;\n",
       "    }\n",
       "\n",
       "    .dataframe thead th {\n",
       "        text-align: right;\n",
       "    }\n",
       "</style>\n",
       "<table border=\"1\" class=\"dataframe\">\n",
       "  <thead>\n",
       "    <tr style=\"text-align: right;\">\n",
       "      <th></th>\n",
       "      <th>Nombre</th>\n",
       "      <th>Nacionalidad</th>\n",
       "    </tr>\n",
       "  </thead>\n",
       "  <tbody>\n",
       "    <tr>\n",
       "      <th>9</th>\n",
       "      <td>Andrew Irvine</td>\n",
       "      <td>United Kingdom</td>\n",
       "    </tr>\n",
       "    <tr>\n",
       "      <th>10</th>\n",
       "      <td>George Mallory</td>\n",
       "      <td>United Kingdom</td>\n",
       "    </tr>\n",
       "    <tr>\n",
       "      <th>11</th>\n",
       "      <td>Maurice Wilson</td>\n",
       "      <td>United Kingdom</td>\n",
       "    </tr>\n",
       "    <tr>\n",
       "      <th>37</th>\n",
       "      <td>Mick Burke</td>\n",
       "      <td>United Kingdom</td>\n",
       "    </tr>\n",
       "    <tr>\n",
       "      <th>38</th>\n",
       "      <td>Terry Thompson</td>\n",
       "      <td>United Kingdom</td>\n",
       "    </tr>\n",
       "  </tbody>\n",
       "</table>\n",
       "</div>"
      ],
      "text/plain": [
       "            Nombre    Nacionalidad\n",
       "9    Andrew Irvine  United Kingdom\n",
       "10  George Mallory  United Kingdom\n",
       "11  Maurice Wilson  United Kingdom\n",
       "37      Mick Burke  United Kingdom\n",
       "38  Terry Thompson  United Kingdom"
      ]
     },
     "execution_count": 4,
     "metadata": {},
     "output_type": "execute_result"
    }
   ],
   "source": [
    "# Mostrar nombre y nacionalidad de aquellas personas que pertenecieron a United Kingdom. (nacionalidad).\n",
    "britanicos = muertes[muertes[\"Nacionalidad\"] == \"United Kingdom\"]\n",
    "britanicos[[\"Nombre\", \"Nacionalidad\"]].head(5)"
   ]
  },
  {
   "cell_type": "code",
   "execution_count": 5,
   "metadata": {},
   "outputs": [
    {
     "data": {
      "text/plain": [
       "Nombre          18\n",
       "Nacionalidad    18\n",
       "dtype: int64"
      ]
     },
     "execution_count": 5,
     "metadata": {},
     "output_type": "execute_result"
    }
   ],
   "source": [
    "britanicos[[\"Nombre\", \"Nacionalidad\"]].count()"
   ]
  },
  {
   "cell_type": "code",
   "execution_count": 6,
   "metadata": {},
   "outputs": [
    {
     "data": {
      "text/html": [
       "<div>\n",
       "<style scoped>\n",
       "    .dataframe tbody tr th:only-of-type {\n",
       "        vertical-align: middle;\n",
       "    }\n",
       "\n",
       "    .dataframe tbody tr th {\n",
       "        vertical-align: top;\n",
       "    }\n",
       "\n",
       "    .dataframe thead th {\n",
       "        text-align: right;\n",
       "    }\n",
       "</style>\n",
       "<table border=\"1\" class=\"dataframe\">\n",
       "  <thead>\n",
       "    <tr style=\"text-align: right;\">\n",
       "      <th></th>\n",
       "      <th>Nombre</th>\n",
       "      <th>Edad</th>\n",
       "    </tr>\n",
       "  </thead>\n",
       "  <tbody>\n",
       "    <tr>\n",
       "      <th>0</th>\n",
       "      <td>Dorje</td>\n",
       "      <td>20.0</td>\n",
       "    </tr>\n",
       "    <tr>\n",
       "      <th>1</th>\n",
       "      <td>Lhakpa</td>\n",
       "      <td>20.0</td>\n",
       "    </tr>\n",
       "    <tr>\n",
       "      <th>2</th>\n",
       "      <td>Norbu</td>\n",
       "      <td>20.0</td>\n",
       "    </tr>\n",
       "    <tr>\n",
       "      <th>3</th>\n",
       "      <td>Pasang</td>\n",
       "      <td>20.0</td>\n",
       "    </tr>\n",
       "    <tr>\n",
       "      <th>4</th>\n",
       "      <td>Pema</td>\n",
       "      <td>20.0</td>\n",
       "    </tr>\n",
       "    <tr>\n",
       "      <th>5</th>\n",
       "      <td>Sange</td>\n",
       "      <td>20.0</td>\n",
       "    </tr>\n",
       "    <tr>\n",
       "      <th>6</th>\n",
       "      <td>Temba</td>\n",
       "      <td>20.0</td>\n",
       "    </tr>\n",
       "    <tr>\n",
       "      <th>7</th>\n",
       "      <td>Man Bahadur</td>\n",
       "      <td>20.0</td>\n",
       "    </tr>\n",
       "    <tr>\n",
       "      <th>8</th>\n",
       "      <td>Lance-Naik Shamsherpun</td>\n",
       "      <td>20.0</td>\n",
       "    </tr>\n",
       "    <tr>\n",
       "      <th>12</th>\n",
       "      <td>Dorje Mingma</td>\n",
       "      <td>20.0</td>\n",
       "    </tr>\n",
       "  </tbody>\n",
       "</table>\n",
       "</div>"
      ],
      "text/plain": [
       "                    Nombre  Edad\n",
       "0                    Dorje  20.0\n",
       "1                   Lhakpa  20.0\n",
       "2                    Norbu  20.0\n",
       "3                   Pasang  20.0\n",
       "4                     Pema  20.0\n",
       "5                    Sange  20.0\n",
       "6                    Temba  20.0\n",
       "7              Man Bahadur  20.0\n",
       "8   Lance-Naik Shamsherpun  20.0\n",
       "12            Dorje Mingma  20.0"
      ]
     },
     "execution_count": 6,
     "metadata": {},
     "output_type": "execute_result"
    }
   ],
   "source": [
    "# Mostrar nombre y edad de aquellas personas cuya edad esté entre 18 y 21\n",
    "personas18_a_21 = muertes[(muertes[\"Edad\"] >= 18) & (muertes[\"Edad\"] <= 21)]\n",
    "personas18_a_21[[\"Nombre\", \"Edad\"]].head(10)"
   ]
  },
  {
   "cell_type": "code",
   "execution_count": 7,
   "metadata": {},
   "outputs": [
    {
     "data": {
      "text/plain": [
       "Nombre    153\n",
       "Edad      153\n",
       "dtype: int64"
      ]
     },
     "execution_count": 7,
     "metadata": {},
     "output_type": "execute_result"
    }
   ],
   "source": [
    "personas18_a_21[[\"Nombre\", \"Edad\"]].count()"
   ]
  },
  {
   "cell_type": "code",
   "execution_count": 8,
   "metadata": {},
   "outputs": [
    {
     "data": {
      "text/html": [
       "<div>\n",
       "<style scoped>\n",
       "    .dataframe tbody tr th:only-of-type {\n",
       "        vertical-align: middle;\n",
       "    }\n",
       "\n",
       "    .dataframe tbody tr th {\n",
       "        vertical-align: top;\n",
       "    }\n",
       "\n",
       "    .dataframe thead th {\n",
       "        text-align: right;\n",
       "    }\n",
       "</style>\n",
       "<table border=\"1\" class=\"dataframe\">\n",
       "  <thead>\n",
       "    <tr style=\"text-align: right;\">\n",
       "      <th></th>\n",
       "      <th>Nombre</th>\n",
       "      <th>Edad</th>\n",
       "    </tr>\n",
       "  </thead>\n",
       "  <tbody>\n",
       "    <tr>\n",
       "      <th>70</th>\n",
       "      <td>Jozef Psotka</td>\n",
       "      <td>50.0</td>\n",
       "    </tr>\n",
       "    <tr>\n",
       "      <th>81</th>\n",
       "      <td>Simon Burkhardt</td>\n",
       "      <td>52.0</td>\n",
       "    </tr>\n",
       "    <tr>\n",
       "      <th>102</th>\n",
       "      <td>Andrzej Heinrich</td>\n",
       "      <td>51.0</td>\n",
       "    </tr>\n",
       "    <tr>\n",
       "      <th>103</th>\n",
       "      <td>Wacław Otręba</td>\n",
       "      <td>50.0</td>\n",
       "    </tr>\n",
       "    <tr>\n",
       "      <th>123</th>\n",
       "      <td>Karl Henize</td>\n",
       "      <td>66.0</td>\n",
       "    </tr>\n",
       "    <tr>\n",
       "      <th>128</th>\n",
       "      <td>Mike Rheinberger</td>\n",
       "      <td>53.0</td>\n",
       "    </tr>\n",
       "    <tr>\n",
       "      <th>177</th>\n",
       "      <td>Jan Krzysztof Liszewski</td>\n",
       "      <td>55.0</td>\n",
       "    </tr>\n",
       "    <tr>\n",
       "      <th>183</th>\n",
       "      <td>Nils Antezana</td>\n",
       "      <td>69.0</td>\n",
       "    </tr>\n",
       "    <tr>\n",
       "      <th>185</th>\n",
       "      <td>Shoko Ota</td>\n",
       "      <td>63.0</td>\n",
       "    </tr>\n",
       "    <tr>\n",
       "      <th>187</th>\n",
       "      <td>Sean Egan</td>\n",
       "      <td>63.0</td>\n",
       "    </tr>\n",
       "  </tbody>\n",
       "</table>\n",
       "</div>"
      ],
      "text/plain": [
       "                      Nombre  Edad\n",
       "70              Jozef Psotka  50.0\n",
       "81           Simon Burkhardt  52.0\n",
       "102         Andrzej Heinrich  51.0\n",
       "103            Wacław Otręba  50.0\n",
       "123              Karl Henize  66.0\n",
       "128         Mike Rheinberger  53.0\n",
       "177  Jan Krzysztof Liszewski  55.0\n",
       "183            Nils Antezana  69.0\n",
       "185                Shoko Ota  63.0\n",
       "187                Sean Egan  63.0"
      ]
     },
     "execution_count": 8,
     "metadata": {},
     "output_type": "execute_result"
    }
   ],
   "source": [
    "# Mostrar nombre y edad de las personas que no sean menores a los 50 años. (negación pandas ~)\n",
    "personas_no_menores_50 = muertes[~(muertes[\"Edad\"] < 50)]\n",
    "personas_no_menores_50[[\"Nombre\", \"Edad\"]].head(10)"
   ]
  },
  {
   "cell_type": "code",
   "execution_count": 9,
   "metadata": {},
   "outputs": [
    {
     "data": {
      "text/html": [
       "<div>\n",
       "<style scoped>\n",
       "    .dataframe tbody tr th:only-of-type {\n",
       "        vertical-align: middle;\n",
       "    }\n",
       "\n",
       "    .dataframe tbody tr th {\n",
       "        vertical-align: top;\n",
       "    }\n",
       "\n",
       "    .dataframe thead th {\n",
       "        text-align: right;\n",
       "    }\n",
       "</style>\n",
       "<table border=\"1\" class=\"dataframe\">\n",
       "  <thead>\n",
       "    <tr style=\"text-align: right;\">\n",
       "      <th></th>\n",
       "      <th>Nombre</th>\n",
       "      <th>Edad</th>\n",
       "      <th>Nacionalidad</th>\n",
       "    </tr>\n",
       "  </thead>\n",
       "  <tbody>\n",
       "    <tr>\n",
       "      <th>274</th>\n",
       "      <td>Shiva Kumar Shrestha</td>\n",
       "      <td>25.0</td>\n",
       "      <td>Nepal</td>\n",
       "    </tr>\n",
       "    <tr>\n",
       "      <th>275</th>\n",
       "      <td>Unknown climber</td>\n",
       "      <td>20.0</td>\n",
       "      <td>Mexican</td>\n",
       "    </tr>\n",
       "    <tr>\n",
       "      <th>278</th>\n",
       "      <td>Phurba Sherpa</td>\n",
       "      <td>25.0</td>\n",
       "      <td>Nepal</td>\n",
       "    </tr>\n",
       "  </tbody>\n",
       "</table>\n",
       "</div>"
      ],
      "text/plain": [
       "                   Nombre  Edad Nacionalidad\n",
       "274  Shiva Kumar Shrestha  25.0        Nepal\n",
       "275       Unknown climber  20.0      Mexican\n",
       "278         Phurba Sherpa  25.0        Nepal"
      ]
     },
     "execution_count": 9,
     "metadata": {},
     "output_type": "execute_result"
    }
   ],
   "source": [
    "# Mostrar nombre, edad y nacionalidad de las personas que tengan 25 años o \n",
    "# que sean de nacionalidad mexicana (Mexican).\n",
    "mexicano_o_25 = muertes[(muertes[\"Nacionalidad\"] == \"Mexican\") | (muertes[\"Edad\"] == 25)]\n",
    "mexicano_o_25[[\"Nombre\", \"Edad\", \"Nacionalidad\"]]"
   ]
  },
  {
   "cell_type": "code",
   "execution_count": 10,
   "metadata": {},
   "outputs": [
    {
     "name": "stdout",
     "output_type": "stream",
     "text": [
      "Dame una letra: c\n"
     ]
    },
    {
     "data": {
      "text/html": [
       "<div>\n",
       "<style scoped>\n",
       "    .dataframe tbody tr th:only-of-type {\n",
       "        vertical-align: middle;\n",
       "    }\n",
       "\n",
       "    .dataframe tbody tr th {\n",
       "        vertical-align: top;\n",
       "    }\n",
       "\n",
       "    .dataframe thead th {\n",
       "        text-align: right;\n",
       "    }\n",
       "</style>\n",
       "<table border=\"1\" class=\"dataframe\">\n",
       "  <thead>\n",
       "    <tr style=\"text-align: right;\">\n",
       "      <th></th>\n",
       "      <th>Nombre</th>\n",
       "      <th>Causa de muerte</th>\n",
       "    </tr>\n",
       "  </thead>\n",
       "  <tbody>\n",
       "    <tr>\n",
       "      <th>69</th>\n",
       "      <td>Craig Nottle</td>\n",
       "      <td>Fall</td>\n",
       "    </tr>\n",
       "    <tr>\n",
       "      <th>133</th>\n",
       "      <td>Chen Yu-Nan</td>\n",
       "      <td>Injuries from a fall</td>\n",
       "    </tr>\n",
       "    <tr>\n",
       "      <th>156</th>\n",
       "      <td>Choi Byong-soo</td>\n",
       "      <td>Avalanche</td>\n",
       "    </tr>\n",
       "    <tr>\n",
       "      <th>252</th>\n",
       "      <td>Chhiring Ongchu Sherpa</td>\n",
       "      <td>2014 Mount Everest Avalanche</td>\n",
       "    </tr>\n",
       "    <tr>\n",
       "      <th>266</th>\n",
       "      <td>Chhimi Dawa Sherpa</td>\n",
       "      <td>Base Camp avalanche following the April 2015 N...</td>\n",
       "    </tr>\n",
       "    <tr>\n",
       "      <th>277</th>\n",
       "      <td>Charles MacAdams</td>\n",
       "      <td>Cardiac event</td>\n",
       "    </tr>\n",
       "    <tr>\n",
       "      <th>294</th>\n",
       "      <td>Chris Daly</td>\n",
       "      <td>Died after a fall while trekking down from bas...</td>\n",
       "    </tr>\n",
       "    <tr>\n",
       "      <th>305</th>\n",
       "      <td>Christopher Jon Kulish</td>\n",
       "      <td>Cardiac event during descent</td>\n",
       "    </tr>\n",
       "  </tbody>\n",
       "</table>\n",
       "</div>"
      ],
      "text/plain": [
       "                     Nombre                                    Causa de muerte\n",
       "69             Craig Nottle                                               Fall\n",
       "133             Chen Yu-Nan                               Injuries from a fall\n",
       "156          Choi Byong-soo                                          Avalanche\n",
       "252  Chhiring Ongchu Sherpa                       2014 Mount Everest Avalanche\n",
       "266      Chhimi Dawa Sherpa  Base Camp avalanche following the April 2015 N...\n",
       "277        Charles MacAdams                                      Cardiac event\n",
       "294              Chris Daly  Died after a fall while trekking down from bas...\n",
       "305  Christopher Jon Kulish                       Cardiac event during descent"
      ]
     },
     "execution_count": 10,
     "metadata": {},
     "output_type": "execute_result"
    }
   ],
   "source": [
    "# Pedir una letra. Mostrar nombre y causa de muerte de \n",
    "# las personas cuyos nombres empiecen con esa letra.\n",
    "letra = input(\"Dame una letra: \").upper()\n",
    "personas_letra = muertes[muertes[\"Nombre\"].str.startswith(letra)]\n",
    "personas_letra[[\"Nombre\",\"Causa de muerte\"]]"
   ]
  },
  {
   "cell_type": "code",
   "execution_count": 11,
   "metadata": {},
   "outputs": [
    {
     "data": {
      "text/html": [
       "<div>\n",
       "<style scoped>\n",
       "    .dataframe tbody tr th:only-of-type {\n",
       "        vertical-align: middle;\n",
       "    }\n",
       "\n",
       "    .dataframe tbody tr th {\n",
       "        vertical-align: top;\n",
       "    }\n",
       "\n",
       "    .dataframe thead th {\n",
       "        text-align: right;\n",
       "    }\n",
       "</style>\n",
       "<table border=\"1\" class=\"dataframe\">\n",
       "  <thead>\n",
       "    <tr style=\"text-align: right;\">\n",
       "      <th></th>\n",
       "      <th>Nombre</th>\n",
       "      <th>Causa de muerte</th>\n",
       "    </tr>\n",
       "  </thead>\n",
       "  <tbody>\n",
       "    <tr>\n",
       "      <th>157</th>\n",
       "      <td>Sergei Arsentiev</td>\n",
       "      <td>100m fall</td>\n",
       "    </tr>\n",
       "    <tr>\n",
       "      <th>128</th>\n",
       "      <td>Mike Rheinberger</td>\n",
       "      <td>150m fall. He showed signs of exhaustion, dehy...</td>\n",
       "    </tr>\n",
       "    <tr>\n",
       "      <th>258</th>\n",
       "      <td>PemTenji Sherpa</td>\n",
       "      <td>2014 Mount Everest Avalanche</td>\n",
       "    </tr>\n",
       "    <tr>\n",
       "      <th>257</th>\n",
       "      <td>Ankaji Sherpa</td>\n",
       "      <td>2014 Mount Everest Avalanche</td>\n",
       "    </tr>\n",
       "    <tr>\n",
       "      <th>256</th>\n",
       "      <td>Pasang Karma Sherpa</td>\n",
       "      <td>2014 Mount Everest Avalanche</td>\n",
       "    </tr>\n",
       "    <tr>\n",
       "      <th>255</th>\n",
       "      <td>Phur Temba Sherpa</td>\n",
       "      <td>2014 Mount Everest Avalanche</td>\n",
       "    </tr>\n",
       "    <tr>\n",
       "      <th>254</th>\n",
       "      <td>Then Dorjee Sherpa</td>\n",
       "      <td>2014 Mount Everest Avalanche</td>\n",
       "    </tr>\n",
       "    <tr>\n",
       "      <th>253</th>\n",
       "      <td>Dorjee Khatri</td>\n",
       "      <td>2014 Mount Everest Avalanche</td>\n",
       "    </tr>\n",
       "    <tr>\n",
       "      <th>252</th>\n",
       "      <td>Chhiring Ongchu Sherpa</td>\n",
       "      <td>2014 Mount Everest Avalanche</td>\n",
       "    </tr>\n",
       "    <tr>\n",
       "      <th>251</th>\n",
       "      <td>Lapka Tenjing Sherpa</td>\n",
       "      <td>2014 Mount Everest Avalanche</td>\n",
       "    </tr>\n",
       "    <tr>\n",
       "      <th>250</th>\n",
       "      <td>Phurba Ongyal Sherpa</td>\n",
       "      <td>2014 Mount Everest Avalanche</td>\n",
       "    </tr>\n",
       "    <tr>\n",
       "      <th>249</th>\n",
       "      <td>Tenzing Chottar Sherpa</td>\n",
       "      <td>2014 Mount Everest Avalanche</td>\n",
       "    </tr>\n",
       "    <tr>\n",
       "      <th>248</th>\n",
       "      <td>Nima Sherpa</td>\n",
       "      <td>2014 Mount Everest Avalanche</td>\n",
       "    </tr>\n",
       "    <tr>\n",
       "      <th>247</th>\n",
       "      <td>Ang Tshiri Sherpa</td>\n",
       "      <td>2014 Mount Everest Avalanche</td>\n",
       "    </tr>\n",
       "    <tr>\n",
       "      <th>246</th>\n",
       "      <td>Dorji Sherpa</td>\n",
       "      <td>2014 Mount Everest Avalanche</td>\n",
       "    </tr>\n",
       "    <tr>\n",
       "      <th>245</th>\n",
       "      <td>Mingma Nuru Sherpa</td>\n",
       "      <td>2014 Mount Everest Avalanche</td>\n",
       "    </tr>\n",
       "    <tr>\n",
       "      <th>259</th>\n",
       "      <td>Aash Bahadur Gurung</td>\n",
       "      <td>2014 Mount Everest Avalanche</td>\n",
       "    </tr>\n",
       "    <tr>\n",
       "      <th>193</th>\n",
       "      <td>Tuk Bahadur Thapa Magar Sherpa</td>\n",
       "      <td>Altitude</td>\n",
       "    </tr>\n",
       "    <tr>\n",
       "      <th>285</th>\n",
       "      <td>Roland Yearwood</td>\n",
       "      <td>Altitude sickness</td>\n",
       "    </tr>\n",
       "    <tr>\n",
       "      <th>142</th>\n",
       "      <td>Reinhard Wlasich</td>\n",
       "      <td>Altitude sickness</td>\n",
       "    </tr>\n",
       "  </tbody>\n",
       "</table>\n",
       "</div>"
      ],
      "text/plain": [
       "                             Nombre  \\\n",
       "157                Sergei Arsentiev   \n",
       "128                Mike Rheinberger   \n",
       "258                 PemTenji Sherpa   \n",
       "257                   Ankaji Sherpa   \n",
       "256             Pasang Karma Sherpa   \n",
       "255               Phur Temba Sherpa   \n",
       "254              Then Dorjee Sherpa   \n",
       "253                   Dorjee Khatri   \n",
       "252          Chhiring Ongchu Sherpa   \n",
       "251            Lapka Tenjing Sherpa   \n",
       "250            Phurba Ongyal Sherpa   \n",
       "249          Tenzing Chottar Sherpa   \n",
       "248                     Nima Sherpa   \n",
       "247               Ang Tshiri Sherpa   \n",
       "246                    Dorji Sherpa   \n",
       "245              Mingma Nuru Sherpa   \n",
       "259             Aash Bahadur Gurung   \n",
       "193  Tuk Bahadur Thapa Magar Sherpa   \n",
       "285                 Roland Yearwood   \n",
       "142                Reinhard Wlasich   \n",
       "\n",
       "                                       Causa de muerte  \n",
       "157                                          100m fall  \n",
       "128  150m fall. He showed signs of exhaustion, dehy...  \n",
       "258                       2014 Mount Everest Avalanche  \n",
       "257                       2014 Mount Everest Avalanche  \n",
       "256                       2014 Mount Everest Avalanche  \n",
       "255                       2014 Mount Everest Avalanche  \n",
       "254                       2014 Mount Everest Avalanche  \n",
       "253                       2014 Mount Everest Avalanche  \n",
       "252                       2014 Mount Everest Avalanche  \n",
       "251                       2014 Mount Everest Avalanche  \n",
       "250                       2014 Mount Everest Avalanche  \n",
       "249                       2014 Mount Everest Avalanche  \n",
       "248                       2014 Mount Everest Avalanche  \n",
       "247                       2014 Mount Everest Avalanche  \n",
       "246                       2014 Mount Everest Avalanche  \n",
       "245                       2014 Mount Everest Avalanche  \n",
       "259                       2014 Mount Everest Avalanche  \n",
       "193                                           Altitude  \n",
       "285                                  Altitude sickness  \n",
       "142                                  Altitude sickness  "
      ]
     },
     "execution_count": 11,
     "metadata": {},
     "output_type": "execute_result"
    }
   ],
   "source": [
    "# Mostrar nombre y causa de muerte de todas las personas en orden ascendente según causa de muerte.\n",
    "muertes.sort_values(by='Causa de muerte')[[\"Nombre\", \"Causa de muerte\"]].head(20)\n",
    "# Mostrará primero a los que empiecen con un número"
   ]
  },
  {
   "cell_type": "code",
   "execution_count": 12,
   "metadata": {},
   "outputs": [
    {
     "data": {
      "text/plain": [
       "Nombre    Pemba Sherpa\n",
       "Edad              19.0\n",
       "Name: 263, dtype: object"
      ]
     },
     "execution_count": 12,
     "metadata": {},
     "output_type": "execute_result"
    }
   ],
   "source": [
    "# ¿Cuál es el nombre de la persona más joven que falleció en una expedición registrada?\n",
    "# 1 Ordena el dataframe por la columna que contiene la edad de fallecimiento en orden ascendente.\n",
    "# 2 Selecciona la primera fila de ese dataframe ordenado, que corresponderá a la persona más joven \n",
    "# que falleció.\n",
    "muertes_ordenadas_por_edad = muertes.sort_values(by= \"Edad\")\n",
    "persona_mas_joven = muertes_ordenadas_por_edad.iloc[0]\n",
    "persona_mas_joven[[\"Nombre\", \"Edad\"]]"
   ]
  },
  {
   "cell_type": "code",
   "execution_count": 13,
   "metadata": {},
   "outputs": [
    {
     "name": "stdout",
     "output_type": "stream",
     "text": [
      "La edad promedio de las personas que fallecieron es 30.51 años.\n"
     ]
    }
   ],
   "source": [
    "# ¿Cuál es la edad promedio de las personas que fallecieron en el conjunto de datos?\n",
    "\n",
    "edad_promedio = muertes['Edad'].mean()\n",
    "print(f\"La edad promedio de las personas que fallecieron es {edad_promedio:.2f} años.\")"
   ]
  },
  {
   "cell_type": "code",
   "execution_count": 14,
   "metadata": {},
   "outputs": [
    {
     "name": "stdout",
     "output_type": "stream",
     "text": [
      "La causa de muerte más común es Avalanche con 50 casos.\n"
     ]
    }
   ],
   "source": [
    "# ¿Cuál fue la causa de muerte más común entre las personas fallecidas?\n",
    "# Contar las frecuencias de cada causa de muerte\n",
    "causas_frecuencia = muertes['Causa de muerte'].value_counts()\n",
    "\n",
    "# Obtener la causa de muerte más común\n",
    "causa_mas_comun = causas_frecuencia.idxmax()\n",
    "\n",
    "# Imprimir la causa de muerte más común\n",
    "print(f\"La causa de muerte más común es {causa_mas_comun} con {causas_frecuencia[causa_mas_comun]} casos.\")"
   ]
  },
  {
   "cell_type": "code",
   "execution_count": 15,
   "metadata": {},
   "outputs": [
    {
     "data": {
      "text/plain": [
       "Avalanche                                                            50\n",
       "Fall                                                                 46\n",
       "Exposure                                                             25\n",
       "Altitude sickness                                                    17\n",
       "Base Camp avalanche following the April 2015 Nepal earthquake        16\n",
       "                                                                     ..\n",
       "Pre-existing illness exacerbated by freezing conditions, altitude     1\n",
       "Mountain sickness                                                     1\n",
       "Snowboarding accident                                                 1\n",
       "Sickness in tent                                                      1\n",
       "Cardiac event during descent                                          1\n",
       "Name: Causa de muerte, Length: 78, dtype: int64"
      ]
     },
     "execution_count": 15,
     "metadata": {},
     "output_type": "execute_result"
    }
   ],
   "source": [
    "# Otra forma\n",
    "# Contar las frecuencias de cada causa de muerte\n",
    "causas_frecuencia = muertes['Causa de muerte'].value_counts()\n",
    "causas_frecuencia"
   ]
  },
  {
   "cell_type": "code",
   "execution_count": 16,
   "metadata": {},
   "outputs": [
    {
     "name": "stdout",
     "output_type": "stream",
     "text": [
      "Avalanche 50\n"
     ]
    }
   ],
   "source": [
    "print(causas_frecuencia.idxmax(), causas_frecuencia[0])"
   ]
  },
  {
   "cell_type": "code",
   "execution_count": 17,
   "metadata": {
    "scrolled": true
   },
   "outputs": [
    {
     "data": {
      "text/plain": [
       "Nacionalidad\n",
       "Australia            8\n",
       "Austria              3\n",
       "Bangladesh           1\n",
       "Belgium              1\n",
       "Brazil               1\n",
       "Bulgaria             3\n",
       "Canada               6\n",
       "Chile                1\n",
       "China               11\n",
       "Czech                2\n",
       "Czechoslovakia       5\n",
       "Denmark              2\n",
       "France               6\n",
       "Germany              7\n",
       "Hungary              2\n",
       "India               25\n",
       "Ireland              3\n",
       "Italy                3\n",
       "Japan               19\n",
       "Mexican              1\n",
       "Nepal              117\n",
       "Netherlands          1\n",
       "New Zealand          3\n",
       "North Macedonia      1\n",
       "Poland               7\n",
       "Russia               7\n",
       "Slovakia             1\n",
       "Slovenia             1\n",
       "South Korea         11\n",
       "Spain                4\n",
       "Sweden               1\n",
       "Switzerland          3\n",
       "Taiwan               2\n",
       "Ukraine              1\n",
       "United Kingdom      18\n",
       "United States       20\n",
       "Yugoslavia           2\n",
       "dtype: int64"
      ]
     },
     "execution_count": 17,
     "metadata": {},
     "output_type": "execute_result"
    }
   ],
   "source": [
    "# ¿Cuántas nacionalidades diferentes están representadas en el conjunto de datos?\n",
    "# Primero se muestran las nacionalidades\n",
    "muertes.groupby(\"Nacionalidad\").size()"
   ]
  },
  {
   "cell_type": "code",
   "execution_count": 18,
   "metadata": {},
   "outputs": [
    {
     "data": {
      "text/plain": [
       "37"
      ]
     },
     "execution_count": 18,
     "metadata": {},
     "output_type": "execute_result"
    }
   ],
   "source": [
    "# Se muestra el total de cada nacionalidad\n",
    "muertes.groupby(\"Nacionalidad\").ngroups"
   ]
  },
  {
   "cell_type": "code",
   "execution_count": null,
   "metadata": {},
   "outputs": [],
   "source": []
  }
 ],
 "metadata": {
  "kernelspec": {
   "display_name": "Python 3 (ipykernel)",
   "language": "python",
   "name": "python3"
  },
  "language_info": {
   "codemirror_mode": {
    "name": "ipython",
    "version": 3
   },
   "file_extension": ".py",
   "mimetype": "text/x-python",
   "name": "python",
   "nbconvert_exporter": "python",
   "pygments_lexer": "ipython3",
   "version": "3.8.5"
  }
 },
 "nbformat": 4,
 "nbformat_minor": 4
}
