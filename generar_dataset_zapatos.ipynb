{
 "cells": [
  {
   "cell_type": "code",
   "execution_count": 1,
   "id": "initial_id",
   "metadata": {
    "collapsed": true,
    "ExecuteTime": {
     "end_time": "2024-01-23T14:22:29.370649Z",
     "start_time": "2024-01-23T14:22:29.346487Z"
    }
   },
   "outputs": [
    {
     "name": "stdout",
     "output_type": "stream",
     "text": [
      "Dataset generado en datax/shoesfly2.csv\n"
     ]
    }
   ],
   "source": [
    "import csv\n",
    "import random\n",
    "\n",
    "# Lista de posibles valores para las columnas\n",
    "first_names = [\"John\", \"Jane\", \"Michael\", \"Emily\", \"David\", \"Sarah\"]\n",
    "last_names = [\"Smith\", \"Johnson\", \"Williams\", \"Jones\", \"Brown\", \"Davis\"]\n",
    "genders = [\"Male\", \"Female\"]\n",
    "shoe_types = [\"Sneakers\", \"Boots\", \"Flats\", \"Sandals\", \"Heels\"]\n",
    "shoe_materials = [\"Leather\", \"Canvas\", \"Synthetic\", \"Mesh\"]\n",
    "shoe_colors = [\"Red\", \"Blue\", \"Green\", \"Black\", \"White\", \"Brown\"]\n",
    "\n",
    "# Número de filas en el dataset\n",
    "num_rows = 100\n",
    "\n",
    "# Generar datos aleatorios\n",
    "data = []\n",
    "for _ in range(num_rows):\n",
    "    row = [\n",
    "        random.choice(first_names),\n",
    "        random.choice(last_names),\n",
    "        random.choice(genders),\n",
    "        f\"{random.choice(first_names).lower()}.{random.choice(last_names).lower()}@example.com\",\n",
    "        random.choice(shoe_types),\n",
    "        random.choice(shoe_materials),\n",
    "        random.choice(shoe_colors)\n",
    "    ]\n",
    "    data.append(row)\n",
    "\n",
    "# Escribir los datos en un archivo CSV\n",
    "csv_filename = \"datax/shoesfly2.csv\"\n",
    "with open(csv_filename, mode='w', newline='') as file:\n",
    "    writer = csv.writer(file)\n",
    "    # Escribir encabezados\n",
    "    writer.writerow([\"first_name\", \"last_name\", \"gender\", \"email\", \"shoe_type\", \"shoe_material\", \"shoe_color\"])\n",
    "    # Escribir datos\n",
    "    writer.writerows(data)\n",
    "\n",
    "print(f\"Dataset generado en {csv_filename}\")\n"
   ]
  },
  {
   "cell_type": "code",
   "outputs": [],
   "source": [],
   "metadata": {
    "collapsed": false
   },
   "id": "c1596a6e829942c3"
  }
 ],
 "metadata": {
  "kernelspec": {
   "display_name": "Python 3",
   "language": "python",
   "name": "python3"
  },
  "language_info": {
   "codemirror_mode": {
    "name": "ipython",
    "version": 2
   },
   "file_extension": ".py",
   "mimetype": "text/x-python",
   "name": "python",
   "nbconvert_exporter": "python",
   "pygments_lexer": "ipython2",
   "version": "2.7.6"
  }
 },
 "nbformat": 4,
 "nbformat_minor": 5
}
