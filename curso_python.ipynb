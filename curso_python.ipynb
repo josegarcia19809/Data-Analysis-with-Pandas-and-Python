{
 "cells": [
  {
   "cell_type": "code",
   "execution_count": 2,
   "id": "initial_id",
   "metadata": {
    "collapsed": true,
    "ExecuteTime": {
     "end_time": "2024-01-24T22:03:03.744828Z",
     "start_time": "2024-01-24T22:03:03.736556Z"
    }
   },
   "outputs": [
    {
     "name": "stdout",
     "output_type": "stream",
     "text": [
      "7.38 millas son 11.88 kilómetros\n",
      "12.25 kilómetros son 7.61 millas\n"
     ]
    }
   ],
   "source": [
    "kilometers = 12.25\n",
    "miles = 7.38\n",
    "\n",
    "miles_to_kilometers = miles * 1.61\n",
    "kilometers_to_miles = kilometers / 1.61\n",
    "\n",
    "print(miles, \"millas son\", round(miles_to_kilometers, 2), \"kilómetros\")\n",
    "print(kilometers, \"kilómetros son\", round(kilometers_to_miles, 2), \"millas\")"
   ]
  },
  {
   "cell_type": "code",
   "outputs": [
    {
     "name": "stdout",
     "output_type": "stream",
     "text": [
      "y = -9.0\n"
     ]
    }
   ],
   "source": [
    "x = -1\n",
    "x = float(x)\n",
    "# escribe tu código aquí\n",
    "y = 3 * x ** 3 - 2 * x ** 2 + 3 * x - 1\n",
    "print(\"y =\", y)"
   ],
   "metadata": {
    "collapsed": false,
    "ExecuteTime": {
     "end_time": "2024-01-24T22:09:40.629693Z",
     "start_time": "2024-01-24T22:09:40.612859Z"
    }
   },
   "id": "9f4a5596ee777ff3",
   "execution_count": 6
  },
  {
   "cell_type": "code",
   "outputs": [
    {
     "name": "stdout",
     "output_type": "stream",
     "text": [
      "\"Estoy\"\n",
      "\"\"aprendiendo\"\"\n",
      "\"\"\"Python\"\"\"\n"
     ]
    }
   ],
   "source": [
    "print('\"Estoy\"\\n\"\"aprendiendo\"\"\\n\"\"\"Python\"\"\"')"
   ],
   "metadata": {
    "collapsed": false,
    "ExecuteTime": {
     "end_time": "2024-01-29T17:33:46.097826Z",
     "start_time": "2024-01-29T17:33:45.694272Z"
    }
   },
   "id": "8a0aaa33073a1c46",
   "execution_count": 2
  },
  {
   "cell_type": "code",
   "outputs": [
    {
     "name": "stdout",
     "output_type": "stream",
     "text": [
      "10 5 15\n",
      "Número Total de Manzanas: 30\n"
     ]
    }
   ],
   "source": [
    "juan = 10\n",
    "maria = 5\n",
    "adan = 15\n",
    "print(juan, maria, adan)\n",
    "total_manzanas = juan + maria + adan\n",
    "print(\"Número Total de Manzanas:\", total_manzanas)"
   ],
   "metadata": {
    "collapsed": false,
    "ExecuteTime": {
     "end_time": "2024-01-29T17:39:45.004699Z",
     "start_time": "2024-01-29T17:39:44.963436Z"
    }
   },
   "id": "f010fad127a9ec37",
   "execution_count": 4
  },
  {
   "cell_type": "code",
   "outputs": [
    {
     "name": "stdout",
     "output_type": "stream",
     "text": [
      "Horas:  2\n",
      "Segundos en Horas:  7200\n"
     ]
    }
   ],
   "source": [
    "# este programa calcula los segundos en cierto número de horas determinadas \n",
    "\n",
    "horas = 2\n",
    "seconds = 3600  # número de segundos en una hora\n",
    "\n",
    "print(\"Horas: \", horas)\n",
    "print(\"Segundos en Horas: \", horas * seconds)  # se imprime el numero de segundos en determinado numero de horas\n"
   ],
   "metadata": {
    "collapsed": false,
    "ExecuteTime": {
     "end_time": "2024-01-29T17:42:41.280361Z",
     "start_time": "2024-01-29T17:42:41.270682Z"
    }
   },
   "id": "1cbf2fcd46688ec8",
   "execution_count": 5
  },
  {
   "cell_type": "code",
   "outputs": [
    {
     "name": "stdout",
     "output_type": "stream",
     "text": [
      "El resultado de la suma es  8.0\n",
      "El resultado de la resta es  -2.0\n",
      "El resultado de la multiplicación es  15.0\n",
      "El resultado de la división es  0.6\n",
      "\n",
      "¡Eso es todo, amigos!\n"
     ]
    }
   ],
   "source": [
    "# ingresa un valor flotante para la variable a aquí\n",
    "a = float(input(\"Ingrese a \"))\n",
    "# ingresa un valor flotante para la variable b aquí\n",
    "b = float(input(\"Ingrese b: \"))\n",
    "# muestra el resultado de la suma aquí \n",
    "print(\"El resultado de la suma es \", a + b)\n",
    "# muestra el resultado de la resta aquí\n",
    "print(\"El resultado de la resta es \", a - b)\n",
    "# muestra el resultado de la multiplicación aquí\n",
    "print(\"El resultado de la multiplicación es \", a * b)\n",
    "# muestra el resultado de la división aquí\n",
    "print(\"El resultado de la división es \", a / b)\n",
    "print(\"\\n¡Eso es todo, amigos!\")"
   ],
   "metadata": {
    "collapsed": false,
    "ExecuteTime": {
     "end_time": "2024-01-29T18:15:38.377495Z",
     "start_time": "2024-01-29T18:15:33.677795Z"
    }
   },
   "id": "fb2d0960f47fd05f",
   "execution_count": 6
  },
  {
   "cell_type": "code",
   "outputs": [
    {
     "name": "stdout",
     "output_type": "stream",
     "text": [
      "y = -0.19258202567760344\n"
     ]
    }
   ],
   "source": [
    "x = float(input(\"Ingresa el valor para x: \"))\n",
    "\n",
    "# Escribe tu código aquí.\n",
    "y = 1 / (x + (1 / (x + 1 / (x + 1 / x))))\n",
    "\n",
    "print(\"y =\", y)"
   ],
   "metadata": {
    "collapsed": false,
    "ExecuteTime": {
     "end_time": "2024-01-29T18:18:16.128833Z",
     "start_time": "2024-01-29T18:18:13.676737Z"
    }
   },
   "id": "4870d004007afa85",
   "execution_count": 10
  },
  {
   "cell_type": "code",
   "outputs": [
    {
     "name": "stdout",
     "output_type": "stream",
     "text": [
      "13 : 16\n"
     ]
    }
   ],
   "source": [
    "hour = int(input(\"Hora de inicio (horas): \"))\n",
    "mins = int(input(\"Minuto de inicio (minutos): \"))\n",
    "dura = int(input(\"Duración del evento (minutos): \"))\n",
    "\n",
    "# Escribe tu código aqui.\n",
    "minutos_totales = (hour * 60) + mins + dura\n",
    "hora_final = minutos_totales // 60\n",
    "minutos_final = minutos_totales - (hora_final * 60)\n",
    "print(hora_final, \":\", minutos_final)\n"
   ],
   "metadata": {
    "collapsed": false,
    "ExecuteTime": {
     "end_time": "2024-01-29T18:37:24.346649Z",
     "start_time": "2024-01-29T18:37:14.600442Z"
    }
   },
   "id": "9cf5088eaf5b0814",
   "execution_count": 13
  },
  {
   "cell_type": "code",
   "outputs": [
    {
     "name": "stdout",
     "output_type": "stream",
     "text": [
      "17.5\n"
     ]
    }
   ],
   "source": [
    "print(1 / 2 + 3 // 3 + 4 ** 2)"
   ],
   "metadata": {
    "collapsed": false,
    "ExecuteTime": {
     "end_time": "2024-01-29T18:46:01.867888Z",
     "start_time": "2024-01-29T18:46:01.813650Z"
    }
   },
   "id": "cdb6eed4a876ac8a",
   "execution_count": 14
  },
  {
   "cell_type": "code",
   "outputs": [
    {
     "data": {
      "text/plain": "0"
     },
     "execution_count": 15,
     "metadata": {},
     "output_type": "execute_result"
    }
   ],
   "source": [
    "1 // 2 * 3"
   ],
   "metadata": {
    "collapsed": false,
    "ExecuteTime": {
     "end_time": "2024-01-29T18:47:00.580519Z",
     "start_time": "2024-01-29T18:47:00.563927Z"
    }
   },
   "id": "db5b93156cef1feb",
   "execution_count": 15
  },
  {
   "cell_type": "code",
   "outputs": [
    {
     "data": {
      "text/plain": "1.0"
     },
     "execution_count": 16,
     "metadata": {},
     "output_type": "execute_result"
    }
   ],
   "source": [
    "1 / 1"
   ],
   "metadata": {
    "collapsed": false,
    "ExecuteTime": {
     "end_time": "2024-01-29T18:47:20.888797Z",
     "start_time": "2024-01-29T18:47:20.863550Z"
    }
   },
   "id": "f918d8d89945e613",
   "execution_count": 16
  },
  {
   "cell_type": "code",
   "outputs": [
    {
     "name": "stdout",
     "output_type": "stream",
     "text": [
      "8.0\n"
     ]
    }
   ],
   "source": [
    "x = 2\n",
    "y = 4\n",
    "x = x / y\n",
    "y = y / x\n",
    "print(y)\n"
   ],
   "metadata": {
    "collapsed": false,
    "ExecuteTime": {
     "end_time": "2024-01-29T18:48:25.711824Z",
     "start_time": "2024-01-29T18:48:25.690070Z"
    }
   },
   "id": "3675abb397b5b18e",
   "execution_count": 18
  },
  {
   "cell_type": "code",
   "outputs": [
    {
     "data": {
      "text/plain": "2012000000.0"
     },
     "execution_count": 19,
     "metadata": {},
     "output_type": "execute_result"
    }
   ],
   "source": [
    "20.12 * 10 ** 8"
   ],
   "metadata": {
    "collapsed": false,
    "ExecuteTime": {
     "end_time": "2024-01-29T18:50:10.592994Z",
     "start_time": "2024-01-29T18:50:10.576031Z"
    }
   },
   "id": "2d36c8743a4c0480",
   "execution_count": 19
  },
  {
   "cell_type": "code",
   "outputs": [
    {
     "data": {
      "text/plain": "2012000000.0"
     },
     "execution_count": 20,
     "metadata": {},
     "output_type": "execute_result"
    }
   ],
   "source": [
    "20.12E8"
   ],
   "metadata": {
    "collapsed": false,
    "ExecuteTime": {
     "end_time": "2024-01-29T18:50:28.540700Z",
     "start_time": "2024-01-29T18:50:28.518201Z"
    }
   },
   "id": "bd830e7df6e6932d",
   "execution_count": 20
  },
  {
   "cell_type": "code",
   "outputs": [
    {
     "name": "stdout",
     "output_type": "stream",
     "text": [
      "1\n"
     ]
    }
   ],
   "source": [
    "x = 11\n",
    "y = 4\n",
    "x = x % y\n",
    "x = x % y\n",
    "y = y % x\n",
    "print(y)"
   ],
   "metadata": {
    "collapsed": false,
    "ExecuteTime": {
     "end_time": "2024-01-29T18:52:12.082682Z",
     "start_time": "2024-01-29T18:52:12.067568Z"
    }
   },
   "id": "995f08097788684a",
   "execution_count": 21
  },
  {
   "cell_type": "code",
   "outputs": [],
   "source": [],
   "metadata": {
    "collapsed": false
   },
   "id": "1526020b5e7da7c3"
  }
 ],
 "metadata": {
  "kernelspec": {
   "display_name": "Python 3",
   "language": "python",
   "name": "python3"
  },
  "language_info": {
   "codemirror_mode": {
    "name": "ipython",
    "version": 2
   },
   "file_extension": ".py",
   "mimetype": "text/x-python",
   "name": "python",
   "nbconvert_exporter": "python",
   "pygments_lexer": "ipython2",
   "version": "2.7.6"
  }
 },
 "nbformat": 4,
 "nbformat_minor": 5
}
