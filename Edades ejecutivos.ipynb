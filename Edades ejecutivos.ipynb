{
 "cells": [
  {
   "cell_type": "code",
   "execution_count": 1,
   "id": "5dfd0b10-bf81-4126-9e39-eef13a15fda6",
   "metadata": {},
   "outputs": [],
   "source": [
    "import numpy as np\n",
    "import pandas as pd\n",
    "import statistics"
   ]
  },
  {
   "cell_type": "code",
   "execution_count": 2,
   "id": "99e70d6b-7393-4b69-a5d0-5e029b632759",
   "metadata": {},
   "outputs": [
    {
     "name": "stdout",
     "output_type": "stream",
     "text": [
      "0     30\n",
      "1     32\n",
      "2     32\n",
      "3     36\n",
      "4     30\n",
      "5     30\n",
      "6     28\n",
      "7     29\n",
      "8     35\n",
      "9     36\n",
      "10    32\n",
      "11    31\n",
      "12    39\n",
      "13    37\n",
      "14    35\n",
      "15    30\n",
      "16    37\n",
      "17    29\n",
      "18    28\n",
      "19    30\n",
      "20    27\n",
      "21    38\n",
      "22    36\n",
      "23    35\n",
      "24    34\n",
      "25    33\n",
      "26    35\n",
      "27    31\n",
      "28    37\n",
      "29    35\n",
      "30    36\n",
      "31    30\n",
      "32    29\n",
      "33    27\n",
      "34    28\n",
      "35    30\n",
      "36    34\n",
      "37    35\n",
      "38    27\n",
      "39    29\n",
      "40    38\n",
      "41    35\n",
      "dtype: int64\n"
     ]
    }
   ],
   "source": [
    "# Lista de datos\n",
    "datos = [\n",
    "    30, 32, 32, 36, 30, \n",
    "    30, 28, 29, 35, 36, \n",
    "    32, 31, 39, 37, 35, \n",
    "    30, 37, 29, 28, 30, \n",
    "    27, 38, 36, 35, 34, \n",
    "    33, 35, 31, 37, 35, \n",
    "    36, 30, 29, 27, 28, \n",
    "    30, 34, 35, 27, 29, \n",
    "    38, 35\n",
    "]\n",
    "\n",
    "# Crear una serie de pandas\n",
    "edades = pd.Series(datos)\n",
    "\n",
    "# Mostrar la serie\n",
    "print(edades)"
   ]
  },
  {
   "cell_type": "code",
   "execution_count": 4,
   "id": "9b93e116-9ac6-47c5-b918-8361bead4aee",
   "metadata": {},
   "outputs": [
    {
     "data": {
      "text/plain": [
       "32.5"
      ]
     },
     "execution_count": 4,
     "metadata": {},
     "output_type": "execute_result"
    }
   ],
   "source": [
    "# Media\n",
    "media_edades = np.mean(edades)\n",
    "media_edades"
   ]
  },
  {
   "cell_type": "code",
   "execution_count": 5,
   "id": "e18df2f4-2e0b-489f-b3cb-85ec92dcafae",
   "metadata": {},
   "outputs": [
    {
     "data": {
      "text/plain": [
       "32.0"
      ]
     },
     "execution_count": 5,
     "metadata": {},
     "output_type": "execute_result"
    }
   ],
   "source": [
    "# Mediana\n",
    "mediana_edades = np.median(edades)\n",
    "mediana_edades"
   ]
  },
  {
   "cell_type": "code",
   "execution_count": 6,
   "id": "833cca54-6397-4fb8-b984-85d044b694e4",
   "metadata": {},
   "outputs": [
    {
     "name": "stdout",
     "output_type": "stream",
     "text": [
      "La desviación estándar de los datos es: 3.5286285596808176\n"
     ]
    }
   ],
   "source": [
    "# Calculamos la desviación estándar\n",
    "desviacion_estandar_edades = statistics.stdev(edades)\n",
    "print(f\"La desviación estándar de los datos es: {desviacion_estandar_edades}\")"
   ]
  },
  {
   "cell_type": "code",
   "execution_count": 7,
   "id": "6460a24e-a32a-4427-840b-e82d9b000bcf",
   "metadata": {},
   "outputs": [
    {
     "data": {
      "text/plain": [
       "1365"
      ]
     },
     "execution_count": 7,
     "metadata": {},
     "output_type": "execute_result"
    }
   ],
   "source": [
    "total_edad= sum(edades)\n",
    "total_edad"
   ]
  },
  {
   "cell_type": "code",
   "execution_count": null,
   "id": "a036911a-4878-4e25-a2cf-0d79078ee10d",
   "metadata": {},
   "outputs": [],
   "source": []
  }
 ],
 "metadata": {
  "kernelspec": {
   "display_name": "Python 3 (ipykernel)",
   "language": "python",
   "name": "python3"
  },
  "language_info": {
   "codemirror_mode": {
    "name": "ipython",
    "version": 3
   },
   "file_extension": ".py",
   "mimetype": "text/x-python",
   "name": "python",
   "nbconvert_exporter": "python",
   "pygments_lexer": "ipython3",
   "version": "3.8.5"
  }
 },
 "nbformat": 4,
 "nbformat_minor": 5
}
