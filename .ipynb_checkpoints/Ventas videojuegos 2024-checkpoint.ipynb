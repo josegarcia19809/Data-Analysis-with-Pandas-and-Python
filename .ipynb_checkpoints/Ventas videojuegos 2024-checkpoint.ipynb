{
 "cells": [
  {
   "cell_type": "markdown",
   "metadata": {},
   "source": [
    "# Ventas videojuegos 2024"
   ]
  },
  {
   "cell_type": "markdown",
   "metadata": {},
   "source": [
    "Aquí tienes las consultas a realizar sobre este conjunto de datos:\n",
    "\n",
    "1. ¿Cuál es el promedio de ventas globales de todos los videojuegos?\n",
    "2. ¿Cuál es la plataforma más común en el conjunto de datos (o sea, la que tenga más videojuegos)?\n",
    "3. ¿Cuál es el género de videojuegos más común en el conjunto de datos y cuántos elementos tiene?\n",
    "4. ¿Cuál es el publisher que tiene más videojuegos en el conjunto de datos?\n",
    "5. ¿Cuál es el videojuego (mostrar solamente nombre y ventas globales) con las ventas globales más altas?\n",
    "6. ¿Cuál es el videojuego (mostrar solamente nombre y ventas globales) con las ventas globales más bajas?\n",
    "7. ¿Cuántos videojuegos se lanzaron en un año específico (mostrar solamente nombre y año)? (se tiene que pedir el año)\n",
    "8. ¿Cuál es el total de ventas globales para cada plataforma?\n",
    "9. ¿Cuál es el total de ventas globales para cada género de videojuegos?\n",
    "10. Mostrar nombre del videojuego, publisher y total de ventas globales en orden ascendente según las ventas globales\n"
   ]
  },
  {
   "cell_type": "code",
   "execution_count": 1,
   "metadata": {
    "ExecuteTime": {
     "end_time": "2024-05-17T03:11:55.773845Z",
     "start_time": "2024-05-17T03:11:52.692176Z"
    }
   },
   "outputs": [],
   "source": [
    "import pandas as pd"
   ]
  },
  {
   "cell_type": "code",
   "execution_count": 2,
   "metadata": {
    "ExecuteTime": {
     "end_time": "2024-05-17T03:11:55.861842Z",
     "start_time": "2024-05-17T03:11:55.778306Z"
    }
   },
   "outputs": [
    {
     "data": {
      "text/html": [
       "<div>\n",
       "<style scoped>\n",
       "    .dataframe tbody tr th:only-of-type {\n",
       "        vertical-align: middle;\n",
       "    }\n",
       "\n",
       "    .dataframe tbody tr th {\n",
       "        vertical-align: top;\n",
       "    }\n",
       "\n",
       "    .dataframe thead th {\n",
       "        text-align: right;\n",
       "    }\n",
       "</style>\n",
       "<table border=\"1\" class=\"dataframe\">\n",
       "  <thead>\n",
       "    <tr style=\"text-align: right;\">\n",
       "      <th></th>\n",
       "      <th>nombre</th>\n",
       "      <th>plataforma</th>\n",
       "      <th>año</th>\n",
       "      <th>genero</th>\n",
       "      <th>publisher</th>\n",
       "      <th>ventas_globales</th>\n",
       "    </tr>\n",
       "  </thead>\n",
       "  <tbody>\n",
       "    <tr>\n",
       "      <th>0</th>\n",
       "      <td>Call of Duty: Black Ops 3</td>\n",
       "      <td>PS4</td>\n",
       "      <td>2015</td>\n",
       "      <td>Shooter</td>\n",
       "      <td>Activision</td>\n",
       "      <td>14.24</td>\n",
       "    </tr>\n",
       "    <tr>\n",
       "      <th>1</th>\n",
       "      <td>FIFA 16</td>\n",
       "      <td>PS4</td>\n",
       "      <td>2015</td>\n",
       "      <td>Sports</td>\n",
       "      <td>Electronic Arts</td>\n",
       "      <td>8.49</td>\n",
       "    </tr>\n",
       "    <tr>\n",
       "      <th>2</th>\n",
       "      <td>Star Wars Battlefront (2015)</td>\n",
       "      <td>PS4</td>\n",
       "      <td>2015</td>\n",
       "      <td>Shooter</td>\n",
       "      <td>Electronic Arts</td>\n",
       "      <td>7.67</td>\n",
       "    </tr>\n",
       "    <tr>\n",
       "      <th>3</th>\n",
       "      <td>Call of Duty: Black Ops 3</td>\n",
       "      <td>XOne</td>\n",
       "      <td>2015</td>\n",
       "      <td>Shooter</td>\n",
       "      <td>Activision</td>\n",
       "      <td>7.30</td>\n",
       "    </tr>\n",
       "    <tr>\n",
       "      <th>4</th>\n",
       "      <td>Fallout 4</td>\n",
       "      <td>PS4</td>\n",
       "      <td>2015</td>\n",
       "      <td>Role-Playing</td>\n",
       "      <td>Bethesda Softworks</td>\n",
       "      <td>6.96</td>\n",
       "    </tr>\n",
       "  </tbody>\n",
       "</table>\n",
       "</div>"
      ],
      "text/plain": [
       "                         nombre plataforma   año        genero  \\\n",
       "0     Call of Duty: Black Ops 3        PS4  2015       Shooter   \n",
       "1                       FIFA 16        PS4  2015        Sports   \n",
       "2  Star Wars Battlefront (2015)        PS4  2015       Shooter   \n",
       "3     Call of Duty: Black Ops 3       XOne  2015       Shooter   \n",
       "4                     Fallout 4        PS4  2015  Role-Playing   \n",
       "\n",
       "            publisher  ventas_globales  \n",
       "0          Activision            14.24  \n",
       "1     Electronic Arts             8.49  \n",
       "2     Electronic Arts             7.67  \n",
       "3          Activision             7.30  \n",
       "4  Bethesda Softworks             6.96  "
      ]
     },
     "execution_count": 2,
     "metadata": {},
     "output_type": "execute_result"
    }
   ],
   "source": [
    "videojuegos = pd.read_csv(\"datax/ventas_videojuegos_2024_ico28.csv\", sep='|')\n",
    "videojuegos.head()"
   ]
  },
  {
   "cell_type": "code",
   "execution_count": 3,
   "metadata": {
    "ExecuteTime": {
     "end_time": "2024-05-17T03:11:55.911486Z",
     "start_time": "2024-05-17T03:11:55.865864Z"
    }
   },
   "outputs": [
    {
     "name": "stdout",
     "output_type": "stream",
     "text": [
      "<class 'pandas.core.frame.DataFrame'>\n",
      "RangeIndex: 532 entries, 0 to 531\n",
      "Data columns (total 6 columns):\n",
      " #   Column           Non-Null Count  Dtype  \n",
      "---  ------           --------------  -----  \n",
      " 0   nombre           532 non-null    object \n",
      " 1   plataforma       532 non-null    object \n",
      " 2   año              532 non-null    int64  \n",
      " 3   genero           532 non-null    object \n",
      " 4   publisher        532 non-null    object \n",
      " 5   ventas_globales  532 non-null    float64\n",
      "dtypes: float64(1), int64(1), object(4)\n",
      "memory usage: 25.1+ KB\n"
     ]
    }
   ],
   "source": [
    "videojuegos.info()"
   ]
  },
  {
   "cell_type": "code",
   "execution_count": 4,
   "metadata": {
    "ExecuteTime": {
     "end_time": "2024-05-17T03:30:32.762538Z",
     "start_time": "2024-05-17T03:30:32.686478Z"
    }
   },
   "outputs": [
    {
     "name": "stdout",
     "output_type": "stream",
     "text": [
      "Promedio de ventas globales: 0.49\n"
     ]
    }
   ],
   "source": [
    "# 1. ¿Cuál es el promedio de ventas globales de todos los videojuegos?\n",
    "promedio_ventas_globales = videojuegos[\"ventas_globales\"].mean()\n",
    "print(f\"Promedio de ventas globales: {promedio_ventas_globales:>.2f}\")"
   ]
  },
  {
   "cell_type": "code",
   "execution_count": 5,
   "metadata": {
    "ExecuteTime": {
     "end_time": "2024-05-17T03:36:14.524582Z",
     "start_time": "2024-05-17T03:36:14.514349Z"
    }
   },
   "outputs": [
    {
     "name": "stdout",
     "output_type": "stream",
     "text": [
      "La plataforma mas comun: PS4 con 245 registros\n"
     ]
    }
   ],
   "source": [
    "# 2. ¿Cuál es la plataforma más común en el conjunto de datos (o sea, la que tenga más videojuegos)?\n",
    "plataformas_frecuencias = videojuegos[\"plataforma\"].value_counts()\n",
    "plataforma_mas_comun = plataformas_frecuencias.idxmax()\n",
    "print(f\"La plataforma mas comun: {plataforma_mas_comun}\"\n",
    "      f\" con {plataformas_frecuencias[plataforma_mas_comun]} registros\")"
   ]
  },
  {
   "cell_type": "code",
   "execution_count": 6,
   "metadata": {
    "ExecuteTime": {
     "end_time": "2024-05-17T03:38:12.469756Z",
     "start_time": "2024-05-17T03:38:12.424043Z"
    }
   },
   "outputs": [
    {
     "name": "stdout",
     "output_type": "stream",
     "text": [
      "El genero mas comun: Action con 196 registros\n"
     ]
    }
   ],
   "source": [
    "# 3. ¿Cuál es el género de videojuegos más común en el conjunto de datos y cuántos elementos tiene?\n",
    "generos_frecuencias = videojuegos[\"genero\"].value_counts()\n",
    "genero_mas_comun = generos_frecuencias.idxmax()\n",
    "print(f\"El genero mas comun: {genero_mas_comun}\"\n",
    "      f\" con {generos_frecuencias[genero_mas_comun]} registros\")"
   ]
  },
  {
   "cell_type": "code",
   "execution_count": 7,
   "metadata": {
    "ExecuteTime": {
     "end_time": "2024-05-17T03:40:01.195946Z",
     "start_time": "2024-05-17T03:40:01.184086Z"
    }
   },
   "outputs": [
    {
     "name": "stdout",
     "output_type": "stream",
     "text": [
      "El publisher mas comun: Namco Bandai Games con 59 registros\n"
     ]
    }
   ],
   "source": [
    "# 4. ¿Cuál es el publisher que tiene más videojuegos en el conjunto de datos?\n",
    "publisher_frecuencias = videojuegos[\"publisher\"].value_counts()\n",
    "publisher_mas_comun = publisher_frecuencias.idxmax()\n",
    "print(f\"El publisher mas comun: {publisher_mas_comun}\"\n",
    "      f\" con {publisher_frecuencias[publisher_mas_comun]} registros\")"
   ]
  },
  {
   "cell_type": "code",
   "execution_count": 8,
   "metadata": {
    "ExecuteTime": {
     "end_time": "2024-05-17T03:44:56.685699Z",
     "start_time": "2024-05-17T03:44:56.665492Z"
    }
   },
   "outputs": [
    {
     "data": {
      "text/plain": [
       "nombre             Call of Duty: Black Ops 3\n",
       "ventas_globales                        14.24\n",
       "Name: 0, dtype: object"
      ]
     },
     "execution_count": 8,
     "metadata": {},
     "output_type": "execute_result"
    }
   ],
   "source": [
    "# 5. ¿Cuál es el videojuego (mostrar solamente nombre y ventas globales) con las ventas globales más altas?\n",
    "videojuegos_ordenados_por_ventas_globales = videojuegos.sort_values(by=\"ventas_globales\", ascending=False)\n",
    "videojuego_ventas_globales_mas_altas = videojuegos_ordenados_por_ventas_globales.iloc[0]\n",
    "videojuego_ventas_globales_mas_altas[[\"nombre\", \"ventas_globales\"]]"
   ]
  },
  {
   "cell_type": "code",
   "execution_count": 9,
   "metadata": {
    "ExecuteTime": {
     "end_time": "2024-05-17T03:46:16.133455Z",
     "start_time": "2024-05-17T03:46:16.117689Z"
    }
   },
   "outputs": [
    {
     "data": {
      "text/plain": [
       "nombre             Rugby Challenge 3\n",
       "ventas_globales                 0.01\n",
       "Name: 531, dtype: object"
      ]
     },
     "execution_count": 9,
     "metadata": {},
     "output_type": "execute_result"
    }
   ],
   "source": [
    "# 6. ¿Cuál es el videojuego (mostrar solamente nombre y ventas globales) con las ventas globales más bajas?\n",
    "videojuegos_ordenados_asc_por_ventas_globales = videojuegos.sort_values(by=\"ventas_globales\", ascending=True)\n",
    "videojuego_ventas_globales_mas_bajas = videojuegos_ordenados_asc_por_ventas_globales.iloc[0]\n",
    "videojuego_ventas_globales_mas_bajas[[\"nombre\", \"ventas_globales\"]]"
   ]
  },
  {
   "cell_type": "code",
   "execution_count": 17,
   "metadata": {
    "ExecuteTime": {
     "end_time": "2024-05-17T03:52:08.307392Z",
     "start_time": "2024-05-17T03:52:05.689426Z"
    }
   },
   "outputs": [
    {
     "name": "stdout",
     "output_type": "stream",
     "text": [
      "Ingrese el año: 2016\n"
     ]
    },
    {
     "data": {
      "text/plain": [
       "nombre    201\n",
       "año       201\n",
       "dtype: int64"
      ]
     },
     "execution_count": 17,
     "metadata": {},
     "output_type": "execute_result"
    }
   ],
   "source": [
    "# 7. ¿Cuántos videojuegos se lanzaron en un año específico (mostrar solamente nombre y año)? \n",
    "# (se tiene que pedir el año)\n",
    "anio = int(input(\"Ingrese el año: \"))\n",
    "videojuegos_lanzados_en_anio = videojuegos[videojuegos[\"año\"] == anio]\n",
    "cantidad_videojuegos = videojuegos_lanzados_en_anio[[\"nombre\", \"año\"]].count()\n",
    "cantidad_videojuegos"
   ]
  },
  {
   "cell_type": "code",
   "execution_count": 11,
   "metadata": {
    "ExecuteTime": {
     "end_time": "2024-05-17T03:54:49.604666Z",
     "start_time": "2024-05-17T03:54:49.541338Z"
    }
   },
   "outputs": [
    {
     "data": {
      "text/plain": [
       "plataforma\n",
       "PS3      20.81\n",
       "PS4     154.58\n",
       "X360     13.88\n",
       "XOne     70.03\n",
       "Name: ventas_globales, dtype: float64"
      ]
     },
     "execution_count": 11,
     "metadata": {},
     "output_type": "execute_result"
    }
   ],
   "source": [
    "# 8. ¿Cuál es el total de ventas globales para cada plataforma?\n",
    "videojuegos.groupby(\"plataforma\")[\"ventas_globales\"].sum()"
   ]
  },
  {
   "cell_type": "code",
   "execution_count": 12,
   "metadata": {
    "ExecuteTime": {
     "end_time": "2024-05-17T03:55:31.843673Z",
     "start_time": "2024-05-17T03:55:31.826930Z"
    }
   },
   "outputs": [
    {
     "data": {
      "text/plain": [
       "genero\n",
       "Action          61.36\n",
       "Adventure        7.96\n",
       "Fighting        10.06\n",
       "Misc             5.18\n",
       "Platform         2.19\n",
       "Puzzle           0.02\n",
       "Racing           9.22\n",
       "Role-Playing    29.41\n",
       "Shooter         77.02\n",
       "Simulation       1.84\n",
       "Sports          54.71\n",
       "Strategy         0.33\n",
       "Name: ventas_globales, dtype: float64"
      ]
     },
     "execution_count": 12,
     "metadata": {},
     "output_type": "execute_result"
    }
   ],
   "source": [
    "# 9. ¿Cuál es el total de ventas globales para cada género de videojuegos?\n",
    "videojuegos.groupby(\"genero\")[\"ventas_globales\"].sum()"
   ]
  },
  {
   "cell_type": "code",
   "execution_count": 15,
   "metadata": {
    "ExecuteTime": {
     "end_time": "2024-05-17T03:58:24.746315Z",
     "start_time": "2024-05-17T03:58:24.677086Z"
    }
   },
   "outputs": [
    {
     "data": {
      "text/html": [
       "<div>\n",
       "<style scoped>\n",
       "    .dataframe tbody tr th:only-of-type {\n",
       "        vertical-align: middle;\n",
       "    }\n",
       "\n",
       "    .dataframe tbody tr th {\n",
       "        vertical-align: top;\n",
       "    }\n",
       "\n",
       "    .dataframe thead th {\n",
       "        text-align: right;\n",
       "    }\n",
       "</style>\n",
       "<table border=\"1\" class=\"dataframe\">\n",
       "  <thead>\n",
       "    <tr style=\"text-align: right;\">\n",
       "      <th></th>\n",
       "      <th>nombre</th>\n",
       "      <th>publisher</th>\n",
       "      <th>ventas_globales</th>\n",
       "    </tr>\n",
       "  </thead>\n",
       "  <tbody>\n",
       "    <tr>\n",
       "      <th>531</th>\n",
       "      <td>Rugby Challenge 3</td>\n",
       "      <td>Alternative Software</td>\n",
       "      <td>0.01</td>\n",
       "    </tr>\n",
       "    <tr>\n",
       "      <th>502</th>\n",
       "      <td>God Eater Off Shot: Soma Shikkuzaru-hen Twin P...</td>\n",
       "      <td>Namco Bandai Games</td>\n",
       "      <td>0.01</td>\n",
       "    </tr>\n",
       "    <tr>\n",
       "      <th>503</th>\n",
       "      <td>Utawarerumono: Futari no Hakuoro</td>\n",
       "      <td>Aqua Plus</td>\n",
       "      <td>0.01</td>\n",
       "    </tr>\n",
       "    <tr>\n",
       "      <th>504</th>\n",
       "      <td>WRC 5: FIA World Rally Championship</td>\n",
       "      <td>Bigben Interactive</td>\n",
       "      <td>0.01</td>\n",
       "    </tr>\n",
       "    <tr>\n",
       "      <th>505</th>\n",
       "      <td>Raven's Cry</td>\n",
       "      <td>TopWare Interactive</td>\n",
       "      <td>0.01</td>\n",
       "    </tr>\n",
       "    <tr>\n",
       "      <th>506</th>\n",
       "      <td>God Eater Off Shot:Shiou-hen Twin Pack &amp; Anima...</td>\n",
       "      <td>Namco Bandai Games</td>\n",
       "      <td>0.01</td>\n",
       "    </tr>\n",
       "    <tr>\n",
       "      <th>507</th>\n",
       "      <td>Resident Evil 5 HD</td>\n",
       "      <td>Capcom</td>\n",
       "      <td>0.01</td>\n",
       "    </tr>\n",
       "    <tr>\n",
       "      <th>508</th>\n",
       "      <td>Higurashi no Naku Koro ni Iki</td>\n",
       "      <td>Kaga Create</td>\n",
       "      <td>0.01</td>\n",
       "    </tr>\n",
       "    <tr>\n",
       "      <th>509</th>\n",
       "      <td>Dragon's Dogma Online: Season 2</td>\n",
       "      <td>Capcom</td>\n",
       "      <td>0.01</td>\n",
       "    </tr>\n",
       "    <tr>\n",
       "      <th>510</th>\n",
       "      <td>Republique</td>\n",
       "      <td>Nippon Ichi Software</td>\n",
       "      <td>0.01</td>\n",
       "    </tr>\n",
       "    <tr>\n",
       "      <th>511</th>\n",
       "      <td>Dynasty Warriors: Eiketsuden</td>\n",
       "      <td>Tecmo Koei</td>\n",
       "      <td>0.01</td>\n",
       "    </tr>\n",
       "    <tr>\n",
       "      <th>512</th>\n",
       "      <td>Carmageddon: Max Damage</td>\n",
       "      <td>Stainless Games</td>\n",
       "      <td>0.01</td>\n",
       "    </tr>\n",
       "    <tr>\n",
       "      <th>513</th>\n",
       "      <td>Broken Sword 5: The Serpent's Curse</td>\n",
       "      <td>Revolution Software</td>\n",
       "      <td>0.01</td>\n",
       "    </tr>\n",
       "    <tr>\n",
       "      <th>514</th>\n",
       "      <td>Batman: A Telltale Game Series</td>\n",
       "      <td>Telltale Games</td>\n",
       "      <td>0.01</td>\n",
       "    </tr>\n",
       "    <tr>\n",
       "      <th>515</th>\n",
       "      <td>Paragon</td>\n",
       "      <td>Epic Games</td>\n",
       "      <td>0.01</td>\n",
       "    </tr>\n",
       "    <tr>\n",
       "      <th>530</th>\n",
       "      <td>Farming 2017 - The Simulation</td>\n",
       "      <td>UIG Entertainment</td>\n",
       "      <td>0.01</td>\n",
       "    </tr>\n",
       "    <tr>\n",
       "      <th>517</th>\n",
       "      <td>Nitroplus Blasterz: Heroines Infinite Duel</td>\n",
       "      <td>Nitroplus</td>\n",
       "      <td>0.01</td>\n",
       "    </tr>\n",
       "    <tr>\n",
       "      <th>516</th>\n",
       "      <td>Assetto Corsa</td>\n",
       "      <td>505 Games</td>\n",
       "      <td>0.01</td>\n",
       "    </tr>\n",
       "    <tr>\n",
       "      <th>528</th>\n",
       "      <td>Mighty No. 9</td>\n",
       "      <td>Deep Silver</td>\n",
       "      <td>0.01</td>\n",
       "    </tr>\n",
       "    <tr>\n",
       "      <th>527</th>\n",
       "      <td>God Eater Off Shot: Tachibana Sakuya-hen Twin ...</td>\n",
       "      <td>Namco Bandai Games</td>\n",
       "      <td>0.01</td>\n",
       "    </tr>\n",
       "  </tbody>\n",
       "</table>\n",
       "</div>"
      ],
      "text/plain": [
       "                                                nombre             publisher  \\\n",
       "531                                  Rugby Challenge 3  Alternative Software   \n",
       "502  God Eater Off Shot: Soma Shikkuzaru-hen Twin P...    Namco Bandai Games   \n",
       "503                   Utawarerumono: Futari no Hakuoro             Aqua Plus   \n",
       "504                WRC 5: FIA World Rally Championship    Bigben Interactive   \n",
       "505                                        Raven's Cry   TopWare Interactive   \n",
       "506  God Eater Off Shot:Shiou-hen Twin Pack & Anima...    Namco Bandai Games   \n",
       "507                                 Resident Evil 5 HD                Capcom   \n",
       "508                      Higurashi no Naku Koro ni Iki           Kaga Create   \n",
       "509                    Dragon's Dogma Online: Season 2                Capcom   \n",
       "510                                         Republique  Nippon Ichi Software   \n",
       "511                       Dynasty Warriors: Eiketsuden            Tecmo Koei   \n",
       "512                            Carmageddon: Max Damage       Stainless Games   \n",
       "513                Broken Sword 5: The Serpent's Curse   Revolution Software   \n",
       "514                     Batman: A Telltale Game Series        Telltale Games   \n",
       "515                                            Paragon            Epic Games   \n",
       "530                      Farming 2017 - The Simulation     UIG Entertainment   \n",
       "517         Nitroplus Blasterz: Heroines Infinite Duel             Nitroplus   \n",
       "516                                      Assetto Corsa             505 Games   \n",
       "528                                       Mighty No. 9           Deep Silver   \n",
       "527  God Eater Off Shot: Tachibana Sakuya-hen Twin ...    Namco Bandai Games   \n",
       "\n",
       "     ventas_globales  \n",
       "531             0.01  \n",
       "502             0.01  \n",
       "503             0.01  \n",
       "504             0.01  \n",
       "505             0.01  \n",
       "506             0.01  \n",
       "507             0.01  \n",
       "508             0.01  \n",
       "509             0.01  \n",
       "510             0.01  \n",
       "511             0.01  \n",
       "512             0.01  \n",
       "513             0.01  \n",
       "514             0.01  \n",
       "515             0.01  \n",
       "530             0.01  \n",
       "517             0.01  \n",
       "516             0.01  \n",
       "528             0.01  \n",
       "527             0.01  "
      ]
     },
     "execution_count": 15,
     "metadata": {},
     "output_type": "execute_result"
    }
   ],
   "source": [
    "# 10. Mostrar nombre del videojuego, publisher y total de ventas globales \n",
    "# en orden ascendente según las ventas globales\n",
    "videojuegos_ordenados_asc_por_ventas_globales = videojuegos.sort_values (by=\"ventas_globales\", ascending=True)\n",
    "videojuegos_ordenados_asc_por_ventas_globales[[\"nombre\", \"publisher\", \"ventas_globales\"]].head(20)"
   ]
  },
  {
   "cell_type": "code",
   "execution_count": null,
   "metadata": {},
   "outputs": [],
   "source": []
  }
 ],
 "metadata": {
  "kernelspec": {
   "display_name": "Python 3 (ipykernel)",
   "language": "python",
   "name": "python3"
  },
  "language_info": {
   "codemirror_mode": {
    "name": "ipython",
    "version": 3
   },
   "file_extension": ".py",
   "mimetype": "text/x-python",
   "name": "python",
   "nbconvert_exporter": "python",
   "pygments_lexer": "ipython3",
   "version": "3.8.5"
  }
 },
 "nbformat": 4,
 "nbformat_minor": 4
}
