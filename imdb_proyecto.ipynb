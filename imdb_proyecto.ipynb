{
 "cells": [
  {
   "cell_type": "markdown",
   "source": [
    "## Selección y filtrado de películas"
   ],
   "metadata": {
    "collapsed": false
   },
   "id": "17ad6e094e61fbc5"
  },
  {
   "cell_type": "code",
   "outputs": [],
   "source": [
    "import pandas as pd"
   ],
   "metadata": {
    "collapsed": false,
    "ExecuteTime": {
     "end_time": "2023-12-24T21:05:16.655514Z",
     "start_time": "2023-12-24T21:05:14.516995Z"
    }
   },
   "id": "ea4dec67174ab851",
   "execution_count": 1
  },
  {
   "cell_type": "code",
   "outputs": [
    {
     "data": {
      "text/plain": "      id                                     nombre  genero   año  \\\n0      1                                     Avatar  action  2009   \n1      2                             Jurassic World  action  2015   \n2      3                               The Avengers  action  2012   \n3      4                            The Dark Knight  action  2008   \n4      5  Star Wars: Episode I - The Phantom Menace  action  1999   \n..   ...                                        ...     ...   ...   \n215  216                                   Hannibal   drama  2001   \n216  217                        Catch Me If You Can   drama  2002   \n217  218                                  Big Daddy   drama  1999   \n218  219                                      Se7en   drama  1995   \n219  220                                      Seven   drama  1979   \n\n    calificacion_imdb  \n0                 7.9  \n1                 7.3  \n2                 8.1  \n3                 9.0  \n4                 6.6  \n..                ...  \n215               6.7  \n216               8.0  \n217               6.4  \n218               8.6  \n219               6.1  \n\n[220 rows x 5 columns]",
      "text/html": "<div>\n<style scoped>\n    .dataframe tbody tr th:only-of-type {\n        vertical-align: middle;\n    }\n\n    .dataframe tbody tr th {\n        vertical-align: top;\n    }\n\n    .dataframe thead th {\n        text-align: right;\n    }\n</style>\n<table border=\"1\" class=\"dataframe\">\n  <thead>\n    <tr style=\"text-align: right;\">\n      <th></th>\n      <th>id</th>\n      <th>nombre</th>\n      <th>genero</th>\n      <th>año</th>\n      <th>calificacion_imdb</th>\n    </tr>\n  </thead>\n  <tbody>\n    <tr>\n      <th>0</th>\n      <td>1</td>\n      <td>Avatar</td>\n      <td>action</td>\n      <td>2009</td>\n      <td>7.9</td>\n    </tr>\n    <tr>\n      <th>1</th>\n      <td>2</td>\n      <td>Jurassic World</td>\n      <td>action</td>\n      <td>2015</td>\n      <td>7.3</td>\n    </tr>\n    <tr>\n      <th>2</th>\n      <td>3</td>\n      <td>The Avengers</td>\n      <td>action</td>\n      <td>2012</td>\n      <td>8.1</td>\n    </tr>\n    <tr>\n      <th>3</th>\n      <td>4</td>\n      <td>The Dark Knight</td>\n      <td>action</td>\n      <td>2008</td>\n      <td>9.0</td>\n    </tr>\n    <tr>\n      <th>4</th>\n      <td>5</td>\n      <td>Star Wars: Episode I - The Phantom Menace</td>\n      <td>action</td>\n      <td>1999</td>\n      <td>6.6</td>\n    </tr>\n    <tr>\n      <th>...</th>\n      <td>...</td>\n      <td>...</td>\n      <td>...</td>\n      <td>...</td>\n      <td>...</td>\n    </tr>\n    <tr>\n      <th>215</th>\n      <td>216</td>\n      <td>Hannibal</td>\n      <td>drama</td>\n      <td>2001</td>\n      <td>6.7</td>\n    </tr>\n    <tr>\n      <th>216</th>\n      <td>217</td>\n      <td>Catch Me If You Can</td>\n      <td>drama</td>\n      <td>2002</td>\n      <td>8.0</td>\n    </tr>\n    <tr>\n      <th>217</th>\n      <td>218</td>\n      <td>Big Daddy</td>\n      <td>drama</td>\n      <td>1999</td>\n      <td>6.4</td>\n    </tr>\n    <tr>\n      <th>218</th>\n      <td>219</td>\n      <td>Se7en</td>\n      <td>drama</td>\n      <td>1995</td>\n      <td>8.6</td>\n    </tr>\n    <tr>\n      <th>219</th>\n      <td>220</td>\n      <td>Seven</td>\n      <td>drama</td>\n      <td>1979</td>\n      <td>6.1</td>\n    </tr>\n  </tbody>\n</table>\n<p>220 rows × 5 columns</p>\n</div>"
     },
     "execution_count": 2,
     "metadata": {},
     "output_type": "execute_result"
    }
   ],
   "source": [
    "df_imdb = pd.read_csv(\"datax/imdb.csv\")\n",
    "df_imdb"
   ],
   "metadata": {
    "collapsed": false,
    "ExecuteTime": {
     "end_time": "2023-12-24T21:05:16.719546Z",
     "start_time": "2023-12-24T21:05:16.665028Z"
    }
   },
   "id": "5f566d9666ac1216",
   "execution_count": 2
  },
  {
   "cell_type": "code",
   "outputs": [
    {
     "data": {
      "text/plain": "   id                                     nombre  genero   año  \\\n0   1                                     Avatar  action  2009   \n1   2                             Jurassic World  action  2015   \n2   3                               The Avengers  action  2012   \n3   4                            The Dark Knight  action  2008   \n4   5  Star Wars: Episode I - The Phantom Menace  action  1999   \n\n  calificacion_imdb  \n0               7.9  \n1               7.3  \n2               8.1  \n3               9.0  \n4               6.6  ",
      "text/html": "<div>\n<style scoped>\n    .dataframe tbody tr th:only-of-type {\n        vertical-align: middle;\n    }\n\n    .dataframe tbody tr th {\n        vertical-align: top;\n    }\n\n    .dataframe thead th {\n        text-align: right;\n    }\n</style>\n<table border=\"1\" class=\"dataframe\">\n  <thead>\n    <tr style=\"text-align: right;\">\n      <th></th>\n      <th>id</th>\n      <th>nombre</th>\n      <th>genero</th>\n      <th>año</th>\n      <th>calificacion_imdb</th>\n    </tr>\n  </thead>\n  <tbody>\n    <tr>\n      <th>0</th>\n      <td>1</td>\n      <td>Avatar</td>\n      <td>action</td>\n      <td>2009</td>\n      <td>7.9</td>\n    </tr>\n    <tr>\n      <th>1</th>\n      <td>2</td>\n      <td>Jurassic World</td>\n      <td>action</td>\n      <td>2015</td>\n      <td>7.3</td>\n    </tr>\n    <tr>\n      <th>2</th>\n      <td>3</td>\n      <td>The Avengers</td>\n      <td>action</td>\n      <td>2012</td>\n      <td>8.1</td>\n    </tr>\n    <tr>\n      <th>3</th>\n      <td>4</td>\n      <td>The Dark Knight</td>\n      <td>action</td>\n      <td>2008</td>\n      <td>9.0</td>\n    </tr>\n    <tr>\n      <th>4</th>\n      <td>5</td>\n      <td>Star Wars: Episode I - The Phantom Menace</td>\n      <td>action</td>\n      <td>1999</td>\n      <td>6.6</td>\n    </tr>\n  </tbody>\n</table>\n</div>"
     },
     "execution_count": 3,
     "metadata": {},
     "output_type": "execute_result"
    }
   ],
   "source": [
    "df_imdb.head()"
   ],
   "metadata": {
    "collapsed": false,
    "ExecuteTime": {
     "end_time": "2023-12-24T21:05:16.733906Z",
     "start_time": "2023-12-24T21:05:16.718282Z"
    }
   },
   "id": "1a3ba2bdb23e4f49",
   "execution_count": 3
  },
  {
   "cell_type": "code",
   "outputs": [
    {
     "name": "stdout",
     "output_type": "stream",
     "text": [
      "<class 'pandas.core.frame.DataFrame'>\n",
      "RangeIndex: 220 entries, 0 to 219\n",
      "Data columns (total 5 columns):\n",
      " #   Column             Non-Null Count  Dtype \n",
      "---  ------             --------------  ----- \n",
      " 0   id                 220 non-null    int64 \n",
      " 1   nombre             220 non-null    object\n",
      " 2   genero             220 non-null    object\n",
      " 3   año                220 non-null    int64 \n",
      " 4   calificacion_imdb  220 non-null    object\n",
      "dtypes: int64(2), object(3)\n",
      "memory usage: 8.7+ KB\n"
     ]
    }
   ],
   "source": [
    "df_imdb.info()"
   ],
   "metadata": {
    "collapsed": false,
    "ExecuteTime": {
     "end_time": "2023-12-24T21:05:16.771387Z",
     "start_time": "2023-12-24T21:05:16.725169Z"
    }
   },
   "id": "109eca007d5f7f95",
   "execution_count": 4
  },
  {
   "cell_type": "code",
   "outputs": [
    {
     "data": {
      "text/plain": "0      2009\n1      2015\n2      2012\n3      2008\n4      1999\n       ... \n215    2001\n216    2002\n217    1999\n218    1995\n219    1979\nName: año, Length: 220, dtype: int64"
     },
     "execution_count": 5,
     "metadata": {},
     "output_type": "execute_result"
    }
   ],
   "source": [
    "# Seleccionar la columna año\n",
    "anio_lanzamiento = df_imdb[\"año\"]\n",
    "anio_lanzamiento"
   ],
   "metadata": {
    "collapsed": false,
    "ExecuteTime": {
     "end_time": "2023-12-24T21:05:16.833365Z",
     "start_time": "2023-12-24T21:05:16.751400Z"
    }
   },
   "id": "2ee7bceb9af6964a",
   "execution_count": 5
  },
  {
   "cell_type": "code",
   "outputs": [
    {
     "data": {
      "text/plain": "0                                         Avatar\n1                                 Jurassic World\n2                                   The Avengers\n3                                The Dark Knight\n4      Star Wars: Episode I - The Phantom Menace\n                         ...                    \n215                                     Hannibal\n216                          Catch Me If You Can\n217                                    Big Daddy\n218                                        Se7en\n219                                        Seven\nName: nombre, Length: 220, dtype: object"
     },
     "execution_count": 6,
     "metadata": {},
     "output_type": "execute_result"
    }
   ],
   "source": [
    "# Seleccionar la columna nombre\n",
    "nombre = df_imdb.nombre\n",
    "nombre"
   ],
   "metadata": {
    "collapsed": false,
    "ExecuteTime": {
     "end_time": "2023-12-24T21:05:16.864585Z",
     "start_time": "2023-12-24T21:05:16.759438Z"
    }
   },
   "id": "c9f3b1554c385c63",
   "execution_count": 6
  },
  {
   "cell_type": "code",
   "outputs": [
    {
     "data": {
      "text/plain": "                                        nombre   año\n0                                       Avatar  2009\n1                               Jurassic World  2015\n2                                 The Avengers  2012\n3                              The Dark Knight  2008\n4    Star Wars: Episode I - The Phantom Menace  1999\n..                                         ...   ...\n215                                   Hannibal  2001\n216                        Catch Me If You Can  2002\n217                                  Big Daddy  1999\n218                                      Se7en  1995\n219                                      Seven  1979\n\n[220 rows x 2 columns]",
      "text/html": "<div>\n<style scoped>\n    .dataframe tbody tr th:only-of-type {\n        vertical-align: middle;\n    }\n\n    .dataframe tbody tr th {\n        vertical-align: top;\n    }\n\n    .dataframe thead th {\n        text-align: right;\n    }\n</style>\n<table border=\"1\" class=\"dataframe\">\n  <thead>\n    <tr style=\"text-align: right;\">\n      <th></th>\n      <th>nombre</th>\n      <th>año</th>\n    </tr>\n  </thead>\n  <tbody>\n    <tr>\n      <th>0</th>\n      <td>Avatar</td>\n      <td>2009</td>\n    </tr>\n    <tr>\n      <th>1</th>\n      <td>Jurassic World</td>\n      <td>2015</td>\n    </tr>\n    <tr>\n      <th>2</th>\n      <td>The Avengers</td>\n      <td>2012</td>\n    </tr>\n    <tr>\n      <th>3</th>\n      <td>The Dark Knight</td>\n      <td>2008</td>\n    </tr>\n    <tr>\n      <th>4</th>\n      <td>Star Wars: Episode I - The Phantom Menace</td>\n      <td>1999</td>\n    </tr>\n    <tr>\n      <th>...</th>\n      <td>...</td>\n      <td>...</td>\n    </tr>\n    <tr>\n      <th>215</th>\n      <td>Hannibal</td>\n      <td>2001</td>\n    </tr>\n    <tr>\n      <th>216</th>\n      <td>Catch Me If You Can</td>\n      <td>2002</td>\n    </tr>\n    <tr>\n      <th>217</th>\n      <td>Big Daddy</td>\n      <td>1999</td>\n    </tr>\n    <tr>\n      <th>218</th>\n      <td>Se7en</td>\n      <td>1995</td>\n    </tr>\n    <tr>\n      <th>219</th>\n      <td>Seven</td>\n      <td>1979</td>\n    </tr>\n  </tbody>\n</table>\n<p>220 rows × 2 columns</p>\n</div>"
     },
     "execution_count": 7,
     "metadata": {},
     "output_type": "execute_result"
    }
   ],
   "source": [
    "# Seleccionar la columna nombre y año de lanzamiento\n",
    "nombre_y_anio_lanzamiento = df_imdb[[\"nombre\", \"año\"]]\n",
    "nombre_y_anio_lanzamiento"
   ],
   "metadata": {
    "collapsed": false,
    "ExecuteTime": {
     "end_time": "2023-12-24T21:05:17.135872Z",
     "start_time": "2023-12-24T21:05:16.767650Z"
    }
   },
   "id": "a4227f0eccfd044",
   "execution_count": 7
  },
  {
   "cell_type": "code",
   "outputs": [
    {
     "data": {
      "text/plain": "id                              3\nnombre               The Avengers\ngenero                     action\naño                          2012\ncalificacion_imdb             8.1\nName: 2, dtype: object"
     },
     "execution_count": 8,
     "metadata": {},
     "output_type": "execute_result"
    }
   ],
   "source": [
    "# Seleccionar el renglón que tiene el índice 2\n",
    "avengers = df_imdb.iloc[2]\n",
    "avengers"
   ],
   "metadata": {
    "collapsed": false,
    "ExecuteTime": {
     "end_time": "2023-12-24T21:05:17.171942Z",
     "start_time": "2023-12-24T21:05:16.788546Z"
    }
   },
   "id": "463157242dcbacde",
   "execution_count": 8
  },
  {
   "cell_type": "code",
   "outputs": [
    {
     "data": {
      "text/plain": "   id                                     nombre  genero   año  \\\n3   4                            The Dark Knight  action  2008   \n4   5  Star Wars: Episode I - The Phantom Menace  action  1999   \n5   6                                  Star Wars  action  1977   \n6   7                    Avengers: Age of Ultron  action  2015   \n7   8                      The Dark Knight Rises  action  2012   \n\n  calificacion_imdb  \n3               9.0  \n4               6.6  \n5               8.7  \n6               7.9  \n7               8.5  ",
      "text/html": "<div>\n<style scoped>\n    .dataframe tbody tr th:only-of-type {\n        vertical-align: middle;\n    }\n\n    .dataframe tbody tr th {\n        vertical-align: top;\n    }\n\n    .dataframe thead th {\n        text-align: right;\n    }\n</style>\n<table border=\"1\" class=\"dataframe\">\n  <thead>\n    <tr style=\"text-align: right;\">\n      <th></th>\n      <th>id</th>\n      <th>nombre</th>\n      <th>genero</th>\n      <th>año</th>\n      <th>calificacion_imdb</th>\n    </tr>\n  </thead>\n  <tbody>\n    <tr>\n      <th>3</th>\n      <td>4</td>\n      <td>The Dark Knight</td>\n      <td>action</td>\n      <td>2008</td>\n      <td>9.0</td>\n    </tr>\n    <tr>\n      <th>4</th>\n      <td>5</td>\n      <td>Star Wars: Episode I - The Phantom Menace</td>\n      <td>action</td>\n      <td>1999</td>\n      <td>6.6</td>\n    </tr>\n    <tr>\n      <th>5</th>\n      <td>6</td>\n      <td>Star Wars</td>\n      <td>action</td>\n      <td>1977</td>\n      <td>8.7</td>\n    </tr>\n    <tr>\n      <th>6</th>\n      <td>7</td>\n      <td>Avengers: Age of Ultron</td>\n      <td>action</td>\n      <td>2015</td>\n      <td>7.9</td>\n    </tr>\n    <tr>\n      <th>7</th>\n      <td>8</td>\n      <td>The Dark Knight Rises</td>\n      <td>action</td>\n      <td>2012</td>\n      <td>8.5</td>\n    </tr>\n  </tbody>\n</table>\n</div>"
     },
     "execution_count": 9,
     "metadata": {},
     "output_type": "execute_result"
    }
   ],
   "source": [
    "# Seleccionar los renglones que van desde el índice 3 hasta la 7\n",
    "varias_peliculas = df_imdb.iloc[3:8]\n",
    "varias_peliculas"
   ],
   "metadata": {
    "collapsed": false,
    "ExecuteTime": {
     "end_time": "2023-12-24T21:05:17.174670Z",
     "start_time": "2023-12-24T21:05:16.795990Z"
    }
   },
   "id": "6abe3a00076137e4",
   "execution_count": 9
  },
  {
   "cell_type": "code",
   "outputs": [
    {
     "data": {
      "text/plain": "   id                                     nombre  genero   año  \\\n0   1                                     Avatar  action  2009   \n1   2                             Jurassic World  action  2015   \n2   3                               The Avengers  action  2012   \n3   4                            The Dark Knight  action  2008   \n4   5  Star Wars: Episode I - The Phantom Menace  action  1999   \n\n  calificacion_imdb  \n0               7.9  \n1               7.3  \n2               8.1  \n3               9.0  \n4               6.6  ",
      "text/html": "<div>\n<style scoped>\n    .dataframe tbody tr th:only-of-type {\n        vertical-align: middle;\n    }\n\n    .dataframe tbody tr th {\n        vertical-align: top;\n    }\n\n    .dataframe thead th {\n        text-align: right;\n    }\n</style>\n<table border=\"1\" class=\"dataframe\">\n  <thead>\n    <tr style=\"text-align: right;\">\n      <th></th>\n      <th>id</th>\n      <th>nombre</th>\n      <th>genero</th>\n      <th>año</th>\n      <th>calificacion_imdb</th>\n    </tr>\n  </thead>\n  <tbody>\n    <tr>\n      <th>0</th>\n      <td>1</td>\n      <td>Avatar</td>\n      <td>action</td>\n      <td>2009</td>\n      <td>7.9</td>\n    </tr>\n    <tr>\n      <th>1</th>\n      <td>2</td>\n      <td>Jurassic World</td>\n      <td>action</td>\n      <td>2015</td>\n      <td>7.3</td>\n    </tr>\n    <tr>\n      <th>2</th>\n      <td>3</td>\n      <td>The Avengers</td>\n      <td>action</td>\n      <td>2012</td>\n      <td>8.1</td>\n    </tr>\n    <tr>\n      <th>3</th>\n      <td>4</td>\n      <td>The Dark Knight</td>\n      <td>action</td>\n      <td>2008</td>\n      <td>9.0</td>\n    </tr>\n    <tr>\n      <th>4</th>\n      <td>5</td>\n      <td>Star Wars: Episode I - The Phantom Menace</td>\n      <td>action</td>\n      <td>1999</td>\n      <td>6.6</td>\n    </tr>\n  </tbody>\n</table>\n</div>"
     },
     "execution_count": 10,
     "metadata": {},
     "output_type": "execute_result"
    }
   ],
   "source": [
    "# Seleccionar los renglones que van desde el índice 0 hasta la 4\n",
    "varias_peliculas = df_imdb.iloc[:5]\n",
    "varias_peliculas"
   ],
   "metadata": {
    "collapsed": false,
    "ExecuteTime": {
     "end_time": "2023-12-24T21:05:17.195424Z",
     "start_time": "2023-12-24T21:05:16.832077Z"
    }
   },
   "id": "c267c666d99a0c76",
   "execution_count": 10
  },
  {
   "cell_type": "code",
   "outputs": [
    {
     "data": {
      "text/plain": "      id     nombre genero   año calificacion_imdb\n217  218  Big Daddy  drama  1999               6.4\n218  219      Se7en  drama  1995               8.6\n219  220      Seven  drama  1979               6.1",
      "text/html": "<div>\n<style scoped>\n    .dataframe tbody tr th:only-of-type {\n        vertical-align: middle;\n    }\n\n    .dataframe tbody tr th {\n        vertical-align: top;\n    }\n\n    .dataframe thead th {\n        text-align: right;\n    }\n</style>\n<table border=\"1\" class=\"dataframe\">\n  <thead>\n    <tr style=\"text-align: right;\">\n      <th></th>\n      <th>id</th>\n      <th>nombre</th>\n      <th>genero</th>\n      <th>año</th>\n      <th>calificacion_imdb</th>\n    </tr>\n  </thead>\n  <tbody>\n    <tr>\n      <th>217</th>\n      <td>218</td>\n      <td>Big Daddy</td>\n      <td>drama</td>\n      <td>1999</td>\n      <td>6.4</td>\n    </tr>\n    <tr>\n      <th>218</th>\n      <td>219</td>\n      <td>Se7en</td>\n      <td>drama</td>\n      <td>1995</td>\n      <td>8.6</td>\n    </tr>\n    <tr>\n      <th>219</th>\n      <td>220</td>\n      <td>Seven</td>\n      <td>drama</td>\n      <td>1979</td>\n      <td>6.1</td>\n    </tr>\n  </tbody>\n</table>\n</div>"
     },
     "execution_count": 11,
     "metadata": {},
     "output_type": "execute_result"
    }
   ],
   "source": [
    "# Seleccionar los últimos 3 renglones\n",
    "varias_peliculas = df_imdb.iloc[-3:]\n",
    "varias_peliculas"
   ],
   "metadata": {
    "collapsed": false,
    "ExecuteTime": {
     "end_time": "2023-12-24T21:05:17.198929Z",
     "start_time": "2023-12-24T21:05:16.840647Z"
    }
   },
   "id": "c49a1397591e05fd",
   "execution_count": 11
  },
  {
   "cell_type": "code",
   "outputs": [
    {
     "data": {
      "text/plain": "   id                   nombre  genero   año calificacion_imdb\n0   1                   Avatar  action  2009               7.9\n3   4          The Dark Knight  action  2008               9.0\n6   7  Avengers: Age of Ultron  action  2015               7.9\n9  10               Iron Man 3  action  2013               7.3",
      "text/html": "<div>\n<style scoped>\n    .dataframe tbody tr th:only-of-type {\n        vertical-align: middle;\n    }\n\n    .dataframe tbody tr th {\n        vertical-align: top;\n    }\n\n    .dataframe thead th {\n        text-align: right;\n    }\n</style>\n<table border=\"1\" class=\"dataframe\">\n  <thead>\n    <tr style=\"text-align: right;\">\n      <th></th>\n      <th>id</th>\n      <th>nombre</th>\n      <th>genero</th>\n      <th>año</th>\n      <th>calificacion_imdb</th>\n    </tr>\n  </thead>\n  <tbody>\n    <tr>\n      <th>0</th>\n      <td>1</td>\n      <td>Avatar</td>\n      <td>action</td>\n      <td>2009</td>\n      <td>7.9</td>\n    </tr>\n    <tr>\n      <th>3</th>\n      <td>4</td>\n      <td>The Dark Knight</td>\n      <td>action</td>\n      <td>2008</td>\n      <td>9.0</td>\n    </tr>\n    <tr>\n      <th>6</th>\n      <td>7</td>\n      <td>Avengers: Age of Ultron</td>\n      <td>action</td>\n      <td>2015</td>\n      <td>7.9</td>\n    </tr>\n    <tr>\n      <th>9</th>\n      <td>10</td>\n      <td>Iron Man 3</td>\n      <td>action</td>\n      <td>2013</td>\n      <td>7.3</td>\n    </tr>\n  </tbody>\n</table>\n</div>"
     },
     "execution_count": 12,
     "metadata": {},
     "output_type": "execute_result"
    }
   ],
   "source": [
    "# Seleccionar los renglones que van desde el índice 0 hasta el 9, de 3 en 3\n",
    "varias_peliculas = df_imdb.iloc[0:10:3]\n",
    "varias_peliculas"
   ],
   "metadata": {
    "collapsed": false,
    "ExecuteTime": {
     "end_time": "2023-12-24T21:05:17.215892Z",
     "start_time": "2023-12-24T21:05:16.876302Z"
    }
   },
   "id": "cefde0b11697482e",
   "execution_count": 12
  },
  {
   "cell_type": "code",
   "outputs": [
    {
     "data": {
      "text/plain": "      id                                             nombre  genero   año  \\\n97    98                                        World War Z  horror  2013   \n98    99                                  What Lies Beneath  horror  2000   \n99   100                                           Gremlins  horror  1984   \n100  101                            The Blair Witch Project  horror  1999   \n101  102                                      The Conjuring  horror  2013   \n102  103                                           The Ring  horror  2002   \n103  104                                         The Grudge  horror  2004   \n104  105                                Paranormal Activity  horror  2007   \n105  106  Interview with the Vampire: The Vampire Chroni...  horror  1994   \n106  107                              Paranormal Activity 3  horror  2011   \n107  108                                             Scream  horror  1996   \n108  109                                             Jaws 2  horror  1978   \n109  110                                           Scream 2  horror  1997   \n110  111                                      Sleepy Hollow  horror  1999   \n111  112                                         The Others  horror  2001   \n112  113                                       The Haunting  horror  1999   \n113  114                                           Scream 3  horror  2000   \n114  115                                             Saw II  horror  2005   \n115  116                              The Amityville Horror  horror  1979   \n116  117                                             Aliens  horror  1986   \n117  118                              Paranormal Activity 2  horror  2010   \n118  119                                          Annabelle  horror  2014   \n119  120                   Scooby-Doo 2: Monsters Unleashed  horror  2004   \n120  121                               Insidious: Chapter 2  horror  2013   \n121  122                                            Dracula  horror  1992   \n122  123                                   Freddy vs. Jason  horror  2003   \n123  124                                           Blade II  horror  2002   \n124  125                                            Saw III  horror  2006   \n125  126                        The Texas Chainsaw Massacre  horror  2003   \n126  127                                        Cloverfield  horror  2008   \n127  128                                       Dark Shadows  horror  2012   \n128  129                                       The Ring Two  horror  2005   \n129  130                                         Zombieland  horror  2009   \n130  131                                        Constantine  horror  2005   \n131  132                         The Exorcism of Emily Rose  horror  2005   \n132  133                    I Know What You Did Last Summer  horror  1997   \n133  134                                               1408  horror  2007   \n134  135                                               Mama  horror  2013   \n135  136                                 The Purge: Anarchy  horror  2014   \n136  137                                      Scary Movie 2  horror  2001   \n137  138                                              Blade  horror  1998   \n138  139                                        End of Days  horror  1999   \n139  140                                      The Forgotten  horror  2004   \n140  141                              The Final Destination  horror  2009   \n141  142                                        Warm Bodies  horror  2013   \n142  143                                           Anaconda  horror  1997   \n143  144                                               Wolf  horror  1994   \n144  145                                    Friday the 13th  horror  2009   \n145  146                                          The Purge  horror  2013   \n\n    calificacion_imdb  \n97                7.0  \n98                6.6  \n99                7.2  \n100               6.4  \n101               7.5  \n102               7.1  \n103               5.9  \n104               6.3  \n105               7.6  \n106               5.9  \n107               7.2  \n108               5.7  \n109               6.1  \n110               7.4  \n111               7.6  \n112               4.9  \n113               5.5  \n114               6.6  \n115               6.2  \n116               8.4  \n117               5.7  \n118               5.4  \n119               4.9  \n120               6.6  \n121               7.5  \n122               5.8  \n123               6.7  \n124               6.2  \n125               6.2  \n126               7.1  \n127               6.2  \n128               5.4  \n129               7.7  \n130               6.9  \n131               6.7  \n132               5.6  \n133               6.8  \n134               6.2  \n135               6.5  \n136               5.2  \n137               7.1  \n138               5.7  \n139               5.8  \n140               5.2  \n141               6.9  \n142               4.6  \n143               6.2  \n144               5.6  \n145               5.6  ",
      "text/html": "<div>\n<style scoped>\n    .dataframe tbody tr th:only-of-type {\n        vertical-align: middle;\n    }\n\n    .dataframe tbody tr th {\n        vertical-align: top;\n    }\n\n    .dataframe thead th {\n        text-align: right;\n    }\n</style>\n<table border=\"1\" class=\"dataframe\">\n  <thead>\n    <tr style=\"text-align: right;\">\n      <th></th>\n      <th>id</th>\n      <th>nombre</th>\n      <th>genero</th>\n      <th>año</th>\n      <th>calificacion_imdb</th>\n    </tr>\n  </thead>\n  <tbody>\n    <tr>\n      <th>97</th>\n      <td>98</td>\n      <td>World War Z</td>\n      <td>horror</td>\n      <td>2013</td>\n      <td>7.0</td>\n    </tr>\n    <tr>\n      <th>98</th>\n      <td>99</td>\n      <td>What Lies Beneath</td>\n      <td>horror</td>\n      <td>2000</td>\n      <td>6.6</td>\n    </tr>\n    <tr>\n      <th>99</th>\n      <td>100</td>\n      <td>Gremlins</td>\n      <td>horror</td>\n      <td>1984</td>\n      <td>7.2</td>\n    </tr>\n    <tr>\n      <th>100</th>\n      <td>101</td>\n      <td>The Blair Witch Project</td>\n      <td>horror</td>\n      <td>1999</td>\n      <td>6.4</td>\n    </tr>\n    <tr>\n      <th>101</th>\n      <td>102</td>\n      <td>The Conjuring</td>\n      <td>horror</td>\n      <td>2013</td>\n      <td>7.5</td>\n    </tr>\n    <tr>\n      <th>102</th>\n      <td>103</td>\n      <td>The Ring</td>\n      <td>horror</td>\n      <td>2002</td>\n      <td>7.1</td>\n    </tr>\n    <tr>\n      <th>103</th>\n      <td>104</td>\n      <td>The Grudge</td>\n      <td>horror</td>\n      <td>2004</td>\n      <td>5.9</td>\n    </tr>\n    <tr>\n      <th>104</th>\n      <td>105</td>\n      <td>Paranormal Activity</td>\n      <td>horror</td>\n      <td>2007</td>\n      <td>6.3</td>\n    </tr>\n    <tr>\n      <th>105</th>\n      <td>106</td>\n      <td>Interview with the Vampire: The Vampire Chroni...</td>\n      <td>horror</td>\n      <td>1994</td>\n      <td>7.6</td>\n    </tr>\n    <tr>\n      <th>106</th>\n      <td>107</td>\n      <td>Paranormal Activity 3</td>\n      <td>horror</td>\n      <td>2011</td>\n      <td>5.9</td>\n    </tr>\n    <tr>\n      <th>107</th>\n      <td>108</td>\n      <td>Scream</td>\n      <td>horror</td>\n      <td>1996</td>\n      <td>7.2</td>\n    </tr>\n    <tr>\n      <th>108</th>\n      <td>109</td>\n      <td>Jaws 2</td>\n      <td>horror</td>\n      <td>1978</td>\n      <td>5.7</td>\n    </tr>\n    <tr>\n      <th>109</th>\n      <td>110</td>\n      <td>Scream 2</td>\n      <td>horror</td>\n      <td>1997</td>\n      <td>6.1</td>\n    </tr>\n    <tr>\n      <th>110</th>\n      <td>111</td>\n      <td>Sleepy Hollow</td>\n      <td>horror</td>\n      <td>1999</td>\n      <td>7.4</td>\n    </tr>\n    <tr>\n      <th>111</th>\n      <td>112</td>\n      <td>The Others</td>\n      <td>horror</td>\n      <td>2001</td>\n      <td>7.6</td>\n    </tr>\n    <tr>\n      <th>112</th>\n      <td>113</td>\n      <td>The Haunting</td>\n      <td>horror</td>\n      <td>1999</td>\n      <td>4.9</td>\n    </tr>\n    <tr>\n      <th>113</th>\n      <td>114</td>\n      <td>Scream 3</td>\n      <td>horror</td>\n      <td>2000</td>\n      <td>5.5</td>\n    </tr>\n    <tr>\n      <th>114</th>\n      <td>115</td>\n      <td>Saw II</td>\n      <td>horror</td>\n      <td>2005</td>\n      <td>6.6</td>\n    </tr>\n    <tr>\n      <th>115</th>\n      <td>116</td>\n      <td>The Amityville Horror</td>\n      <td>horror</td>\n      <td>1979</td>\n      <td>6.2</td>\n    </tr>\n    <tr>\n      <th>116</th>\n      <td>117</td>\n      <td>Aliens</td>\n      <td>horror</td>\n      <td>1986</td>\n      <td>8.4</td>\n    </tr>\n    <tr>\n      <th>117</th>\n      <td>118</td>\n      <td>Paranormal Activity 2</td>\n      <td>horror</td>\n      <td>2010</td>\n      <td>5.7</td>\n    </tr>\n    <tr>\n      <th>118</th>\n      <td>119</td>\n      <td>Annabelle</td>\n      <td>horror</td>\n      <td>2014</td>\n      <td>5.4</td>\n    </tr>\n    <tr>\n      <th>119</th>\n      <td>120</td>\n      <td>Scooby-Doo 2: Monsters Unleashed</td>\n      <td>horror</td>\n      <td>2004</td>\n      <td>4.9</td>\n    </tr>\n    <tr>\n      <th>120</th>\n      <td>121</td>\n      <td>Insidious: Chapter 2</td>\n      <td>horror</td>\n      <td>2013</td>\n      <td>6.6</td>\n    </tr>\n    <tr>\n      <th>121</th>\n      <td>122</td>\n      <td>Dracula</td>\n      <td>horror</td>\n      <td>1992</td>\n      <td>7.5</td>\n    </tr>\n    <tr>\n      <th>122</th>\n      <td>123</td>\n      <td>Freddy vs. Jason</td>\n      <td>horror</td>\n      <td>2003</td>\n      <td>5.8</td>\n    </tr>\n    <tr>\n      <th>123</th>\n      <td>124</td>\n      <td>Blade II</td>\n      <td>horror</td>\n      <td>2002</td>\n      <td>6.7</td>\n    </tr>\n    <tr>\n      <th>124</th>\n      <td>125</td>\n      <td>Saw III</td>\n      <td>horror</td>\n      <td>2006</td>\n      <td>6.2</td>\n    </tr>\n    <tr>\n      <th>125</th>\n      <td>126</td>\n      <td>The Texas Chainsaw Massacre</td>\n      <td>horror</td>\n      <td>2003</td>\n      <td>6.2</td>\n    </tr>\n    <tr>\n      <th>126</th>\n      <td>127</td>\n      <td>Cloverfield</td>\n      <td>horror</td>\n      <td>2008</td>\n      <td>7.1</td>\n    </tr>\n    <tr>\n      <th>127</th>\n      <td>128</td>\n      <td>Dark Shadows</td>\n      <td>horror</td>\n      <td>2012</td>\n      <td>6.2</td>\n    </tr>\n    <tr>\n      <th>128</th>\n      <td>129</td>\n      <td>The Ring Two</td>\n      <td>horror</td>\n      <td>2005</td>\n      <td>5.4</td>\n    </tr>\n    <tr>\n      <th>129</th>\n      <td>130</td>\n      <td>Zombieland</td>\n      <td>horror</td>\n      <td>2009</td>\n      <td>7.7</td>\n    </tr>\n    <tr>\n      <th>130</th>\n      <td>131</td>\n      <td>Constantine</td>\n      <td>horror</td>\n      <td>2005</td>\n      <td>6.9</td>\n    </tr>\n    <tr>\n      <th>131</th>\n      <td>132</td>\n      <td>The Exorcism of Emily Rose</td>\n      <td>horror</td>\n      <td>2005</td>\n      <td>6.7</td>\n    </tr>\n    <tr>\n      <th>132</th>\n      <td>133</td>\n      <td>I Know What You Did Last Summer</td>\n      <td>horror</td>\n      <td>1997</td>\n      <td>5.6</td>\n    </tr>\n    <tr>\n      <th>133</th>\n      <td>134</td>\n      <td>1408</td>\n      <td>horror</td>\n      <td>2007</td>\n      <td>6.8</td>\n    </tr>\n    <tr>\n      <th>134</th>\n      <td>135</td>\n      <td>Mama</td>\n      <td>horror</td>\n      <td>2013</td>\n      <td>6.2</td>\n    </tr>\n    <tr>\n      <th>135</th>\n      <td>136</td>\n      <td>The Purge: Anarchy</td>\n      <td>horror</td>\n      <td>2014</td>\n      <td>6.5</td>\n    </tr>\n    <tr>\n      <th>136</th>\n      <td>137</td>\n      <td>Scary Movie 2</td>\n      <td>horror</td>\n      <td>2001</td>\n      <td>5.2</td>\n    </tr>\n    <tr>\n      <th>137</th>\n      <td>138</td>\n      <td>Blade</td>\n      <td>horror</td>\n      <td>1998</td>\n      <td>7.1</td>\n    </tr>\n    <tr>\n      <th>138</th>\n      <td>139</td>\n      <td>End of Days</td>\n      <td>horror</td>\n      <td>1999</td>\n      <td>5.7</td>\n    </tr>\n    <tr>\n      <th>139</th>\n      <td>140</td>\n      <td>The Forgotten</td>\n      <td>horror</td>\n      <td>2004</td>\n      <td>5.8</td>\n    </tr>\n    <tr>\n      <th>140</th>\n      <td>141</td>\n      <td>The Final Destination</td>\n      <td>horror</td>\n      <td>2009</td>\n      <td>5.2</td>\n    </tr>\n    <tr>\n      <th>141</th>\n      <td>142</td>\n      <td>Warm Bodies</td>\n      <td>horror</td>\n      <td>2013</td>\n      <td>6.9</td>\n    </tr>\n    <tr>\n      <th>142</th>\n      <td>143</td>\n      <td>Anaconda</td>\n      <td>horror</td>\n      <td>1997</td>\n      <td>4.6</td>\n    </tr>\n    <tr>\n      <th>143</th>\n      <td>144</td>\n      <td>Wolf</td>\n      <td>horror</td>\n      <td>1994</td>\n      <td>6.2</td>\n    </tr>\n    <tr>\n      <th>144</th>\n      <td>145</td>\n      <td>Friday the 13th</td>\n      <td>horror</td>\n      <td>2009</td>\n      <td>5.6</td>\n    </tr>\n    <tr>\n      <th>145</th>\n      <td>146</td>\n      <td>The Purge</td>\n      <td>horror</td>\n      <td>2013</td>\n      <td>5.6</td>\n    </tr>\n  </tbody>\n</table>\n</div>"
     },
     "execution_count": 13,
     "metadata": {},
     "output_type": "execute_result"
    }
   ],
   "source": [
    "# Seleccionar los renglones cuyo genero sea de horror\n",
    "pd.options.display.max_columns = None\n",
    "peliculas_horror = df_imdb[df_imdb[\"genero\"] == \"horror\"]\n",
    "peliculas_horror"
   ],
   "metadata": {
    "collapsed": false,
    "ExecuteTime": {
     "end_time": "2023-12-24T21:05:17.229387Z",
     "start_time": "2023-12-24T21:05:16.914940Z"
    }
   },
   "id": "6e0fb3d06de23dfa",
   "execution_count": 13
  },
  {
   "cell_type": "code",
   "outputs": [
    {
     "data": {
      "text/plain": "      id                               nombre   genero   año calificacion_imdb\n1      2                       Jurassic World   action  2015               7.3\n6      7              Avengers: Age of Ultron   action  2015               7.9\n15    16                      American Sniper   action  2014               7.4\n16    17                        Furious Seven   action  2015               7.4\n18    19              Guardians of the Galaxy   action  2014               8.1\n35    36  Captain America: The Winter Soldier   action  2014               7.8\n36    37                       The Lego Movie   action  2014               7.8\n40    41      Transformers: Age of Extinction   action  2014               5.8\n42    43                           Maleficent   action  2014               7.0\n47    48           X-Men: Days of Future Past   action  2014               8.1\n55    56                           Inside Out   comedy  2015               8.6\n57    58                              Minions   comedy  2015               6.7\n77    78                           Big Hero 6   comedy  2014               7.9\n118  119                            Annabelle   horror  2014               5.4\n135  136                   The Purge: Anarchy   horror  2014               6.5\n155  156                           Cinderella  romance  2015               7.1\n170  171                 Fifty Shades of Grey  romance  2015               4.2\n199  200       Dawn of the Planet of the Apes    drama  2014               7.7\n200  201                         Interstellar    drama  2014               8.7\n213  214                            Gone Girl    drama  2014               8.2",
      "text/html": "<div>\n<style scoped>\n    .dataframe tbody tr th:only-of-type {\n        vertical-align: middle;\n    }\n\n    .dataframe tbody tr th {\n        vertical-align: top;\n    }\n\n    .dataframe thead th {\n        text-align: right;\n    }\n</style>\n<table border=\"1\" class=\"dataframe\">\n  <thead>\n    <tr style=\"text-align: right;\">\n      <th></th>\n      <th>id</th>\n      <th>nombre</th>\n      <th>genero</th>\n      <th>año</th>\n      <th>calificacion_imdb</th>\n    </tr>\n  </thead>\n  <tbody>\n    <tr>\n      <th>1</th>\n      <td>2</td>\n      <td>Jurassic World</td>\n      <td>action</td>\n      <td>2015</td>\n      <td>7.3</td>\n    </tr>\n    <tr>\n      <th>6</th>\n      <td>7</td>\n      <td>Avengers: Age of Ultron</td>\n      <td>action</td>\n      <td>2015</td>\n      <td>7.9</td>\n    </tr>\n    <tr>\n      <th>15</th>\n      <td>16</td>\n      <td>American Sniper</td>\n      <td>action</td>\n      <td>2014</td>\n      <td>7.4</td>\n    </tr>\n    <tr>\n      <th>16</th>\n      <td>17</td>\n      <td>Furious Seven</td>\n      <td>action</td>\n      <td>2015</td>\n      <td>7.4</td>\n    </tr>\n    <tr>\n      <th>18</th>\n      <td>19</td>\n      <td>Guardians of the Galaxy</td>\n      <td>action</td>\n      <td>2014</td>\n      <td>8.1</td>\n    </tr>\n    <tr>\n      <th>35</th>\n      <td>36</td>\n      <td>Captain America: The Winter Soldier</td>\n      <td>action</td>\n      <td>2014</td>\n      <td>7.8</td>\n    </tr>\n    <tr>\n      <th>36</th>\n      <td>37</td>\n      <td>The Lego Movie</td>\n      <td>action</td>\n      <td>2014</td>\n      <td>7.8</td>\n    </tr>\n    <tr>\n      <th>40</th>\n      <td>41</td>\n      <td>Transformers: Age of Extinction</td>\n      <td>action</td>\n      <td>2014</td>\n      <td>5.8</td>\n    </tr>\n    <tr>\n      <th>42</th>\n      <td>43</td>\n      <td>Maleficent</td>\n      <td>action</td>\n      <td>2014</td>\n      <td>7.0</td>\n    </tr>\n    <tr>\n      <th>47</th>\n      <td>48</td>\n      <td>X-Men: Days of Future Past</td>\n      <td>action</td>\n      <td>2014</td>\n      <td>8.1</td>\n    </tr>\n    <tr>\n      <th>55</th>\n      <td>56</td>\n      <td>Inside Out</td>\n      <td>comedy</td>\n      <td>2015</td>\n      <td>8.6</td>\n    </tr>\n    <tr>\n      <th>57</th>\n      <td>58</td>\n      <td>Minions</td>\n      <td>comedy</td>\n      <td>2015</td>\n      <td>6.7</td>\n    </tr>\n    <tr>\n      <th>77</th>\n      <td>78</td>\n      <td>Big Hero 6</td>\n      <td>comedy</td>\n      <td>2014</td>\n      <td>7.9</td>\n    </tr>\n    <tr>\n      <th>118</th>\n      <td>119</td>\n      <td>Annabelle</td>\n      <td>horror</td>\n      <td>2014</td>\n      <td>5.4</td>\n    </tr>\n    <tr>\n      <th>135</th>\n      <td>136</td>\n      <td>The Purge: Anarchy</td>\n      <td>horror</td>\n      <td>2014</td>\n      <td>6.5</td>\n    </tr>\n    <tr>\n      <th>155</th>\n      <td>156</td>\n      <td>Cinderella</td>\n      <td>romance</td>\n      <td>2015</td>\n      <td>7.1</td>\n    </tr>\n    <tr>\n      <th>170</th>\n      <td>171</td>\n      <td>Fifty Shades of Grey</td>\n      <td>romance</td>\n      <td>2015</td>\n      <td>4.2</td>\n    </tr>\n    <tr>\n      <th>199</th>\n      <td>200</td>\n      <td>Dawn of the Planet of the Apes</td>\n      <td>drama</td>\n      <td>2014</td>\n      <td>7.7</td>\n    </tr>\n    <tr>\n      <th>200</th>\n      <td>201</td>\n      <td>Interstellar</td>\n      <td>drama</td>\n      <td>2014</td>\n      <td>8.7</td>\n    </tr>\n    <tr>\n      <th>213</th>\n      <td>214</td>\n      <td>Gone Girl</td>\n      <td>drama</td>\n      <td>2014</td>\n      <td>8.2</td>\n    </tr>\n  </tbody>\n</table>\n</div>"
     },
     "execution_count": 14,
     "metadata": {},
     "output_type": "execute_result"
    }
   ],
   "source": [
    "# Seleccionar los renglones cuyo año sea mayor que 2013\n",
    "pd.options.display.max_columns = None\n",
    "peliculas_despues_2013 = df_imdb[df_imdb[\"año\"] > 2013]\n",
    "peliculas_despues_2013"
   ],
   "metadata": {
    "collapsed": false,
    "ExecuteTime": {
     "end_time": "2023-12-24T21:05:17.232237Z",
     "start_time": "2023-12-24T21:05:16.957263Z"
    }
   },
   "id": "ccdfd34820fcec78",
   "execution_count": 14
  },
  {
   "cell_type": "code",
   "outputs": [
    {
     "data": {
      "text/plain": "      id                                     nombre  genero   año  \\\n0      1                                     Avatar  action  2009   \n1      2                             Jurassic World  action  2015   \n2      3                               The Avengers  action  2012   \n3      4                            The Dark Knight  action  2008   \n4      5  Star Wars: Episode I - The Phantom Menace  action  1999   \n..   ...                                        ...     ...   ...   \n215  216                                   Hannibal   drama  2001   \n216  217                        Catch Me If You Can   drama  2002   \n217  218                                  Big Daddy   drama  1999   \n218  219                                      Se7en   drama  1995   \n219  220                                      Seven   drama  1979   \n\n    calificacion_imdb  \n0                 7.9  \n1                 7.3  \n2                 8.1  \n3                 9.0  \n4                 6.6  \n..                ...  \n215               6.7  \n216               8.0  \n217               6.4  \n218               8.6  \n219               6.1  \n\n[176 rows x 5 columns]",
      "text/html": "<div>\n<style scoped>\n    .dataframe tbody tr th:only-of-type {\n        vertical-align: middle;\n    }\n\n    .dataframe tbody tr th {\n        vertical-align: top;\n    }\n\n    .dataframe thead th {\n        text-align: right;\n    }\n</style>\n<table border=\"1\" class=\"dataframe\">\n  <thead>\n    <tr style=\"text-align: right;\">\n      <th></th>\n      <th>id</th>\n      <th>nombre</th>\n      <th>genero</th>\n      <th>año</th>\n      <th>calificacion_imdb</th>\n    </tr>\n  </thead>\n  <tbody>\n    <tr>\n      <th>0</th>\n      <td>1</td>\n      <td>Avatar</td>\n      <td>action</td>\n      <td>2009</td>\n      <td>7.9</td>\n    </tr>\n    <tr>\n      <th>1</th>\n      <td>2</td>\n      <td>Jurassic World</td>\n      <td>action</td>\n      <td>2015</td>\n      <td>7.3</td>\n    </tr>\n    <tr>\n      <th>2</th>\n      <td>3</td>\n      <td>The Avengers</td>\n      <td>action</td>\n      <td>2012</td>\n      <td>8.1</td>\n    </tr>\n    <tr>\n      <th>3</th>\n      <td>4</td>\n      <td>The Dark Knight</td>\n      <td>action</td>\n      <td>2008</td>\n      <td>9.0</td>\n    </tr>\n    <tr>\n      <th>4</th>\n      <td>5</td>\n      <td>Star Wars: Episode I - The Phantom Menace</td>\n      <td>action</td>\n      <td>1999</td>\n      <td>6.6</td>\n    </tr>\n    <tr>\n      <th>...</th>\n      <td>...</td>\n      <td>...</td>\n      <td>...</td>\n      <td>...</td>\n      <td>...</td>\n    </tr>\n    <tr>\n      <th>215</th>\n      <td>216</td>\n      <td>Hannibal</td>\n      <td>drama</td>\n      <td>2001</td>\n      <td>6.7</td>\n    </tr>\n    <tr>\n      <th>216</th>\n      <td>217</td>\n      <td>Catch Me If You Can</td>\n      <td>drama</td>\n      <td>2002</td>\n      <td>8.0</td>\n    </tr>\n    <tr>\n      <th>217</th>\n      <td>218</td>\n      <td>Big Daddy</td>\n      <td>drama</td>\n      <td>1999</td>\n      <td>6.4</td>\n    </tr>\n    <tr>\n      <th>218</th>\n      <td>219</td>\n      <td>Se7en</td>\n      <td>drama</td>\n      <td>1995</td>\n      <td>8.6</td>\n    </tr>\n    <tr>\n      <th>219</th>\n      <td>220</td>\n      <td>Seven</td>\n      <td>drama</td>\n      <td>1979</td>\n      <td>6.1</td>\n    </tr>\n  </tbody>\n</table>\n<p>176 rows × 5 columns</p>\n</div>"
     },
     "execution_count": 15,
     "metadata": {},
     "output_type": "execute_result"
    }
   ],
   "source": [
    "# Seleccionar los renglones cuyo género no sea de romance\n",
    "pd.options.display.max_columns = None\n",
    "peliculas_no_romance = df_imdb[df_imdb[\"genero\"] != \"romance\"]\n",
    "peliculas_no_romance"
   ],
   "metadata": {
    "collapsed": false,
    "ExecuteTime": {
     "end_time": "2023-12-24T21:05:17.244621Z",
     "start_time": "2023-12-24T21:05:16.987050Z"
    }
   },
   "id": "bf665dbfc6735b74",
   "execution_count": 15
  },
  {
   "cell_type": "code",
   "outputs": [
    {
     "data": {
      "text/plain": "      id                                   nombre   genero   año  \\\n1      2                           Jurassic World   action  2015   \n6      7                  Avengers: Age of Ultron   action  2015   \n16    17                            Furious Seven   action  2015   \n50    51                                  Shrek 2   comedy  2004   \n51    52                              Toy Story 3   comedy  2010   \n52    53                                   Frozen   comedy  2013   \n53    54                             Finding Nemo   comedy  2003   \n54    55                          Despicable Me 2   comedy  2013   \n55    56                               Inside Out   comedy  2015   \n56    57                          Shrek the Third   comedy  2007   \n57    58                                  Minions   comedy  2015   \n58    59                                       Up   comedy  2009   \n59    60                           Monsters, Inc.   comedy  2001   \n60    61                               Home Alone   comedy  1990   \n61    62                         Meet the Fockers   comedy  2004   \n62    63                             The Hangover   comedy  2009   \n63    64                      Monsters University   comedy  2013   \n64    65                                    Shrek   comedy  2001   \n65    66           How the Grinch Stole Christmas   comedy  2000   \n66    67                     The Hangover Part II   comedy  2011   \n67    68                            Despicable Me   comedy  2010   \n68    69                             Men in Black   comedy  1997   \n69    70                              Toy Story 2   comedy  1999   \n70    71                                     Cars   comedy  2006   \n71    72                           Bruce Almighty   comedy  2003   \n72    73                 My Big Fat Greek Wedding   comedy  2002   \n73    74                      Shrek Forever After   comedy  2010   \n74    75                                    Brave   comedy  2012   \n75    76                             Ghostbusters   comedy  1984   \n76    77                              Rush Hour 2   comedy  2001   \n77    78                               Big Hero 6   comedy  2014   \n78    79  Alvin and the Chipmunks: The Squeakquel   comedy  2009   \n79    80                           Mrs. Doubtfire   comedy  1993   \n80    81                                      Ted   comedy  2012   \n81    82                                  Aladdin   comedy  1992   \n82    83                  Alvin and the Chipmunks   comedy  2007   \n83    84        Madagascar 3: Europes Most Wanted   comedy  2012   \n84    85                            Kung Fu Panda   comedy  2008   \n85    86                                The Lorax   comedy  2012   \n86    87              Austin Powers in Goldmember   comedy  2002   \n87    88                       Back to the Future   comedy  1985   \n88    89                         Wedding Crashers   comedy  2005   \n89    90        Charlie and the Chocolate Factory   comedy  2005   \n90    91                              Ratatouille   comedy  2007   \n91    92    Austin Powers: The Spy Who Shagged Me   comedy  1999   \n92    93                                  Tangled   comedy  2010   \n93    94                      Monsters vs. Aliens   comedy  2009   \n94    95                               Happy Feet   comedy  2006   \n95    96           Ice Age: Dawn of the Dinosaurs   comedy  2009   \n96    97                    Ice Age: The Meltdown   comedy  2006   \n155  156                               Cinderella  romance  2015   \n170  171                     Fifty Shades of Grey  romance  2015   \n\n    calificacion_imdb  \n1                 7.3  \n6                 7.9  \n16                7.4  \n50                7.2  \n51                8.4  \n52                7.6  \n53                8.2  \n54                7.5  \n55                8.6  \n56                6.0  \n57                6.7  \n58                8.3  \n59                8.1  \n60                7.4  \n61                6.3  \n62                7.8  \n63                7.4  \n64                7.9  \n65                6.0  \n66                6.5  \n67                7.7  \n68                7.2  \n69                7.9  \n70                7.2  \n71                6.7  \n72                6.6  \n73                6.4  \n74                7.2  \n75                7.8  \n76                6.6  \n77                7.9  \n78                4.4  \n79                6.9  \n80                7.0  \n81                8.0  \n82                5.3  \n83                7.0  \n84                7.6  \n85                6.5  \n86                6.2  \n87                8.5  \n88                7.0  \n89                6.7  \n90                8.0  \n91                6.6  \n92                7.8  \n93                6.6  \n94                6.5  \n95                7.0  \n96                6.9  \n155               7.1  \n170               4.2  ",
      "text/html": "<div>\n<style scoped>\n    .dataframe tbody tr th:only-of-type {\n        vertical-align: middle;\n    }\n\n    .dataframe tbody tr th {\n        vertical-align: top;\n    }\n\n    .dataframe thead th {\n        text-align: right;\n    }\n</style>\n<table border=\"1\" class=\"dataframe\">\n  <thead>\n    <tr style=\"text-align: right;\">\n      <th></th>\n      <th>id</th>\n      <th>nombre</th>\n      <th>genero</th>\n      <th>año</th>\n      <th>calificacion_imdb</th>\n    </tr>\n  </thead>\n  <tbody>\n    <tr>\n      <th>1</th>\n      <td>2</td>\n      <td>Jurassic World</td>\n      <td>action</td>\n      <td>2015</td>\n      <td>7.3</td>\n    </tr>\n    <tr>\n      <th>6</th>\n      <td>7</td>\n      <td>Avengers: Age of Ultron</td>\n      <td>action</td>\n      <td>2015</td>\n      <td>7.9</td>\n    </tr>\n    <tr>\n      <th>16</th>\n      <td>17</td>\n      <td>Furious Seven</td>\n      <td>action</td>\n      <td>2015</td>\n      <td>7.4</td>\n    </tr>\n    <tr>\n      <th>50</th>\n      <td>51</td>\n      <td>Shrek 2</td>\n      <td>comedy</td>\n      <td>2004</td>\n      <td>7.2</td>\n    </tr>\n    <tr>\n      <th>51</th>\n      <td>52</td>\n      <td>Toy Story 3</td>\n      <td>comedy</td>\n      <td>2010</td>\n      <td>8.4</td>\n    </tr>\n    <tr>\n      <th>52</th>\n      <td>53</td>\n      <td>Frozen</td>\n      <td>comedy</td>\n      <td>2013</td>\n      <td>7.6</td>\n    </tr>\n    <tr>\n      <th>53</th>\n      <td>54</td>\n      <td>Finding Nemo</td>\n      <td>comedy</td>\n      <td>2003</td>\n      <td>8.2</td>\n    </tr>\n    <tr>\n      <th>54</th>\n      <td>55</td>\n      <td>Despicable Me 2</td>\n      <td>comedy</td>\n      <td>2013</td>\n      <td>7.5</td>\n    </tr>\n    <tr>\n      <th>55</th>\n      <td>56</td>\n      <td>Inside Out</td>\n      <td>comedy</td>\n      <td>2015</td>\n      <td>8.6</td>\n    </tr>\n    <tr>\n      <th>56</th>\n      <td>57</td>\n      <td>Shrek the Third</td>\n      <td>comedy</td>\n      <td>2007</td>\n      <td>6.0</td>\n    </tr>\n    <tr>\n      <th>57</th>\n      <td>58</td>\n      <td>Minions</td>\n      <td>comedy</td>\n      <td>2015</td>\n      <td>6.7</td>\n    </tr>\n    <tr>\n      <th>58</th>\n      <td>59</td>\n      <td>Up</td>\n      <td>comedy</td>\n      <td>2009</td>\n      <td>8.3</td>\n    </tr>\n    <tr>\n      <th>59</th>\n      <td>60</td>\n      <td>Monsters, Inc.</td>\n      <td>comedy</td>\n      <td>2001</td>\n      <td>8.1</td>\n    </tr>\n    <tr>\n      <th>60</th>\n      <td>61</td>\n      <td>Home Alone</td>\n      <td>comedy</td>\n      <td>1990</td>\n      <td>7.4</td>\n    </tr>\n    <tr>\n      <th>61</th>\n      <td>62</td>\n      <td>Meet the Fockers</td>\n      <td>comedy</td>\n      <td>2004</td>\n      <td>6.3</td>\n    </tr>\n    <tr>\n      <th>62</th>\n      <td>63</td>\n      <td>The Hangover</td>\n      <td>comedy</td>\n      <td>2009</td>\n      <td>7.8</td>\n    </tr>\n    <tr>\n      <th>63</th>\n      <td>64</td>\n      <td>Monsters University</td>\n      <td>comedy</td>\n      <td>2013</td>\n      <td>7.4</td>\n    </tr>\n    <tr>\n      <th>64</th>\n      <td>65</td>\n      <td>Shrek</td>\n      <td>comedy</td>\n      <td>2001</td>\n      <td>7.9</td>\n    </tr>\n    <tr>\n      <th>65</th>\n      <td>66</td>\n      <td>How the Grinch Stole Christmas</td>\n      <td>comedy</td>\n      <td>2000</td>\n      <td>6.0</td>\n    </tr>\n    <tr>\n      <th>66</th>\n      <td>67</td>\n      <td>The Hangover Part II</td>\n      <td>comedy</td>\n      <td>2011</td>\n      <td>6.5</td>\n    </tr>\n    <tr>\n      <th>67</th>\n      <td>68</td>\n      <td>Despicable Me</td>\n      <td>comedy</td>\n      <td>2010</td>\n      <td>7.7</td>\n    </tr>\n    <tr>\n      <th>68</th>\n      <td>69</td>\n      <td>Men in Black</td>\n      <td>comedy</td>\n      <td>1997</td>\n      <td>7.2</td>\n    </tr>\n    <tr>\n      <th>69</th>\n      <td>70</td>\n      <td>Toy Story 2</td>\n      <td>comedy</td>\n      <td>1999</td>\n      <td>7.9</td>\n    </tr>\n    <tr>\n      <th>70</th>\n      <td>71</td>\n      <td>Cars</td>\n      <td>comedy</td>\n      <td>2006</td>\n      <td>7.2</td>\n    </tr>\n    <tr>\n      <th>71</th>\n      <td>72</td>\n      <td>Bruce Almighty</td>\n      <td>comedy</td>\n      <td>2003</td>\n      <td>6.7</td>\n    </tr>\n    <tr>\n      <th>72</th>\n      <td>73</td>\n      <td>My Big Fat Greek Wedding</td>\n      <td>comedy</td>\n      <td>2002</td>\n      <td>6.6</td>\n    </tr>\n    <tr>\n      <th>73</th>\n      <td>74</td>\n      <td>Shrek Forever After</td>\n      <td>comedy</td>\n      <td>2010</td>\n      <td>6.4</td>\n    </tr>\n    <tr>\n      <th>74</th>\n      <td>75</td>\n      <td>Brave</td>\n      <td>comedy</td>\n      <td>2012</td>\n      <td>7.2</td>\n    </tr>\n    <tr>\n      <th>75</th>\n      <td>76</td>\n      <td>Ghostbusters</td>\n      <td>comedy</td>\n      <td>1984</td>\n      <td>7.8</td>\n    </tr>\n    <tr>\n      <th>76</th>\n      <td>77</td>\n      <td>Rush Hour 2</td>\n      <td>comedy</td>\n      <td>2001</td>\n      <td>6.6</td>\n    </tr>\n    <tr>\n      <th>77</th>\n      <td>78</td>\n      <td>Big Hero 6</td>\n      <td>comedy</td>\n      <td>2014</td>\n      <td>7.9</td>\n    </tr>\n    <tr>\n      <th>78</th>\n      <td>79</td>\n      <td>Alvin and the Chipmunks: The Squeakquel</td>\n      <td>comedy</td>\n      <td>2009</td>\n      <td>4.4</td>\n    </tr>\n    <tr>\n      <th>79</th>\n      <td>80</td>\n      <td>Mrs. Doubtfire</td>\n      <td>comedy</td>\n      <td>1993</td>\n      <td>6.9</td>\n    </tr>\n    <tr>\n      <th>80</th>\n      <td>81</td>\n      <td>Ted</td>\n      <td>comedy</td>\n      <td>2012</td>\n      <td>7.0</td>\n    </tr>\n    <tr>\n      <th>81</th>\n      <td>82</td>\n      <td>Aladdin</td>\n      <td>comedy</td>\n      <td>1992</td>\n      <td>8.0</td>\n    </tr>\n    <tr>\n      <th>82</th>\n      <td>83</td>\n      <td>Alvin and the Chipmunks</td>\n      <td>comedy</td>\n      <td>2007</td>\n      <td>5.3</td>\n    </tr>\n    <tr>\n      <th>83</th>\n      <td>84</td>\n      <td>Madagascar 3: Europes Most Wanted</td>\n      <td>comedy</td>\n      <td>2012</td>\n      <td>7.0</td>\n    </tr>\n    <tr>\n      <th>84</th>\n      <td>85</td>\n      <td>Kung Fu Panda</td>\n      <td>comedy</td>\n      <td>2008</td>\n      <td>7.6</td>\n    </tr>\n    <tr>\n      <th>85</th>\n      <td>86</td>\n      <td>The Lorax</td>\n      <td>comedy</td>\n      <td>2012</td>\n      <td>6.5</td>\n    </tr>\n    <tr>\n      <th>86</th>\n      <td>87</td>\n      <td>Austin Powers in Goldmember</td>\n      <td>comedy</td>\n      <td>2002</td>\n      <td>6.2</td>\n    </tr>\n    <tr>\n      <th>87</th>\n      <td>88</td>\n      <td>Back to the Future</td>\n      <td>comedy</td>\n      <td>1985</td>\n      <td>8.5</td>\n    </tr>\n    <tr>\n      <th>88</th>\n      <td>89</td>\n      <td>Wedding Crashers</td>\n      <td>comedy</td>\n      <td>2005</td>\n      <td>7.0</td>\n    </tr>\n    <tr>\n      <th>89</th>\n      <td>90</td>\n      <td>Charlie and the Chocolate Factory</td>\n      <td>comedy</td>\n      <td>2005</td>\n      <td>6.7</td>\n    </tr>\n    <tr>\n      <th>90</th>\n      <td>91</td>\n      <td>Ratatouille</td>\n      <td>comedy</td>\n      <td>2007</td>\n      <td>8.0</td>\n    </tr>\n    <tr>\n      <th>91</th>\n      <td>92</td>\n      <td>Austin Powers: The Spy Who Shagged Me</td>\n      <td>comedy</td>\n      <td>1999</td>\n      <td>6.6</td>\n    </tr>\n    <tr>\n      <th>92</th>\n      <td>93</td>\n      <td>Tangled</td>\n      <td>comedy</td>\n      <td>2010</td>\n      <td>7.8</td>\n    </tr>\n    <tr>\n      <th>93</th>\n      <td>94</td>\n      <td>Monsters vs. Aliens</td>\n      <td>comedy</td>\n      <td>2009</td>\n      <td>6.6</td>\n    </tr>\n    <tr>\n      <th>94</th>\n      <td>95</td>\n      <td>Happy Feet</td>\n      <td>comedy</td>\n      <td>2006</td>\n      <td>6.5</td>\n    </tr>\n    <tr>\n      <th>95</th>\n      <td>96</td>\n      <td>Ice Age: Dawn of the Dinosaurs</td>\n      <td>comedy</td>\n      <td>2009</td>\n      <td>7.0</td>\n    </tr>\n    <tr>\n      <th>96</th>\n      <td>97</td>\n      <td>Ice Age: The Meltdown</td>\n      <td>comedy</td>\n      <td>2006</td>\n      <td>6.9</td>\n    </tr>\n    <tr>\n      <th>155</th>\n      <td>156</td>\n      <td>Cinderella</td>\n      <td>romance</td>\n      <td>2015</td>\n      <td>7.1</td>\n    </tr>\n    <tr>\n      <th>170</th>\n      <td>171</td>\n      <td>Fifty Shades of Grey</td>\n      <td>romance</td>\n      <td>2015</td>\n      <td>4.2</td>\n    </tr>\n  </tbody>\n</table>\n</div>"
     },
     "execution_count": 16,
     "metadata": {},
     "output_type": "execute_result"
    }
   ],
   "source": [
    "# Seleccionar los renglones cuyo género sea de comedia o que hayan salido después de 2014\n",
    "peliculas_comedia_o_despues_2014 = df_imdb[(df_imdb[\"genero\"] == \"comedy\") | (df_imdb[\"año\"] > 2014)]\n",
    "peliculas_comedia_o_despues_2014"
   ],
   "metadata": {
    "collapsed": false,
    "ExecuteTime": {
     "end_time": "2023-12-24T21:05:17.288476Z",
     "start_time": "2023-12-24T21:05:16.995356Z"
    }
   },
   "id": "9fc7f36c0b0a6f61",
   "execution_count": 16
  },
  {
   "cell_type": "code",
   "outputs": [
    {
     "data": {
      "text/plain": "                                      nombre   genero   año\n1                             Jurassic World   action  2015\n6                    Avengers: Age of Ultron   action  2015\n16                             Furious Seven   action  2015\n50                                   Shrek 2   comedy  2004\n51                               Toy Story 3   comedy  2010\n52                                    Frozen   comedy  2013\n53                              Finding Nemo   comedy  2003\n54                           Despicable Me 2   comedy  2013\n55                                Inside Out   comedy  2015\n56                           Shrek the Third   comedy  2007\n57                                   Minions   comedy  2015\n58                                        Up   comedy  2009\n59                            Monsters, Inc.   comedy  2001\n60                                Home Alone   comedy  1990\n61                          Meet the Fockers   comedy  2004\n62                              The Hangover   comedy  2009\n63                       Monsters University   comedy  2013\n64                                     Shrek   comedy  2001\n65            How the Grinch Stole Christmas   comedy  2000\n66                      The Hangover Part II   comedy  2011\n67                             Despicable Me   comedy  2010\n68                              Men in Black   comedy  1997\n69                               Toy Story 2   comedy  1999\n70                                      Cars   comedy  2006\n71                            Bruce Almighty   comedy  2003\n72                  My Big Fat Greek Wedding   comedy  2002\n73                       Shrek Forever After   comedy  2010\n74                                     Brave   comedy  2012\n75                              Ghostbusters   comedy  1984\n76                               Rush Hour 2   comedy  2001\n77                                Big Hero 6   comedy  2014\n78   Alvin and the Chipmunks: The Squeakquel   comedy  2009\n79                            Mrs. Doubtfire   comedy  1993\n80                                       Ted   comedy  2012\n81                                   Aladdin   comedy  1992\n82                   Alvin and the Chipmunks   comedy  2007\n83         Madagascar 3: Europes Most Wanted   comedy  2012\n84                             Kung Fu Panda   comedy  2008\n85                                 The Lorax   comedy  2012\n86               Austin Powers in Goldmember   comedy  2002\n87                        Back to the Future   comedy  1985\n88                          Wedding Crashers   comedy  2005\n89         Charlie and the Chocolate Factory   comedy  2005\n90                               Ratatouille   comedy  2007\n91     Austin Powers: The Spy Who Shagged Me   comedy  1999\n92                                   Tangled   comedy  2010\n93                       Monsters vs. Aliens   comedy  2009\n94                                Happy Feet   comedy  2006\n95            Ice Age: Dawn of the Dinosaurs   comedy  2009\n96                     Ice Age: The Meltdown   comedy  2006\n155                               Cinderella  romance  2015\n170                     Fifty Shades of Grey  romance  2015",
      "text/html": "<div>\n<style scoped>\n    .dataframe tbody tr th:only-of-type {\n        vertical-align: middle;\n    }\n\n    .dataframe tbody tr th {\n        vertical-align: top;\n    }\n\n    .dataframe thead th {\n        text-align: right;\n    }\n</style>\n<table border=\"1\" class=\"dataframe\">\n  <thead>\n    <tr style=\"text-align: right;\">\n      <th></th>\n      <th>nombre</th>\n      <th>genero</th>\n      <th>año</th>\n    </tr>\n  </thead>\n  <tbody>\n    <tr>\n      <th>1</th>\n      <td>Jurassic World</td>\n      <td>action</td>\n      <td>2015</td>\n    </tr>\n    <tr>\n      <th>6</th>\n      <td>Avengers: Age of Ultron</td>\n      <td>action</td>\n      <td>2015</td>\n    </tr>\n    <tr>\n      <th>16</th>\n      <td>Furious Seven</td>\n      <td>action</td>\n      <td>2015</td>\n    </tr>\n    <tr>\n      <th>50</th>\n      <td>Shrek 2</td>\n      <td>comedy</td>\n      <td>2004</td>\n    </tr>\n    <tr>\n      <th>51</th>\n      <td>Toy Story 3</td>\n      <td>comedy</td>\n      <td>2010</td>\n    </tr>\n    <tr>\n      <th>52</th>\n      <td>Frozen</td>\n      <td>comedy</td>\n      <td>2013</td>\n    </tr>\n    <tr>\n      <th>53</th>\n      <td>Finding Nemo</td>\n      <td>comedy</td>\n      <td>2003</td>\n    </tr>\n    <tr>\n      <th>54</th>\n      <td>Despicable Me 2</td>\n      <td>comedy</td>\n      <td>2013</td>\n    </tr>\n    <tr>\n      <th>55</th>\n      <td>Inside Out</td>\n      <td>comedy</td>\n      <td>2015</td>\n    </tr>\n    <tr>\n      <th>56</th>\n      <td>Shrek the Third</td>\n      <td>comedy</td>\n      <td>2007</td>\n    </tr>\n    <tr>\n      <th>57</th>\n      <td>Minions</td>\n      <td>comedy</td>\n      <td>2015</td>\n    </tr>\n    <tr>\n      <th>58</th>\n      <td>Up</td>\n      <td>comedy</td>\n      <td>2009</td>\n    </tr>\n    <tr>\n      <th>59</th>\n      <td>Monsters, Inc.</td>\n      <td>comedy</td>\n      <td>2001</td>\n    </tr>\n    <tr>\n      <th>60</th>\n      <td>Home Alone</td>\n      <td>comedy</td>\n      <td>1990</td>\n    </tr>\n    <tr>\n      <th>61</th>\n      <td>Meet the Fockers</td>\n      <td>comedy</td>\n      <td>2004</td>\n    </tr>\n    <tr>\n      <th>62</th>\n      <td>The Hangover</td>\n      <td>comedy</td>\n      <td>2009</td>\n    </tr>\n    <tr>\n      <th>63</th>\n      <td>Monsters University</td>\n      <td>comedy</td>\n      <td>2013</td>\n    </tr>\n    <tr>\n      <th>64</th>\n      <td>Shrek</td>\n      <td>comedy</td>\n      <td>2001</td>\n    </tr>\n    <tr>\n      <th>65</th>\n      <td>How the Grinch Stole Christmas</td>\n      <td>comedy</td>\n      <td>2000</td>\n    </tr>\n    <tr>\n      <th>66</th>\n      <td>The Hangover Part II</td>\n      <td>comedy</td>\n      <td>2011</td>\n    </tr>\n    <tr>\n      <th>67</th>\n      <td>Despicable Me</td>\n      <td>comedy</td>\n      <td>2010</td>\n    </tr>\n    <tr>\n      <th>68</th>\n      <td>Men in Black</td>\n      <td>comedy</td>\n      <td>1997</td>\n    </tr>\n    <tr>\n      <th>69</th>\n      <td>Toy Story 2</td>\n      <td>comedy</td>\n      <td>1999</td>\n    </tr>\n    <tr>\n      <th>70</th>\n      <td>Cars</td>\n      <td>comedy</td>\n      <td>2006</td>\n    </tr>\n    <tr>\n      <th>71</th>\n      <td>Bruce Almighty</td>\n      <td>comedy</td>\n      <td>2003</td>\n    </tr>\n    <tr>\n      <th>72</th>\n      <td>My Big Fat Greek Wedding</td>\n      <td>comedy</td>\n      <td>2002</td>\n    </tr>\n    <tr>\n      <th>73</th>\n      <td>Shrek Forever After</td>\n      <td>comedy</td>\n      <td>2010</td>\n    </tr>\n    <tr>\n      <th>74</th>\n      <td>Brave</td>\n      <td>comedy</td>\n      <td>2012</td>\n    </tr>\n    <tr>\n      <th>75</th>\n      <td>Ghostbusters</td>\n      <td>comedy</td>\n      <td>1984</td>\n    </tr>\n    <tr>\n      <th>76</th>\n      <td>Rush Hour 2</td>\n      <td>comedy</td>\n      <td>2001</td>\n    </tr>\n    <tr>\n      <th>77</th>\n      <td>Big Hero 6</td>\n      <td>comedy</td>\n      <td>2014</td>\n    </tr>\n    <tr>\n      <th>78</th>\n      <td>Alvin and the Chipmunks: The Squeakquel</td>\n      <td>comedy</td>\n      <td>2009</td>\n    </tr>\n    <tr>\n      <th>79</th>\n      <td>Mrs. Doubtfire</td>\n      <td>comedy</td>\n      <td>1993</td>\n    </tr>\n    <tr>\n      <th>80</th>\n      <td>Ted</td>\n      <td>comedy</td>\n      <td>2012</td>\n    </tr>\n    <tr>\n      <th>81</th>\n      <td>Aladdin</td>\n      <td>comedy</td>\n      <td>1992</td>\n    </tr>\n    <tr>\n      <th>82</th>\n      <td>Alvin and the Chipmunks</td>\n      <td>comedy</td>\n      <td>2007</td>\n    </tr>\n    <tr>\n      <th>83</th>\n      <td>Madagascar 3: Europes Most Wanted</td>\n      <td>comedy</td>\n      <td>2012</td>\n    </tr>\n    <tr>\n      <th>84</th>\n      <td>Kung Fu Panda</td>\n      <td>comedy</td>\n      <td>2008</td>\n    </tr>\n    <tr>\n      <th>85</th>\n      <td>The Lorax</td>\n      <td>comedy</td>\n      <td>2012</td>\n    </tr>\n    <tr>\n      <th>86</th>\n      <td>Austin Powers in Goldmember</td>\n      <td>comedy</td>\n      <td>2002</td>\n    </tr>\n    <tr>\n      <th>87</th>\n      <td>Back to the Future</td>\n      <td>comedy</td>\n      <td>1985</td>\n    </tr>\n    <tr>\n      <th>88</th>\n      <td>Wedding Crashers</td>\n      <td>comedy</td>\n      <td>2005</td>\n    </tr>\n    <tr>\n      <th>89</th>\n      <td>Charlie and the Chocolate Factory</td>\n      <td>comedy</td>\n      <td>2005</td>\n    </tr>\n    <tr>\n      <th>90</th>\n      <td>Ratatouille</td>\n      <td>comedy</td>\n      <td>2007</td>\n    </tr>\n    <tr>\n      <th>91</th>\n      <td>Austin Powers: The Spy Who Shagged Me</td>\n      <td>comedy</td>\n      <td>1999</td>\n    </tr>\n    <tr>\n      <th>92</th>\n      <td>Tangled</td>\n      <td>comedy</td>\n      <td>2010</td>\n    </tr>\n    <tr>\n      <th>93</th>\n      <td>Monsters vs. Aliens</td>\n      <td>comedy</td>\n      <td>2009</td>\n    </tr>\n    <tr>\n      <th>94</th>\n      <td>Happy Feet</td>\n      <td>comedy</td>\n      <td>2006</td>\n    </tr>\n    <tr>\n      <th>95</th>\n      <td>Ice Age: Dawn of the Dinosaurs</td>\n      <td>comedy</td>\n      <td>2009</td>\n    </tr>\n    <tr>\n      <th>96</th>\n      <td>Ice Age: The Meltdown</td>\n      <td>comedy</td>\n      <td>2006</td>\n    </tr>\n    <tr>\n      <th>155</th>\n      <td>Cinderella</td>\n      <td>romance</td>\n      <td>2015</td>\n    </tr>\n    <tr>\n      <th>170</th>\n      <td>Fifty Shades of Grey</td>\n      <td>romance</td>\n      <td>2015</td>\n    </tr>\n  </tbody>\n</table>\n</div>"
     },
     "execution_count": 17,
     "metadata": {},
     "output_type": "execute_result"
    }
   ],
   "source": [
    "# Seleccionar los renglones cuyo género sea de comedia o que hayan salido después de 2014\n",
    "condicion_comedia = df_imdb[\"genero\"] == \"comedy\"\n",
    "condicion_despues_2104 = df_imdb[\"año\"] > 2014\n",
    "condicion_comedia_despues_2104 = (condicion_comedia) | (condicion_despues_2104)\n",
    "peliculas_comedia_o_despues_2014 = df_imdb[condicion_comedia_despues_2104]\n",
    "columnas = [\"nombre\", \"genero\", \"año\"]\n",
    "peliculas_comedia_o_despues_2014[columnas]"
   ],
   "metadata": {
    "collapsed": false,
    "ExecuteTime": {
     "end_time": "2023-12-24T21:05:17.300606Z",
     "start_time": "2023-12-24T21:05:17.043541Z"
    }
   },
   "id": "8fcdd5b8fd71a3e2",
   "execution_count": 17
  },
  {
   "cell_type": "code",
   "outputs": [
    {
     "data": {
      "text/plain": "      id                          nombre genero   año calificacion_imdb\n199  200  Dawn of the Planet of the Apes  drama  2014               7.7\n200  201                    Interstellar  drama  2014               8.7\n213  214                       Gone Girl  drama  2014               8.2",
      "text/html": "<div>\n<style scoped>\n    .dataframe tbody tr th:only-of-type {\n        vertical-align: middle;\n    }\n\n    .dataframe tbody tr th {\n        vertical-align: top;\n    }\n\n    .dataframe thead th {\n        text-align: right;\n    }\n</style>\n<table border=\"1\" class=\"dataframe\">\n  <thead>\n    <tr style=\"text-align: right;\">\n      <th></th>\n      <th>id</th>\n      <th>nombre</th>\n      <th>genero</th>\n      <th>año</th>\n      <th>calificacion_imdb</th>\n    </tr>\n  </thead>\n  <tbody>\n    <tr>\n      <th>199</th>\n      <td>200</td>\n      <td>Dawn of the Planet of the Apes</td>\n      <td>drama</td>\n      <td>2014</td>\n      <td>7.7</td>\n    </tr>\n    <tr>\n      <th>200</th>\n      <td>201</td>\n      <td>Interstellar</td>\n      <td>drama</td>\n      <td>2014</td>\n      <td>8.7</td>\n    </tr>\n    <tr>\n      <th>213</th>\n      <td>214</td>\n      <td>Gone Girl</td>\n      <td>drama</td>\n      <td>2014</td>\n      <td>8.2</td>\n    </tr>\n  </tbody>\n</table>\n</div>"
     },
     "execution_count": 18,
     "metadata": {},
     "output_type": "execute_result"
    }
   ],
   "source": [
    "# Seleccionar los renglones cuyo género sea de drama y que hayan salido después de 2013\n",
    "peliculas_drama_despues_2013 = df_imdb[(df_imdb[\"genero\"] == \"drama\") & (df_imdb[\"año\"] > 2013)]\n",
    "peliculas_drama_despues_2013"
   ],
   "metadata": {
    "collapsed": false,
    "ExecuteTime": {
     "end_time": "2023-12-24T21:05:17.302141Z",
     "start_time": "2023-12-24T21:05:17.071215Z"
    }
   },
   "id": "e0e3ac7865d81d87",
   "execution_count": 18
  },
  {
   "cell_type": "code",
   "outputs": [
    {
     "data": {
      "text/plain": "      id        nombre  genero   año calificacion_imdb\n5      6     Star Wars  action  1977               8.7\n127  128  Dark Shadows  horror  2012               6.2\n137  138         Blade  horror  1998               7.1",
      "text/html": "<div>\n<style scoped>\n    .dataframe tbody tr th:only-of-type {\n        vertical-align: middle;\n    }\n\n    .dataframe tbody tr th {\n        vertical-align: top;\n    }\n\n    .dataframe thead th {\n        text-align: right;\n    }\n</style>\n<table border=\"1\" class=\"dataframe\">\n  <thead>\n    <tr style=\"text-align: right;\">\n      <th></th>\n      <th>id</th>\n      <th>nombre</th>\n      <th>genero</th>\n      <th>año</th>\n      <th>calificacion_imdb</th>\n    </tr>\n  </thead>\n  <tbody>\n    <tr>\n      <th>5</th>\n      <td>6</td>\n      <td>Star Wars</td>\n      <td>action</td>\n      <td>1977</td>\n      <td>8.7</td>\n    </tr>\n    <tr>\n      <th>127</th>\n      <td>128</td>\n      <td>Dark Shadows</td>\n      <td>horror</td>\n      <td>2012</td>\n      <td>6.2</td>\n    </tr>\n    <tr>\n      <th>137</th>\n      <td>138</td>\n      <td>Blade</td>\n      <td>horror</td>\n      <td>1998</td>\n      <td>7.1</td>\n    </tr>\n  </tbody>\n</table>\n</div>"
     },
     "execution_count": 19,
     "metadata": {},
     "output_type": "execute_result"
    }
   ],
   "source": [
    "# Seleccionar determinadas películas\n",
    "mi_seleccion = df_imdb[df_imdb[\"nombre\"].isin([\"Star Wars\", \"Dark Shadows\", \"Blade\"])]\n",
    "mi_seleccion"
   ],
   "metadata": {
    "collapsed": false,
    "ExecuteTime": {
     "end_time": "2023-12-24T21:05:17.303425Z",
     "start_time": "2023-12-24T21:05:17.089207Z"
    }
   },
   "id": "7790830abb3713b4",
   "execution_count": 19
  },
  {
   "cell_type": "code",
   "outputs": [
    {
     "data": {
      "text/plain": "    id        nombre  genero   año calificacion_imdb\n0    6     Star Wars  action  1977               8.7\n1  128  Dark Shadows  horror  2012               6.2\n2  138         Blade  horror  1998               7.1",
      "text/html": "<div>\n<style scoped>\n    .dataframe tbody tr th:only-of-type {\n        vertical-align: middle;\n    }\n\n    .dataframe tbody tr th {\n        vertical-align: top;\n    }\n\n    .dataframe thead th {\n        text-align: right;\n    }\n</style>\n<table border=\"1\" class=\"dataframe\">\n  <thead>\n    <tr style=\"text-align: right;\">\n      <th></th>\n      <th>id</th>\n      <th>nombre</th>\n      <th>genero</th>\n      <th>año</th>\n      <th>calificacion_imdb</th>\n    </tr>\n  </thead>\n  <tbody>\n    <tr>\n      <th>0</th>\n      <td>6</td>\n      <td>Star Wars</td>\n      <td>action</td>\n      <td>1977</td>\n      <td>8.7</td>\n    </tr>\n    <tr>\n      <th>1</th>\n      <td>128</td>\n      <td>Dark Shadows</td>\n      <td>horror</td>\n      <td>2012</td>\n      <td>6.2</td>\n    </tr>\n    <tr>\n      <th>2</th>\n      <td>138</td>\n      <td>Blade</td>\n      <td>horror</td>\n      <td>1998</td>\n      <td>7.1</td>\n    </tr>\n  </tbody>\n</table>\n</div>"
     },
     "execution_count": 20,
     "metadata": {},
     "output_type": "execute_result"
    }
   ],
   "source": [
    "# Resetear los índices\n",
    "mi_seleccion = mi_seleccion.reset_index(drop=True)\n",
    "mi_seleccion"
   ],
   "metadata": {
    "collapsed": false,
    "ExecuteTime": {
     "end_time": "2023-12-24T21:05:17.304714Z",
     "start_time": "2023-12-24T21:05:17.119962Z"
    }
   },
   "id": "2d482d597add16f4",
   "execution_count": 20
  },
  {
   "cell_type": "code",
   "outputs": [],
   "source": [],
   "metadata": {
    "collapsed": false,
    "ExecuteTime": {
     "end_time": "2023-12-24T21:05:17.425438Z",
     "start_time": "2023-12-24T21:05:17.127728Z"
    }
   },
   "id": "d228e0c29412d9f6",
   "execution_count": 20
  }
 ],
 "metadata": {
  "kernelspec": {
   "display_name": "Python 3",
   "language": "python",
   "name": "python3"
  },
  "language_info": {
   "codemirror_mode": {
    "name": "ipython",
    "version": 2
   },
   "file_extension": ".py",
   "mimetype": "text/x-python",
   "name": "python",
   "nbconvert_exporter": "python",
   "pygments_lexer": "ipython2",
   "version": "2.7.6"
  }
 },
 "nbformat": 4,
 "nbformat_minor": 5
}
