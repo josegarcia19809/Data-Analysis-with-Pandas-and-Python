{
 "cells": [
  {
   "cell_type": "markdown",
   "metadata": {},
   "source": [
    "# Ventas videojuegos 2024"
   ]
  },
  {
   "cell_type": "markdown",
   "metadata": {},
   "source": [
    "Aquí tienes las consultas a realizar sobre este conjunto de datos:\n",
    "\n",
    "1. ¿Cuál es el promedio de ventas globales de todos los videojuegos?\n",
    "2. ¿Cuál es la plataforma más común en el conjunto de datos (o sea, la que tenga más videojuegos)?\n",
    "3. ¿Cuál es el género de videojuegos más común en el conjunto de datos y cuántos elementos tiene?\n",
    "4. ¿Cuál es el publisher que tiene más videojuegos en el conjunto de datos?\n",
    "5. ¿Cuál es el videojuego (mostrar solamente nombre y ventas globales) con las ventas globales más altas?\n",
    "6. ¿Cuál es el videojuego (mostrar solamente nombre y ventas globales) con las ventas globales más bajas?\n",
    "7. ¿Cuántos videojuegos se lanzaron en un año específico (mostrar solamente nombre y año)? (se tiene que pedir el año)\n",
    "8. ¿Cuál es el total de ventas globales para cada plataforma?\n",
    "9. ¿Cuál es el total de ventas globales para cada género de videojuegos?\n",
    "10. Mostrar nombre del videojuego, publisher y total de ventas globales en orden ascendente según las ventas globales\n"
   ]
  },
  {
   "cell_type": "code",
   "execution_count": 1,
   "metadata": {
    "ExecuteTime": {
     "end_time": "2024-05-17T03:11:55.773845Z",
     "start_time": "2024-05-17T03:11:52.692176Z"
    }
   },
   "outputs": [],
   "source": [
    "import pandas as pd"
   ]
  },
  {
   "cell_type": "code",
   "execution_count": 2,
   "metadata": {
    "ExecuteTime": {
     "end_time": "2024-05-17T03:11:55.861842Z",
     "start_time": "2024-05-17T03:11:55.778306Z"
    }
   },
   "outputs": [
    {
     "data": {
      "text/html": [
       "<div>\n",
       "<style scoped>\n",
       "    .dataframe tbody tr th:only-of-type {\n",
       "        vertical-align: middle;\n",
       "    }\n",
       "\n",
       "    .dataframe tbody tr th {\n",
       "        vertical-align: top;\n",
       "    }\n",
       "\n",
       "    .dataframe thead th {\n",
       "        text-align: right;\n",
       "    }\n",
       "</style>\n",
       "<table border=\"1\" class=\"dataframe\">\n",
       "  <thead>\n",
       "    <tr style=\"text-align: right;\">\n",
       "      <th></th>\n",
       "      <th>nombre</th>\n",
       "      <th>plataforma</th>\n",
       "      <th>año</th>\n",
       "      <th>genero</th>\n",
       "      <th>publisher</th>\n",
       "      <th>ventas_norte_america</th>\n",
       "      <th>ventas_europa</th>\n",
       "      <th>ventas_japon</th>\n",
       "      <th>otras_ventas</th>\n",
       "      <th>ventas_globales</th>\n",
       "    </tr>\n",
       "  </thead>\n",
       "  <tbody>\n",
       "    <tr>\n",
       "      <th>0</th>\n",
       "      <td>Kinect Adventures!</td>\n",
       "      <td>X360</td>\n",
       "      <td>2010</td>\n",
       "      <td>Misc</td>\n",
       "      <td>Microsoft Game Studios</td>\n",
       "      <td>14.97</td>\n",
       "      <td>4.94</td>\n",
       "      <td>0.24</td>\n",
       "      <td>1.67</td>\n",
       "      <td>21.82</td>\n",
       "    </tr>\n",
       "    <tr>\n",
       "      <th>1</th>\n",
       "      <td>Grand Theft Auto V</td>\n",
       "      <td>PS3</td>\n",
       "      <td>2013</td>\n",
       "      <td>Action</td>\n",
       "      <td>Take-Two Interactive</td>\n",
       "      <td>7.01</td>\n",
       "      <td>9.27</td>\n",
       "      <td>0.97</td>\n",
       "      <td>4.14</td>\n",
       "      <td>21.40</td>\n",
       "    </tr>\n",
       "    <tr>\n",
       "      <th>2</th>\n",
       "      <td>Grand Theft Auto V</td>\n",
       "      <td>X360</td>\n",
       "      <td>2013</td>\n",
       "      <td>Action</td>\n",
       "      <td>Take-Two Interactive</td>\n",
       "      <td>9.63</td>\n",
       "      <td>5.31</td>\n",
       "      <td>0.06</td>\n",
       "      <td>1.38</td>\n",
       "      <td>16.38</td>\n",
       "    </tr>\n",
       "    <tr>\n",
       "      <th>3</th>\n",
       "      <td>Call of Duty: Modern Warfare 3</td>\n",
       "      <td>X360</td>\n",
       "      <td>2011</td>\n",
       "      <td>Shooter</td>\n",
       "      <td>Activision</td>\n",
       "      <td>9.03</td>\n",
       "      <td>4.28</td>\n",
       "      <td>0.13</td>\n",
       "      <td>1.32</td>\n",
       "      <td>14.76</td>\n",
       "    </tr>\n",
       "    <tr>\n",
       "      <th>4</th>\n",
       "      <td>Call of Duty: Black Ops</td>\n",
       "      <td>X360</td>\n",
       "      <td>2010</td>\n",
       "      <td>Shooter</td>\n",
       "      <td>Activision</td>\n",
       "      <td>9.67</td>\n",
       "      <td>3.73</td>\n",
       "      <td>0.11</td>\n",
       "      <td>1.13</td>\n",
       "      <td>14.64</td>\n",
       "    </tr>\n",
       "  </tbody>\n",
       "</table>\n",
       "</div>"
      ],
      "text/plain": [
       "                           nombre plataforma   año   genero  \\\n",
       "0              Kinect Adventures!       X360  2010     Misc   \n",
       "1              Grand Theft Auto V        PS3  2013   Action   \n",
       "2              Grand Theft Auto V       X360  2013   Action   \n",
       "3  Call of Duty: Modern Warfare 3       X360  2011  Shooter   \n",
       "4         Call of Duty: Black Ops       X360  2010  Shooter   \n",
       "\n",
       "                publisher  ventas_norte_america  ventas_europa  ventas_japon  \\\n",
       "0  Microsoft Game Studios                 14.97           4.94          0.24   \n",
       "1    Take-Two Interactive                  7.01           9.27          0.97   \n",
       "2    Take-Two Interactive                  9.63           5.31          0.06   \n",
       "3              Activision                  9.03           4.28          0.13   \n",
       "4              Activision                  9.67           3.73          0.11   \n",
       "\n",
       "   otras_ventas  ventas_globales  \n",
       "0          1.67            21.82  \n",
       "1          4.14            21.40  \n",
       "2          1.38            16.38  \n",
       "3          1.32            14.76  \n",
       "4          1.13            14.64  "
      ]
     },
     "execution_count": 2,
     "metadata": {},
     "output_type": "execute_result"
    }
   ],
   "source": [
    "videojuegos = pd.read_csv(\"datax/ventas_videojuegos_2024.csv\")\n",
    "videojuegos.head()"
   ]
  },
  {
   "cell_type": "code",
   "execution_count": 3,
   "metadata": {
    "ExecuteTime": {
     "end_time": "2024-05-17T03:11:55.911486Z",
     "start_time": "2024-05-17T03:11:55.865864Z"
    }
   },
   "outputs": [
    {
     "name": "stdout",
     "output_type": "stream",
     "text": [
      "<class 'pandas.core.frame.DataFrame'>\n",
      "RangeIndex: 3087 entries, 0 to 3086\n",
      "Data columns (total 10 columns):\n",
      " #   Column                Non-Null Count  Dtype  \n",
      "---  ------                --------------  -----  \n",
      " 0   nombre                3087 non-null   object \n",
      " 1   plataforma            3087 non-null   object \n",
      " 2   año                   3087 non-null   int64  \n",
      " 3   genero                3087 non-null   object \n",
      " 4   publisher             3087 non-null   object \n",
      " 5   ventas_norte_america  3087 non-null   float64\n",
      " 6   ventas_europa         3087 non-null   float64\n",
      " 7   ventas_japon          3087 non-null   float64\n",
      " 8   otras_ventas          3087 non-null   float64\n",
      " 9   ventas_globales       3087 non-null   float64\n",
      "dtypes: float64(5), int64(1), object(4)\n",
      "memory usage: 241.3+ KB\n"
     ]
    }
   ],
   "source": [
    "videojuegos.info()"
   ]
  },
  {
   "cell_type": "code",
   "execution_count": 4,
   "metadata": {
    "ExecuteTime": {
     "end_time": "2024-05-17T03:30:32.762538Z",
     "start_time": "2024-05-17T03:30:32.686478Z"
    }
   },
   "outputs": [
    {
     "name": "stdout",
     "output_type": "stream",
     "text": [
      "Promedio de ventas globales: 0.76\n"
     ]
    }
   ],
   "source": [
    "# 1. ¿Cuál es el promedio de ventas globales de todos los videojuegos?\n",
    "promedio_ventas_globales = videojuegos[\"ventas_globales\"].mean()\n",
    "print(f\"Promedio de ventas globales: {promedio_ventas_globales:>.2f}\")"
   ]
  },
  {
   "cell_type": "code",
   "execution_count": 5,
   "metadata": {
    "ExecuteTime": {
     "end_time": "2024-05-17T03:36:14.524582Z",
     "start_time": "2024-05-17T03:36:14.514349Z"
    }
   },
   "outputs": [
    {
     "name": "stdout",
     "output_type": "stream",
     "text": [
      "La plataforma mas comun: PS3 con 1304 registros\n"
     ]
    }
   ],
   "source": [
    "# 2. ¿Cuál es la plataforma más común en el conjunto de datos (o sea, la que tenga más videojuegos)?\n",
    "plataformas_frecuencias = videojuegos[\"plataforma\"].value_counts()\n",
    "plataforma_mas_comun = plataformas_frecuencias.idxmax()\n",
    "print(f\"La plataforma mas comun: {plataforma_mas_comun}\"\n",
    "      f\" con {plataformas_frecuencias[plataforma_mas_comun]} registros\")"
   ]
  },
  {
   "cell_type": "code",
   "execution_count": 6,
   "metadata": {
    "ExecuteTime": {
     "end_time": "2024-05-17T03:38:12.469756Z",
     "start_time": "2024-05-17T03:38:12.424043Z"
    }
   },
   "outputs": [
    {
     "name": "stdout",
     "output_type": "stream",
     "text": [
      "El genero mas comun: Action con 881 registros\n"
     ]
    }
   ],
   "source": [
    "# 3. ¿Cuál es el género de videojuegos más común en el conjunto de datos y cuántos elementos tiene?\n",
    "generos_frecuencias = videojuegos[\"genero\"].value_counts()\n",
    "genero_mas_comun = generos_frecuencias.idxmax()\n",
    "print(f\"El genero mas comun: {genero_mas_comun}\"\n",
    "      f\" con {generos_frecuencias[genero_mas_comun]} registros\")"
   ]
  },
  {
   "cell_type": "code",
   "execution_count": 7,
   "metadata": {
    "ExecuteTime": {
     "end_time": "2024-05-17T03:40:01.195946Z",
     "start_time": "2024-05-17T03:40:01.184086Z"
    }
   },
   "outputs": [
    {
     "name": "stdout",
     "output_type": "stream",
     "text": [
      "El publisher mas comun: Electronic Arts con 359 registros\n"
     ]
    }
   ],
   "source": [
    "# 4. ¿Cuál es el publisher que tiene más videojuegos en el conjunto de datos?\n",
    "publisher_frecuencias = videojuegos[\"publisher\"].value_counts()\n",
    "publisher_mas_comun = publisher_frecuencias.idxmax()\n",
    "print(f\"El publisher mas comun: {publisher_mas_comun}\"\n",
    "      f\" con {publisher_frecuencias[publisher_mas_comun]} registros\")"
   ]
  },
  {
   "cell_type": "code",
   "execution_count": 8,
   "metadata": {
    "ExecuteTime": {
     "end_time": "2024-05-17T03:44:56.685699Z",
     "start_time": "2024-05-17T03:44:56.665492Z"
    }
   },
   "outputs": [
    {
     "data": {
      "text/plain": [
       "nombre             Kinect Adventures!\n",
       "ventas_globales                 21.82\n",
       "Name: 0, dtype: object"
      ]
     },
     "execution_count": 8,
     "metadata": {},
     "output_type": "execute_result"
    }
   ],
   "source": [
    "# 5. ¿Cuál es el videojuego (mostrar solamente nombre y ventas globales) con las ventas globales más altas?\n",
    "videojuegos_ordenados_por_ventas_globales = videojuegos.sort_values(by=\"ventas_globales\", ascending=False)\n",
    "videojuego_ventas_globales_mas_altas = videojuegos_ordenados_por_ventas_globales.iloc[0]\n",
    "videojuego_ventas_globales_mas_altas[[\"nombre\", \"ventas_globales\"]]"
   ]
  },
  {
   "cell_type": "code",
   "execution_count": 9,
   "metadata": {
    "ExecuteTime": {
     "end_time": "2024-05-17T03:46:16.133455Z",
     "start_time": "2024-05-17T03:46:16.117689Z"
    }
   },
   "outputs": [
    {
     "data": {
      "text/plain": [
       "nombre             Rugby Challenge 3\n",
       "ventas_globales                 0.01\n",
       "Name: 3086, dtype: object"
      ]
     },
     "execution_count": 9,
     "metadata": {},
     "output_type": "execute_result"
    }
   ],
   "source": [
    "# 6. ¿Cuál es el videojuego (mostrar solamente nombre y ventas globales) con las ventas globales más bajas?\n",
    "videojuegos_ordenados_asc_por_ventas_globales = videojuegos.sort_values(by=\"ventas_globales\", ascending=True)\n",
    "videojuego_ventas_globales_mas_bajas = videojuegos_ordenados_asc_por_ventas_globales.iloc[0]\n",
    "videojuego_ventas_globales_mas_bajas[[\"nombre\", \"ventas_globales\"]]"
   ]
  },
  {
   "cell_type": "code",
   "execution_count": 16,
   "metadata": {
    "ExecuteTime": {
     "end_time": "2024-05-17T03:52:08.307392Z",
     "start_time": "2024-05-17T03:52:05.689426Z"
    }
   },
   "outputs": [
    {
     "name": "stdout",
     "output_type": "stream",
     "text": [
      "Ingrese el año: 2017\n"
     ]
    },
    {
     "data": {
      "text/plain": [
       "nombre    1\n",
       "año       1\n",
       "dtype: int64"
      ]
     },
     "execution_count": 16,
     "metadata": {},
     "output_type": "execute_result"
    }
   ],
   "source": [
    "# 7. ¿Cuántos videojuegos se lanzaron en un año específico (mostrar solamente nombre y año)? \n",
    "# (se tiene que pedir el año)\n",
    "anio = int(input(\"Ingrese el año: \"))\n",
    "videojuegos_lanzados_en_anio = videojuegos[videojuegos[\"año\"] == anio]\n",
    "cantidad_videojuegos = videojuegos_lanzados_en_anio[[\"nombre\", \"año\"]].count()\n",
    "cantidad_videojuegos"
   ]
  },
  {
   "cell_type": "code",
   "execution_count": 11,
   "metadata": {
    "ExecuteTime": {
     "end_time": "2024-05-17T03:54:49.604666Z",
     "start_time": "2024-05-17T03:54:49.541338Z"
    }
   },
   "outputs": [
    {
     "data": {
      "text/plain": [
       "plataforma\n",
       "PS3     949.35\n",
       "PS4     278.10\n",
       "X360    969.60\n",
       "XOne    141.06\n",
       "Name: ventas_globales, dtype: float64"
      ]
     },
     "execution_count": 11,
     "metadata": {},
     "output_type": "execute_result"
    }
   ],
   "source": [
    "# 8. ¿Cuál es el total de ventas globales para cada plataforma?\n",
    "videojuegos.groupby(\"plataforma\")[\"ventas_globales\"].sum()"
   ]
  },
  {
   "cell_type": "code",
   "execution_count": 12,
   "metadata": {
    "ExecuteTime": {
     "end_time": "2024-05-17T03:55:31.843673Z",
     "start_time": "2024-05-17T03:55:31.826930Z"
    }
   },
   "outputs": [
    {
     "data": {
      "text/plain": [
       "genero\n",
       "Action          664.54\n",
       "Adventure        45.31\n",
       "Fighting         99.69\n",
       "Misc            149.50\n",
       "Platform         49.06\n",
       "Puzzle            1.19\n",
       "Racing          158.56\n",
       "Role-Playing    182.46\n",
       "Shooter         599.96\n",
       "Simulation       26.13\n",
       "Sports          346.38\n",
       "Strategy         15.33\n",
       "Name: ventas_globales, dtype: float64"
      ]
     },
     "execution_count": 12,
     "metadata": {},
     "output_type": "execute_result"
    }
   ],
   "source": [
    "# 9. ¿Cuál es el total de ventas globales para cada género de videojuegos?\n",
    "videojuegos.groupby(\"genero\")[\"ventas_globales\"].sum()"
   ]
  },
  {
   "cell_type": "code",
   "execution_count": 13,
   "metadata": {
    "ExecuteTime": {
     "end_time": "2024-05-17T03:58:24.746315Z",
     "start_time": "2024-05-17T03:58:24.677086Z"
    }
   },
   "outputs": [
    {
     "data": {
      "text/html": [
       "<div>\n",
       "<style scoped>\n",
       "    .dataframe tbody tr th:only-of-type {\n",
       "        vertical-align: middle;\n",
       "    }\n",
       "\n",
       "    .dataframe tbody tr th {\n",
       "        vertical-align: top;\n",
       "    }\n",
       "\n",
       "    .dataframe thead th {\n",
       "        text-align: right;\n",
       "    }\n",
       "</style>\n",
       "<table border=\"1\" class=\"dataframe\">\n",
       "  <thead>\n",
       "    <tr style=\"text-align: right;\">\n",
       "      <th></th>\n",
       "      <th>nombre</th>\n",
       "      <th>publisher</th>\n",
       "      <th>ventas_globales</th>\n",
       "    </tr>\n",
       "  </thead>\n",
       "  <tbody>\n",
       "    <tr>\n",
       "      <th>3086</th>\n",
       "      <td>Rugby Challenge 3</td>\n",
       "      <td>Alternative Software</td>\n",
       "      <td>0.01</td>\n",
       "    </tr>\n",
       "    <tr>\n",
       "      <th>3025</th>\n",
       "      <td>Psycho-Pass</td>\n",
       "      <td>5pb</td>\n",
       "      <td>0.01</td>\n",
       "    </tr>\n",
       "    <tr>\n",
       "      <th>3026</th>\n",
       "      <td>Young Justice: Legacy</td>\n",
       "      <td>Namco Bandai Games</td>\n",
       "      <td>0.01</td>\n",
       "    </tr>\n",
       "    <tr>\n",
       "      <th>3027</th>\n",
       "      <td>Madden NFL 13</td>\n",
       "      <td>Electronic Arts</td>\n",
       "      <td>0.01</td>\n",
       "    </tr>\n",
       "    <tr>\n",
       "      <th>3028</th>\n",
       "      <td>Dragon's Dogma Online: Season 2</td>\n",
       "      <td>Capcom</td>\n",
       "      <td>0.01</td>\n",
       "    </tr>\n",
       "    <tr>\n",
       "      <th>...</th>\n",
       "      <td>...</td>\n",
       "      <td>...</td>\n",
       "      <td>...</td>\n",
       "    </tr>\n",
       "    <tr>\n",
       "      <th>4</th>\n",
       "      <td>Call of Duty: Black Ops</td>\n",
       "      <td>Activision</td>\n",
       "      <td>14.64</td>\n",
       "    </tr>\n",
       "    <tr>\n",
       "      <th>3</th>\n",
       "      <td>Call of Duty: Modern Warfare 3</td>\n",
       "      <td>Activision</td>\n",
       "      <td>14.76</td>\n",
       "    </tr>\n",
       "    <tr>\n",
       "      <th>2</th>\n",
       "      <td>Grand Theft Auto V</td>\n",
       "      <td>Take-Two Interactive</td>\n",
       "      <td>16.38</td>\n",
       "    </tr>\n",
       "    <tr>\n",
       "      <th>1</th>\n",
       "      <td>Grand Theft Auto V</td>\n",
       "      <td>Take-Two Interactive</td>\n",
       "      <td>21.40</td>\n",
       "    </tr>\n",
       "    <tr>\n",
       "      <th>0</th>\n",
       "      <td>Kinect Adventures!</td>\n",
       "      <td>Microsoft Game Studios</td>\n",
       "      <td>21.82</td>\n",
       "    </tr>\n",
       "  </tbody>\n",
       "</table>\n",
       "<p>3087 rows × 3 columns</p>\n",
       "</div>"
      ],
      "text/plain": [
       "                               nombre               publisher  ventas_globales\n",
       "3086                Rugby Challenge 3    Alternative Software             0.01\n",
       "3025                      Psycho-Pass                     5pb             0.01\n",
       "3026            Young Justice: Legacy      Namco Bandai Games             0.01\n",
       "3027                    Madden NFL 13         Electronic Arts             0.01\n",
       "3028  Dragon's Dogma Online: Season 2                  Capcom             0.01\n",
       "...                               ...                     ...              ...\n",
       "4             Call of Duty: Black Ops              Activision            14.64\n",
       "3      Call of Duty: Modern Warfare 3              Activision            14.76\n",
       "2                  Grand Theft Auto V    Take-Two Interactive            16.38\n",
       "1                  Grand Theft Auto V    Take-Two Interactive            21.40\n",
       "0                  Kinect Adventures!  Microsoft Game Studios            21.82\n",
       "\n",
       "[3087 rows x 3 columns]"
      ]
     },
     "execution_count": 13,
     "metadata": {},
     "output_type": "execute_result"
    }
   ],
   "source": [
    "# 10. Mostrar nombre del videojuego, publisher y total de ventas globales \n",
    "# en orden ascendente según las ventas globales\n",
    "videojuegos_ordenados_asc_por_ventas_globales = videojuegos.sort_values (by=\"ventas_globales\", ascending=True)\n",
    "videojuegos_ordenados_asc_por_ventas_globales[[\"nombre\", \"publisher\", \"ventas_globales\"]]"
   ]
  },
  {
   "cell_type": "code",
   "execution_count": null,
   "metadata": {},
   "outputs": [],
   "source": []
  }
 ],
 "metadata": {
  "kernelspec": {
   "display_name": "Python 3 (ipykernel)",
   "language": "python",
   "name": "python3"
  },
  "language_info": {
   "codemirror_mode": {
    "name": "ipython",
    "version": 3
   },
   "file_extension": ".py",
   "mimetype": "text/x-python",
   "name": "python",
   "nbconvert_exporter": "python",
   "pygments_lexer": "ipython3",
   "version": "3.8.5"
  }
 },
 "nbformat": 4,
 "nbformat_minor": 4
}
