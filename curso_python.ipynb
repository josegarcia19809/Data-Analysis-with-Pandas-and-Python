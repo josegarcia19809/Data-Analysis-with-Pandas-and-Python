{
 "cells": [
  {
   "cell_type": "code",
   "execution_count": 2,
   "id": "initial_id",
   "metadata": {
    "collapsed": true,
    "ExecuteTime": {
     "end_time": "2024-01-24T22:03:03.744828Z",
     "start_time": "2024-01-24T22:03:03.736556Z"
    }
   },
   "outputs": [
    {
     "name": "stdout",
     "output_type": "stream",
     "text": [
      "7.38 millas son 11.88 kilómetros\n",
      "12.25 kilómetros son 7.61 millas\n"
     ]
    }
   ],
   "source": [
    "kilometers = 12.25\n",
    "miles = 7.38\n",
    "\n",
    "miles_to_kilometers = miles * 1.61\n",
    "kilometers_to_miles = kilometers / 1.61\n",
    "\n",
    "print(miles, \"millas son\", round(miles_to_kilometers, 2), \"kilómetros\")\n",
    "print(kilometers, \"kilómetros son\", round(kilometers_to_miles, 2), \"millas\")"
   ]
  },
  {
   "cell_type": "code",
   "outputs": [
    {
     "name": "stdout",
     "output_type": "stream",
     "text": [
      "y = -9.0\n"
     ]
    }
   ],
   "source": [
    "x = -1\n",
    "x = float(x)\n",
    "# escribe tu código aquí\n",
    "y = 3 * x ** 3 - 2 * x ** 2 + 3 * x - 1\n",
    "print(\"y =\", y)"
   ],
   "metadata": {
    "collapsed": false,
    "ExecuteTime": {
     "end_time": "2024-01-24T22:09:40.629693Z",
     "start_time": "2024-01-24T22:09:40.612859Z"
    }
   },
   "id": "9f4a5596ee777ff3",
   "execution_count": 6
  },
  {
   "cell_type": "code",
   "outputs": [
    {
     "name": "stdout",
     "output_type": "stream",
     "text": [
      "\"Estoy\"\n",
      "\"\"aprendiendo\"\"\n",
      "\"\"\"Python\"\"\"\n"
     ]
    }
   ],
   "source": [
    "print('\"Estoy\"\\n\"\"aprendiendo\"\"\\n\"\"\"Python\"\"\"')"
   ],
   "metadata": {
    "collapsed": false,
    "ExecuteTime": {
     "end_time": "2024-01-29T17:33:46.097826Z",
     "start_time": "2024-01-29T17:33:45.694272Z"
    }
   },
   "id": "8a0aaa33073a1c46",
   "execution_count": 2
  },
  {
   "cell_type": "code",
   "outputs": [
    {
     "name": "stdout",
     "output_type": "stream",
     "text": [
      "10 5 15\n",
      "Número Total de Manzanas: 30\n"
     ]
    }
   ],
   "source": [
    "juan = 10\n",
    "maria = 5\n",
    "adan = 15\n",
    "print(juan, maria, adan)\n",
    "total_manzanas = juan + maria + adan\n",
    "print(\"Número Total de Manzanas:\", total_manzanas)"
   ],
   "metadata": {
    "collapsed": false,
    "ExecuteTime": {
     "end_time": "2024-01-29T17:39:45.004699Z",
     "start_time": "2024-01-29T17:39:44.963436Z"
    }
   },
   "id": "f010fad127a9ec37",
   "execution_count": 4
  },
  {
   "cell_type": "code",
   "outputs": [
    {
     "name": "stdout",
     "output_type": "stream",
     "text": [
      "Horas:  2\n",
      "Segundos en Horas:  7200\n"
     ]
    }
   ],
   "source": [
    "# este programa calcula los segundos en cierto número de horas determinadas \n",
    "\n",
    "horas = 2\n",
    "seconds = 3600  # número de segundos en una hora\n",
    "\n",
    "print(\"Horas: \", horas)\n",
    "print(\"Segundos en Horas: \", horas * seconds)  # se imprime el numero de segundos en determinado numero de horas\n"
   ],
   "metadata": {
    "collapsed": false,
    "ExecuteTime": {
     "end_time": "2024-01-29T17:42:41.280361Z",
     "start_time": "2024-01-29T17:42:41.270682Z"
    }
   },
   "id": "1cbf2fcd46688ec8",
   "execution_count": 5
  },
  {
   "cell_type": "code",
   "outputs": [
    {
     "name": "stdout",
     "output_type": "stream",
     "text": [
      "El resultado de la suma es  8.0\n",
      "El resultado de la resta es  -2.0\n",
      "El resultado de la multiplicación es  15.0\n",
      "El resultado de la división es  0.6\n",
      "\n",
      "¡Eso es todo, amigos!\n"
     ]
    }
   ],
   "source": [
    "# ingresa un valor flotante para la variable a aquí\n",
    "a = float(input(\"Ingrese a \"))\n",
    "# ingresa un valor flotante para la variable b aquí\n",
    "b = float(input(\"Ingrese b: \"))\n",
    "# muestra el resultado de la suma aquí \n",
    "print(\"El resultado de la suma es \", a + b)\n",
    "# muestra el resultado de la resta aquí\n",
    "print(\"El resultado de la resta es \", a - b)\n",
    "# muestra el resultado de la multiplicación aquí\n",
    "print(\"El resultado de la multiplicación es \", a * b)\n",
    "# muestra el resultado de la división aquí\n",
    "print(\"El resultado de la división es \", a / b)\n",
    "print(\"\\n¡Eso es todo, amigos!\")"
   ],
   "metadata": {
    "collapsed": false,
    "ExecuteTime": {
     "end_time": "2024-01-29T18:15:38.377495Z",
     "start_time": "2024-01-29T18:15:33.677795Z"
    }
   },
   "id": "fb2d0960f47fd05f",
   "execution_count": 6
  },
  {
   "cell_type": "code",
   "outputs": [
    {
     "name": "stdout",
     "output_type": "stream",
     "text": [
      "y = -0.19258202567760344\n"
     ]
    }
   ],
   "source": [
    "x = float(input(\"Ingresa el valor para x: \"))\n",
    "\n",
    "# Escribe tu código aquí.\n",
    "y = 1 / (x + (1 / (x + 1 / (x + 1 / x))))\n",
    "\n",
    "print(\"y =\", y)"
   ],
   "metadata": {
    "collapsed": false,
    "ExecuteTime": {
     "end_time": "2024-01-29T18:18:16.128833Z",
     "start_time": "2024-01-29T18:18:13.676737Z"
    }
   },
   "id": "4870d004007afa85",
   "execution_count": 10
  },
  {
   "cell_type": "code",
   "outputs": [
    {
     "name": "stdout",
     "output_type": "stream",
     "text": [
      "13 : 16\n"
     ]
    }
   ],
   "source": [
    "hour = int(input(\"Hora de inicio (horas): \"))\n",
    "mins = int(input(\"Minuto de inicio (minutos): \"))\n",
    "dura = int(input(\"Duración del evento (minutos): \"))\n",
    "\n",
    "# Escribe tu código aqui.\n",
    "minutos_totales = (hour * 60) + mins + dura\n",
    "hora_final = minutos_totales // 60\n",
    "minutos_final = minutos_totales - (hora_final * 60)\n",
    "print(hora_final, \":\", minutos_final)\n"
   ],
   "metadata": {
    "collapsed": false,
    "ExecuteTime": {
     "end_time": "2024-01-29T18:37:24.346649Z",
     "start_time": "2024-01-29T18:37:14.600442Z"
    }
   },
   "id": "9cf5088eaf5b0814",
   "execution_count": 13
  },
  {
   "cell_type": "code",
   "outputs": [
    {
     "name": "stdout",
     "output_type": "stream",
     "text": [
      "17.5\n"
     ]
    }
   ],
   "source": [
    "print(1 / 2 + 3 // 3 + 4 ** 2)"
   ],
   "metadata": {
    "collapsed": false,
    "ExecuteTime": {
     "end_time": "2024-01-29T18:46:01.867888Z",
     "start_time": "2024-01-29T18:46:01.813650Z"
    }
   },
   "id": "cdb6eed4a876ac8a",
   "execution_count": 14
  },
  {
   "cell_type": "code",
   "outputs": [
    {
     "data": {
      "text/plain": "0"
     },
     "execution_count": 15,
     "metadata": {},
     "output_type": "execute_result"
    }
   ],
   "source": [
    "1 // 2 * 3"
   ],
   "metadata": {
    "collapsed": false,
    "ExecuteTime": {
     "end_time": "2024-01-29T18:47:00.580519Z",
     "start_time": "2024-01-29T18:47:00.563927Z"
    }
   },
   "id": "db5b93156cef1feb",
   "execution_count": 15
  },
  {
   "cell_type": "code",
   "outputs": [
    {
     "data": {
      "text/plain": "1.0"
     },
     "execution_count": 16,
     "metadata": {},
     "output_type": "execute_result"
    }
   ],
   "source": [
    "1 / 1"
   ],
   "metadata": {
    "collapsed": false,
    "ExecuteTime": {
     "end_time": "2024-01-29T18:47:20.888797Z",
     "start_time": "2024-01-29T18:47:20.863550Z"
    }
   },
   "id": "f918d8d89945e613",
   "execution_count": 16
  },
  {
   "cell_type": "code",
   "outputs": [
    {
     "name": "stdout",
     "output_type": "stream",
     "text": [
      "8.0\n"
     ]
    }
   ],
   "source": [
    "x = 2\n",
    "y = 4\n",
    "x = x / y\n",
    "y = y / x\n",
    "print(y)\n"
   ],
   "metadata": {
    "collapsed": false,
    "ExecuteTime": {
     "end_time": "2024-01-29T18:48:25.711824Z",
     "start_time": "2024-01-29T18:48:25.690070Z"
    }
   },
   "id": "3675abb397b5b18e",
   "execution_count": 18
  },
  {
   "cell_type": "code",
   "outputs": [
    {
     "data": {
      "text/plain": "2012000000.0"
     },
     "execution_count": 19,
     "metadata": {},
     "output_type": "execute_result"
    }
   ],
   "source": [
    "20.12 * 10 ** 8"
   ],
   "metadata": {
    "collapsed": false,
    "ExecuteTime": {
     "end_time": "2024-01-29T18:50:10.592994Z",
     "start_time": "2024-01-29T18:50:10.576031Z"
    }
   },
   "id": "2d36c8743a4c0480",
   "execution_count": 19
  },
  {
   "cell_type": "code",
   "outputs": [
    {
     "data": {
      "text/plain": "2012000000.0"
     },
     "execution_count": 20,
     "metadata": {},
     "output_type": "execute_result"
    }
   ],
   "source": [
    "20.12E8"
   ],
   "metadata": {
    "collapsed": false,
    "ExecuteTime": {
     "end_time": "2024-01-29T18:50:28.540700Z",
     "start_time": "2024-01-29T18:50:28.518201Z"
    }
   },
   "id": "bd830e7df6e6932d",
   "execution_count": 20
  },
  {
   "cell_type": "code",
   "outputs": [
    {
     "name": "stdout",
     "output_type": "stream",
     "text": [
      "1\n"
     ]
    }
   ],
   "source": [
    "x = 11\n",
    "y = 4\n",
    "x = x % y\n",
    "x = x % y\n",
    "y = y % x\n",
    "print(y)"
   ],
   "metadata": {
    "collapsed": false,
    "ExecuteTime": {
     "end_time": "2024-01-29T18:52:12.082682Z",
     "start_time": "2024-01-29T18:52:12.067568Z"
    }
   },
   "id": "995f08097788684a",
   "execution_count": 21
  },
  {
   "cell_type": "code",
   "outputs": [
    {
     "name": "stdout",
     "output_type": "stream",
     "text": [
      "No, ¡quiero un gran ESPATIFILIO!\n"
     ]
    }
   ],
   "source": [
    "planta = input(\"Ingresa una planta: \")\n",
    "if planta == \"ESPATIFILIO\":\n",
    "    print(\"Si, ¡El ESPATIFILIO! es la mejor planta de todos los tiempos!\")\n",
    "elif planta == \"espatifilo\":\n",
    "    print(\"No, ¡quiero un gran ESPATIFILIO!\")\n",
    "else:\n",
    "    print(f\"¡ESPATIFILIO!, ¡No {planta}!\")"
   ],
   "metadata": {
    "collapsed": false,
    "ExecuteTime": {
     "end_time": "2024-01-31T16:58:19.011998Z",
     "start_time": "2024-01-31T16:58:16.136776Z"
    }
   },
   "id": "1526020b5e7da7c3",
   "execution_count": 3
  },
  {
   "cell_type": "markdown",
   "source": [
    "Érase una vez una tierra de leche y miel, habitada por gente feliz y próspera. La gente pagaba impuestos, por supuesto, su felicidad tenía límites. El impuesto más importante, denominado Impuesto Personal de Ingresos (IPI, para abreviar) tenía que pagarse una vez al año y se evaluó utilizando la siguiente regla:\n",
    "\n",
    "Si el ingreso del ciudadano no era superior a 85,528 pesos, el impuesto era igual al 18% del ingreso menos 556 pesos y 2 centavos (esta fue la llamada exención fiscal ).\n",
    "Si el ingreso era superior a esta cantidad, el impuesto era igual a 14,839 pesos y 2 centavos, más el 32% del excedente sobre 85,528 pesos.\n",
    "Tu tarea es escribir una calculadora de impuestos.\n",
    "\n",
    "Debe aceptar un valor de punto flotante: el ingreso.\n",
    "A continuación, debe imprimir el impuesto calculado, redondeado a pesos totales. Hay una función llamada round() que hará el redondeo por ti, la encontrarás en el código de esqueleto del editor.\n",
    "Nota: Este país feliz nunca devuelve dinero a sus ciudadanos. Si el impuesto calculado es menor que cero, solo significa que no hay impuesto (el impuesto es igual a cero). Ten esto en cuenta durante tus cálculos.\n",
    "\n",
    "Observa el código en el editor: solo lee un valor de entrada y genera un resultado, por lo que debes completarlo con algunos cálculos inteligentes.\n",
    "\n",
    "Prueba tu código con los datos que hemos proporcionado.\n",
    "\n",
    "Datos de Prueba\n",
    "Entrada de muestra: 10000\n",
    "\n",
    "Resultado esperado: El impuesto es: 1244.0 pesos\n",
    "\n",
    "Entrada de muestra: 100000\n",
    "\n",
    "Resultado esperado: El impuesto es: 19470.0 pesos\n",
    "\n",
    "Entrada de muestra: 1000\n",
    "\n",
    "Resultado esperado: El impuesto es: 0.0 pesos\n",
    "\n",
    "Entrada de muestra: -100\n",
    "\n",
    "Resultado esperado: El impuesto es: 0.0 pesos"
   ],
   "metadata": {
    "collapsed": false
   },
   "id": "2a192f8a7f50765d"
  },
  {
   "cell_type": "markdown",
   "source": [
    "Escenario\n",
    "Escucha esta historia: Un niño y su padre, un programador de computadoras, juegan con bloques de madera. Están construyendo una pirámide.\n",
    "\n",
    "Su pirámide es un poco rara, ya que en realidad es una pared en forma de pirámide, es plana. La pirámide se apila de acuerdo con un principio simple: cada capa inferior contiene un bloque más que la capa superior.\n",
    "\n",
    "La figura ilustra la regla utilizada por los constructores:\n",
    "            1\n",
    "           2    2\n",
    "          3 3   3\n",
    "          altura: 3, bloques 6\n",
    "\n",
    "\n",
    "Tu tarea es escribir un programa que lea la cantidad de bloques que tienen los constructores, y generar la altura de la pirámide que se puede construir utilizando estos bloques.\n",
    "\n",
    "Nota: La altura se mide por el número de capas completas: si los constructores no tienen la cantidad suficiente de bloques y no pueden completar la siguiente capa, terminan su trabajo inmediatamente.\n",
    "\n",
    "Prueba tu código con los datos que hemos proporcionado."
   ],
   "metadata": {
    "collapsed": false
   },
   "id": "3fd79c27a66e710c"
  },
  {
   "cell_type": "code",
   "outputs": [
    {
     "name": "stdout",
     "output_type": "stream",
     "text": [
      "1 1\n",
      "La altura de la pirámide: 1\n"
     ]
    }
   ],
   "source": [
    "blocks = int(input(\"Ingresa el número de bloques: \"))\n",
    "height = 0\n",
    "suma_bloques = 0\n",
    "while blocks > suma_bloques:\n",
    "    if suma_bloques + height + 1 > blocks:\n",
    "        break\n",
    "    height = height + 1\n",
    "    suma_bloques = suma_bloques + height\n",
    "\n",
    "print(\"La altura de la pirámide:\", height)"
   ],
   "metadata": {
    "collapsed": false,
    "ExecuteTime": {
     "end_time": "2024-01-31T17:17:14.411815Z",
     "start_time": "2024-01-31T17:17:10.666206Z"
    }
   },
   "id": "dc8920ec7c56251",
   "execution_count": 11
  },
  {
   "cell_type": "code",
   "outputs": [
    {
     "ename": "IndexError",
     "evalue": "list index out of range",
     "output_type": "error",
     "traceback": [
      "\u001B[0;31m---------------------------------------------------------------------------\u001B[0m",
      "\u001B[0;31mIndexError\u001B[0m                                Traceback (most recent call last)",
      "Cell \u001B[0;32mIn [12], line 2\u001B[0m\n\u001B[1;32m      1\u001B[0m my_list\u001B[38;5;241m=\u001B[39m[[\u001B[38;5;241m0\u001B[39m,\u001B[38;5;241m1\u001B[39m,\u001B[38;5;241m2\u001B[39m,\u001B[38;5;241m3\u001B[39m] \u001B[38;5;28;01mfor\u001B[39;00m i \u001B[38;5;129;01min\u001B[39;00m \u001B[38;5;28mrange\u001B[39m (\u001B[38;5;241m2\u001B[39m)]\n\u001B[0;32m----> 2\u001B[0m \u001B[38;5;28mprint\u001B[39m(\u001B[43mmy_list\u001B[49m\u001B[43m[\u001B[49m\u001B[38;5;241;43m2\u001B[39;49m\u001B[43m]\u001B[49m[\u001B[38;5;241m0\u001B[39m])\n",
      "\u001B[0;31mIndexError\u001B[0m: list index out of range"
     ]
    }
   ],
   "source": [
    "my_list = [[0, 1, 2, 3] for i in range(2)]\n",
    "print(my_list[2][0])"
   ],
   "metadata": {
    "collapsed": false,
    "ExecuteTime": {
     "end_time": "2024-01-31T17:40:32.530280Z",
     "start_time": "2024-01-31T17:40:31.596086Z"
    }
   },
   "id": "d473caea5504a047",
   "execution_count": 12
  },
  {
   "cell_type": "code",
   "outputs": [
    {
     "name": "stdout",
     "output_type": "stream",
     "text": [
      "*\n",
      "*\n"
     ]
    }
   ],
   "source": [
    "i = 0\n",
    "while i <= 3:\n",
    "    i += 2\n",
    "    print(\"*\")"
   ],
   "metadata": {
    "collapsed": false,
    "ExecuteTime": {
     "end_time": "2024-01-31T17:41:16.621612Z",
     "start_time": "2024-01-31T17:41:16.586795Z"
    }
   },
   "id": "a929b664973be00f",
   "execution_count": 13
  },
  {
   "cell_type": "code",
   "outputs": [
    {
     "name": "stdout",
     "output_type": "stream",
     "text": [
      "#\n",
      "#\n",
      "#\n"
     ]
    }
   ],
   "source": [
    "var = 0\n",
    "while var < 6:\n",
    "    var += 1\n",
    "    if var % 2 == 0:\n",
    "        continue\n",
    "    print(\"#\")"
   ],
   "metadata": {
    "collapsed": false,
    "ExecuteTime": {
     "end_time": "2024-01-31T17:42:42.591103Z",
     "start_time": "2024-01-31T17:42:42.546237Z"
    }
   },
   "id": "3523b4d979fdffaf",
   "execution_count": 14
  },
  {
   "cell_type": "code",
   "outputs": [
    {
     "name": "stdout",
     "output_type": "stream",
     "text": [
      "#\n",
      "#\n"
     ]
    }
   ],
   "source": [
    "for i in range(1):\n",
    "    print(\"#\")\n",
    "else:\n",
    "    print(\"#\")"
   ],
   "metadata": {
    "collapsed": false,
    "ExecuteTime": {
     "end_time": "2024-01-31T17:43:28.660068Z",
     "start_time": "2024-01-31T17:43:28.633964Z"
    }
   },
   "id": "9dfb8956d289fa8e",
   "execution_count": 15
  },
  {
   "cell_type": "code",
   "outputs": [
    {
     "name": "stdout",
     "output_type": "stream",
     "text": [
      "6\n"
     ]
    }
   ],
   "source": [
    "t=[[3-i for i in range(3)] for j in range(3)]\n",
    "s=0\n",
    "for i in range(3):\n",
    "    s+= t[i][i]\n",
    "print(s)"
   ],
   "metadata": {
    "collapsed": false,
    "ExecuteTime": {
     "end_time": "2024-01-31T17:44:58.397883Z",
     "start_time": "2024-01-31T17:44:58.370902Z"
    }
   },
   "id": "677dfb375dd5a3ca",
   "execution_count": 16
  },
  {
   "cell_type": "code",
   "outputs": [
    {
     "name": "stdout",
     "output_type": "stream",
     "text": [
      "True\n"
     ]
    }
   ],
   "source": [
    "z=10\n",
    "y=0\n",
    "x=y < z and z > y or y > z and z < y\n",
    "print(x)"
   ],
   "metadata": {
    "collapsed": false,
    "ExecuteTime": {
     "end_time": "2024-01-31T17:46:43.064322Z",
     "start_time": "2024-01-31T17:46:43.037701Z"
    }
   },
   "id": "bf3af22b3e796474",
   "execution_count": 18
  },
  {
   "cell_type": "code",
   "outputs": [
    {
     "name": "stdout",
     "output_type": "stream",
     "text": [
      "[1, 1, 1, 1, 2, 3]\n"
     ]
    }
   ],
   "source": [
    "my_list=[1,2,3]\n",
    "for v in range(len(my_list)):\n",
    "    my_list.insert(1, my_list[v])\n",
    "print(my_list)"
   ],
   "metadata": {
    "collapsed": false,
    "ExecuteTime": {
     "end_time": "2024-01-31T17:48:47.825935Z",
     "start_time": "2024-01-31T17:48:47.798731Z"
    }
   },
   "id": "93a66f1b29307ce1",
   "execution_count": 19
  },
  {
   "cell_type": "code",
   "outputs": [
    {
     "name": "stdout",
     "output_type": "stream",
     "text": [
      "[3, 2, 1]\n"
     ]
    }
   ],
   "source": [
    "my_list1=[1,2,3]\n",
    "my_list2=[]\n",
    "for v in my_list1:\n",
    "    my_list2.insert(0, v)\n",
    "print(my_list2)"
   ],
   "metadata": {
    "collapsed": false,
    "ExecuteTime": {
     "end_time": "2024-01-31T17:49:52.213989Z",
     "start_time": "2024-01-31T17:49:52.180597Z"
    }
   },
   "id": "220ea868229681f8",
   "execution_count": 20
  },
  {
   "cell_type": "code",
   "outputs": [
    {
     "name": "stdout",
     "output_type": "stream",
     "text": [
      "2\n"
     ]
    }
   ],
   "source": [
    "a=1\n",
    "b=0\n",
    "c= a & b\n",
    "d= a|b\n",
    "e=a^b\n",
    "print(c+d+e)"
   ],
   "metadata": {
    "collapsed": false,
    "ExecuteTime": {
     "end_time": "2024-01-31T17:51:08.530497Z",
     "start_time": "2024-01-31T17:51:08.451298Z"
    }
   },
   "id": "a2d1c13bc6c16edb",
   "execution_count": 21
  },
  {
   "cell_type": "code",
   "outputs": [
    {
     "name": "stdout",
     "output_type": "stream",
     "text": [
      "#\n",
      "#\n",
      "#\n",
      "#\n"
     ]
    }
   ],
   "source": [
    "var =1\n",
    "while var < 10:\n",
    "    print(\"#\")\n",
    "    var = var << 1"
   ],
   "metadata": {
    "collapsed": false,
    "ExecuteTime": {
     "end_time": "2024-01-31T17:51:45.384212Z",
     "start_time": "2024-01-31T17:51:45.354269Z"
    }
   },
   "id": "8cc2768c49cef70d",
   "execution_count": 22
  },
  {
   "cell_type": "code",
   "outputs": [
    {
     "data": {
      "text/plain": "4"
     },
     "execution_count": 23,
     "metadata": {},
     "output_type": "execute_result"
    }
   ],
   "source": [
    "valores=[0,1,2]\n",
    "valores.insert(0,1)\n",
    "del valores[1]\n",
    "sum(valores)"
   ],
   "metadata": {
    "collapsed": false,
    "ExecuteTime": {
     "end_time": "2024-01-31T17:53:06.081721Z",
     "start_time": "2024-01-31T17:53:06.052785Z"
    }
   },
   "id": "94c32bee96db7d6b",
   "execution_count": 23
  },
  {
   "cell_type": "code",
   "outputs": [
    {
     "name": "stdout",
     "output_type": "stream",
     "text": [
      "*\n"
     ]
    }
   ],
   "source": [
    "i=0\n",
    "while i<=5:\n",
    "    i+=1\n",
    "    if i%2==0:\n",
    "        break\n",
    "    print(\"*\")"
   ],
   "metadata": {
    "collapsed": false,
    "ExecuteTime": {
     "end_time": "2024-01-31T17:53:55.819372Z",
     "start_time": "2024-01-31T17:53:55.777616Z"
    }
   },
   "id": "91eea633a132bcdf",
   "execution_count": 24
  },
  {
   "cell_type": "code",
   "outputs": [
    {
     "data": {
      "text/plain": "[-1, 0, 1]"
     },
     "execution_count": 26,
     "metadata": {},
     "output_type": "execute_result"
    }
   ],
   "source": [
    "mi_list=[i for i in range(-1, 2)]\n",
    "mi_list"
   ],
   "metadata": {
    "collapsed": false,
    "ExecuteTime": {
     "end_time": "2024-01-31T17:55:05.385229Z",
     "start_time": "2024-01-31T17:55:05.352174Z"
    }
   },
   "id": "378380894ae14174",
   "execution_count": 26
  },
  {
   "cell_type": "code",
   "outputs": [
    {
     "name": "stdout",
     "output_type": "stream",
     "text": [
      "[2]\n"
     ]
    }
   ],
   "source": [
    "my_list=[1,2,3,4]\n",
    "print(my_list[-3:-2])"
   ],
   "metadata": {
    "collapsed": false,
    "ExecuteTime": {
     "end_time": "2024-01-31T17:56:30.658645Z",
     "start_time": "2024-01-31T17:56:30.568905Z"
    }
   },
   "id": "a64539fe23dfc27f",
   "execution_count": 27
  },
  {
   "cell_type": "code",
   "outputs": [],
   "source": [],
   "metadata": {
    "collapsed": false
   },
   "id": "88dfc4990ffde3b5"
  }
 ],
 "metadata": {
  "kernelspec": {
   "display_name": "Python 3",
   "language": "python",
   "name": "python3"
  },
  "language_info": {
   "codemirror_mode": {
    "name": "ipython",
    "version": 2
   },
   "file_extension": ".py",
   "mimetype": "text/x-python",
   "name": "python",
   "nbconvert_exporter": "python",
   "pygments_lexer": "ipython2",
   "version": "2.7.6"
  }
 },
 "nbformat": 4,
 "nbformat_minor": 5
}
