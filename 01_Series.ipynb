{
 "cells": [
  {
   "cell_type": "code",
   "execution_count": 1,
   "outputs": [],
   "source": [
    "import pandas as pd"
   ],
   "metadata": {
    "collapsed": false,
    "ExecuteTime": {
     "end_time": "2023-12-23T22:45:24.580323Z",
     "start_time": "2023-12-23T22:45:20.618443Z"
    }
   },
   "id": "2415437f922a7b5e"
  },
  {
   "cell_type": "markdown",
   "source": [
    "## Create A `Series` Object from A Python List"
   ],
   "metadata": {
    "collapsed": false
   },
   "id": "51dc5c6c40bfe8a9"
  },
  {
   "cell_type": "code",
   "execution_count": 2,
   "outputs": [],
   "source": [
    "ice_cream = [\"Chocolate\", \"Vanilla\", \"Strawberry\", \"Rum Raisin\"]"
   ],
   "metadata": {
    "collapsed": false,
    "ExecuteTime": {
     "end_time": "2023-12-23T22:45:24.620991Z",
     "start_time": "2023-12-23T22:45:24.585694Z"
    }
   },
   "id": "6692f907e79a023b"
  },
  {
   "cell_type": "code",
   "execution_count": 3,
   "outputs": [
    {
     "data": {
      "text/plain": "0     Chocolate\n1       Vanilla\n2    Strawberry\n3    Rum Raisin\ndtype: object"
     },
     "execution_count": 3,
     "metadata": {},
     "output_type": "execute_result"
    }
   ],
   "source": [
    "pd.Series(ice_cream)"
   ],
   "metadata": {
    "collapsed": false,
    "ExecuteTime": {
     "end_time": "2023-12-23T22:45:24.784721Z",
     "start_time": "2023-12-23T22:45:24.616525Z"
    }
   },
   "id": "44120483e6360d6"
  },
  {
   "cell_type": "code",
   "execution_count": 4,
   "outputs": [],
   "source": [
    "lottery = [4, 8, 15, 16, 23, 42]"
   ],
   "metadata": {
    "collapsed": false,
    "ExecuteTime": {
     "end_time": "2023-12-23T22:45:24.821422Z",
     "start_time": "2023-12-23T22:45:24.637126Z"
    }
   },
   "id": "2b43e13ad04a166d"
  },
  {
   "cell_type": "code",
   "execution_count": 5,
   "outputs": [
    {
     "data": {
      "text/plain": "0     4\n1     8\n2    15\n3    16\n4    23\n5    42\ndtype: int64"
     },
     "execution_count": 5,
     "metadata": {},
     "output_type": "execute_result"
    }
   ],
   "source": [
    "pd.Series(lottery)"
   ],
   "metadata": {
    "collapsed": false,
    "ExecuteTime": {
     "end_time": "2023-12-23T22:45:24.967307Z",
     "start_time": "2023-12-23T22:45:24.663193Z"
    }
   },
   "id": "d344e8aa42c0ac"
  },
  {
   "cell_type": "code",
   "execution_count": 6,
   "outputs": [],
   "source": [
    "registrations = [True, False, False, False, True]"
   ],
   "metadata": {
    "collapsed": false,
    "ExecuteTime": {
     "end_time": "2023-12-23T22:45:25.019313Z",
     "start_time": "2023-12-23T22:45:24.687258Z"
    }
   },
   "id": "25927367e04c1ae5"
  },
  {
   "cell_type": "code",
   "execution_count": 7,
   "outputs": [
    {
     "data": {
      "text/plain": "0     True\n1    False\n2    False\n3    False\n4     True\ndtype: bool"
     },
     "execution_count": 7,
     "metadata": {},
     "output_type": "execute_result"
    }
   ],
   "source": [
    "pd.Series(registrations)"
   ],
   "metadata": {
    "collapsed": false,
    "ExecuteTime": {
     "end_time": "2023-12-23T22:45:25.064967Z",
     "start_time": "2023-12-23T22:45:24.710622Z"
    }
   },
   "id": "77a2bdac3f2fe81a"
  },
  {
   "cell_type": "markdown",
   "source": [
    "## Create A `Series` Object from a Dictionary"
   ],
   "metadata": {
    "collapsed": false
   },
   "id": "43c3045ec6f458d9"
  },
  {
   "cell_type": "code",
   "execution_count": 8,
   "outputs": [],
   "source": [
    "webster = {\n",
    "    \"Aardvark\": \"An animal\",\n",
    "    \"Banana\": \"A delicious fruit\",\n",
    "    \"Cyan\": \"A color\"\n",
    "}"
   ],
   "metadata": {
    "collapsed": false,
    "ExecuteTime": {
     "end_time": "2023-12-23T22:45:25.105678Z",
     "start_time": "2023-12-23T22:45:24.735185Z"
    }
   },
   "id": "306aff5ceac801ca"
  },
  {
   "cell_type": "code",
   "execution_count": 9,
   "outputs": [
    {
     "data": {
      "text/plain": "Aardvark            An animal\nBanana      A delicious fruit\nCyan                  A color\ndtype: object"
     },
     "execution_count": 9,
     "metadata": {},
     "output_type": "execute_result"
    }
   ],
   "source": [
    "pd.Series(webster)"
   ],
   "metadata": {
    "collapsed": false,
    "ExecuteTime": {
     "end_time": "2023-12-23T22:45:25.194206Z",
     "start_time": "2023-12-23T22:45:24.766315Z"
    }
   },
   "id": "6687a76c44e38b49"
  },
  {
   "cell_type": "markdown",
   "source": [
    "## Intro to Attributes"
   ],
   "metadata": {
    "collapsed": false
   },
   "id": "6a79e43f8fe4ab3d"
  },
  {
   "cell_type": "code",
   "execution_count": 10,
   "outputs": [],
   "source": [
    "about_me = [\"Smart\", \"Handsome\", \"Charming\", \"Brilliant\", \"Humble\"]"
   ],
   "metadata": {
    "collapsed": false,
    "ExecuteTime": {
     "end_time": "2023-12-23T22:45:25.206594Z",
     "start_time": "2023-12-23T22:45:24.794302Z"
    }
   },
   "id": "4d319dd9ce976b4f"
  },
  {
   "cell_type": "code",
   "execution_count": 11,
   "outputs": [],
   "source": [
    "series_about_me = pd.Series(about_me)"
   ],
   "metadata": {
    "collapsed": false,
    "ExecuteTime": {
     "end_time": "2023-12-23T22:45:25.249910Z",
     "start_time": "2023-12-23T22:45:24.813471Z"
    }
   },
   "id": "5e2ccf9d2c797cce"
  },
  {
   "cell_type": "code",
   "execution_count": 12,
   "outputs": [
    {
     "data": {
      "text/plain": "0        Smart\n1     Handsome\n2     Charming\n3    Brilliant\n4       Humble\ndtype: object"
     },
     "execution_count": 12,
     "metadata": {},
     "output_type": "execute_result"
    }
   ],
   "source": [
    "series_about_me"
   ],
   "metadata": {
    "collapsed": false,
    "ExecuteTime": {
     "end_time": "2023-12-23T22:45:25.285364Z",
     "start_time": "2023-12-23T22:45:24.836982Z"
    }
   },
   "id": "e721f458b29cc0d"
  },
  {
   "cell_type": "code",
   "execution_count": 13,
   "outputs": [
    {
     "data": {
      "text/plain": "array(['Smart', 'Handsome', 'Charming', 'Brilliant', 'Humble'],\n      dtype=object)"
     },
     "execution_count": 13,
     "metadata": {},
     "output_type": "execute_result"
    }
   ],
   "source": [
    "series_about_me.values"
   ],
   "metadata": {
    "collapsed": false,
    "ExecuteTime": {
     "end_time": "2023-12-23T22:45:25.547622Z",
     "start_time": "2023-12-23T22:45:24.858549Z"
    }
   },
   "id": "2345b33e744e9585"
  },
  {
   "cell_type": "code",
   "execution_count": 14,
   "outputs": [
    {
     "data": {
      "text/plain": "RangeIndex(start=0, stop=5, step=1)"
     },
     "execution_count": 14,
     "metadata": {},
     "output_type": "execute_result"
    }
   ],
   "source": [
    "series_about_me.index"
   ],
   "metadata": {
    "collapsed": false,
    "ExecuteTime": {
     "end_time": "2023-12-23T22:45:25.600925Z",
     "start_time": "2023-12-23T22:45:24.904642Z"
    }
   },
   "id": "34283c3ba4629af3"
  },
  {
   "cell_type": "code",
   "execution_count": 15,
   "outputs": [
    {
     "data": {
      "text/plain": "dtype('O')"
     },
     "execution_count": 15,
     "metadata": {},
     "output_type": "execute_result"
    }
   ],
   "source": [
    "series_about_me.dtype"
   ],
   "metadata": {
    "collapsed": false,
    "ExecuteTime": {
     "end_time": "2023-12-23T22:45:25.648742Z",
     "start_time": "2023-12-23T22:45:24.922289Z"
    }
   },
   "id": "179c4db5ec26e048"
  },
  {
   "cell_type": "markdown",
   "source": [
    "## Intro to Methods"
   ],
   "metadata": {
    "collapsed": false
   },
   "id": "a617fc288e711858"
  },
  {
   "cell_type": "code",
   "execution_count": 16,
   "outputs": [
    {
     "data": {
      "text/plain": "0     3.0\n1     8.0\n2    10.0\ndtype: float64"
     },
     "execution_count": 16,
     "metadata": {},
     "output_type": "execute_result"
    }
   ],
   "source": [
    "prices = [3.00, 8.00, 10.00]\n",
    "series_prices = pd.Series(prices)\n",
    "series_prices"
   ],
   "metadata": {
    "collapsed": false,
    "ExecuteTime": {
     "end_time": "2023-12-23T22:45:25.673743Z",
     "start_time": "2023-12-23T22:45:24.947886Z"
    }
   },
   "id": "630cba4c7e3d386"
  },
  {
   "cell_type": "code",
   "execution_count": 17,
   "outputs": [
    {
     "data": {
      "text/plain": "21.0"
     },
     "execution_count": 17,
     "metadata": {},
     "output_type": "execute_result"
    }
   ],
   "source": [
    "series_prices.sum()"
   ],
   "metadata": {
    "collapsed": false,
    "ExecuteTime": {
     "end_time": "2023-12-23T22:45:25.710612Z",
     "start_time": "2023-12-23T22:45:24.970443Z"
    }
   },
   "id": "eabe450266570ac7"
  },
  {
   "cell_type": "code",
   "execution_count": 18,
   "outputs": [
    {
     "data": {
      "text/plain": "240.0"
     },
     "execution_count": 18,
     "metadata": {},
     "output_type": "execute_result"
    }
   ],
   "source": [
    "series_prices.product()"
   ],
   "metadata": {
    "collapsed": false,
    "ExecuteTime": {
     "end_time": "2023-12-23T22:45:25.718023Z",
     "start_time": "2023-12-23T22:45:24.992877Z"
    }
   },
   "id": "7472d642aabef613"
  },
  {
   "cell_type": "code",
   "execution_count": 19,
   "outputs": [
    {
     "data": {
      "text/plain": "7.0"
     },
     "execution_count": 19,
     "metadata": {},
     "output_type": "execute_result"
    }
   ],
   "source": [
    "series_prices.mean()"
   ],
   "metadata": {
    "collapsed": false,
    "ExecuteTime": {
     "end_time": "2023-12-23T22:45:25.740876Z",
     "start_time": "2023-12-23T22:45:25.022475Z"
    }
   },
   "id": "8437aec99f12b116"
  },
  {
   "cell_type": "markdown",
   "source": [
    "## Parameters and Arguments"
   ],
   "metadata": {
    "collapsed": false
   },
   "id": "f07180859a5404d1"
  },
  {
   "cell_type": "code",
   "execution_count": 20,
   "outputs": [],
   "source": [
    "# Difficulty - Easy, Medium, Hard\n",
    "# Volume - 1 through 10\n",
    "# Subtitles - True / False"
   ],
   "metadata": {
    "collapsed": false,
    "ExecuteTime": {
     "end_time": "2023-12-23T22:45:25.758146Z",
     "start_time": "2023-12-23T22:45:25.042873Z"
    }
   },
   "id": "69aa6c639d484c4a"
  },
  {
   "cell_type": "code",
   "execution_count": 21,
   "outputs": [],
   "source": [
    "fruits = [\"Apple\", \"Orange\", \"Plum\", \"Grape\", \"Blueberry\"]\n",
    "weekdays = [\"Monday\", \"Tuesday\", \"Wednesday\", \"Thursday\", \"Friday\"]"
   ],
   "metadata": {
    "collapsed": false,
    "ExecuteTime": {
     "end_time": "2023-12-23T22:45:25.785084Z",
     "start_time": "2023-12-23T22:45:25.068977Z"
    }
   },
   "id": "de548a9fdf3349d2"
  },
  {
   "cell_type": "code",
   "execution_count": 22,
   "outputs": [
    {
     "data": {
      "text/plain": "Monday           Apple\nTuesday         Orange\nWednesday         Plum\nThursday         Grape\nFriday       Blueberry\ndtype: object"
     },
     "execution_count": 22,
     "metadata": {},
     "output_type": "execute_result"
    }
   ],
   "source": [
    "pd.Series(fruits, weekdays)"
   ],
   "metadata": {
    "collapsed": false,
    "ExecuteTime": {
     "end_time": "2023-12-23T22:45:25.794984Z",
     "start_time": "2023-12-23T22:45:25.090370Z"
    }
   },
   "id": "81bc943b66a3a9bd"
  },
  {
   "cell_type": "code",
   "execution_count": 23,
   "outputs": [
    {
     "data": {
      "text/plain": "Monday           Apple\nTuesday         Orange\nWednesday         Plum\nThursday         Grape\nFriday       Blueberry\ndtype: object"
     },
     "execution_count": 23,
     "metadata": {},
     "output_type": "execute_result"
    }
   ],
   "source": [
    "pd.Series(data=fruits, index=weekdays)"
   ],
   "metadata": {
    "collapsed": false,
    "ExecuteTime": {
     "end_time": "2023-12-23T22:45:25.815Z",
     "start_time": "2023-12-23T22:45:25.124487Z"
    }
   },
   "id": "3e7547e148f97532"
  },
  {
   "cell_type": "code",
   "execution_count": 24,
   "outputs": [
    {
     "data": {
      "text/plain": "Monday           Apple\nTuesday         Orange\nWednesday         Plum\nThursday         Grape\nFriday       Blueberry\ndtype: object"
     },
     "execution_count": 24,
     "metadata": {},
     "output_type": "execute_result"
    }
   ],
   "source": [
    "pd.Series(fruits, index=weekdays)"
   ],
   "metadata": {
    "collapsed": false,
    "ExecuteTime": {
     "end_time": "2023-12-23T22:45:25.822661Z",
     "start_time": "2023-12-23T22:45:25.160668Z"
    }
   },
   "id": "67763c607b4fe32d"
  },
  {
   "cell_type": "code",
   "execution_count": 25,
   "outputs": [
    {
     "data": {
      "text/plain": "Apple           Monday\nOrange         Tuesday\nPlum         Wednesday\nGrape         Thursday\nBlueberry       Friday\ndtype: object"
     },
     "execution_count": 25,
     "metadata": {},
     "output_type": "execute_result"
    }
   ],
   "source": [
    "pd.Series(data=weekdays, index=fruits)"
   ],
   "metadata": {
    "collapsed": false,
    "ExecuteTime": {
     "end_time": "2023-12-23T22:45:25.849288Z",
     "start_time": "2023-12-23T22:45:25.191738Z"
    }
   },
   "id": "672835b0f2aa63b9"
  },
  {
   "cell_type": "markdown",
   "source": [
    "# comida_deliciosa"
   ],
   "metadata": {
    "collapsed": false
   },
   "id": "1f237d1cfc83e67"
  },
  {
   "cell_type": "code",
   "execution_count": 26,
   "outputs": [],
   "source": [
    "foods = [\"French Fries\", \"Chicken Nuggets\", \"Celery\", \"Carrots\"]\n",
    "dipping_sauces = [\"BBQ\", \"Honey Mustard\", \"Ranch\", \"Sriracha\"]"
   ],
   "metadata": {
    "collapsed": false,
    "ExecuteTime": {
     "end_time": "2023-12-23T22:45:25.869059Z",
     "start_time": "2023-12-23T22:45:25.217693Z"
    }
   },
   "id": "4218c999627c9252"
  },
  {
   "cell_type": "code",
   "execution_count": 27,
   "outputs": [
    {
     "data": {
      "text/plain": "BBQ                 French Fries\nHoney Mustard    Chicken Nuggets\nRanch                     Celery\nSriracha                 Carrots\ndtype: object"
     },
     "execution_count": 27,
     "metadata": {},
     "output_type": "execute_result"
    }
   ],
   "source": [
    "# Create a Series and assign it to the s1 variable below. \n",
    "# Assign the foods list as the data source\n",
    "# and the dipping_sauces list as the Series index \n",
    "# For this solution, use positional arguments (i.e. feed in the arguments sequentially)\n",
    "s1 = pd.Series(foods, dipping_sauces)\n",
    "s1\n"
   ],
   "metadata": {
    "collapsed": false,
    "ExecuteTime": {
     "end_time": "2023-12-23T22:45:25.877788Z",
     "start_time": "2023-12-23T22:45:25.241029Z"
    }
   },
   "id": "348d77eaf7822a92"
  },
  {
   "cell_type": "code",
   "execution_count": 28,
   "outputs": [
    {
     "data": {
      "text/plain": "French Fries                 BBQ\nChicken Nuggets    Honey Mustard\nCelery                     Ranch\nCarrots                 Sriracha\ndtype: object"
     },
     "execution_count": 28,
     "metadata": {},
     "output_type": "execute_result"
    }
   ],
   "source": [
    "# Create a Series and assign it to the s2 variable below. \n",
    "# Assign the dipping_sauces list as the data source\n",
    "# and the foods list as the Series index \n",
    "# For this solution, use keyword arguments (i.e. provide the parameter names\n",
    "# alongside the arguments)\n",
    "s2 = pd.Series(data=dipping_sauces, index=foods)\n",
    "s2"
   ],
   "metadata": {
    "collapsed": false,
    "ExecuteTime": {
     "end_time": "2023-12-23T22:45:25.919723Z",
     "start_time": "2023-12-23T22:45:25.270952Z"
    }
   },
   "id": "2b1951ff300fcfbe"
  },
  {
   "cell_type": "markdown",
   "source": [
    "# Importando una serie desde un CSV"
   ],
   "metadata": {
    "collapsed": false
   },
   "id": "5b5422a6a0702484"
  },
  {
   "cell_type": "code",
   "execution_count": 29,
   "outputs": [
    {
     "data": {
      "text/plain": "0       Bulbasaur\n1         Ivysaur\n2        Venusaur\n3      Charmander\n4      Charmeleon\n          ...    \n716       Yveltal\n717       Zygarde\n718       Diancie\n719         Hoopa\n720     Volcanion\nName: Pokemon, Length: 721, dtype: object"
     },
     "execution_count": 29,
     "metadata": {},
     "output_type": "execute_result"
    }
   ],
   "source": [
    "pokemon = pd.read_csv(\"data/pokemon.csv\", usecols=[\"Pokemon\"]).squeeze(\"columns\")\n",
    "pokemon"
   ],
   "metadata": {
    "collapsed": false,
    "ExecuteTime": {
     "end_time": "2023-12-23T22:45:26.368219Z",
     "start_time": "2023-12-23T22:45:25.295190Z"
    }
   },
   "id": "e01547075c66c79"
  },
  {
   "cell_type": "code",
   "execution_count": 30,
   "outputs": [
    {
     "data": {
      "text/plain": "0        50.12\n1        54.10\n2        54.65\n3        52.38\n4        52.95\n         ...  \n3007    772.88\n3008    771.07\n3009    773.18\n3010    771.61\n3011    782.22\nName: Stock Price, Length: 3012, dtype: float64"
     },
     "execution_count": 30,
     "metadata": {},
     "output_type": "execute_result"
    }
   ],
   "source": [
    "google = pd.read_csv(\"data/google_stock_price.csv\", usecols=[\"Stock Price\"]).squeeze()\n",
    "google"
   ],
   "metadata": {
    "collapsed": false,
    "ExecuteTime": {
     "end_time": "2023-12-23T22:45:26.428457Z",
     "start_time": "2023-12-23T22:45:25.336766Z"
    }
   },
   "id": "f74d240d1c3afb8a"
  },
  {
   "cell_type": "markdown",
   "source": [
    "# Importando Alimentos"
   ],
   "metadata": {
    "collapsed": false
   },
   "id": "2fd625ecb4649e5c"
  },
  {
   "cell_type": "code",
   "execution_count": 31,
   "outputs": [
    {
     "data": {
      "text/plain": "0            Big Mac\n1          McNuggets\n2    Quarter Pounder\nName: Menu Item, dtype: object"
     },
     "execution_count": 31,
     "metadata": {},
     "output_type": "execute_result"
    }
   ],
   "source": [
    "# We have a foods.csv CSV file with 3 columns: Item Number, Menu Item, Price\n",
    "# You can explore the data by clicking into the foods.csv file on the left\n",
    "# Import the CSV file into a pandas Series object\n",
    "# The Series should have the standard pandas numeric index\n",
    "# The Series values should be the string values from the \"Menu Item\" column\n",
    "# Assign the Series object to a \"foods\" variable\n",
    "foods = pd.read_csv(\"datax/foods.csv\", usecols=[\"Menu Item\"]).squeeze()\n",
    "foods"
   ],
   "metadata": {
    "collapsed": false,
    "ExecuteTime": {
     "end_time": "2023-12-23T22:45:26.459404Z",
     "start_time": "2023-12-23T22:45:25.375715Z"
    }
   },
   "id": "eb846b2655f8dcd7"
  },
  {
   "cell_type": "markdown",
   "source": [
    "# Montañas rusas"
   ],
   "metadata": {
    "collapsed": false
   },
   "id": "8ecf6cbadad6027f"
  },
  {
   "cell_type": "code",
   "execution_count": 32,
   "outputs": [
    {
     "data": {
      "text/plain": "0                        Kingda Ka\n1              Top Thrill Dragster\n2    Superman: Escape from Krypton\n3                        Red Force\n4                         Fury 325\n5                Steel Dragon 2000\n6                 Millennium Force\n7                        Leviathan\n8                  Intimidator 305\n9                            Orion\nName: Name, dtype: object"
     },
     "execution_count": 32,
     "metadata": {},
     "output_type": "execute_result"
    }
   ],
   "source": [
    "# We have a roller_coasters.csv CSV file with 4 columns: Name, Park, Country, and Height.\n",
    "# You can explore the data by clicking into the CSV file on the left\n",
    "# Import the CSV file into a pandas Series object\n",
    "# The Series should have the standard pandas numeric index\n",
    "# The Series values should be the string values from the \"Name\" column\n",
    "# Assign the Series object to a \"coasters\" variable\n",
    "coasters = pd.read_csv(\"datax/roller_coasters.csv\", usecols=[\"Name\"]).squeeze()\n",
    "coasters"
   ],
   "metadata": {
    "collapsed": false,
    "ExecuteTime": {
     "end_time": "2023-12-23T22:45:26.482935Z",
     "start_time": "2023-12-23T22:45:25.409470Z"
    }
   },
   "id": "36a685ff70d5a32"
  },
  {
   "cell_type": "code",
   "execution_count": 33,
   "outputs": [
    {
     "data": {
      "text/plain": "0                        Kingda Ka\n1              Top Thrill Dragster\n2    Superman: Escape from Krypton\nName: Name, dtype: object"
     },
     "execution_count": 33,
     "metadata": {},
     "output_type": "execute_result"
    }
   ],
   "source": [
    "# I only want to ride the top 3 roller coasters on the list.\n",
    "# Starting with the \"coasters\" Series, extract the first 3 rows in a new Series.\n",
    "# Assign the new Series to a \"top_three\" variable.\n",
    "top_three = coasters.head(3)\n",
    "top_three"
   ],
   "metadata": {
    "collapsed": false,
    "ExecuteTime": {
     "end_time": "2023-12-23T22:45:26.488196Z",
     "start_time": "2023-12-23T22:45:25.439280Z"
    }
   },
   "id": "22a1595dc09c3006"
  },
  {
   "cell_type": "code",
   "execution_count": 34,
   "outputs": [
    {
     "data": {
      "text/plain": "6    Millennium Force\n7           Leviathan\n8     Intimidator 305\n9               Orion\nName: Name, dtype: object"
     },
     "execution_count": 34,
     "metadata": {},
     "output_type": "execute_result"
    }
   ],
   "source": [
    "# I'm now curious about some of the last entries on the coaster list.\n",
    "# Starting with the \"coasters\" Series, extract the last 4 rows in a new Series.\n",
    "# Assign the new Series to a \"bottom_four\" variable.\n",
    "bottom_four = coasters.tail(4)\n",
    "bottom_four"
   ],
   "metadata": {
    "collapsed": false,
    "ExecuteTime": {
     "end_time": "2023-12-23T22:45:26.514598Z",
     "start_time": "2023-12-23T22:45:25.464617Z"
    }
   },
   "id": "78b2842e41f8f49a"
  },
  {
   "cell_type": "markdown",
   "source": [
    "# 52. The sort_values Method"
   ],
   "metadata": {
    "collapsed": false
   },
   "id": "d8720b4a107a6d80"
  },
  {
   "cell_type": "code",
   "execution_count": 35,
   "outputs": [],
   "source": [
    "pokemon = pd.read_csv(\"data/pokemon.csv\", usecols=[\"Pokemon\"]).squeeze(\"columns\")\n",
    "google = pd.read_csv(\"data/google_stock_price.csv\", usecols=[\"Stock Price\"]).squeeze()"
   ],
   "metadata": {
    "collapsed": false,
    "ExecuteTime": {
     "end_time": "2023-12-23T22:45:26.521830Z",
     "start_time": "2023-12-23T22:45:25.485326Z"
    }
   },
   "id": "6ddb8a4e0edc56e1"
  },
  {
   "cell_type": "code",
   "execution_count": 36,
   "outputs": [
    {
     "data": {
      "text/plain": "459    Abomasnow\n62          Abra\n358        Absol\n616     Accelgor\n680    Aegislash\nName: Pokemon, dtype: object"
     },
     "execution_count": 36,
     "metadata": {},
     "output_type": "execute_result"
    }
   ],
   "source": [
    "pokemon.sort_values().head()"
   ],
   "metadata": {
    "collapsed": false,
    "ExecuteTime": {
     "end_time": "2023-12-23T22:45:26.527075Z",
     "start_time": "2023-12-23T22:45:25.524230Z"
    }
   },
   "id": "dd83877d24e56953"
  },
  {
   "cell_type": "code",
   "execution_count": 37,
   "outputs": [
    {
     "data": {
      "text/plain": "717     Zygarde\n633    Zweilous\n40        Zubat\n569       Zorua\nName: Pokemon, dtype: object"
     },
     "execution_count": 37,
     "metadata": {},
     "output_type": "execute_result"
    }
   ],
   "source": [
    "pokemon.sort_values(ascending=False).head(4)"
   ],
   "metadata": {
    "collapsed": false,
    "ExecuteTime": {
     "end_time": "2023-12-23T22:45:26.579833Z",
     "start_time": "2023-12-23T22:45:25.547752Z"
    }
   },
   "id": "de7843e3c3210640"
  },
  {
   "cell_type": "code",
   "execution_count": 38,
   "outputs": [
    {
     "data": {
      "text/plain": "11       49.95\n9        50.07\n0        50.12\n10       50.70\n12       50.74\n         ...  \n3010    771.61\n3007    772.88\n3009    773.18\n2859    776.60\n3011    782.22\nName: Stock Price, Length: 3012, dtype: float64"
     },
     "execution_count": 38,
     "metadata": {},
     "output_type": "execute_result"
    }
   ],
   "source": [
    "google.sort_values()"
   ],
   "metadata": {
    "collapsed": false,
    "ExecuteTime": {
     "end_time": "2023-12-23T22:45:26.607507Z",
     "start_time": "2023-12-23T22:45:25.564584Z"
    }
   },
   "id": "50b579067403bda6"
  },
  {
   "cell_type": "code",
   "execution_count": 39,
   "outputs": [
    {
     "data": {
      "text/plain": "3011    782.22\n2859    776.60\n3009    773.18\n3007    772.88\n3010    771.61\n         ...  \n12       50.74\n10       50.70\n0        50.12\n9        50.07\n11       49.95\nName: Stock Price, Length: 3012, dtype: float64"
     },
     "execution_count": 39,
     "metadata": {},
     "output_type": "execute_result"
    }
   ],
   "source": [
    "google.sort_values(ascending=False)"
   ],
   "metadata": {
    "collapsed": false,
    "ExecuteTime": {
     "end_time": "2023-12-23T22:45:26.646616Z",
     "start_time": "2023-12-23T22:45:25.588344Z"
    }
   },
   "id": "2569953e5ab293fd"
  },
  {
   "cell_type": "markdown",
   "source": [
    "# Delicious tortilla"
   ],
   "metadata": {
    "collapsed": false
   },
   "id": "3225b2649d1a9e95"
  },
  {
   "cell_type": "code",
   "execution_count": 40,
   "outputs": [
    {
     "data": {
      "text/plain": "0    Spicy Sweet Chili\n1           Cool Ranch\n2         Nacho Cheese\n3          Salsa Verde\ndtype: object"
     },
     "execution_count": 40,
     "metadata": {},
     "output_type": "execute_result"
    }
   ],
   "source": [
    "# Below, we have a list of delicious tortilla chip flavors\n",
    "flavors = [\"Spicy Sweet Chili\", \"Cool Ranch\", \"Nacho Cheese\", \"Salsa Verde\"]\n",
    "\n",
    "# Create a new Series object, passing in the flavors list defined above\n",
    "# Assign it to a 'doritos' variable. The resulting Series should look like this:\n",
    "#\n",
    "#\n",
    "#   0    Spicy Sweet Chili\n",
    "#   1           Cool Ranch\n",
    "#   2         Nacho Cheese\n",
    "#   3          Salsa Verde\n",
    "#   dtype: object\n",
    "doritos = pd.Series(flavors)\n",
    "doritos"
   ],
   "metadata": {
    "collapsed": false,
    "ExecuteTime": {
     "end_time": "2023-12-23T22:45:26.681147Z",
     "start_time": "2023-12-23T22:45:25.622497Z"
    }
   },
   "id": "156077ceb6e82344"
  },
  {
   "cell_type": "code",
   "execution_count": 41,
   "outputs": [
    {
     "data": {
      "text/plain": "0    Spicy Sweet Chili\n3          Salsa Verde\n2         Nacho Cheese\n1           Cool Ranch\ndtype: object"
     },
     "execution_count": 41,
     "metadata": {},
     "output_type": "execute_result"
    }
   ],
   "source": [
    "# Below, sort the doritos Series in descending order.\n",
    "# Assign the sorted a Series to a 'sorted_doritos' variable.\n",
    "# The sorted Series should like this:\n",
    "#\n",
    "#   0    Spicy Sweet Chili\n",
    "#   3          Salsa Verde\n",
    "#   2         Nacho Cheese\n",
    "#   1           Cool Ranch\n",
    "#   dtype: object\n",
    "sorted_doritos = doritos.sort_values(ascending=False)\n",
    "sorted_doritos"
   ],
   "metadata": {
    "collapsed": false,
    "ExecuteTime": {
     "end_time": "2023-12-23T22:45:26.783139Z",
     "start_time": "2023-12-23T22:45:25.681267Z"
    }
   },
   "id": "57144ca37c99539d"
  },
  {
   "cell_type": "code",
   "execution_count": 41,
   "outputs": [],
   "source": [],
   "metadata": {
    "collapsed": false,
    "ExecuteTime": {
     "end_time": "2023-12-23T22:45:26.845572Z",
     "start_time": "2023-12-23T22:45:25.702211Z"
    }
   },
   "id": "d497e3202c5c5f5f"
  }
 ],
 "metadata": {
  "kernelspec": {
   "display_name": "Python 3",
   "language": "python",
   "name": "python3"
  },
  "language_info": {
   "codemirror_mode": {
    "name": "ipython",
    "version": 2
   },
   "file_extension": ".py",
   "mimetype": "text/x-python",
   "name": "python",
   "nbconvert_exporter": "python",
   "pygments_lexer": "ipython2",
   "version": "2.7.6"
  }
 },
 "nbformat": 4,
 "nbformat_minor": 5
}
