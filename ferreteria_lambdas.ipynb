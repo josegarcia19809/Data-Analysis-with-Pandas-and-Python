{
 "cells": [
  {
   "cell_type": "markdown",
   "source": [
    "# Usando un dataset de ferreteria y aplicando Lambdas"
   ],
   "metadata": {
    "collapsed": false
   },
   "id": "d533dc02fe799cd9"
  },
  {
   "cell_type": "code",
   "outputs": [],
   "source": [
    "import pandas as pd"
   ],
   "metadata": {
    "collapsed": false,
    "ExecuteTime": {
     "end_time": "2024-01-23T16:28:11.640957Z",
     "start_time": "2024-01-23T16:28:09.753905Z"
    }
   },
   "id": "229a9e7c4e6fae7c",
   "execution_count": 1
  },
  {
   "cell_type": "code",
   "outputs": [
    {
     "data": {
      "text/plain": "   id producto         nombre  costo fabricacion  venta\n0            1     Clavos 1/2                0.5    0.6\n1            2       Martillo              200.0  300.0\n2            3       Serrucho              300.0  400.0\n3            4  Tornillos 1/4                0.6    0.8\n4            5          Pilas               25.0   30.0",
      "text/html": "<div>\n<style scoped>\n    .dataframe tbody tr th:only-of-type {\n        vertical-align: middle;\n    }\n\n    .dataframe tbody tr th {\n        vertical-align: top;\n    }\n\n    .dataframe thead th {\n        text-align: right;\n    }\n</style>\n<table border=\"1\" class=\"dataframe\">\n  <thead>\n    <tr style=\"text-align: right;\">\n      <th></th>\n      <th>id producto</th>\n      <th>nombre</th>\n      <th>costo fabricacion</th>\n      <th>venta</th>\n    </tr>\n  </thead>\n  <tbody>\n    <tr>\n      <th>0</th>\n      <td>1</td>\n      <td>Clavos 1/2</td>\n      <td>0.5</td>\n      <td>0.6</td>\n    </tr>\n    <tr>\n      <th>1</th>\n      <td>2</td>\n      <td>Martillo</td>\n      <td>200.0</td>\n      <td>300.0</td>\n    </tr>\n    <tr>\n      <th>2</th>\n      <td>3</td>\n      <td>Serrucho</td>\n      <td>300.0</td>\n      <td>400.0</td>\n    </tr>\n    <tr>\n      <th>3</th>\n      <td>4</td>\n      <td>Tornillos 1/4</td>\n      <td>0.6</td>\n      <td>0.8</td>\n    </tr>\n    <tr>\n      <th>4</th>\n      <td>5</td>\n      <td>Pilas</td>\n      <td>25.0</td>\n      <td>30.0</td>\n    </tr>\n  </tbody>\n</table>\n</div>"
     },
     "execution_count": 2,
     "metadata": {},
     "output_type": "execute_result"
    }
   ],
   "source": [
    "df_ferreteria = pd.read_csv('datax/inventario_ferreteria.csv')\n",
    "df_ferreteria"
   ],
   "metadata": {
    "collapsed": false,
    "ExecuteTime": {
     "end_time": "2024-01-23T16:28:46.292851Z",
     "start_time": "2024-01-23T16:28:46.262593Z"
    }
   },
   "id": "a24dc9e447c4c4e4",
   "execution_count": 2
  },
  {
   "cell_type": "markdown",
   "source": [
    "Añade una columna llamada **Al Por Mayor?** que indica si el producto fue vendido al por mayor o individualmente"
   ],
   "metadata": {
    "collapsed": false
   },
   "id": "7abe03a40bc0755e"
  },
  {
   "cell_type": "code",
   "outputs": [
    {
     "data": {
      "text/plain": "   id producto         nombre  costo fabricacion  venta Al Por Mayor\n0            1     Clavos 1/2                0.5    0.6          Yes\n1            2       Martillo              200.0  300.0          Yes\n2            3       Serrucho              300.0  400.0           No\n3            4  Tornillos 1/4                0.6    0.8           No\n4            5          Pilas               25.0   30.0           No",
      "text/html": "<div>\n<style scoped>\n    .dataframe tbody tr th:only-of-type {\n        vertical-align: middle;\n    }\n\n    .dataframe tbody tr th {\n        vertical-align: top;\n    }\n\n    .dataframe thead th {\n        text-align: right;\n    }\n</style>\n<table border=\"1\" class=\"dataframe\">\n  <thead>\n    <tr style=\"text-align: right;\">\n      <th></th>\n      <th>id producto</th>\n      <th>nombre</th>\n      <th>costo fabricacion</th>\n      <th>venta</th>\n      <th>Al Por Mayor</th>\n    </tr>\n  </thead>\n  <tbody>\n    <tr>\n      <th>0</th>\n      <td>1</td>\n      <td>Clavos 1/2</td>\n      <td>0.5</td>\n      <td>0.6</td>\n      <td>Yes</td>\n    </tr>\n    <tr>\n      <th>1</th>\n      <td>2</td>\n      <td>Martillo</td>\n      <td>200.0</td>\n      <td>300.0</td>\n      <td>Yes</td>\n    </tr>\n    <tr>\n      <th>2</th>\n      <td>3</td>\n      <td>Serrucho</td>\n      <td>300.0</td>\n      <td>400.0</td>\n      <td>No</td>\n    </tr>\n    <tr>\n      <th>3</th>\n      <td>4</td>\n      <td>Tornillos 1/4</td>\n      <td>0.6</td>\n      <td>0.8</td>\n      <td>No</td>\n    </tr>\n    <tr>\n      <th>4</th>\n      <td>5</td>\n      <td>Pilas</td>\n      <td>25.0</td>\n      <td>30.0</td>\n      <td>No</td>\n    </tr>\n  </tbody>\n</table>\n</div>"
     },
     "execution_count": 4,
     "metadata": {},
     "output_type": "execute_result"
    }
   ],
   "source": [
    "df_ferreteria[\"Al Por Mayor\"] = [\"Yes\", \"Yes\", \"No\", \"No\", \"No\"]\n",
    "df_ferreteria"
   ],
   "metadata": {
    "collapsed": false,
    "ExecuteTime": {
     "end_time": "2024-01-23T16:30:10.332471Z",
     "start_time": "2024-01-23T16:30:10.321449Z"
    }
   },
   "id": "d53fa695ce03357c",
   "execution_count": 4
  },
  {
   "cell_type": "markdown",
   "source": [],
   "metadata": {
    "collapsed": false
   },
   "id": "d4634a0353da9e1f"
  },
  {
   "cell_type": "markdown",
   "source": [
    "Añade una columna llamada ***tiene impuestos*** que indica si el producto tiene impuesto a las ventas. Debe ser Si para todas las filas"
   ],
   "metadata": {
    "collapsed": false
   },
   "id": "4d8ba1e6436b16dc"
  },
  {
   "cell_type": "code",
   "outputs": [
    {
     "data": {
      "text/plain": "   id producto         nombre  costo fabricacion  venta Al Por Mayor  \\\n0            1     Clavos 1/2                0.5    0.6          Yes   \n1            2       Martillo              200.0  300.0          Yes   \n2            3       Serrucho              300.0  400.0           No   \n3            4  Tornillos 1/4                0.6    0.8           No   \n4            5          Pilas               25.0   30.0           No   \n\n  tiene impuestos  \n0              Si  \n1              Si  \n2              Si  \n3              Si  \n4              Si  ",
      "text/html": "<div>\n<style scoped>\n    .dataframe tbody tr th:only-of-type {\n        vertical-align: middle;\n    }\n\n    .dataframe tbody tr th {\n        vertical-align: top;\n    }\n\n    .dataframe thead th {\n        text-align: right;\n    }\n</style>\n<table border=\"1\" class=\"dataframe\">\n  <thead>\n    <tr style=\"text-align: right;\">\n      <th></th>\n      <th>id producto</th>\n      <th>nombre</th>\n      <th>costo fabricacion</th>\n      <th>venta</th>\n      <th>Al Por Mayor</th>\n      <th>tiene impuestos</th>\n    </tr>\n  </thead>\n  <tbody>\n    <tr>\n      <th>0</th>\n      <td>1</td>\n      <td>Clavos 1/2</td>\n      <td>0.5</td>\n      <td>0.6</td>\n      <td>Yes</td>\n      <td>Si</td>\n    </tr>\n    <tr>\n      <th>1</th>\n      <td>2</td>\n      <td>Martillo</td>\n      <td>200.0</td>\n      <td>300.0</td>\n      <td>Yes</td>\n      <td>Si</td>\n    </tr>\n    <tr>\n      <th>2</th>\n      <td>3</td>\n      <td>Serrucho</td>\n      <td>300.0</td>\n      <td>400.0</td>\n      <td>No</td>\n      <td>Si</td>\n    </tr>\n    <tr>\n      <th>3</th>\n      <td>4</td>\n      <td>Tornillos 1/4</td>\n      <td>0.6</td>\n      <td>0.8</td>\n      <td>No</td>\n      <td>Si</td>\n    </tr>\n    <tr>\n      <th>4</th>\n      <td>5</td>\n      <td>Pilas</td>\n      <td>25.0</td>\n      <td>30.0</td>\n      <td>No</td>\n      <td>Si</td>\n    </tr>\n  </tbody>\n</table>\n</div>"
     },
     "execution_count": 6,
     "metadata": {},
     "output_type": "execute_result"
    }
   ],
   "source": [
    "df_ferreteria[\"tiene impuestos\"] = \"Si\"\n",
    "df_ferreteria"
   ],
   "metadata": {
    "collapsed": false,
    "ExecuteTime": {
     "end_time": "2024-01-23T16:41:11.484748Z",
     "start_time": "2024-01-23T16:41:11.468641Z"
    }
   },
   "id": "203e899141ab4208",
   "execution_count": 6
  },
  {
   "cell_type": "markdown",
   "source": [
    "Añade una columna llamada ganancia la cual es igual a la diferencia entre Precio y Costo de fabricación"
   ],
   "metadata": {
    "collapsed": false
   },
   "id": "a9e9079798619df7"
  },
  {
   "cell_type": "code",
   "outputs": [
    {
     "data": {
      "text/plain": "   id producto         nombre  costo fabricacion  venta Al Por Mayor  \\\n0            1     Clavos 1/2                0.5    0.6          Yes   \n1            2       Martillo              200.0  300.0          Yes   \n2            3       Serrucho              300.0  400.0           No   \n3            4  Tornillos 1/4                0.6    0.8           No   \n4            5          Pilas               25.0   30.0           No   \n\n  tiene impuestos  Ganancia  \n0              Si       0.1  \n1              Si     100.0  \n2              Si     100.0  \n3              Si       0.2  \n4              Si       5.0  ",
      "text/html": "<div>\n<style scoped>\n    .dataframe tbody tr th:only-of-type {\n        vertical-align: middle;\n    }\n\n    .dataframe tbody tr th {\n        vertical-align: top;\n    }\n\n    .dataframe thead th {\n        text-align: right;\n    }\n</style>\n<table border=\"1\" class=\"dataframe\">\n  <thead>\n    <tr style=\"text-align: right;\">\n      <th></th>\n      <th>id producto</th>\n      <th>nombre</th>\n      <th>costo fabricacion</th>\n      <th>venta</th>\n      <th>Al Por Mayor</th>\n      <th>tiene impuestos</th>\n      <th>Ganancia</th>\n    </tr>\n  </thead>\n  <tbody>\n    <tr>\n      <th>0</th>\n      <td>1</td>\n      <td>Clavos 1/2</td>\n      <td>0.5</td>\n      <td>0.6</td>\n      <td>Yes</td>\n      <td>Si</td>\n      <td>0.1</td>\n    </tr>\n    <tr>\n      <th>1</th>\n      <td>2</td>\n      <td>Martillo</td>\n      <td>200.0</td>\n      <td>300.0</td>\n      <td>Yes</td>\n      <td>Si</td>\n      <td>100.0</td>\n    </tr>\n    <tr>\n      <th>2</th>\n      <td>3</td>\n      <td>Serrucho</td>\n      <td>300.0</td>\n      <td>400.0</td>\n      <td>No</td>\n      <td>Si</td>\n      <td>100.0</td>\n    </tr>\n    <tr>\n      <th>3</th>\n      <td>4</td>\n      <td>Tornillos 1/4</td>\n      <td>0.6</td>\n      <td>0.8</td>\n      <td>No</td>\n      <td>Si</td>\n      <td>0.2</td>\n    </tr>\n    <tr>\n      <th>4</th>\n      <td>5</td>\n      <td>Pilas</td>\n      <td>25.0</td>\n      <td>30.0</td>\n      <td>No</td>\n      <td>Si</td>\n      <td>5.0</td>\n    </tr>\n  </tbody>\n</table>\n</div>"
     },
     "execution_count": 8,
     "metadata": {},
     "output_type": "execute_result"
    }
   ],
   "source": [
    "df_ferreteria[\"Ganancia\"] = df_ferreteria[\"venta\"] - df_ferreteria[\"costo fabricacion\"]\n",
    "df_ferreteria"
   ],
   "metadata": {
    "collapsed": false,
    "ExecuteTime": {
     "end_time": "2024-01-23T16:44:41.643542Z",
     "start_time": "2024-01-23T16:44:41.632989Z"
    }
   },
   "id": "d9180b1e6186723f",
   "execution_count": 8
  },
  {
   "cell_type": "markdown",
   "source": [
    "Añade una columna llamada dos_letras que retorne la primera y la ultima letra del nombre del producto, asumiendo que el string tiene al menos 2 caracteres de largo.\n",
    "Por ejemplo print(mylambda( 'Martillo')) deberia producir este resultado Mo"
   ],
   "metadata": {
    "collapsed": false
   },
   "id": "6999ae293413ec43"
  },
  {
   "cell_type": "code",
   "outputs": [
    {
     "data": {
      "text/plain": "   id producto         nombre  costo fabricacion  venta Al Por Mayor  \\\n0            1     Clavos 1/2                0.5    0.6          Yes   \n1            2       Martillo              200.0  300.0          Yes   \n2            3       Serrucho              300.0  400.0           No   \n3            4  Tornillos 1/4                0.6    0.8           No   \n4            5          Pilas               25.0   30.0           No   \n\n  tiene impuestos  Ganancia dos_letras  \n0              Si       0.1         C2  \n1              Si     100.0         Mo  \n2              Si     100.0         So  \n3              Si       0.2         T4  \n4              Si       5.0         Ps  ",
      "text/html": "<div>\n<style scoped>\n    .dataframe tbody tr th:only-of-type {\n        vertical-align: middle;\n    }\n\n    .dataframe tbody tr th {\n        vertical-align: top;\n    }\n\n    .dataframe thead th {\n        text-align: right;\n    }\n</style>\n<table border=\"1\" class=\"dataframe\">\n  <thead>\n    <tr style=\"text-align: right;\">\n      <th></th>\n      <th>id producto</th>\n      <th>nombre</th>\n      <th>costo fabricacion</th>\n      <th>venta</th>\n      <th>Al Por Mayor</th>\n      <th>tiene impuestos</th>\n      <th>Ganancia</th>\n      <th>dos_letras</th>\n    </tr>\n  </thead>\n  <tbody>\n    <tr>\n      <th>0</th>\n      <td>1</td>\n      <td>Clavos 1/2</td>\n      <td>0.5</td>\n      <td>0.6</td>\n      <td>Yes</td>\n      <td>Si</td>\n      <td>0.1</td>\n      <td>C2</td>\n    </tr>\n    <tr>\n      <th>1</th>\n      <td>2</td>\n      <td>Martillo</td>\n      <td>200.0</td>\n      <td>300.0</td>\n      <td>Yes</td>\n      <td>Si</td>\n      <td>100.0</td>\n      <td>Mo</td>\n    </tr>\n    <tr>\n      <th>2</th>\n      <td>3</td>\n      <td>Serrucho</td>\n      <td>300.0</td>\n      <td>400.0</td>\n      <td>No</td>\n      <td>Si</td>\n      <td>100.0</td>\n      <td>So</td>\n    </tr>\n    <tr>\n      <th>3</th>\n      <td>4</td>\n      <td>Tornillos 1/4</td>\n      <td>0.6</td>\n      <td>0.8</td>\n      <td>No</td>\n      <td>Si</td>\n      <td>0.2</td>\n      <td>T4</td>\n    </tr>\n    <tr>\n      <th>4</th>\n      <td>5</td>\n      <td>Pilas</td>\n      <td>25.0</td>\n      <td>30.0</td>\n      <td>No</td>\n      <td>Si</td>\n      <td>5.0</td>\n      <td>Ps</td>\n    </tr>\n  </tbody>\n</table>\n</div>"
     },
     "execution_count": 11,
     "metadata": {},
     "output_type": "execute_result"
    }
   ],
   "source": [
    "df_ferreteria[\"dos_letras\"] = df_ferreteria.apply(\n",
    "    lambda row: row[\"nombre\"][0] + row[\"nombre\"][-1], axis=1\n",
    ")\n",
    "df_ferreteria"
   ],
   "metadata": {
    "collapsed": false,
    "ExecuteTime": {
     "end_time": "2024-01-23T16:56:37.791379Z",
     "start_time": "2024-01-23T16:56:37.767704Z"
    }
   },
   "id": "ae118eccbe8ff933",
   "execution_count": 11
  },
  {
   "cell_type": "markdown",
   "source": [
    "Añada una columna que se llame **cobro con impuestos**. Debe aumentar el 10% de impuesto de la venta solo si la columna **tiene impuestos** tiene la leyenda **Si**"
   ],
   "metadata": {
    "collapsed": false
   },
   "id": "ed483f2c18f5e3a2"
  },
  {
   "cell_type": "code",
   "outputs": [
    {
     "data": {
      "text/plain": "   id producto         nombre  costo fabricacion  venta Al Por Mayor  \\\n0            1     Clavos 1/2                0.5    0.6          Yes   \n1            2       Martillo              200.0  300.0          Yes   \n2            3       Serrucho              300.0  400.0           No   \n3            4  Tornillos 1/4                0.6    0.8           No   \n4            5          Pilas               25.0   30.0           No   \n\n  tiene impuestos  Ganancia dos_letras  cobro con impuestos  \n0              Si       0.1         C2                 0.66  \n1              Si     100.0         Mo               330.00  \n2              Si     100.0         So               440.00  \n3              Si       0.2         T4                 0.88  \n4              Si       5.0         Ps                33.00  ",
      "text/html": "<div>\n<style scoped>\n    .dataframe tbody tr th:only-of-type {\n        vertical-align: middle;\n    }\n\n    .dataframe tbody tr th {\n        vertical-align: top;\n    }\n\n    .dataframe thead th {\n        text-align: right;\n    }\n</style>\n<table border=\"1\" class=\"dataframe\">\n  <thead>\n    <tr style=\"text-align: right;\">\n      <th></th>\n      <th>id producto</th>\n      <th>nombre</th>\n      <th>costo fabricacion</th>\n      <th>venta</th>\n      <th>Al Por Mayor</th>\n      <th>tiene impuestos</th>\n      <th>Ganancia</th>\n      <th>dos_letras</th>\n      <th>cobro con impuestos</th>\n    </tr>\n  </thead>\n  <tbody>\n    <tr>\n      <th>0</th>\n      <td>1</td>\n      <td>Clavos 1/2</td>\n      <td>0.5</td>\n      <td>0.6</td>\n      <td>Yes</td>\n      <td>Si</td>\n      <td>0.1</td>\n      <td>C2</td>\n      <td>0.66</td>\n    </tr>\n    <tr>\n      <th>1</th>\n      <td>2</td>\n      <td>Martillo</td>\n      <td>200.0</td>\n      <td>300.0</td>\n      <td>Yes</td>\n      <td>Si</td>\n      <td>100.0</td>\n      <td>Mo</td>\n      <td>330.00</td>\n    </tr>\n    <tr>\n      <th>2</th>\n      <td>3</td>\n      <td>Serrucho</td>\n      <td>300.0</td>\n      <td>400.0</td>\n      <td>No</td>\n      <td>Si</td>\n      <td>100.0</td>\n      <td>So</td>\n      <td>440.00</td>\n    </tr>\n    <tr>\n      <th>3</th>\n      <td>4</td>\n      <td>Tornillos 1/4</td>\n      <td>0.6</td>\n      <td>0.8</td>\n      <td>No</td>\n      <td>Si</td>\n      <td>0.2</td>\n      <td>T4</td>\n      <td>0.88</td>\n    </tr>\n    <tr>\n      <th>4</th>\n      <td>5</td>\n      <td>Pilas</td>\n      <td>25.0</td>\n      <td>30.0</td>\n      <td>No</td>\n      <td>Si</td>\n      <td>5.0</td>\n      <td>Ps</td>\n      <td>33.00</td>\n    </tr>\n  </tbody>\n</table>\n</div>"
     },
     "execution_count": 13,
     "metadata": {},
     "output_type": "execute_result"
    }
   ],
   "source": [
    "df_ferreteria[\"cobro con impuestos\"] = df_ferreteria.apply(\n",
    "    lambda row: row[\"venta\"] + row[\"venta\"] * (10 / 100), axis=1\n",
    ")\n",
    "df_ferreteria"
   ],
   "metadata": {
    "collapsed": false,
    "ExecuteTime": {
     "end_time": "2024-01-23T19:34:16.652303Z",
     "start_time": "2024-01-23T19:34:16.628935Z"
    }
   },
   "id": "41e339cb26d9b8ed",
   "execution_count": 13
  },
  {
   "cell_type": "code",
   "outputs": [],
   "source": [],
   "metadata": {
    "collapsed": false
   },
   "id": "d94a5b7b389d890"
  }
 ],
 "metadata": {
  "kernelspec": {
   "display_name": "Python 3",
   "language": "python",
   "name": "python3"
  },
  "language_info": {
   "codemirror_mode": {
    "name": "ipython",
    "version": 2
   },
   "file_extension": ".py",
   "mimetype": "text/x-python",
   "name": "python",
   "nbconvert_exporter": "python",
   "pygments_lexer": "ipython2",
   "version": "2.7.6"
  }
 },
 "nbformat": 4,
 "nbformat_minor": 5
}
