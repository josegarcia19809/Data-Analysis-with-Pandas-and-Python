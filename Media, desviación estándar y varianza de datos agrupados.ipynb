{
 "cells": [
  {
   "cell_type": "code",
   "execution_count": 1,
   "id": "b8b3e914-2c53-4fb6-9b00-fdfa6ac02879",
   "metadata": {},
   "outputs": [],
   "source": [
    "import math"
   ]
  },
  {
   "cell_type": "code",
   "execution_count": 2,
   "id": "0f18f344-fee9-4cc4-b484-ea2297bb1211",
   "metadata": {},
   "outputs": [],
   "source": [
    "# Datos: frecuencias y puntos medios\n",
    "frecuencias = [8, 11, 23, 38, 45, 32, 19, 4]\n",
    "puntos_medios = [400, 800, 1200, 1600, 2000, 2400, 2800, 3200]"
   ]
  },
  {
   "cell_type": "code",
   "execution_count": 3,
   "id": "6e3325de-f185-4de1-8963-ed276261bc23",
   "metadata": {},
   "outputs": [],
   "source": [
    "# Paso 1: Calcular la media\n",
    "suma_productos = sum(f * pm for f, pm in zip(frecuencias, puntos_medios))\n",
    "suma_frecuencias = sum(frecuencias)\n",
    "media = suma_productos / suma_frecuencias"
   ]
  },
  {
   "cell_type": "code",
   "execution_count": 5,
   "id": "4646b46d-1e45-4400-8f0e-fcdbc4f65e56",
   "metadata": {},
   "outputs": [],
   "source": [
    "# Paso 2: Calcular la desviación estándar muestral\n",
    "desviaciones_cuadradas = [(pm - media) ** 2 for pm in puntos_medios]\n",
    "productos_desviaciones = [f * desv_cuad for f, desv_cuad in zip(frecuencias, desviaciones_cuadradas)]\n",
    "suma_desviaciones = sum(productos_desviaciones)\n",
    "\n",
    "# Desviación estándar muestral\n",
    "desviacion_estandar_muestral = math.sqrt(suma_desviaciones / (suma_frecuencias - 1))"
   ]
  },
  {
   "cell_type": "code",
   "execution_count": 6,
   "id": "1473b818-0f82-46bf-a5ad-66b25bbf08e9",
   "metadata": {},
   "outputs": [],
   "source": [
    "# Paso 3: Calcular la varianza muestral\n",
    "varianza_muestral = desviacion_estandar_muestral ** 2"
   ]
  },
  {
   "cell_type": "code",
   "execution_count": 7,
   "id": "b8fb850c-bec3-4e33-88bf-aa560c7b429d",
   "metadata": {},
   "outputs": [
    {
     "name": "stdout",
     "output_type": "stream",
     "text": [
      "Media: 1851.111111111111\n",
      "Desviación estándar muestral: 652.3262104132062\n",
      "Varianza muestral: 425529.48479205463\n"
     ]
    }
   ],
   "source": [
    "# Mostrar resultados\n",
    "print(f\"Media: {media}\")\n",
    "print(f\"Desviación estándar muestral: {desviacion_estandar_muestral}\")\n",
    "print(f\"Varianza muestral: {varianza_muestral}\")"
   ]
  },
  {
   "cell_type": "code",
   "execution_count": null,
   "id": "5b9e91a1-0531-449a-b5d2-084fd36af112",
   "metadata": {},
   "outputs": [],
   "source": []
  }
 ],
 "metadata": {
  "kernelspec": {
   "display_name": "Python 3 (ipykernel)",
   "language": "python",
   "name": "python3"
  },
  "language_info": {
   "codemirror_mode": {
    "name": "ipython",
    "version": 3
   },
   "file_extension": ".py",
   "mimetype": "text/x-python",
   "name": "python",
   "nbconvert_exporter": "python",
   "pygments_lexer": "ipython3",
   "version": "3.8.5"
  }
 },
 "nbformat": 4,
 "nbformat_minor": 5
}
