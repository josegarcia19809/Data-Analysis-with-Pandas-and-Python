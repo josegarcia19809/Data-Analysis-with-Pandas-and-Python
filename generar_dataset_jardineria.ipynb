{
 "cells": [
  {
   "cell_type": "code",
   "execution_count": 1,
   "id": "initial_id",
   "metadata": {
    "collapsed": true,
    "ExecuteTime": {
     "end_time": "2024-01-25T02:24:03.477740Z",
     "start_time": "2024-01-25T02:24:00.642145Z"
    }
   },
   "outputs": [
    {
     "name": "stdout",
     "output_type": "stream",
     "text": [
      "        location  product_type product_description  quantity  price\n",
      "0  Staten Island  pest_control          calla lily        76  50.09\n"
     ]
    }
   ],
   "source": [
    "import pandas as pd\n",
    "import random\n",
    "\n",
    "# Definir las listas de valores posibles para cada campo\n",
    "locations = ['Staten Island']\n",
    "product_types = ['seeds', 'garden tools', 'pest_control', 'planter']\n",
    "product_descriptions = ['daisy', 'calla lily', 'tomato', 'rake', 'wheelbarrow', 'spade', 'insect killer', 'weed killer', '20 inch terracotta planter', '8 inch plastic planter']\n",
    "quantities = list(range(1, 101))\n",
    "prices = [round(random.uniform(5.00, 100.00), 2) for _ in range(100)]\n",
    "\n",
    "# Crear un diccionario con los datos\n",
    "data = {\n",
    "    'location': random.choice(locations),\n",
    "    'product_type': random.choice(product_types),\n",
    "    'product_description': random.choice(product_descriptions),\n",
    "    'quantity': random.choice(quantities),\n",
    "    'price': random.choice(prices)\n",
    "}\n",
    "\n",
    "# Crear un DataFrame con el diccionario\n",
    "df = pd.DataFrame(data, index=[0])\n",
    "\n",
    "# Imprimir el DataFrame\n",
    "print(df)\n"
   ]
  },
  {
   "cell_type": "code",
   "outputs": [
    {
     "name": "stdout",
     "output_type": "stream",
     "text": [
      "        location  product_type         product_description quantity  price\n",
      "0  Staten Island       planter                 wheelbarrow       59  49.29\n",
      "1  Staten Island  garden tools  20 inch terracotta planter       17   9.84\n",
      "2  Staten Island  garden tools                      tomato       72   9.84\n",
      "3  Staten Island         seeds                 wheelbarrow       27  34.67\n",
      "4  Staten Island  garden tools                 weed killer       26  77.16\n",
      "5  Staten Island       planter                       daisy       90  72.50\n",
      "6  Staten Island  garden tools                      tomato       61  55.68\n",
      "7  Staten Island  pest_control                 weed killer       21  55.68\n",
      "8  Staten Island       planter                 weed killer       26  90.17\n",
      "9  Staten Island         seeds                 weed killer       14  90.17\n"
     ]
    }
   ],
   "source": [
    "import pandas as pd\n",
    "import random\n",
    "\n",
    "# Definir las listas de valores posibles para cada campo\n",
    "locations = ['Staten Island']\n",
    "product_types = ['seeds', 'garden tools', 'pest_control', 'planter']\n",
    "product_descriptions = ['daisy', 'calla lily', 'tomato', 'rake', 'wheelbarrow', 'spade', 'insect killer', 'weed killer', '20 inch terracotta planter', '8 inch plastic planter']\n",
    "quantities = list(range(1, 101))\n",
    "prices = [round(random.uniform(5.00, 100.00), 2) for _ in range(10)]\n",
    "\n",
    "# Crear un DataFrame vacío\n",
    "df = pd.DataFrame(columns=['location', 'product_type', 'product_description', 'quantity', 'price'])\n",
    "\n",
    "# Generar 10 registros\n",
    "for _ in range(10):\n",
    "    data = {\n",
    "        'location': random.choice(locations),\n",
    "        'product_type': random.choice(product_types),\n",
    "        'product_description': random.choice(product_descriptions),\n",
    "        'quantity': random.choice(quantities),\n",
    "        'price': random.choice(prices)\n",
    "    }\n",
    "    df = df.append(data, ignore_index=True)\n",
    "\n",
    "# Imprimir el DataFrame\n",
    "print(df)\n"
   ],
   "metadata": {
    "collapsed": false,
    "ExecuteTime": {
     "end_time": "2024-01-25T02:25:57.711491Z",
     "start_time": "2024-01-25T02:25:57.626309Z"
    }
   },
   "id": "e760910d1dddf25c",
   "execution_count": 2
  },
  {
   "cell_type": "code",
   "outputs": [
    {
     "name": "stdout",
     "output_type": "stream",
     "text": [
      "        location  product_type         product_description quantity  price\n",
      "0  Staten Island         seeds                 weed killer       19  51.37\n",
      "1  Staten Island       planter                      tomato       26  61.74\n",
      "2  Staten Island       planter                       daisy       23  77.39\n",
      "3  Staten Island         seeds                  calla lily       62  32.49\n",
      "4  Staten Island       planter                        rake       13  20.24\n",
      "5  Staten Island  pest_control  20 inch terracotta planter       26  36.99\n",
      "6  Staten Island         seeds                       spade       23  63.84\n",
      "7  Staten Island       planter               insect killer       85  37.56\n",
      "8  Staten Island  pest_control                 wheelbarrow       82  38.79\n",
      "9  Staten Island  garden tools      8 inch plastic planter       83  63.87\n"
     ]
    }
   ],
   "source": [
    "import pandas as pd\n",
    "import random\n",
    "\n",
    "# Definir las listas de valores posibles para cada campo\n",
    "locations = ['Staten Island']\n",
    "product_types = ['seeds', 'garden tools', 'pest_control', 'planter']\n",
    "product_descriptions = [\n",
    "    'daisy', 'calla lily', 'tomato', 'rake', 'wheelbarrow', 'spade',\n",
    "    'insect killer', 'weed killer', '20 inch terracotta planter', '8 inch plastic planter'\n",
    "]\n",
    "quantities = list(range(1, 101))\n",
    "prices = [round(random.uniform(5.00, 100.00), 2) for _ in range(10)]\n",
    "\n",
    "# Mezclar aleatoriamente los elementos de product_descriptions\n",
    "random.shuffle(product_descriptions)\n",
    "\n",
    "# Crear un DataFrame vacío\n",
    "df = pd.DataFrame(columns=['location', 'product_type', 'product_description', 'quantity', 'price'])\n",
    "\n",
    "# Generar 10 registros\n",
    "for _ in range(10):\n",
    "    data = {\n",
    "        'location': random.choice(locations),\n",
    "        'product_type': random.choice(product_types),\n",
    "        'product_description': product_descriptions.pop(),\n",
    "        'quantity': random.choice(quantities),\n",
    "        'price': round(random.uniform(5.00, 100.00), 2)\n",
    "    }\n",
    "    df = df.append(data, ignore_index=True)\n",
    "\n",
    "# Imprimir el DataFrame\n",
    "print(df)\n"
   ],
   "metadata": {
    "collapsed": false,
    "ExecuteTime": {
     "end_time": "2024-01-25T02:28:12.817747Z",
     "start_time": "2024-01-25T02:28:12.387941Z"
    }
   },
   "id": "5fde2f91e327e0df",
   "execution_count": 4
  },
  {
   "cell_type": "code",
   "outputs": [
    {
     "name": "stdout",
     "output_type": "stream",
     "text": [
      "        location  product_type         product_description quantity  price\n",
      "0  Staten Island         seeds                 weed killer       74   23.0\n",
      "1  Staten Island       planter               insect killer       48   36.0\n",
      "2  Staten Island  pest_control                       spade       56   36.0\n",
      "3  Staten Island       planter                 wheelbarrow       73   23.0\n",
      "4  Staten Island  garden tools                      tomato        3   56.0\n",
      "5  Staten Island  garden tools                        rake        6   56.0\n",
      "6  Staten Island  pest_control                       daisy       18   56.0\n",
      "7  Staten Island  pest_control      8 inch plastic planter       49   27.0\n",
      "8  Staten Island         seeds                  calla lily       20   27.0\n",
      "9  Staten Island       planter  20 inch terracotta planter       23   56.0\n"
     ]
    }
   ],
   "source": [
    "import pandas as pd\n",
    "import random\n",
    "\n",
    "# Definir las listas de valores posibles para cada campo\n",
    "locations = ['Staten Island']\n",
    "product_types = ['seeds', 'garden tools', 'pest_control', 'planter']\n",
    "product_descriptions = [\n",
    "    'daisy', 'calla lily', 'tomato', 'rake', 'wheelbarrow', 'spade',\n",
    "    'insect killer', 'weed killer', '20 inch terracotta planter', '8 inch plastic planter'\n",
    "]\n",
    "quantities = list(range(1, 101))\n",
    "prices = [round(random.uniform(5.00, 100.00), 0) for _ in range(10)]\n",
    "\n",
    "# Mezclar aleatoriamente los elementos de product_descriptions\n",
    "random.shuffle(product_descriptions)\n",
    "\n",
    "# Crear un DataFrame vacío\n",
    "df = pd.DataFrame(columns=['location', 'product_type', 'product_description', 'quantity', 'price'])\n",
    "\n",
    "# Generar 10 registros\n",
    "for _ in range(10):\n",
    "    data = {\n",
    "        'location': random.choice(locations),\n",
    "        'product_type': random.choice(product_types),\n",
    "        'product_description': product_descriptions.pop(),\n",
    "        'quantity': random.choice(quantities),\n",
    "        'price': random.choice(prices)\n",
    "    }\n",
    "    df = df.append(data, ignore_index=True)\n",
    "\n",
    "# Escribir el DataFrame en un archivo CSV\n",
    "df.to_csv('inventory.csv', index=False)\n",
    "\n",
    "# Imprimir el DataFrame\n",
    "print(df)\n"
   ],
   "metadata": {
    "collapsed": false,
    "ExecuteTime": {
     "end_time": "2024-01-25T02:31:14.826684Z",
     "start_time": "2024-01-25T02:31:14.658980Z"
    }
   },
   "id": "cbc97f7d48363705",
   "execution_count": 5
  },
  {
   "cell_type": "markdown",
   "source": [
    "Genera el código para crear un dataset de 10 registros que contenga los siguientes campos:\n",
    "\"\"\"\n",
    "location: Staten Island\n",
    "product_type: seeds, garden tools, pest_control, planter\n",
    "product_description: daisy, calla lily, tomato, rake, wheelbarrow, spade, insect killer, weed killer, 20 inch terracotta planter 8 inch plastic planter\n",
    "quantity: rango de 1 a 100\n",
    "price: rango de 5.00 a 100.00. \n",
    "\"\"\"\n",
    "Los elementos de product_description solo deben aparecer una vez. Los precios deben tener cero centavos.\n",
    "El dataset debe escribirse a un archivo que se llame inventory.csv"
   ],
   "metadata": {
    "collapsed": false
   },
   "id": "5e6d36e9a1b824ad"
  },
  {
   "cell_type": "code",
   "outputs": [],
   "source": [],
   "metadata": {
    "collapsed": false
   },
   "id": "f59b151c4268d4ed"
  }
 ],
 "metadata": {
  "kernelspec": {
   "display_name": "Python 3",
   "language": "python",
   "name": "python3"
  },
  "language_info": {
   "codemirror_mode": {
    "name": "ipython",
    "version": 2
   },
   "file_extension": ".py",
   "mimetype": "text/x-python",
   "name": "python",
   "nbconvert_exporter": "python",
   "pygments_lexer": "ipython2",
   "version": "2.7.6"
  }
 },
 "nbformat": 4,
 "nbformat_minor": 5
}
